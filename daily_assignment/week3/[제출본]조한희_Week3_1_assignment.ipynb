{
  "cells": [
    {
      "cell_type": "markdown",
      "metadata": {
        "id": "ugGR7pnI4WSe"
      },
      "source": [
        "# Week3_1 Assignment\n",
        "\n",
        "## [BASIC](#Basic) \n",
        "- 토크나이징이 완료된 위키 백과 코퍼스를 다운받고 **단어 사전을 구축하는 함수를 구현**할 수 있다.\n",
        "- `Skip-Gram` 방식의 학습 데이터 셋을 생성하는 **Dataset과 Dataloader 클래스를 구현**할 수 있다.\n",
        "- **Negative Sampling** 함수를 구현할 수 있다. \n",
        "\n",
        "\n",
        "## [CHALLENGE](#Challenge)\n",
        "- Skip-Gram을 학습 과정 튜토리얼을 따라하며, **Skip-Gram을 학습하는 클래스를 구현**할 수 있다. \n",
        "\n",
        "\n",
        "## [ADVANCED](#Advanced)\n",
        "- Skip-Gram 방식으로 word embedding을 학습하는 **Word2Vec 클래스를 구현**하고 실제로 학습할 수 있다.\n",
        "- 학습이 완료된 word embedding을 불러와 **Gensim 패키지를 사용해 유사한 단어**를 뽑을 수 있다. \n",
        "\n",
        "### Reference\n",
        "- [Skip-Gram negative sampling 한국어 튜토리얼](https://wikidocs.net/69141)\n",
        "    - (참고) 위 튜토리얼에서는 target word와 context word 페어의 레이블은 1로, target word와 negative sample word 페어의 레이블은 0이 되도록 학습 데이터를 구현해 binary classification을 구현한다. 하지만 우리는 word2vec 논문 방식을 그대로 따르기 위해 label을 생성하지 않고 대신 loss 함수를 변행해서 binary classification을 학습할 것이다. "
      ]
    },
    {
      "cell_type": "code",
      "execution_count": 128,
      "metadata": {
        "ExecuteTime": {
          "end_time": "2022-02-19T14:29:36.641276Z",
          "start_time": "2022-02-19T14:29:36.638642Z"
        },
        "id": "HlEy3xfY4WSh"
      },
      "outputs": [],
      "source": [
        "import os \n",
        "import sys\n",
        "import pandas as pd\n",
        "import numpy as np\n",
        "import re\n",
        "from typing import List, Dict\n",
        "import random"
      ]
    },
    {
      "cell_type": "code",
      "execution_count": 129,
      "metadata": {
        "ExecuteTime": {
          "end_time": "2022-02-19T12:50:41.644583Z",
          "start_time": "2022-02-19T12:50:41.642937Z"
        },
        "id": "cBrr7-gt4jnf",
        "colab": {
          "base_uri": "https://localhost:8080/"
        },
        "outputId": "9315e914-201a-41ea-be9c-53a33021d45c"
      },
      "outputs": [
        {
          "output_type": "stream",
          "name": "stdout",
          "text": [
            "Requirement already satisfied: transformers in /usr/local/lib/python3.7/dist-packages (4.17.0)\n",
            "Requirement already satisfied: numpy>=1.17 in /usr/local/lib/python3.7/dist-packages (from transformers) (1.21.5)\n",
            "Requirement already satisfied: importlib-metadata in /usr/local/lib/python3.7/dist-packages (from transformers) (4.11.2)\n",
            "Requirement already satisfied: pyyaml>=5.1 in /usr/local/lib/python3.7/dist-packages (from transformers) (6.0)\n",
            "Requirement already satisfied: requests in /usr/local/lib/python3.7/dist-packages (from transformers) (2.23.0)\n",
            "Requirement already satisfied: huggingface-hub<1.0,>=0.1.0 in /usr/local/lib/python3.7/dist-packages (from transformers) (0.4.0)\n",
            "Requirement already satisfied: tqdm>=4.27 in /usr/local/lib/python3.7/dist-packages (from transformers) (4.63.0)\n",
            "Requirement already satisfied: regex!=2019.12.17 in /usr/local/lib/python3.7/dist-packages (from transformers) (2019.12.20)\n",
            "Requirement already satisfied: packaging>=20.0 in /usr/local/lib/python3.7/dist-packages (from transformers) (21.3)\n",
            "Requirement already satisfied: filelock in /usr/local/lib/python3.7/dist-packages (from transformers) (3.6.0)\n",
            "Requirement already satisfied: sacremoses in /usr/local/lib/python3.7/dist-packages (from transformers) (0.0.47)\n",
            "Requirement already satisfied: tokenizers!=0.11.3,>=0.11.1 in /usr/local/lib/python3.7/dist-packages (from transformers) (0.11.6)\n",
            "Requirement already satisfied: typing-extensions>=3.7.4.3 in /usr/local/lib/python3.7/dist-packages (from huggingface-hub<1.0,>=0.1.0->transformers) (3.10.0.2)\n",
            "Requirement already satisfied: pyparsing!=3.0.5,>=2.0.2 in /usr/local/lib/python3.7/dist-packages (from packaging>=20.0->transformers) (3.0.7)\n",
            "Requirement already satisfied: zipp>=0.5 in /usr/local/lib/python3.7/dist-packages (from importlib-metadata->transformers) (3.7.0)\n",
            "Requirement already satisfied: chardet<4,>=3.0.2 in /usr/local/lib/python3.7/dist-packages (from requests->transformers) (3.0.4)\n",
            "Requirement already satisfied: certifi>=2017.4.17 in /usr/local/lib/python3.7/dist-packages (from requests->transformers) (2021.10.8)\n",
            "Requirement already satisfied: urllib3!=1.25.0,!=1.25.1,<1.26,>=1.21.1 in /usr/local/lib/python3.7/dist-packages (from requests->transformers) (1.24.3)\n",
            "Requirement already satisfied: idna<3,>=2.5 in /usr/local/lib/python3.7/dist-packages (from requests->transformers) (2.10)\n",
            "Requirement already satisfied: joblib in /usr/local/lib/python3.7/dist-packages (from sacremoses->transformers) (1.1.0)\n",
            "Requirement already satisfied: click in /usr/local/lib/python3.7/dist-packages (from sacremoses->transformers) (7.1.2)\n",
            "Requirement already satisfied: six in /usr/local/lib/python3.7/dist-packages (from sacremoses->transformers) (1.15.0)\n"
          ]
        }
      ],
      "source": [
        "!pip install transformers"
      ]
    },
    {
      "cell_type": "code",
      "execution_count": 130,
      "metadata": {
        "ExecuteTime": {
          "end_time": "2022-02-19T14:26:59.276355Z",
          "start_time": "2022-02-19T14:26:58.411434Z"
        },
        "id": "6mC9lhsJ4WSh"
      },
      "outputs": [],
      "source": [
        "import torch\n",
        "from torch.autograd import Variable\n",
        "import torch.nn as nn\n",
        "import torch.nn.functional as F\n",
        "from torch.optim import SGD\n",
        "from transformers import get_linear_schedule_with_warmup\n",
        "from torch.utils.data import Dataset, DataLoader\n",
        "from tqdm import tqdm"
      ]
    },
    {
      "cell_type": "code",
      "execution_count": 131,
      "metadata": {
        "ExecuteTime": {
          "end_time": "2022-02-19T14:30:05.586472Z",
          "start_time": "2022-02-19T14:30:05.583611Z"
        },
        "id": "17g7UZ5g4WSi"
      },
      "outputs": [],
      "source": [
        "# seed\n",
        "seed = 7777\n",
        "np.random.seed(seed)\n",
        "random.seed(seed)\n",
        "torch.manual_seed(seed)\n",
        "torch.cuda.manual_seed_all(seed)"
      ]
    },
    {
      "cell_type": "code",
      "execution_count": 132,
      "metadata": {
        "ExecuteTime": {
          "end_time": "2022-02-19T14:30:06.721039Z",
          "start_time": "2022-02-19T14:30:06.717559Z"
        },
        "id": "v3UlC7Jn4WSi",
        "colab": {
          "base_uri": "https://localhost:8080/"
        },
        "outputId": "51db277f-0e9c-4d85-b4b0-1ba651bff5c8"
      },
      "outputs": [
        {
          "output_type": "stream",
          "name": "stdout",
          "text": [
            "# available GPUs : 1\n",
            "GPU name : Tesla T4\n",
            "cuda\n"
          ]
        }
      ],
      "source": [
        "# device type\n",
        "if torch.cuda.is_available():\n",
        "    device = torch.device(\"cuda\")\n",
        "    print(f\"# available GPUs : {torch.cuda.device_count()}\")\n",
        "    print(f\"GPU name : {torch.cuda.get_device_name()}\")\n",
        "else:\n",
        "    device = torch.device(\"cpu\")\n",
        "print(device)"
      ]
    },
    {
      "cell_type": "markdown",
      "metadata": {
        "id": "k8sfv5KY4WSk"
      },
      "source": [
        "## Basic"
      ]
    },
    {
      "cell_type": "markdown",
      "metadata": {
        "id": "sHs8_LU04WSj"
      },
      "source": [
        "### 토크나이징이 완료된 위키 백과 코퍼스 다운로드 및 불용어 사전 크롤링\n",
        "- 나의 구글 드라이브에 데이터를 다운받아 영구적으로 사용할 수 있도록 하자. \n",
        "    - [데이터 다운로드 출처](https://ratsgo.github.io/embedding/downloaddata.html)\n",
        "- 다운받은 데이터는 토크나이징이 완료된 상태이지만 불용어를 포함하고 있다. 따라서 향후 불용어를 제거하기 위해 불용어 사전을 크롤링하자. \n",
        "    - [불용어 사전 출처](https://www.ranks.nl/stopwords/korean)"
      ]
    },
    {
      "cell_type": "code",
      "execution_count": 133,
      "metadata": {
        "id": "KYiz1fdNsAqp",
        "colab": {
          "base_uri": "https://localhost:8080/"
        },
        "outputId": "e46fe94b-1ec6-4172-f43f-be996dfd0fef"
      },
      "outputs": [
        {
          "output_type": "stream",
          "name": "stdout",
          "text": [
            "Drive already mounted at /content/drive; to attempt to forcibly remount, call drive.mount(\"/content/drive\", force_remount=True).\n"
          ]
        }
      ],
      "source": [
        "from google.colab import drive\n",
        "drive.mount(\"/content/drive\")"
      ]
    },
    {
      "cell_type": "code",
      "execution_count": 134,
      "metadata": {
        "id": "Z2WZ0P4wsAqp",
        "colab": {
          "base_uri": "https://localhost:8080/"
        },
        "outputId": "3d447174-dc70-4e93-e475-aeed08e834c7"
      },
      "outputs": [
        {
          "output_type": "stream",
          "name": "stdout",
          "text": [
            "[Errno 2] No such file or directory: './drive/MyDrive/onboarding'\n",
            "/content/drive/MyDrive/onboarding\n"
          ]
        }
      ],
      "source": [
        "%pwd\n",
        "%cd ./drive/MyDrive/onboarding "
      ]
    },
    {
      "cell_type": "code",
      "source": [
        "%pwd"
      ],
      "metadata": {
        "colab": {
          "base_uri": "https://localhost:8080/",
          "height": 36
        },
        "id": "nBPKEIQrh3pr",
        "outputId": "446a3760-0baf-4ab2-a9ff-f3b2a613780e"
      },
      "execution_count": 135,
      "outputs": [
        {
          "output_type": "execute_result",
          "data": {
            "application/vnd.google.colaboratory.intrinsic+json": {
              "type": "string"
            },
            "text/plain": [
              "'/content/drive/My Drive/onboarding'"
            ]
          },
          "metadata": {},
          "execution_count": 135
        }
      ]
    },
    {
      "cell_type": "code",
      "execution_count": 136,
      "metadata": {
        "ExecuteTime": {
          "end_time": "2022-02-19T14:27:11.886643Z",
          "start_time": "2022-02-19T14:27:11.884858Z"
        },
        "id": "4QPBJ6UZ4WSj"
      },
      "outputs": [],
      "source": [
        "# 데이터 다운로드\n",
        "# !pip install gdown\n",
        "# !gdown https://drive.google.com/u/0/uc?id=1Ybp_DmzNEpsBrUKZ1-NoPDzCMO39f-fx\n",
        "# !unzip tokenized.zip"
      ]
    },
    {
      "cell_type": "code",
      "execution_count": 137,
      "metadata": {
        "ExecuteTime": {
          "end_time": "2022-02-19T14:27:15.633947Z",
          "start_time": "2022-02-19T14:27:13.829982Z"
        },
        "id": "cTHCHmO24WSj",
        "colab": {
          "base_uri": "https://localhost:8080/"
        },
        "outputId": "893c72d2-f926-42aa-cc8a-338f44e6fbc4"
      },
      "outputs": [
        {
          "output_type": "stream",
          "name": "stderr",
          "text": [
            "/usr/local/lib/python3.7/dist-packages/urllib3/connectionpool.py:847: InsecureRequestWarning: Unverified HTTPS request is being made. Adding certificate verification is strongly advised. See: https://urllib3.readthedocs.io/en/latest/advanced-usage.html#ssl-warnings\n",
            "  InsecureRequestWarning)\n"
          ]
        },
        {
          "output_type": "stream",
          "name": "stdout",
          "text": [
            "# Korean stop words: 677\n"
          ]
        }
      ],
      "source": [
        "# 한국어 불용어 리스트 크롤링\n",
        "import requests\n",
        "from bs4 import BeautifulSoup\n",
        "\n",
        "url = \"https://www.ranks.nl/stopwords/korean\"\n",
        "response = requests.get(url, verify = False)\n",
        "\n",
        "if response.status_code == 200:\n",
        "    soup = BeautifulSoup(response.text,'html.parser')\n",
        "    content = soup.select_one('#article178ebefbfb1b165454ec9f168f545239 > div.panel-body > table > tbody > tr')\n",
        "    stop_words=[]\n",
        "    for x in content.strings:\n",
        "        x=x.strip()\n",
        "        if x:\n",
        "            stop_words.append(x)\n",
        "    print(f\"# Korean stop words: {len(stop_words)}\")\n",
        "else:\n",
        "    print(response.status_code)"
      ]
    },
    {
      "cell_type": "code",
      "execution_count": 138,
      "metadata": {
        "ExecuteTime": {
          "end_time": "2022-02-19T14:27:15.642775Z",
          "start_time": "2022-02-19T14:27:15.635333Z"
        },
        "id": "3d0IqhDF4WSk",
        "colab": {
          "base_uri": "https://localhost:8080/",
          "height": 36
        },
        "outputId": "9cfff06e-c16f-4797-ebd7-ac2054f17b3e"
      },
      "outputs": [
        {
          "output_type": "execute_result",
          "data": {
            "application/vnd.google.colaboratory.intrinsic+json": {
              "type": "string"
            },
            "text/plain": [
              "'아'"
            ]
          },
          "metadata": {},
          "execution_count": 138
        }
      ],
      "source": [
        "stop_words[0]"
      ]
    },
    {
      "cell_type": "markdown",
      "metadata": {
        "id": "_t76Q1pQ4WSk"
      },
      "source": [
        "### 단어 사전 구축 함수 구현 \n",
        "- 문서 리스트를 입력 받아 사전을 생성하는 `make_vocab()` 함수를 구현하라.\n",
        "- 함수 정의\n",
        "    - 입력 매개변수\n",
        "        - docs : 문서 리스트\n",
        "        - min_count : 최소 단어 등장 빈도수 (단어 빈도가 `min_count` 미만인 단어는 사전에 포함하지 않음)\n",
        "    - 조건\n",
        "        - 문서 길이 제한\n",
        "            - 단어 개수가 3개 이하인 문서는 처리하지 않음. (skip)\n",
        "        - 사전에 포함되는 단어 빈도수 제한\n",
        "            - 단어가 빈도가 `min_count` 미만은 단어는 사전에 포함하지 않음.\n",
        "        - 불용어 제거 \n",
        "            - 불용어 리스트에 포함된 단어는 제거 \n",
        "    - 반환값 \n",
        "        - word2count : 단어별 빈도 사전 (key: 단어, value: 등장 횟수)\n",
        "        - wid2word : 단어별 인덱스(wid) 사전 (key: 단어 인덱스(int), value: 단어)\n",
        "        - word2wid : 인덱스(wid)별 단어 사전 (key: 단어, value: 단어 인덱스(int))"
      ]
    },
    {
      "cell_type": "code",
      "execution_count": 139,
      "metadata": {
        "ExecuteTime": {
          "end_time": "2022-02-19T14:33:01.637431Z",
          "start_time": "2022-02-19T14:32:56.730711Z"
        },
        "id": "xkjqztIA4WSl",
        "colab": {
          "base_uri": "https://localhost:8080/"
        },
        "outputId": "f7831d3d-da94-4783-facb-b6f1537bc662"
      },
      "outputs": [
        {
          "output_type": "stream",
          "name": "stdout",
          "text": [
            "['제임스 얼 \" 지미 \" 카터 주니어 ( , 1 9 2 4 년 1 0 월 1 일 ~ ) 는 민주당 출신 미국 3 9 번 째 대통령 ( 1 9 7 7 년 ~ 1 9 8 1 년 ) 이 다 . 지미 카터 는 조지 아주 섬터 카운티 플 레인스 마을 에서 태어났 다 . 조지 아 공과 대학교 를 졸업 하 였 다 . 그 후 해군 에 들어가 전함 · 원자력 · 잠수함 의 승무원 으로 일 하 였 다 . 1 9 5 3 년 미국 해군 대위 로 예편 하 였 고 이후 땅콩 · 면화 등 을 가꿔 많 은 돈 을 벌 었 다 . 그 의 별명 이 \" 땅콩 농부 \" ( Peanut Farmer ) 로 알려졌 다 . 1 9 6 2 년 조지아 주 상원 의원 선거 에서 낙선 하 나 그 선거 가 부정 선거 였음을 입증 하 게 되 어 당선 되 고 , 1 9 6 6 년 조지아 주 지사 선거 에 낙선 하 지만 1 9 7 0 년 조지아 주 지사 를 역임 했 다 . 대통령 이 되 기 전 조지 아주 상원 의원 을 두 번 연임 했으며 , 1 9 7 1 년 부터 1 9 7 5 년 까지 조지 아 지사 로 근무 했 다 . 조지 아 주지사 로 지내 면서 , 미국 에 사 는 흑인 등 용법 을 내세웠 다 . 취임식 을 올리 는 카터 1 9 7 6 년 대통령 선거 에 민주당 후보 로 출마 하 여 도덕주의 정책 으로 내세워 , 포드 를 누르 고 당선 되 었 다 . 카터 대통령 은 에너지 개발 을 촉구 했으나 공화 당 의 반대 로 무산 되 었 다 . Carter Begin , Camp David 1 9 7 8 . gif | 섬네일 | 3 0 0 px | 캠프 데이비드 에서 사다트 와 베긴 과 함께 카터 는 이집트 와 이스라엘 을 조정 하 여 , 캠프 데이비드 에서 안와르 사다트 대통령 과 메나헴 베긴 수상 과 함께 중동 평화 를 위한 캠프 데이비드 협정 을 체결 했 다 . 그러나 이것 은 공화 당 과 미국 의 유대 인 단체 의 반발 을 일으켰 다 . 1 9 7 9 년 백악관 에서 양국 간 의 평화 조약 으로 이끌 어 졌 다 . 또한 소련 과 제 2 차 전략 무기 제한 협상 에 조인 했 다 . 카터 는 1 9 7 0 년 대 후반 당시 대한민국 등 인권 후진국 의 국민 들 의 인권 을 지키 기 위해 노력 했으며 , 취임 이후 계속 해서 도덕 정치 를 내세웠 다 . 그러나 주 이 란 미국 대사관 인질 사건 에서 인질 구출 실패 를 이유 로 1 9 8 0 년 대통령 선거 에서 공화 당 의 로널드 레이건 후보 에게 져 결국 재선 에 실패 했 다 . 또한 임기 말기 에 터진 소련 의 아프가니스탄 침공 사건 으로 인해 1 9 8 0 년 하계 올림픽 에 반공 국가 들 의 보이콧 을 내세웠 다 . 지미 카터 는 대한민국 과 의 관계 에서 도 중요 한 영향 을 미쳤 던 대통령 중 하나 다 . 인권 문제 와 주한 미군 철수 문제 로 한때 한미 관계 가 불편 하 기 도 했 다 . 1 9 7 8 년 대한민국 에 대한 북한 의 위협 에 대비 해 한 미연 합사 를 창설 하 면서 , 1 9 8 2 년 까지 3 단계 에 걸쳐 주한 미군 을 철수 하 기 로 했 다 . 그러나 주한 미군 사령부 와 정보 기관 · 의회 의 반대 에 부딪혀 주한 미군 은 완전 철수 대신 6 , 0 0 0 명 을 감축 하 는 데 그쳤 다 . 또한 박정희 정권 의 인권 문제 등 과 의 논란 으로 불협화음 을 냈으나 , 1 9 7 9 년 6 월 하순 , 대한민국 을 방문 하 여 관계 가 다소 회복 되 었 다 . 1 9 7 9 년 ~ 1 9 8 0 년 대한민국 의 정치 적 격변기 당시 의 대통령 이 었 던 그 는 이 에 대해 애매 한 태도 를 보였 고 , 이 는 후 에 대한민국 내 에서 고조 되 는 반미 운동 의 한 원인 이 됐 다 . 1 0 월 2 6 일 , 박정희 대통령 이 김재규 중앙 정보 부장 에 의해 살해 된 것 에 대해 그 는 이 사건 으로 큰 충격 을 받 았 으며 , 사이러스 밴스 국무 장관 을 조문 사절 로 파견 했 다 . 1 2 · 1 2 군사 반란 과 5 . 1 7 쿠데타 에 대해 초기 에 는 강하 게 비난 했으나 , 미국 정부 가 신 군부 를 설득 하 는데 , 한계 가 있 었 고 결국 묵인 하 는 듯 한 태도 를 보이 게 됐 다 . 남수단 독립 국민 투표 에 업 저 버 사절단 을 지도 한 카터 퇴임 이후 민간 자원 을 적극 활용 한 비 영리 기구 인 카터 재단 을 설립 한 뒤 민주주의 실현 을 위해 제 3 세계 의 선거 감시 활동 및 기니 벌레 에 의한 드라 쿤 쿠르 스 질병 방재 를 위해 힘썼 다 . 미국 의 빈곤층 지원 활동 , 사랑 의 집짓기 운동 , 국제 분쟁 중재 등 의 활동 도 했 다 . 카터 는 카터 행정부 이후 미국 이 북 핵 위기 , 코소보 전쟁 , 이라크 전쟁 과 같이 미국 이 군사 적 행동 을 최후 로 선택 하 는 전통 적 사고 를 버리 고 군사 적 행동 을 선행 하 는 행위 에 대해 깊 은 유감 을 표시 하 며 미국 의 군사 적 활동 에 강한 반대 입장 을 보이 고 있 다 . 특히 국제 분쟁 조정 을 위해 북한 의 김일성 , 아이 티 의 세드 라스 장군 , 팔레 인 스타인 의 하마스 , 보스니아 의 세르비 아계 정권 같이 미국 정부 에 대해 협상 을 거부 하 면서 사태 의 위기 를 초래 한 인물 및 단체 를 직접 만나 분쟁 의 원인 을 근본 적 으로 해결 하 기 위해 힘썼 다 . 이 과정 에서 미국 행정부 와 갈등 을 보이 기 도 했 지만 , 전직 대통령 의 권한 과 재야 유명 인사 들 의 활약 으로 해결 해 나갔 다 . 1 9 7 8 년 에 채결 된 캠프 데이비드 협정 의 이행 이 지지부진 하 자 중동 분쟁 분제 를 해결 하 기 위해 1 9 9 3 년 퇴임 후 직접 이스라엘 과 팔레 인 스타인 의 오슬로 협정 을 이끌 어 내 는 데 도 성공 했 다 . 행렬 5 0 주년 을 맞 는 날 빌 클린턴 , 버락 오바마 대통령 과 함께 ( 2 0 1 3 년 ) 1 9 9 3 년 1 차 북 핵 위기 당시 북한 에 대한 미국 의 군사 적 행동 이 임박 했으나 , 미국 전직 대통령 으로 는 처음 으로 북한 을 방문 하 고 미국 과 북 양국 의 중재 에 큰 기여 를 해 위기 를 해결 했 다는 평가 를 받 았 다 . 또한 이 때 김영삼 대통령 과 김일성 주석 의 만남 을 주선 했 다 . 하지만 그 로부터 수 주일 후 김일성 이 갑자기 사망 하 여 김일성 과 김영삼 의 정상 회담 은 이루어지 지 못했 다 . 미국 의 관타나모 수용소 문제 , 세계 의 인권 문제 에서 도 관심 이 깊 어 유엔 에 유엔 인권 고등 판무관 의 제도 를 시행 하 도록 노력 하 여 독재자 들 의 인권 유린 에 대해 제약 을 하 고 , 국제 형사 재판소 를 만드 는 데 기여 하 여 독재자 들 같 은 인권 유린 범죄자 를 재판소 로 회부 하 여 국제 적 인 처벌 을 받 게 하 는 등 인권 신장 에 크 나 큰 기여 를 했 다 . 2 0 1 1 년 4 월 2 6 일 부터 2 9 일 까지 북한 을 3 일 간 방문 했 다 . 경제 문제 를 해결 하 지 못하 고 주 이란 미국 대사관 인질 사건 에 발목 이 잡혀 실패 한 대통령 으로 평가 를 받 지만 이란 사태 는 미국 내 이 란 재산 을 풀 어 주 겠 다는 조건 을 내세워서 사실상 카터 가 해결 한 것 이 었 고 , 사랑 의 집짓기 운동 등 으로 퇴임 후 에 훨씬 더 존경 받 는 미국 대통령 중 에 특이 한 인물 로 남 았 다 . 그 는 2 0 0 2 년 말 인권 과 중재 역할 에 대한 공로 를 인정받 아 노벨 평화상 을 받 게 되 었 다 . 《 진정 한 리더 는 떠난 후 에 아름답 다 》 저자 지미 카터 《 지미 카터 》 저자 지미 카터 ( 지식 의 날개 , 2 0 1 8 ) 분류 : 1 9 2 4 년 태어남 분류 : 1 9 7 6 년 미국 대통령 후보 분류 : 1 9 8 0 년 미국 대통령 후보 분류 : 그래미상 수상자 분류 : 노벨 평화상 수상자 분류 : 미국 해군 의 장교 분류 : 미국 의 침례교 도 분류 : 미국 의 노벨상 수상자 분류 : 미국 의 농부 분류 : 미국 의 대통령 분류 : 미국 의 역사 ( 1 9 6 4 - 1 9 8 0 ) 분류 : 미국 의 외교관 분류 : 미국 의 인도주의자 분류 : 미국 의 제 2 차 세계 대전 참전 군인 분류 : 미국 의 진보주의 분류 : 민주당 ( 미국 ) 의 정치 인 분류 : 살 아 있 는 사람 분류 : 스코틀랜드 계 미국인 분류 : 아일랜드 계 미국인 분류 : 잉글랜드 계 미국인 분류 : 조지아 공과 대학교 동문 분류 : 조지 아주 출신 정치 인 분류 : 조지 아주 지사 분류 : 미국 의 회고록 작가 분류 : 에모리 대학교 교수 분류 : 미국 해군사관학교 동문 분류 : 미국 미주리 종합 군사 학원 동문 분류 : 타임 올해 의 인물 분류 : 군사 기술자 분류 : 이 란 혁명 관련자\\n', '수학 ( 數學 , Mathematics ) 은 양 , 구조 , 공간 , 변화 등 의 개념 을 다루 는 학문 이 다 . 현대 수학 은 형식 논리 를 이용 해서 공리 로 구성 된 추상 적 구조 를 연구 하 는 학문 으로 여겨 지 기 도 한다 . 수학 은 그 구조 와 발전 과정 에서 는 자연 과학 에 속하 는 물리학 을 비롯 한 다른 학문 들 과 깊 은 연관 을 맺 고 있 다 . 하지만 , 어느 과학 의 분야 들 과 는 달리 , 자연 계 에서 관측 되 지 않 는 개념 들 에 대해서 까지 이론 을 일반 화 및 추상 화 시킬 수 있 다는 차이 가 있 다고 한다 . 수학자 들 은 그러 한 개념 들 에 대해서 추측 을 하 고 , 적절 하 게 선택 된 정의 와 공리 로부터 의 엄밀 한 연역 을 통해서 추측 들 의 진위 를 파악 한다 . 수학 은 숫자 세기 , 계산 , 측정 및 물리 적 대상 의 모양 과 움직임 을 추상 화 하 고 , 이 에 논리 적 추론 을 적용 하 여 나타났 다 . 이런 기본 개념 들 은 고대 이집트 , 메소포타미아 , 고대 인도 , 고대 중국 및 고대 그리스 의 수학 책 에서 찾아볼 수 있 다 . 그리고 , 유클리드 의 원론 에서 는 엄밀 한 논증 이 발견 된다 . 이런 발전 은 그 뒤 로 도 계속 되 어 , 1 6 세기 의 르네상스 에 이르 러서는 수학 적 발전 과 과학 적 방법 들 의 상호 작용 이 일어나 , 혁명 적 인 연구 들 이 진행 되 며 인류 문명 에 큰 영향 을 미치 게 되 었 다 . 그리고 , 이 는 현재 까지 도 계속 되 고 있 다 . 오늘날 수학 은 자연 과학 , 공학 , 의학 뿐 만 아니 라 , 경제학 등 의 사회 과학 에서 도 중요 한 도구 로서 도 사용 된다 . 수학 을 이런 분야 들 에 적용 한 응용 수학 은 그 결과 로써 수학 자체 의 발전 을 이끌 고 새로운 분야 들 을 낳 았 다 . 응용 이 아닌 수학 자체 의 아름다움 과 재미 를 추구 하 며 연구 하 는 것 을 순수 수학 이 라 하 는데 , 긴 시간 이 지난 뒤 에 순수 수학 적 연구 를 다른 분야 에 응용 할 방법 이 발견 된 경우 도 많 았 다고 한다 . 대부분 자료 를 보 면 , \" mathematics \" 는 \" 수리 적 인 \" 이 라는 뜻 을 가진 라틴어 mathmaticus 와 그리스어 mathematikos 에서 유래 되 었 거나 , \" 학식 있 는 \" 을 뜻 하 는 mathema 와 \" 배우 다 \" 를 뜻 하 는 manthanein 에서 유래 되 었 다고 한다 . 줄여서 \" math \" 라고 표현 하 기 도 한다 . 수학 은 기원전 6 0 0 년 경 에 살 았 던 탈레스 로부터 시작 됐 다 . 하지만 탈레스 가 태어나 기 전 에 도 수학 을 연구 한 사람 이 있 을 수 도 있 기 때문 에 , 인류 의 역사 와 더불 어 시작 되 었 다고 할 수 있 다 . 교역 • 분배 • 과세 등 의 인류 의 사회 생활 에 필요 한 모든 계산 을 수학 이 담당 해 왔 고 , 농경 생활 에 필수 적 인 천문 관측 과 달력 의 제정 , 토지 의 측량 또한 수학 이 직접 적 으로 관여 한 분야 이 다 . 고대 수학 을 크 게 발전 시킨 나라 로 는 이집트 , 인도 , 그리스 , 중국 등 이 있 다 . 그 중 에서 도 그리스 는 처음 으로 수학 의 방정식 에서 변수 를 문자 로 쓴 나라 이 다 . 한국 의 수학 은 약 1 , 5 0 0 년 전 부터 기록 으로 보이 기 시작 한다 . 신라 시대 에 수학 을 가르쳤으며 , 탈레스 가 최초 로 발견 한 일식 과 월식 을 예측 할 정도 로 발달 했 다 . 조선 시대 에 훈민정음 을 창제 한 세종 대왕 은 집현전 학자 들 에게 수학 연구 를 명하 는 등 , 조선 의 수학 수준 을 향상 시키 기 위해서 많 은 노력 을 기울였 다 . 하지만 임진왜란 으로 많 은 서적 들 이 불타 고 , 천문학 분야 에서 큰 손실 을 입 었 다 . 조선 후기 의 한국 의 수학 은 실학자 들 을 중심 으로 다시 발전 하 였 고 , 새로운 결과 도 성취 되 었 다 . 6 . png | right | 섬네일 | 주판 은 고대 로부터 계산 도구 로 사용 되 어 왔 다 . 수학 의 각 분야 들 은 상업 에 필요 한 계산 을 하 기 위해 , 숫자 들 의 관계 를 이해 하 기 위해 , 토지 를 측량 하 기 위해 , 그리고 천문학 적 사건 들 을 예견 하 기 위해 발전 되 어 왔 다 . 이 네 가지 목적 은 대략 적 으로 수학 이 다루 는 대상 인 양 , 구조 , 공간 및 변화 에 대응 되 며 , 이 들 을 다루 는 수학 의 분야 를 각각 산술 , 대수학 , 기하학 , 해석학 이 라 한다 . 또한 이 밖 에 도 근대 이후 에 나타난 수학 기초 론 과 이산 수학 및 응용 수학 등 이 있 다 . 산술 은 자연수 와 정수 및 이 에 대한 사칙 연산 에 대한 연구 로서 시작 했 다 . 수론 은 이런 주제 들 을 보다 깊 게 다루 는 학문 으로 , 그 결과 로 는 페르마 의 마지막 정리 등 이 유명 하 다 . 또한 쌍둥이 소수 추측 과 골드바 흐 추측 등 을 비롯 해 오랜 세월 동안 해결 되 지 않 고 남 아 있 는 문제 들 도 여럿 있 다 . 수 의 체계 가 보다 발전 하 면서 , 정수 의 집합 을 유리수 의 집합 의 부분집합 으로 여기 게 되 었 다 . 또한 유리수 의 집합 은 실수 의 집합 의 부분집합 이 며 , 이 는 또 다시 복소수 집합 의 일부분 으로 볼 수 있 다 . 여기 에서 더 나아가 면 사원수 와 팔원수 등 의 개념 을 생각 할 수 도 있 다 . 이 와 는 약간 다른 방향 으로 , 자연수 를 무한대 까지 세 어 나간다는 개념 을 형식 화 하 여 순서수 의 개념 을 얻 으며 , 집합 의 크기 비교 를 이용 하 여 무한대 를 다루 기 위한 또 다른 방법 으로 는 기수 의 개념 도 있 다 . 자연수 정수 유리수 실수 복소수 수 대신 문자 를 써서 문제 해결 을 쉽 게 하 는 것 과 , 마찬가지 로 수학 적 법칙 을 일반 적 이 고 간명 하 게 나타내 는 것 을 포함 한다 . 고전 대수학 은 대수 방정식 및 연립 방정식 의 해법 에서 시작 하 여 군 , 환 , 체 등 의 추상 대수학 을 거쳐 현대 에 와서 는 대수계 의 구조 를 보 는 것 을 중심 으로 하 는 선형 대수학 으로 전개 되 었 다 . 수 의 집합 이나 함수 와 같 은 많 은 수학 적 대상 들 은 내재 적 인 구조 를 보인다 . 이러 한 대상 들 의 구조 적 특성 들 이 군론 , 환론 , 체 론 그리고 그 외 의 수많 은 대수 적 구조 들 을 연구 하 면서 다루 어 지 며 , 그것 들 하나하나 가 내재 적 구조 를 지닌 수학 적 대상 이 다 . 이 분야 에서 중요 한 개념 은 벡터 , 벡터 공간 으로 의 일반 화 , 그리고 선형 대수학 에서 의 지식 들 이 다 . 벡터 의 연구 에 는 산술 , 대수 , 기하라 는 수학 의 중요 한 세 개 의 분야 가 조합 되 어 있 다 . 벡터 미적분학 은 여기 에 해석학 의 영역 이 추가 된다 . 텐서 미적분학 은 대칭 성 과 회전축 의 영향 아래 에서 벡터 의 움직임 을 연구 한다 . 눈금 없 는 자 와 컴퍼스 와 관련 된 많 은 고대 의 미해결 문제 들 이 갈루아 이론 을 사용 하 여 비로소 해결 되 었 다 . 9 6 px 9 6 px 9 6 px 9 6 px 군론 수론 그래프 이론 순서론 공간 에 대한 연구 는 기하학 에서 시작 되 었 고 , 특히 유클리드 기하학 에서 비롯 되 었 다 . 삼각법 은 공간 과 수 들 을 결합 하 였 고 , 잘 알려진 피타고라스 의 정리 를 포함 한다 . 현대 에 와서 공간 에 대한 연구 는 , 이러 한 개념 들 은 더 높 은 차원 의 기하학 을 다루 기 위해 비 유클리드 기하학 ( 상대 성 이론 에서 핵심 적 인 역할 을 함 ) 과 위상 수학 으로 일반 화 되 었 다 . 수론 과 공간 에 대한 이해 는 모두 해석 기하학 , 미분기 하학 , 대수 기하학 에 중요 한 역할 을 한다 . 리 군 도 공간 과 구조 , 변화 를 다루 는데 사용 된다 . 위상 수학 은 2 0 세기 수학 의 다양 한 지류 속 에서 괄목 할 만 한 성장 을 한 분야 이 며 , 푸앵카레 추측 과 인간 에 의해서 증명 되 지 못하 고 오직 컴퓨터 로 만 증명 된 4 색 정리 를 포함 한다 . 9 6 px 9 6 px 9 6 px 9 6 px 위상 수학 삼각법 미분기 하학 프랙털 기하학 변화 에 대한 이해 와 묘사 는 자연 과학 에 있 어서 일반 적 인 주제 이 며 , 미적분학 은 변화 를 탐구 하 는 강력 한 도구 로서 발전 되 었 다 . 함수 는 변화 하 는 양 을 묘사 함 에 있 어서 중추 적 인 개념 으로써 떠오르 게 된다 . 실수 와 실변수 로 구성 된 함수 의 엄밀 한 탐구 가 실해 석학 이 라는 분야 로 알려 지 게 되 었 고 , 복소수 에 대한 이 와 같 은 탐구 분야 는 복소 해석학 이 라고 한다 . 함수 해석학 은 함수 의 공간 ( 특히 무한 차원 ) 의 탐구 에 주목 한다 . 함수 해석학 의 많 은 응용 분야 중 하나 가 양자 역학 이 다 . 많 은 문제 들 이 자연 스럽 게 양 과 그 양 의 변화 율 의 관계 로 귀착 되 고 , 이러 한 문제 들 이 미분 방정식 으로 다루 어 진다 . 자연 의 많 은 현상 들 이 동역학 계 로 기술 될 수 있 다 . 혼돈 이론 은 이러 한 예측 불 가능 한 현상 을 탐구 하 는 데 상당 한 기여 를 한다 . 9 6 px 9 6 px 9 6 px 9 6 px 9 6 px 미적분학 벡터 미적분학 미분 방정식 동역학 계 혼돈 이론 수학 의 기초 를 확실히 세우 기 위해 , 수리 논리학 과 집합론 이 발전 하 였 고 , 이 와 더불 어 범주론 이 최근 에 도 발전 되 고 있 다 . “ 근본 위기 ” 라는 말 은 대략 1 9 0 0 년 에서 1 9 3 0 년 사이 에 일어난 , 수학 의 엄밀 한 기초 에 대한 탐구 를 상징 적 으로 보여 주 는 말 이 다 . 수학 의 엄밀 한 기초 에 대한 몇 가지 의견 불 일치 는 오늘날 에 도 계속 되 고 있 다 . 수학 의 기초 에 대한 위기 는 그 당시 수많 은 논쟁 에 의해 촉발 되 었 으며 , 그 논쟁 에 는 칸토어 의 집합론 과 브라우어 - 힐베르트 논쟁 이 포함 되 었 다 . 1 2 8 px 9 6 px 집합론 범주론 수리 논리학 9 6 px 9 6 px 9 6 px 조합론 계산 이론 암호학 그래프 이론 9 6 px 9 6 px 9 6 px 9 6 px 수리 물리학 유체 역학 수치 해석학 최적화 이론 9 6 px 9 6 px 9 6 px 9 6 px 확률론 통계학 금융 수학 게임 이론 정수론 기하학 대수학 해석학 산학 대한민국 의 고등학교 수학 교과목 이산 수학 응용 수학 Eves , Howard , An Introduction to the History of Mathematics , Sixth Edition , Saunders , 1 9 9 0 , . Jourdain , Philip E . B . , The Nature of Mathematics , in The World of Mathematics , James R . Newman , editor , Dover , 2 0 0 3 , . Peterson , Ivars , Mathematical Tourist , New and Updated Snapshots of Modern Mathematics , Owl Books , 2 0 0 1 , . 대한 수학회 ( KMS ) KAIST 수학 문제 연구회 Mathworld The MacTutor History of Mathematics archive 수리 과학 연구 정보 센터 용어 검색 분류 : 형식 과학 분류 : 수학 용어\\n', '수학 에서 상수 란 그 값 이 변하 지 않 는 불변량 으로 , 변수 의 반대말 이 다 . 물리 상수 와 는 달리 , 수학 상수 는 물리 적 측정 과 는 상관없이 정의 된다 . 수학 상수 는 대개 실수체 나 복소수체 의 원소 이 다 . 우리 가 이야기 할 수 있 는 상수 는 ( 거의 대부분 계산 가능 한 ) 정의 가능 한 수 이 다 . 특정 수학 상수 , 예 를 들 면 골 롬 - 딕맨 상수 , 프랑세즈 - 로빈슨 상수 , , 레비 상수 같 은 상수 는 다른 수학 상수 또는 함수 와 약한 상관관계 또는 강한 상관 관계 를 갖 는다 . 기호 값 이름 분류 N 알려진 때 알려진 소수점 자릿수 1 1 일 , 하나 일 반 정수 고대 ? ∞ 0 0 영 일반 대수 적 수 고대 BC 5 0 0 년 경 ∞ i 허수 단위 , 아이 ( ) 일반 복소수 1 5 0 0 년 경 ∞ π ≈ 3 . 1 4 1 5 9 2 6 5 3 5 8 9 7 9 3 2 3 8 4 6 2 6 4 3 3 8 3 2 7 9 5 0 2 8 8 원주율 일반 초월수 고대 1 , 2 4 1 , 1 7 7 , 3 0 0 , 0 0 0 e ≈ 2 . 7 1 8 2 8 1 8 2 8 4 5 9 0 4 5 2 3 5 3 6 0 2 8 7 4 7 1 3 5 2 6 6 2 4 9 네이피어 수 , 자연로그 의 밑 일반 초월수 1 6 1 8 년 1 2 , 8 8 4 , 9 0 1 , 0 0 0 ≈ 1 . 4 1 4 2 1 3 5 6 2 3 7 3 0 9 5 0 4 8 8 0 1 6 8 8 7 2 4 2 0 9 6 9 8 0 7 2 의 제곱근 , 닮음비 일반 대수 적 수 , 무리수 고대 1 3 7 , 4 3 8 , 9 5 3 , 4 4 4 γ ≈ 0 . 5 7 7 2 1 5 6 6 4 9 0 1 5 3 2 8 6 0 6 0 6 5 1 2 0 9 0 0 8 2 4 0 2 4 3 오 일 러 - 마스 케로 니 상수 일반 , 수론 ? 1 7 3 5 년 1 0 8 , 0 0 0 , 0 0 0 φ ≈ 1 . 6 1 8 0 3 3 9 8 8 7 4 9 8 9 4 8 4 8 2 0 4 5 8 6 8 3 4 3 6 5 6 3 8 1 1 황금비 일반 , 피보나치 수열 대수 적 수 , 무리수 고대 3 , 1 4 1 , 0 0 0 , 0 0 0 β ≈ 0 . 7 0 2 5 8 엠브리 - 트레 페텐 상수 수론 ? ? ? δ ≈ 4 . 6 6 9 2 0 1 6 0 9 1 0 2 9 9 0 6 7 1 8 5 3 2 0 3 8 2 0 4 6 6 2 0 1 6 1 파이겐바움 상수 혼돈 이론 ? 1 9 7 5 년 ? α ≈ 2 . 5 0 2 9 0 7 8 7 5 0 9 5 8 9 2 8 2 2 2 8 3 9 0 2 8 7 3 2 1 8 2 1 5 7 8 파이겐바움 상수 혼돈 이론 ? ? ? C 2 ≈ 0 . 6 6 0 1 6 1 8 1 5 8 4 6 8 6 9 5 7 3 9 2 7 8 1 2 1 1 0 0 1 4 5 5 5 7 7 쌍둥이 소수 상수 수론 ? ? 5 , 0 2 0 M 1 ≈ 0 . 2 6 1 4 9 7 2 1 2 8 4 7 6 4 2 7 8 3 7 5 5 4 2 6 8 3 8 6 0 8 6 9 5 8 5 메이 쎌 - 메르텐스 상수 ( Meissel - Mertens constant ) 수론 ? 1 8 6 6 년 1 8 7 4 년 8 , 0 1 0 B 2 ≈ 1 . 9 0 2 1 6 0 5 7 8 2 4 쌍둥이 소수 에 대한 브룬 상수 ( Brun s constant ) 수론 ? 1 9 1 9 년 1 1 B 4 ≈ 0 . 8 7 0 5 8 8 3 8 0 0 소수 쿼드 러플 릿 ( prime quadruplet ) 에 대한 브룬 상수 ( Brun s constant ) 수론 ? ? ? Λ – 2 . 7 · 1 0 - 9 드 브루인 - 뉴먼 상수 ( de Bruijn - Newman constant ) 수론 ? 1 9 5 0 년 ? ? G ≈ 0 . 9 1 5 9 6 5 5 9 4 1 7 7 2 1 9 0 1 5 0 5 4 6 0 3 5 1 4 9 3 2 3 8 4 1 1 카탈란 상수 ( Catalan s constant ) 조합론 ? ? 1 5 , 5 1 0 , 0 0 0 , 0 0 0 K ≈ 0 . 7 6 4 2 2 3 6 5 3 5 8 9 2 2 0 6 6 란다우 - 라마누잔 상수 수론 무리수 ( ? ) ? 3 0 , 0 1 0 K ≈ 1 . 1 3 1 9 8 8 2 4 8 7 9 4 3 비 슈바 나트 상수 ( Viswanath s constant 1 ) 수론 ? ? 1 3 L ≈ 0 . 5 4 3 2 5 8 9 6 5 3 4 2 9 7 6 7 0 6 9 5 2 7 2 8 2 9 5 3 0 0 6 1 3 2 3 란다우 상수 ( Landau s constant ) 해석학 ? ? > 1 , 0 0 0 B ´ L ≈ 1 . 0 8 3 6 6 르장드르 상수 ( Legendre s constant ) 수론 ? ? ? μ ≈ 1 . 4 5 1 3 6 9 2 3 4 8 8 3 3 8 1 0 5 0 2 8 3 9 6 8 4 8 5 8 9 2 0 2 7 라마누잔 - 솔드너 상수 ( Ramanujan - Soldner s constant ) , 솔드너 상수 ( Soldner s constant ) 수론 ? ? 7 5 , 5 0 0 EB ≈ 1 . 6 0 6 6 9 5 1 5 2 4 1 5 2 9 1 7 6 3 에르되시 - 보어 와인 상수 ( Erdös - Borwein s constant ) 수론 무리수 ? ? ≈ 렝겔 상수 ( Lengyel s Constant ) 수론 ? 1 9 9 2 년 ? ≈ 알라 디 - 그린 스테드 상수 ( Alladi – Grinstead constant ) 조합론 ? ? ? * 레비 상수 * 라플라스 극한 * 알라 디 - 그린 스테드 상수 * 뤼 로스 상수 * 오일러 - 마스 케로 니 상수 * 프랑세즈 - 로빈슨 상수 * 번스타인 상수 * 아페리 상수 * 시 에 르 핀스 키 상수 * 가우스 상수 * 란다우 상수 * 브룬 상수 * 밀스 상수 * 골 롬 - 딕맨 상수 * 빽 하우스 상수 * 니븐 상수 * 로크 스 상수 * 르장드르 상수 * 해프너 - 사 낙 크 - 맥컬리 상수 * 에르되시 - 보어 와인 상수 * 마이셀 - 메르텐스 상수 * 쌍둥이 소수 상수 * 알틴 상수 * 드 브루인 - 뉴먼 상수 * 글레이셔 - 킨 켈린 상수 * 포터 상수 * 가우스 - 쿠즈민 - 비어 징 상수 * 킨 친 상수 * 뤼카 수 * 역 피보나치 상수 ( Reciprocal Fibonacci constant ) * 비 슈바 나트 상수 * 엠브리 - 트레 페텐 상수 * 플라스틱 수 * 콘웨이 상수 * 바르 가 상수 ( Varga constant ) * 체비쇼프 상수 * 카 앵 상수 ( Cahen s constant ) * 오메가 상수 ( Omega constant ) * 립 의 4 각 얼음 상수 * 유니버설 파라 볼 릭 상수 ( Universal parabolic constant ) * 함수 * 수학 기호 * 오일러 의 곱셈 공식\\n', 'The Reader . jpg | 섬네일 | 2 5 0 px | 장 오노레 프라고나르 작 \" 책 읽 는 소녀 \" 문학 ( 文學 ) 은 언어 를 예술 적 표현 의 제재 로 삼 아 새로운 의미 를 창출 하 여 , 인간 과 사회 를 진실 되게 묘사 하 는 예술 의 하위 분야 이 다 . 간단 하 게 설명 하 면 , 언어 를 통해 인간 의 삶 을 미적 ( 美 的 ) 으로 형상 화 한 것 이 라고 볼 수 있 다 . 문학 은 원래 문예 ( 文藝 ) 라고 부르 는 것 이 옳 으며 , 문학 을 학문 의 대상 으로서 탐구 하 는 학문 의 명칭 역시 문예학 이 다 . 문예학 은 음악 사학 , 미술 사학 등 과 함께 예술학 의 핵심 분야 로서 인문학 의 하위 범주 에 포함 된다 . 일반 적 으로 문학 의 정의 는 텍스트 들 의 집합 이 다 . 각각 의 국가 들 은 고유 한 문학 을 가질 수 있 으며 , 이 는 기업 이나 철학 조류 , 어떤 특정 한 역사 적 시대 도 마찬가지 이 다 . 흔히 한 국가 의 문학 을 묶 어서 분류 한다 . 예 를 들 어 고대 그리스어 , 성서 , 베오울프 , 일리아드 , 그리고 미국 헌법 등 이 그러 한 분류 의 범주 에 들어간다 . 좀 더 일반 적 으로 는 문학 은 특정 한 주제 를 가진 이야기 , 시 , 희곡 의 모음 이 라 할 수 있 다 . 이 경우 , 이야기 , 시 , 그리고 희곡 은 민족주의 적 인 색채 를 띨 수 도 아닐 수 도 있 다 . 문학 의 한 부분 으로서 특정 한 아이템 을 구분 짓 는 일 은 매우 어려운 일 이 다 . 어떤 사람 들 에게 \" 문학 \" 은 어떠 한 상징 적 인 기록 의 형태 로 도 나타날 수 있 는 것 이 다 . ( 이를테면 이미지 나 조각 , 또는 문자 로 도 나타날 수 있 다 . ) 그러나 또 다른 사람 들 에게 있 어 문학 은 오직 문자 로 이루어진 텍스트 로 구성 된 것 만 을 포함 한다 . 좀 더 보수 적 인 사람 들 은 그 개념 이 꼭 물리 적 인 형태 를 가진 텍스트 여야 하 고 , 대개 그러 한 형태 는 종이 등 의 눈 에 보이 는 매체 에서 디지털 미디어 까지 다양 할 수 있 다 . 더 나아가 보 면 , \" 문학 \" 과 몇몇 인기 있 는 기록 형태 의 작업 들 , 소위 대중 문학 사이 에 는 인식 가능 한 차이점 이 존재 한다 . 이때 \" 문학 적 인 허구성 \" 과 \" 문학 적 인 재능 \" 이 종종 개별 적 인 작품 들 을 구별 하 는 데 에 사용 된다 . 예 를 들 어 , 찰스 디킨즈 의 작품 들 은 대부분 의 사람 들 에게 \" 문학 적 인 것 \" 으로 받아들여 지 지만 , 제프리 아처 의 작품 들 은 영문학 이 라는 일반 적 인 범주 아래 두기 에 는 다소 가치 가 떨어지 는 것 으로 생각 된다 . 또한 예 를 들 어 문법 과 어법 에 서투르 거나 , 이야기 가 혼란 스러워 신뢰 성 을 주 지 않 거나 , 인물 들 의 성격 에 일관 성 이 없 을 경우 에 도 문학 에서 제외 될 수 있 다 . 로맨스 , 범죄 소설 , 과학 소설 등 의 장르 소설 도 때로 \" 문학 \" 이 아닌 것 으로 간주 되 는 경우 도 있 다 . 이 들 은 대부분 대중 문학 의 범주 에 포함 된다 . 문학 은 분류 하 는 방법 에 따라 다음 과 같이 구분 한다 . # 전달 ( 傳達 ) 수단 이 말 인 구전 문학 ( 口傳 文學 ) 과 문자 에 의한 기재 문학 ( 記 載 文學 ) # 문체 가 틀 에 박힌 율문 ( 律文 ) 과 그렇 지 않 은 산문 ( 散文 ) . # 내용 이 현재 형 으로서 , 주관 적 내용 인 서정 문학 ( 抒情 文學 ) , 과거 형 으로서 객관 적 내용 인 서사 문학 ( 敍事 文學 ) , 과거 의 사건 이 현재 형 으로 표현 되 며 동작 과 회화 에 의한 극 문학 ( 劇 文學 ) , 서정 적 과 서사 적 의 중간 에 위치 하 며 일기 · 수필 · 시론 ( 詩論 ) · 비평 등 을 가리키 는 자조 문학 ( 自照 文學 ) . # 문학 활동 에서 , 자기 의 상상 을 기초 로 하 는 창작 과 창작 된 작품 의 가치 를 논하 는 평론 이 외 에 도 편의 에 따라 발생 적 으로 대별 하 기 도 한다 . 문학 은 처음 은 유일 한 종류 , 즉 노래 하 고 , 말 하 고 , 춤춘다는 것 이 분화 되 지 않 은 것 이 었 다 . 이 춤추 는 것 을 중심 으로 발달 한 것 이 연극 ( 演劇 ) 이 며 , 노래 하 는 것 이 발달 하 여 시 ( 詩 ) , 말 하 는 것 이 발달 하 여 산문 ( 散文 ) 의 이야기 가 되 었 다 . 시 는 정형시 · 자유시 · 산문시 로 , 또한 서사시 와 서정시 로 나뉜다 . 산문 은 사건 을 중심 으로 그려진 이야기 , 근대 리얼리즘 의 수법 이후 인물 의 성격 을 묘사 하 는 것 을 중심 으로 한 소설 이 있 다 . 이야기 나 소설 과 같이 특별 한 구상 에 의하 지 않 고 , 작자 의 흥미 에 의해서 씌 어 지 는 것 이 잡문 ( 雜文 ) 또는 수필 이 며 , 이것 이 날짜 에 따라 씌 어 지 는 것 이 일기 , 여행 의 과정 에 따라 씌 어 지 는 것 이 기행문 이 다 . 일기 와 마찬가지 로 발표 의 의도 가 작 은 것 에 서간 ( 書簡 ) 이 있 다 . 이 밖 에 사건 의 경험 에 따른 회고록 , 사건 등 의 특정시 ( 特定 時 ) 에 한정 되 지 않 는 자서전 , 제삼자 에 의해서 씌 어 지 는 전기 ( 傳記 ) 가 있 다 . 또한 이것 들 을 포함 하 는 예술 작품 의 가치 평가 를 시도 하 는 것 이 평론 ( 評論 ) 이 다 . 산문 * 소설 ** 주제 별 소설 ** 대상 별 소설 *** 동화 * 수필 ** 수필 ** 편지 ** 기록 문학 *** 전기 *** 일기 *** 기행문 *** 실록 * 평론 다만 수필 의 일부 로 보 기 도 한다 . 운문 * 시 * 부 극 문학 다만 산문 의 일부 로 보 기 도 한다 . * 희곡 대중 문학 이 란 상업 성 을 띠 며 대중 을 겨냥 하 여 그 들 의 통속 적 인 흥미 와 욕구 를 채워 주 는 문학 을 말 한다 . 대중 문학 의 하위 장르 에 는 여러 가지 가 있 다 . 에세이 연애 소설 판타지 소설 무협 소설 공상 과학 소설 추리 소설 공포 소설 인터넷 소설 시나리오 방송극 인터넷 시 만화 바로크 ( Baroque ) 고전주의 ( 古典 主義 , Classic ) 낭만주의 ( 浪漫主義 , Romantic ) 계몽주의 ( 啓蒙 主義 , Enlightenment ) 자연주의 ( 自然 主義 , Naturalism ) 사실주의 ( 寫實 主義 , Realism ) 표현주의 ( 表現 主義 , Expressionism ) 허무주의 ( 虛無 主義 , Nihilism ) 실존주의 ( 實存 主義 , Existentialism ) 모더니즘 ( Modernism ) 초현실주의 ( 超 現實 主義 , Surrealism ) 포스트모더니즘 ( Post - modernism ) 문학 을 창작 하 는 예술가 를 문예가 라고 부른다 . 문예학 을 연구 하 는 사람 을 문예학 자 라고 부른다 . 문학 을 창작 하 는 사람 을 따로 저술가 라고 한다 . 문예 학자 와 언어학자 를 합쳐 어 문학자 로 칭하 기 도 한다 . 그러나 언어 와 , 언어 를 사용 한 예술 인 문학 은 현격 한 차이 가 있 으므로 주의 해야 한다 . 문예 가 번역가 에세 이스트 저널리스트 소설가 시인 문예 학자 한국 문학 중국 문학 일본 문학 인도 문학 고대 그리스 문학 고대 라틴 어문학 영어 문학 * 영국 문학 * 미국 문학 * 아일랜드 문학 * 오스트레일리아 문학 프랑스 문학 독일 문학 이탈리아 문학 스페인 문학 러시아 문학 스칸디나비아 문학 * 스웨덴 문학 * 노르웨이 문학 * 핀란드 문학 * 덴마크 문학 중 남미 문학 * 멕시코 문학 * 베네수엘라 문학 * 브라질리아 문학 * 아르헨티나 문학 * 칠레 문학 유대 문학 아라비아 문학 터키 문학 이집트 문학 남아프리카 문학 반영론 적 관점 에 의한 감상 은 작품 을 창작 된 당시 시대 정황 과 연결 시켜 감상 하 는 입장 이 고 , 내재 적 관점 의 감상 은 작품 의 형식 , 내용 에 국한 하 여 감상 하 는 것 이 다 . 표현 론 적 관점 의 감상 은 작가 의 전기 적 사실 과 작품 을 연결 시켜 감상 하 는 것 이 고 , 수용 론 적 관점 의 감상 은 독자 와 작품 을 연결 시켜 감상 하 는 것 을 말 한다 . 문학자 문학상\\n', '이 문서 는 나라 목록 이 며 , 전 세계 2 0 6 개 나라 의 각 현황 과 주권 승인 정보 를 개요 형태 로 나열 하 고 있 다 . 이 목록 은 명료 화 를 위해 두 부분 으로 나뉘 어 있 다 . # 첫 번 째 부분 은 바티칸 시국 과 팔레스타인 을 포함 하 여 유엔 등 국제 기구 에 가입 되 어 국제 적 인 승인 을 널리 받 았 다고 여기 는 1 9 5 개 나라 를 나열 하 고 있 다 . # 두 번 째 부분 은 일부 지역 의 주권 을 사실 상 ( 데 팍토 ) 행사 하 고 있 지만 , 아직 국제 적 인 승인 을 널리 받 지 않 았 다고 여기 는 1 1 개 나라 를 나열 하 고 있 다 . 두 목록 은 모두 가 나다 순 이 다 . 일부 국가 의 경우 국가 로서 의 자격 에 논쟁 의 여부 가 있 으며 , 이 때문 에 이러 한 목록 을 엮 는 것 은 매우 어렵 고 논란 이 생길 수 있 는 과정 이 다 . 이 목록 을 구성 하 고 있 는 국가 를 선정 하 는 기준 에 대한 정보 는 \" 포함 기준 \" 단락 을 통해 설명 하 였 다 . 나라 에 대한 일반 적 인 정보 는 \" 국가 \" 문서 에서 설명 하 고 있 다 . 나라 · 가 나 다 라 마 바 사 아 자 차 카 타 파 하 기 타 국가 · 포함 기준 · 같이 보 기 · 각주 · 참고 문헌 한국어 와 국가 공용어 명칭 주권 상태 와 승인 정보 ---- ---- – 가나 공화국 영어 Ghana – Republic of Ghana 유엔 가입 국가 로 승인 받 았 다 . ---- – 가봉 공화국 프랑스어 Gabon – République Gabonaise 유엔 가입 국가 로 승인 받 았 다 . ---- – 가이아 나 협동 공화국 영어 Guyana – Co - operative Republic of Guyana 유엔 가입 국가 로 승인 받 았 다 . ---- – 감비아 공화국 영어 Gambia – Republic of The Gambia 유엔 가입 국가 로 승인 받 았 다 . ---- – 과테말라 공화국 스페인어 Guatemala – República de Guatemala 유엔 가입 국가 로 승인 받 았 다 . ---- 영어 Grenada 유엔 가입 국가 로 승인 받 았 다 . 그레 나 다는 영국 연방 왕국 이 다 . ---- 그루지야 1 5 px 조지아 ---- – 그리스 공화국 그리스어 Ελλάδα – Ελληνική Δημοκρατία : 엘 라다 - 엘리 니케 디모 크라 티아 유엔 과 유럽 연합 가입 국가 로 승인 받 았 다 . 그리스 는 아토스 산 의 주권 을 행사 하 고 있 다 . 아토스 산 은 종교 자치 구역 으로 , 수도원 공동체 와 그리스 외교부 장관 이 임명 한 내정 지도자 의 연대 로 행정 이 이루어지 며 , 종교 상 의 사법 권 은 총 대주교구 에 있 다 . ---- – 기니 공화국 프랑스어 Guinée – République de Guinée 유엔 가입 국가 로 승인 받 았 다 . ---- – 기니비사우 공화국 포르투갈어 Guiné - Bissau – República da Guiné - Bissau 유엔 가입 국가 로 승인 받 았 다 . ---- ---- 나 고 르노 카라바흐 공화국 1 5 px 기타 국가 ---- – 나미 비아 공화국 영어 Namibia – Republic of Namibia 유엔 가입 국가 로 승인 받 았 다 . ---- – 나 우루 공화국 나우루어 Naoero – Ripublik Naoero 영어 Nauru – Republic of Nauru 유엔 가입 국가 로 승인 받 았 다 . ---- – 나이지리아 연방 공화국 영어 Nigeria – Federal Republic of Nigeria 유엔 가입 국가 로 승인 받 았 다 . 나이지리아 는 주 와 하나 의 연방 지역 으로 나뉜 연합 국가 이 다 . ---- – 남수단 공화국 영어 South Sudan – Republic of Sudan 2 0 1 1 년 7 월 9 일 독립 하 여 , 유엔 가입 국가 로 승인 받 았 다 . ---- – 남아프리카 공화국 영어 South Africa – Republic of South Africa 아프리칸스 어 Suid - Afrika – Republiek van Suid - Afrika 코사어 Mzantsi Afrika – IRiphabliki yaseMzantsi Afrika 줄루어 Ningizimu Afrika – IRiphabliki yaseNingizimu Afrika 은데벨레 어 Sewula Afrika – IRiphabliki yeSewula Afrika 남소 토어 Afrika - Borwa – Rephaboliki ya Afrika - Borwa 소토어 Afrika Borwa – Rephaboliki ya Afrika Borwa 츠와나 어 Aforika Borwa – Rephaboliki ya Aforika Borwa 스와티어 Ningizimu Afrika – IRiphabhulikhi yeNingizimu Afrika 벤다어 Afurika Tshipembe – Riphabuḽiki ya Afurika Tshipembe 총 가어 Afrika Dzonga – Riphabliki ra Afrika Dzonga 유엔 가입 국가 로 승인 받 았 다 . ---- 남오세티야 1 5 px 기타 국가 ---- 남조선 1 5 px 대한민국 ---- 남한 1 5 px 대한민국 ---- – 네덜란드 왕국 네덜란드어 Nederland – Koninkrijk der Nederlanden 파피 아멘 토어 Hulanda ( or Ulanda ) - Reino di Hulanda 영어 Netherlands - Kingdom of the Netherlands 유엔 가입 국가 로 승인 받 았 다 . 네덜란드 왕국 은 다섯 국가 로 이루어져 있 으며 , 각 국가 는 강력 한 자치 권 을 행사 한다 . 네덜란드 는 법률 상 으로 왕국 의 구성 국가 중 하나 의 명칭 이 다 . 네덜란드 왕국 자체 는 유럽 연합 가입 국가 이나 , 아루바 를 포함 한 자치령 들 은 유럽 연합 에 속하 지 않 는다 . ---- – 네 팔 연방 민주 공화국 네팔어 नेपाल : Sanghiya Loktāntrik Ganatantra Nepāl 유엔 가입 국가 로 승인 받 았 다 . ---- – 노르웨이 왕국 노르웨이어 Norge – Kongeriket Norge 유엔 가입 국가 로 승인 받 았 다 . 스발바르 제도 는 노르웨이 의 일부 영토 이나 , 스발바르 조약 에 따라서 특별 권 을 행사 한다 . 노르웨이 는 해외 무인지경 영토 인 부베 섬 과 얀마옌 섬 을 소유 하 고 있 다 . 노르웨이 가 주장 하 는 표트르 1 세 섬 과 퀸모드랜드 의 영유권 은 현재 동결 하 였 다 . ---- 영어 New Zealand 마오리어 Aotearoa 유엔 가입 국가 로 승인 받 았 다 . 뉴질랜드 는 영국 연방 왕국 으로 , 다음 두 자유 연합 국가 의 책무 를 맡 고 있 다 . . 쿡 제도 는 외교 승인 을 받 았 다 . . 뉴질랜드 가 외교 정사 책임 을 맡 고 있 으나 , 2 0 0 7 년 중화 인민공화국 과 외교 관계 를 맺 었 다 . 다음 의 속령 국가 를 가지 고 있 다 . 뉴질랜드 는 남극 대륙 일부 지역 의 영유권 을 주장 하 고 있 다 . 로스 보호령 뉴질랜드 가 영유권 을 주장 하 고 있 지만 어떠 한 국가 도 인정 하 지 않 는다 . ---- – 니제르 공화국 프랑스어 Niger – République du Niger 유엔 가입 국가 로 승인 받 았 다 . ---- – 니카라과 공화국 스페인어 Nicaragua – República de Nicaragua 유엔 가입 국가 로 승인 받 았 다 . ---- ---- 대만 1 5 px 타이완 ---- 한국어 대한민국 유엔 가입 국가 로 승인 받 았 다 . 대한민국 과 조선 민주주의 인민공화국 은 서로 를 승인 하 지 않 았 다 . 대한민국 은 일본 이 영유권 을 주장 하 는 독도 의 주권 을 가지 며 , 조선 민주주의 인민공화국 이 차지 하 고 있 는 영토 일체 에 대한 영유권 을 주장 한다 . ---- – 덴마크 왕국 덴마크어 Danmark – Kongeriget Danmark 유엔 과 유럽 연합 가입 국가 로 승인 받 았 다 . 덴마크 왕국 은 한 개 의 자치 구역 을 가지 고 있 다 . ( Føroyar / Færøerne ) ---- – 도미니카 연방 영어 Dominica – Commonwealth of Dominica 유엔 가입 국가 로 승인 받 았 다 . ---- 스페인어 República Dominicana 유엔 가입 국가 로 승인 받 았 다 . ---- – 독일 연방 공화국 독일어 Deutschland – Bundesrepublik Deutschland : 도이칠란트 - 분 데스 레 푸 블 리크 도이칠란트 유엔 과 유럽 연합 가입 국가 로 승인 받 았 다 . 독일 은 주로 나뉜 연합 국가 이 다 . ---- – 동티 모르 민주 공화국 테툼어 Timor Lorosa e – Repúblika Demokrátika Timor Lorosa e 포르투갈어 Timor - Leste – República Democrática de Timor - Leste 유엔 가입 국가 로 승인 받 았 다 . ---- ---- – 라오 인민 민주 공화국 라오어 ນລາວ – ສາທາລະນະລັດປະຊາທິປະໄຕ ປະຊາຊົນລາວ : 라오 – 사탈 라나 낫 빠 사티 빠 타이 빠삭 쏜 라오 유엔 가입 국가 로 승인 받 았 다 . ---- – 라이베리아 공화국 영어 Liberia – Republic of Liberia 유엔 가입 국가 로 승인 받 았 다 . ---- – 라트비아 공화국 라트비아어 Latvija – Latvijas Republika 유엔 과 유럽 연합 가입 국가 로 승인 받 았 다 . ---- – 러시아 연방 러시아어 Россия – Российская Федерация : 로시야 – 로시 스카 야 페데 라 치 야 유엔 가입 국가 로 승인 받 았 다 . 러시아 는 러시아 구성체 ( 주 , 공화국 , 자치주 , 자치구 , 지방 , 연방 시 ) 로 나뉜 연합 국가 이 다 . 연방 구성체 의 일부 는 민족 자치 권 을 행사 하 는 공화국 이 다 . ---- – 레바논 공화국 아랍어 لبنان – الجمهوريّة اللبنانيّة : 루브 낸 - 알줌 후리 야 알 루브 낸 니야 프랑스어 République libanaise 유엔 가입 국가 로 승인 받 았 다 . ---- – 레소토 왕국 영어 Lesotho – Kingdom of Lesotho 소토어 Lesotho – Mmuso wa Lesotho 유엔 가입 국가 로 승인 받 았 다 . ---- 루마니아어 România 유엔 과 유럽 연합 가입 국가 로 승인 받 았 다 . ---- – 룩셈부르크 대공국 룩셈부르크어 Lëtzebuerg – Groussherzogdem Lëtzebuerg 프랑스어 Luxembourg – Grand - Duché du Luxembourg 독일어 Luxemburg – Großherzogtum Luxemburg : 룩셈부르크 - 그로스 헤어초크 툼 룩셈부르크 유엔 과 유럽 연합 가입 국가 로 승인 받 았 다 . ---- – 르완다 공화국 키 냐 르완다 어 Rwanda – Repubulika y u Rwanda 프랑스어 Rwanda – République du Rwanda 영어 Rwanda – Republic of Rwanda 유엔 가입 국가 로 승인 받 았 다 . ---- 아랍어 ليبيا 유엔 가입 국가 로 승인 받 았 다 . ---- – 리투아니아 공화국 리투아니아어 Lietuva – Lietuvos Respublika 유엔 과 유럽 연합 가입 국가 로 승인 받 았 다 . ---- – 리히텐슈타인 공국 독일어 Liechtenstein – Fürstentum Liechtenstein : 리히텐슈타인 - 퓌르 스텐 툼 리히텐슈타인 유엔 가입 국가 로 승인 받 았 다 . ---- ---- – 마다가스카르 공화국 마다가스카르 어 Madagasikara – Repoblikan i Madagasikara 프랑스어 Madagascar – République de Madagascar 유엔 가입 국가 로 승인 받 았 다 . 마다가스카르 는 프랑스 의 영토 인 글로리 오소 제도 와 주안 드 노바 의 영유권 을 주장 하 고 있 다 . ---- – 마셜 제도 공화국 마셜어 Aorōkin M ̧ ajeļ – Aolepān Aorōkin M ̧ ajeļ 영어 Marshall Islands – Republic of the Marshall Islands 미국 과 의 자유 연합 협정 으로 유엔 가입 국가 로 승인 받 았 다 . 마셜 제도 는 미국 의 영토 인 웨이크 섬 의 영유권 을 주장 하 고 있 다 . ---- – 말라위 공화국 영어 Malawi – Republic of Malawi 치체 와 어 Malaŵi – Mfuko la Malaŵi 유엔 가입 국가 로 승인 받 았 다 . ---- 말레이어 Malaysia 유엔 가입 국가 로 승인 받 았 다 . 말레이시아 는 주 와 연방 지역 으로 나뉜 연방 국가 이 다 . 말레이시아 는 스프래틀리 군 도 일부 의 영유권 을 주장 하 고 있 다 . 망명 분리주의 정부 는 사라왁 공화국 과 북보르네오 공화국 의 독립 을 주장 하 고 있 다 . ---- – 말리 공화국 프랑스어 Mali – République du Mali 유엔 가입 국가 로 승인 받 았 다 . ---- – 멕시코 합중국 스페인어 México – Estados Unidos Mexicanos 유엔 가입 국가 로 승인 받 았 다 . 멕시코 는 주 와 연방 지역 으로 나뉜 연합 국가 이 다 . ---- – 모나코 공국 프랑스어 Monaco – Principauté de Monaco 모나코어 Múnegu – Principatu de Múnegu 이탈리아어 Monaco - Principato di Monaco 유엔 가입 국가 로 승인 받 았 다 . ---- – 모로코 왕국 아랍어 المغرب – المملكة المغربية : 알마 그리브 - 알마 믈라카 알 마그리 비야 유엔 가입 국가 로 승인 받 았 다 . 모로코 는 서사하라 의 영유권 을 주장 하 고 대부분 의 지역 을 관할 하 고 있 으며 , 사하라 아랍 민주 공화국 과 분쟁 하 고 있 다 . 모로코 는 스페인 의 영토 인 세우타 , 알보란 섬 , 페레 질 섬 , 차파 리나스 섬 , 멜리 야 , 페논 데 알 우세마 스로 스페인 과 분쟁 하 고 있 다 . ---- – 모리셔스 공화국 영어 Mauritius – Republic of Mauritius 유엔 가입 국가 로 승인 받 았 다 . 모리셔스 는 자치 구역 인 로드리게스 섬 을 가지 고 있 다 . 모리셔스 는 영국 령 인도양 지역 과 프랑스 의 영토 인 트 로 믈 랭 섬 의 영유권 을 주장 하 고 있 다 . ---- – 모리타니 이슬람 공화국 아랍어 موريتانيا – الجمهورية الإسلامية الموريتانية : 무리 타 니야 - 줌 후리 야 알 이슬라 미야 알무 리타 니야 프랑스어 Mauritanie – République Islamique de la Mauritanie 유엔 가입 국가 로 승인 받 았 다 . ---- – 모잠비크 공화국 포르투갈어 Moçambique – República de Moçambique 유엔 가입 국가 로 승인 받 았 다 . ---- 몬테네그로 어 Црна Гора – Црна Гора : 츠 르 나 고라 - 츠 르 나 고라 유엔 가입 국가 로 승인 받 았 다 . ---- – 몰도바 공화국 몰도바어 Moldova – Republica Moldova 유엔 가입 국가 로 승인 받 았 다 . 트 란스 니스트 리아 는 사실상 독립 국가 이 지만 법률 상 몰도바 의 영토 이 다 . ---- – 몰디브 공화국 디베히어 ގުޖޭއްރާ ޔާއްރިހޫމްޖު – ހިވެދި ގުޖޭއްރާ ޔާއްރިހޫމްޖ : 디 베히 라 제이 - 디 베히 라 제이 제 줌 후리 야 유엔 가입 국가 로 승인 받 았 다 . ---- – 몰타 공화국 몰타어 Malta – Repubblika ta Malta 영어 Malta – Republic of Malta 유엔 과 유럽 연합 가입 국가 로 승인 받 았 다 . ---- - 몽골국 몽골어 Монгол Улс : 몽골 울스 유엔 가입 국가 로 승인 받 았 다 . ---- - 아메리카 합중국 영어 United States of America 유엔 가입 국가 로 승인 받 았 다 . 미국 은 주 , 연방 구 , 해외 영토 로 나뉜 연합 국가 이 다 . 미국 은 다음 의 해외 영토 와 연방 국가 의 주권 을 행사 하 고 있 다 . 이외 에 도 태평양 과 카리브 해 에 위치 한 미국 령 군소 제도 에 속한 무인 도 베이커 섬 , 하울랜드 섬 , 자비스 섬 , 존스턴 섬 , 킹 맨 섬 , 미 드웨이 섬 , 페트 렐 섬 ( 콜롬비 아 , 자메이카 와 분쟁 ) , 세라 닐 라 섬 ( 콜롬비아 와 분쟁 ) , 웨이크 섬 ( 마셜 제도 와 분쟁 ) , 나 바사 섬 ( 아이 티 와 분쟁 ) 의 주권 을 행사 하 고 있 다 . 미국 은 쿠바 의 영토 인 관타나모 만 에 위치 한 관타나모 만 해군 기지 를 ( 영유권 주장 없이 ) 관할 영토 로 가지 고 있 으며 , 협정 에 따라 쿠바 에게 임차료 를 지급 하 고 있 다 . ---- – 미얀마 연방 공화국 버마어 မြန်မာပြည် — ပြည်ထောင်စု သမ္မတ မြန်မာနိုင်ငံတော် : 먄마 – 피다 웅주 탄 만 다 먄마 나잉 강도 유엔 가입 국가 로 승인 받 았 다 . ---- – 미크로네시아 연방 영어 Micronesia – Federated States of Micronesia 미국 과 의 자유 연합 협정 으로 유엔 가입 국가 로 승인 받 았 다 . 미크로네시아 는 주로 나뉜 연합 국가 이 다 . ---- ---- – 바누아투 공화국 비슬라마 Vanuatu – Ripablik blong Vanuatu 영어 Vanuatu – Republic of Vanuatu 프랑스어 Vanuatu – République du Vanuatu 유엔 가입 국가 로 승인 받 았 다 . ---- – 바레인 왕국 아랍어 البحرين – مملكة البحرين : 알바 레인 - 맘 라 캇 알바 레인 유엔 가입 국가 로 승인 받 았 다 . ---- 영어 Barbados 유엔 가입 국가 로 승인 받 았 다 . 바베이도스 는 영국 연방 왕국 이 다 . ---- – 바티칸 시국 라틴어 Civitas Vaticana – Status Civitatis Vaticanæ 이탈리아어 Città del Vaticano – Stato della Città del Vaticano 국가 로 공인 받 았 다 . 성좌 는 1 7 6 개 나라 에서 공인 하 는 독립 주체 이 자 바티칸 시국 의 주권자 로 , 비회원국 에 속하 는 유엔 에서 영속 참관자 이 다 . 바티칸 시국 은 교황 이 임명 한 바티칸 시국 주교 위원회 가 다스리 며 , 직무 상 바티칸 시국 의 주권자 라고 할 수 있 다 . 성좌 는 또한 이탈리아 에 속한 많 은 치 외 소유물 을 관리 한다 . ---- – 바하마 연방 영어 The Bahamas – Commonwealth of The Bahamas 유엔 가입 국가 로 승인 받 았 다 . 바하마 는 영국 연방 왕국 이 다 . ---- – 방글라데시 인민 공화국 벵골어 বাংলাদেশ – গণপ্রজাতন্ত্রী বাংলাদেশ : 방 라데 시 - 고노 프로 자 톤 트리 방 라 데시 유엔 가입 국가 로 승인 받 았 다 . ---- 버마 1 5 px 미얀마 ---- – 베냉 공화국 프랑스어 Bénin – République du Bénin 유엔 가입 국가 로 승인 받 았 다 . ---- – 베네수엘라 볼리바르 공화국 스페인어 Venezuela – República Bolivariana de Venezuela 유엔 가입 국가 로 승인 받 았 다 . 베네수엘라 는 주 , 연방 령 , 연방 구 로 나뉜 연합 국가 이 다 . ---- – 베트남 사회주의 공화국 베트남어 Việt Nam – Cộng hòa Xã hội Chủ nghĩa Việt Nam : 비 엣 남 - 꽁 호아 싸 호이 쭈응이어비엣남 유엔 가입 국가 로 승인 받 았 다 . 베트남 은 파라셀 제도 와 스프래틀리 군 도 의 영유권 을 주장 하 고 있 다 . ---- – 벨기에 왕국 네덜란드어 België – Koninkrijk België 프랑스어 Belgique – Royaume de Belgique 독일어 Belgien – Königreich Belgien : 벨 기 엔 - 쾨니히 라이히 벨 기 엔 유엔 과 유럽 연합 가입 국가 로 승인 받 았 다 . 벨기에 는 언어 공동체 와 지역 으로 나뉜 연합 국가 이 다 . ---- – 벨라루스 공화국 벨라루스어 Беларусь – Рэспубліка Беларусь : 벨라 루 시 - 레스 푸 블리 카 벨라 루시 러시아어 Беларусь – Республика Беларусь : 벨라 루 시 - 레스 푸 블리 카 벨라 루시 유엔 가입 국가 로 승인 받 았 다 . ---- 영어 Belize 유엔 가입 국가 로 승인 받 았 다 . 벨리즈 는 영국 연방 왕국 이 다 . ---- – 보스니아 헤르체고비나 보스니아어 와 크로아티아어 Bosna i Hercegovina 세르비아어 Босна и Херцеговина 유엔 가입 국가 로 승인 받 았 다 . 보스니아 헤르체고비나 연방 과 스릅스카 공화국 , 이전 의 유고슬라비아 연방 공화국 이 맺 은 데이턴 협정 의 결과 로 , 보스니아 헤르체고비나 는 두 개 의 최고 행정 구역 으로 나뉘 어 있 다 . ---- – 보츠 와 나 공화국 츠와나 어 Botswana – Lefatshe la Botswana 영어 Botswana – Republic of Botswana 유엔 가입 국가 로 승인 받 았 다 . ---- – 볼리비아 다 민족 국 스페인어 Bolivia – Estado Plurinacional de Bolivia 아이마라 어 Wuliwya – Wuliwya Suyu 과라 니어 Volivia – Tetã Volívia 케추아 어 Bulibiya – Bulibiya Mama Llaqta 유엔 가입 국가 로 승인 받 았 다 . ---- – 부룬디 공화국 키 룬 디 어 Uburundi – Republika y Uburundi 프랑스어 Burundi – République du Burundi 유엔 가입 국가 로 승인 받 았 다 . ---- – 부르키나파소 프랑스어 Burkina Faso 유엔 가입 국가 로 승인 받 았 다 . ---- – 부탄 왕국 종카어 འབྲུག་རྒྱལ་ཁབ་ - འབྲུག་ཡུལ་ : 추 얄 캅 - 추위 유엔 가입 국가 로 승인 받 았 다 . ---- – 북마 케도 니아 공화국 마케도니아어 Северна Македонија – Република Северна Македонија 세 베르나 마케도니아 - 레 푸 블리 카 세 베르나 마 케도 니야 알바니아어 Maqedonia e Veriut – Republika e Maqedonisë së Veriut 마 체도 니 아 에 베리 우트 - 레 푸 블리 카 에 마 체도 니 서 서 베리 우트 유엔 가입 국가 로 승인 받 았 다 . ---- 북조선 1 5 px 조선 민주주의 인민공화국 ---- 북한 1 5 px 조선 민주주의 인민공화국 ---- 북키프로스 1 5 px 기타 국가 ---- – 불가리아 공화국 불가리아어 България – Република България : 벌 가리야 - 레 푸 블리 카 벌 가리야 유엔 과 유럽 연합 가입 국가 로 승인 받 았 다 . ---- – 브라질 연방 공화국 포르투갈어 Brasil – República Federativa do Brasil 유엔 가입 국가 로 승인 받 았 다 . 브라질 은 2 6 개 주 와 하나 의 연방 구 로 나뉜 연합 국가 이 다 . ---- – 브루나이 다루 살람 국 말레이어 Negara Brunei Darussalam : 브루네 이 - 느 가라 브루네 이 다루 살람 유엔 가입 국가 로 승인 받 았 다 . 브루나이 는 스프래틀리 군 도 일부 의 영유권 을 주장 하 고 있 다 . ---- ---- – 사모아 독립국 사모 아어 Sāmoa – Mālo Tuto atasi o Sāmoa 영어 Samoa – Independent State of Samoa 유엔 가입 국가 로 승인 받 았 다 . ---- – 사우디아라비아 왕국 아랍어 السعودية – المملكة العربيّة السّعوديّة : 아 사우디 야 – 알 맘 라카 알아라비 야 아 사우디 야 유엔 가입 국가 로 승인 받 았 다 . ---- – 산마리노 공화국 이탈리아어 San Marino – Repubblica di San Marino 유엔 가입 국가 로 승인 받 았 다 . ---- – 상투메 프린시페 민주 공화국 포르투갈어 São Tomé e Príncipe – República Democrática de São Tomé e Príncipe 유엔 가입 국가 로 승인 받 았 다 . 상투메 프린시페 는 자치 구역 인 프린시페 섬 을 가지 고 있 다 . ---- 서사하라 1 5 px 기타 국가 ---- – 세네갈 공화국 프랑스어 Sénégal – République du Sénégal 유엔 가입 국가 로 승인 받 았 다 . ---- – 세르비아 공화국 세르비아어 Србија , Srbija – Република Србија , Republika Srbija : 스 르비 야 – 레 푸 블리 카 스 르비 야 유엔 가입 국가 로 승인 받 았 다 . 세르비아 는 두 자치주 를 소유 한 것 으로 정하 고 있 으나 , 사실상 코소보 지역 의 대부분 은 정식 승인 을 받 지 않 은 코소보 공화국 이 주권 을 행사 하 고 있 다 . 코소보 메토히야 ---- – 세이셸 공화국 영어 Seychelles – Republic of Seychelles 프랑스어 Seychelles – République des Seychelles 크레올 어 Sesel – Repiblik Sesel 유엔 가입 국가 로 승인 받 았 다 . 세이셸 은 영국 령 인도양 지역 과 프랑스 의 글로리 오소 제도 와 트 로 믈 랭 섬 의 영유권 을 주장 하 고 있 다 . ---- 영어 Saint Lucia 유엔 가입 국가 로 승인 받 았 다 . 세인트루시아 는 영국 연방 왕국 이 다 . ---- 영어 Saint Vincent and the Grenadines 유엔 가입 국가 로 승인 받 았 다 . 세인트빈센트 그레나딘 은 영국 연방 왕국 이 다 . ---- – 세인트 키츠 네 비스 연방 영어 Saint Kitts and Nevis – Federation of Saint Christopher and Nevis 유엔 가입 국가 로 승인 받 았 다 . 세인트 키츠 네 비스 는 영국 연방 왕국 이 자 제도 연합 국가 이 다 . ---- – 소말리아 연방 공화국 소말리 아어 Soomaaliya – Jamhuuriyadda Federaalka Soomaaliya 아랍어 الصومال – جمهورية الصومال : 아수 말 - 줌 후리 얏 아수 말 유엔 가입 국가 로 승인 받 았 다 . 소말리아 는 현재 과도 연방 정부 로 해체 되 었 다 . 소말릴란드 는 사실 상 내부 에 있 는 국가 이나 , 법률 상 소말리아 의 영토 이 다 . ---- 소말릴란드 1 5 px 기타 국가 ---- 영어 Solomon Islands 유엔 가입 국가 로 승인 받 았 다 . 솔로몬 제도 는 영국 연방 왕국 이 다 . ---- – 수단 공화국 아랍어 السودان – جمهورية السودان : 아 수단 - 줌 후리 얏 아 수단 영어 : Sudan – Republic of the Sudan 유엔 가입 국가 로 승인 받 았 다 . 수단 은 주로 나뉜 연합 국가 이 다 . 과거 남 수단 주 였 던 자치 구역 남 수단 을 가지 고 있 다 . ---- – 수리남 공화국 네덜란드어 Suriname – Republiek Suriname 유엔 가입 국가 로 승인 받 았 다 . ---- – 스리랑카 민주 사회주의 공화국 싱할라어 ශ්රී ලංකාව – 3 0 0 px : 스리랑카 - 스리랑카 프라자 탄트 리카 사마자 바디 자나 라자 야 타밀어 இலங்கை – இலங்கை ஜனநாயக சமத்துவ குடியரசு : 일랑 카이 – 일랑 카이 차 나 나 야 카 초살 리사 쿠 디야 라스 유엔 가입 국가 로 승인 받 았 다 . ---- 스와질란드 1 5 px 에스 와 티니 ---- – 스웨덴 왕국 스웨덴어 Sverige – Konungariket Sverige 유엔 과 유럽 연합 가입 국가 로 승인 받 았 다 . ---- – 스위스 연방 독일어 Schweiz – Schweizerische Eidgenossenschaft : 슈 바이츠 - 슈바 이 쳐 리셰 아이 트 게노센샤프트 프랑스어 Suisse – Confédération Suisse 이탈리아어 Svizzera – Confederazione Svizzera 로만슈어 Svizra – Confederaziun Svizra 라틴어 Confoederatio Helvetica 유엔 가입 국가 로 승인 받 았 다 . 스위스 는 주로 나뉜 연합 국가 이 다 . ---- – 스페인 왕국 스페인어 España – Reino de España 유엔 과 유럽 연합 가입 국가 로 승인 받 았 다 . 스페인 은 자치 지방 과 도시 로 나뉘 어 있 다 . 스페인 은 모로코 가 영유권 을 주장 하 는 세우타 , 알보란 섬 , 페레 질 섬 , 차파 리나스 섬 , 멜리 야 , 페논 데 알 우세마 스 의 주권 을 행사 하 고 있 다 . 또한 , 포르투갈 이 영유권 을 주장 하 는 올리벤사 , 탈 리가 의 주권 을 행사 하 고 있 다 . 스페인 은 지브롤터 의 영유권 으로 영국 과 분쟁 하 고 있 다 . ---- – 슬로바키아 공화국 슬로바키아어 Slovensko – Slovenská republika 유엔 과 유럽 연합 가입 국가 로 승인 받 았 다 . ---- – 슬로베니아 공화국 슬로베니아어 Slovenija – Republika Slovenija 유엔 과 유럽 연합 가입 국가 로 승인 받 았 다 . ---- – 시리아 아랍 공화국 아랍어 سورية – الجمهوريّة العربيّة السّوريّة : 수리야 - 알줌 후리 야 알아라비 야 아 수리야 유엔 가입 국가 로 승인 받 았 다 . 골란 고원 은 이스라엘 이 점령 하 고 있 다 . 시리아 는 하타 이 주 의 영유권 을 놓 고 터키 와 분쟁 을 벌이 고 있 다 . ---- – 시에라리온 공화국 영어 Sierra Leone – Republic of Sierra Leone 유엔 가입 국가 로 승인 받 았 다 . ---- – 싱가포르 공화국 영어 Singapore – Republic of Singapore 말레이어 Singapura – Republik Singapura 중국어 新 加 坡 – 新 加 坡 共和 国 : 싱 자포 – 싱 자포 궁허 궈 타밀어 சிங்கப்பூர் – சிங்கப்பூர் குடியரசு : 싱 카푸르 – 싱 카푸르 쿠디 야라 수 유엔 가입 국가 로 승인 받 았 다 . ---- ---- – 아랍 토후국 연방 아랍어 دولة الإمارات العربيّة المتّحدة : 다울 라트 알 이 마라트 알아라비 야 알무 타 히다 유엔 가입 국가 로 승인 받 았 다 . 아랍에미리트 연방 은 에미리트 로 나뉜 연합 국가 이 다 . ---- – 아르메니아 공화국 아르메니아어 Հայաստան – Հայաստանի Հանրապետություն : 하야 스탄 - 하야 스타 니 한라 페투티윤 유엔 가입 국가 로 승인 받 았 다 . 아르메니아 는 유엔 가입 국가 파키스탄 의 승인 을 받 지 않 았 다 . 이것 은 파키스탄 이 나 고 르노 카라바흐 갈등 에서 아제르바이잔 을 지지 하 고 , 아르메니아 가 인도 에게 카슈미르 의 영유권 을 승인 하 였 기 때문 이 다 . ---- 아르 차 흐 공화국 1 5 px 기타 국가 ---- – 아르헨티나 공화국 스페인어 Argentina – República Argentina 유엔 가입 국가 로 승인 받 았 다 . 아르헨티나 는 주 와 하나 의 연방 지역 으로 나뉜 연합 국가 이 다 . 아르헨티나 는 영국 의 해외 영토 인 포클랜드 제도 와 사우스조지아 사우스샌드위치 제도 의 영유권 을 주장 하 고 있 다 . ---- 아이보리 코스트 1 5 px 코트디부아르 ---- – 아이슬란드 공화국 아이슬란드어 Ísland – Lýðveldið Ísland 유엔 가입 국가 로 승인 받 았 다 . ---- – 아이 티 공화국 프랑스어 Haïti – République d Haïti 아이 티 크레올 어 Ayiti – Repiblik dAyiti 유엔 가입 국가 로 승인 받 았 다 . 아이 티 는 미국 이 점유 한 무 인도인 나바 사 섬 의 영유권 을 주장 하 고 있 다 . ---- - 아일랜드 공화국 ( 에 이레 공화국 ) 아일랜드어 Éire 영어 Ireland 유엔 과 유럽 연합 가입 국가 로 승인 받 았 다 . ---- – 아제르바이잔 공화국 아제르바이잔 어 Az ə rbaycan – Az ə rbaycan Respublikası 유엔 가입 국가 로 승인 받 았 다 . 아제르바이잔 은 자치 공화국 인 나히체반 과 자치 구역 인 나 고 르노 카라바흐 ( Dağlıq Qarabağ ) 를 가지 고 있 다 . 나 고 르노 카라바흐 는 법 으로 국가 이 지만 실제로 는 아제르바이잔 의 주로 확정 되 었 다 . ---- – 아프가니스탄 이슬람 공화국 파슈토 어 د افغانستان اسلامي جمهوریت : 다 아프가니스탄 이슬라 미 좀 호리 얏 다리 어 / 페르시 아어 افغانستان – جمهوری اسلامی افغانستان : 아프가니스탄 – 좀 후리 예 이슬 라미예 아프가니스탄 유엔 가입 국가 로 승인 받 았 다 . ---- – 안도라 공국 카탈루냐어 Andorra – Principat d ’ Andorra 유엔 가입 국가 로 승인 받 았 다 . ---- – 알바니아 공화국 알바니아어 Shqipëria – Republika e Shqipërise 유엔 가입 국가 로 승인 받 았 다 . ---- – 알제리 인민 민주 공화국 아랍어 الجزائر – الجمهورية الجزائرية الديمقراطية الشعبية : 알자 자이르 - 알줌 후리 야 알자 자 이 리야 아드 디 무크 라 티야 아스 샤 비야 유엔 가입 국가 로 승인 받 았 다 . ---- 압 하 지 야 1 5 px 기타 국가 ---- – 앙골라 공화국 포르투갈어 Angola – República de Angola 유엔 가입 국가 로 승인 받 았 다 . 추방 된 분리주의 정부 가 카빈다 주 의 독립 을 요구 하 고 있 다 . ---- – 앤티가 바부다 영어 Antigua and Barbuda 유엔 가입 국가 로 승인 받 았 다 . 앤티가 바부다 는 영국 연방 왕국 으로 , 행정 구역 ( 속령 ) 인 바부다 는 자치 권 을 행사 하 고 있 다 . ---- – 에 리트레 아국 티그리냐어 ኤርትራ – ሃግሬ ኤርትራ : 에르 트라 - 하 게 레 에르 트라 유엔 가입 국가 로 승인 받 았 다 . ---- – 에스 와 티니 왕국 영어 Eswatini – Kingdom of Eswatini 스와티어 eSwatini – Umbuso weSwatini 유엔 가입 국가 로 승인 받 았 다 . ---- – 에스토니아 공화국 에스토니아어 Eesti – Eesti Vabariik 유엔 과 유럽 연합 가입 국가 로 승인 받 았 다 . ---- 에스파냐 1 5 px 스페인 ---- – 에콰도르 공화국 스페인어 Ecuador – República del Ecuador 유엔 가입 국가 로 승인 받 았 다 . ---- – 에티오피아 연방 민주 공화국 암하라어 ኢትዮጵያ – የኢትዮጵያ ፈደራላዊ ዲሞክራሲያዊ ሪፐብሊክ : 이 티오피 야 - 이 티오피 야 페데 랄 라위 디모 크라 시야 위 리페 블리 크 유엔 가입 국가 로 승인 받 았 다 . 에티오피아 는 주 와 특별시 로 나뉜 연합 국가 이 다 . ---- – 엘살바도르 공화국 스페인어 El Salvador – República de El Salvador 유엔 가입 국가 로 승인 받 았 다 . ---- – 그레이트 브리튼 북 아일랜드 연합 왕국 영어 United Kingdom – United Kingdom of Great Britain and Northern Ireland 유엔 과 유럽 연합 가입 국가 로 승인 받 았 다 . 영국 은 네 지역 으로 나뉜 영국 연방 왕국 이 다 . 영국 은 다음 의 해외 영토 를 가지 고 있 다 . 아크로티리 데 켈 리아 ( 모리셔스 , 세이셸 과 분쟁 ) ( 아르헨티나 와 분쟁 ) ( 스페인 과 분쟁 ) ( 속령 은 과 ) ( 아르헨티나 와 분쟁 ) ( 어떠 한 국가 도 영국 의 남극 지역 영유권 주장 을 인정 하 지 않 는다 . ) 영국 왕실 은 다음 행정 구역 의 주권 을 행사 하 고 있 다 * * * ---- – 예멘 공화국 아랍어 اليمن – الجمهوريّة اليمنية : 알 야 만 - 알줌 후리 야 알 야 마 니야 유엔 가입 국가 로 승인 받 았 다 . ---- – 오만 술탄국 아랍어 عُمان – سلطنة عُمان : 우만 – 술 타 나트 우만 유엔 가입 국가 로 승인 받 았 다 . ---- – 오스트레일리아 연방 영어 Australia – Commonwealth of Australia 유엔 가입 국가 로 승인 받 았 다 . 오스트레일리아 는 영국 연방 왕국 이 자 주 와 준주 로 나뉜 연합 국가 이 다 . 오스트레일리아 는 다음 영토 의 주권 을 행사 하 고 있 다 . 애 시모어 카르티에 제도 산호 해 제도 허드 맥도널드 제도 오스트레일리아 는 남극 대륙 일부 지역 의 영유권 을 주장 하 고 있 지만 어떠 한 나라 도 오스트레일리아 의 남극 지역 영유권 을 인정 하 지 않 는다 . 오스트 레일리 아령 남극 준주 ---- – 오스트리아 공화국 독일어 Österreich – Republik Österreich : 외 스터 라이히 - 레 푸 블 리크 외 스터 라이히 유엔 과 유럽 연합 가입 국가 로 승인 받 았 다 . 오스트리아 는 연방국 ( Bundesländer ) 로 나뉜 연합 국가 이 다 . ---- – 온두라스 공화국 스페인어 Honduras – República de Honduras 유엔 가입 국가 로 승인 받 았 다 . ---- – 요르단 하심 왕국 아랍어 الاردن – المملكة الأردنّيّة الهاشميّة : 알 - 우르 둔 - 알 맘 라카 알 우르두 니야 알 하 시 미야 유엔 가입 국가 로 승인 받 았 다 . ---- – 우간다 공화국 영어 Uganda – Republic of Uganda 스와힐리어 Uganda – Jamhuri ya Uganda 유엔 가입 국가 로 승인 받 았 다 . ---- – 우루과이 동방 공화국 스페인어 Uruguay – República Oriental del Uruguay 유엔 가입 국가 로 승인 받 았 다 . ---- – 우즈베키스탄 공화국 우즈베크어 Ўзбекистон – Ўзбекистон Республикаси : 오즈 베키스 톤 – 오즈 베키스 톤 레스 푸 블리 카시 유엔 가입 국가 로 승인 받 았 다 . 우즈베키스탄 은 자치 공화국 인 을 가지 고 있 다 . ---- - 우크라 이나 우크라이나어 Україна : 우크라 이나 유엔 가입 국가 로 승인 받 았 다 . ---- – 이라크 공화국 아랍어 العراق – جمهورية العراق : 알 이라크 - 줌 후리 야 알 이라크 쿠르드 어 عێراق – كۆماری عێراق : 이라크 - 코마 라 이 라케 유엔 가입 국가 로 승인 받 았 다 . 이라크 의 헌법 에 는 국가 를 구와 주 , 수도 지역 으로 나뉜 연합 국가 로 표시 하 고 있 다 . 현재 남 아 있 는 유일 한 구 는 쿠르드 자치구 이 다 . ---- – 이란 이슬람 공화국 페르시 아어 ایران – جمهوری اسلامی ایران : 이란 – 좀 후리 예 에 슬 라미예 이란 유엔 가입 국가 로 승인 받 았 다 . 주 와 준주 로 행정 구역 이 나뉘 어 있 다 . ---- – 이스라엘국 히브 리어 ישראל – מדינת ישראל : 이스라엘 - 메디 나트 이스라엘 아랍어 اسرائيل – دولة اسرائيل : 이스라엘 - 다울 라트 이스라엘 유엔 가입 국가 로 승인 받 았 다 . 이스라엘 은 동예루살렘 과 골란 고원 , 요르단 강 서안 지구 일부 를 점유 하 고 있 다 . 국제 적 으로 는 이 지역 을 이스라엘 의 영토 로 인정 하 지 않 고 있 다 . 이스라엘 은 철수 계획 에 따라서 더 이상 가 자 지구 에 군사 를 주둔 시키 지 않 지만 국제법 을 통한 무력 공습 이 일어나 고 있 어서 논쟁 이 되 고 있 다 . ---- – 이집트 아랍 공화국 아랍어 مصر – جمهوريّة مصرالعربيّة : 미스 르 - 줌 후리 얏 미스 르 알 아 라비야 유엔 가입 국가 로 승인 받 았 다 . ---- – 이탈리아 공화국 이탈리아어 Italia – Repubblica Italiana 유엔 과 유럽 연합 가입 국가 로 승인 받 았 다 . 이탈리아 는 자치 구역 인 아오스타 밸리 , 프리 울리 베네치 아 줄리아 , 사르데냐 , 시칠리아 , 트렌티노 알토 아디제 / 수드 티롤 을 가지 고 있 다 . ---- – 인도 공화국 힌디어 भारत – भारत गणराज्य : 바라트 - 바라트 가나 라자 영어 India – Republic of India 유엔 가입 국가 로 승인 받 았 다 . 인도 는 주 와 연방 지역 으로 나뉜 연합 국가 이 다 . 인도 는 중화 인민공화국 이 영유권 을 주장 하 는 아루나찰프라데시 주 의 주권 을 행사 하 고 있 다 . 인도 는 잠무 카슈미르 의 영유권 을 주장 하 며 일부 지역 을 지배 하 고 있 다 . ---- – 인도네시아 공화국 인도네시아어 Indonesia – Republik Indonesia : 인도네시아 - 레 푸 블릭 인도네시아 유엔 가입 국가 로 승인 받 았 다 . 인도네시아 는 특별히 구분 되 는 네 개 의 주로 아 체 , 욕야카르타 , 파푸아 , 자카르타 를 가지 고 있 다 . 망명 분리주의 정부 는 남 몰루카 공화국 과 서파푸아 공화국 , 아체 주 의 독립 을 주장 하 고 있 다 . ---- – 일본국 일본어 日本 – 日本 国 : 니혼 / 닙폰 - 니 홍 코쿠 / 닙퐁코쿠 유엔 가입 국가 로 승인 받 았 다 . 대한민국 의 영토 인 독도 의 영유권 을 주장 하 고 있 다 . ---- ---- 영어 Jamaica 유엔 가입 국가 로 승인 받 았 다 . 자메이카 는 영국 연방 왕국 이 다 . ---- – 잠비아 공화국 영어 Zambia – Republic of Zambia 유엔 가입 국가 로 승인 받 았 다 . ---- – 적도 기니 공화국 스페인어 Guinea Ecuatorial – República de Guinea Ecuatorial 프랑스어 Guinée Équatoriale – République de Guinée Équatoriale 유엔 가입 국가 로 승인 받 았 다 . ---- 조선 1 5 px 조선 민주주의 인민공화국 ---- 조선어 조선 민주주의 인민공화국 유엔 가입 국가 로 승인 받 았 다 . 조선 민주주의 인민공화국 은 유엔 가입 국가 인 대한민국 , 일본 의 승인 을 받 지 않 았 다 . 조선 민주주의 인민공화국 은 대한민국 의 영토 일체 에 대한 영유권 을 주장 하 고 있 다 . ---- 조지아어 საქართველო : 사 카르트 벨로 유엔 가입 국가 로 승인 받 았 다 . 조지아 는 두 개 로 나뉜 자치 국가 를 가지 고 있 다 . 압 하 지 야 와 남오세티야 ( 이전 자치 주체 ) 는 러시아 , 니카라과 , 베네수엘라 , 나 우루 , 시리아 이외 에 국가 로서 일체 인정받 지 않 고 있 다 . ---- – 중화 인민공화국 중국어 中 国 – 中 华 人民 共和 国 : 중 궈 - 중화 런 민 궁허 궈 유엔 가입 국가 로 승인 받 았 다 . 일반 적 으로 중국 ( China ) 으로 알려져 있 는 중화 인민공화국 은 다섯 개 의 자치 구역 을 가지 고 있 다 광시 좡족 자치구 내몽골 자치구 , 닝샤 후이족 자치구 , 신장 위구르 자치구 , 시짱 자치구 여기 에 더 하 여 , 다음 특별 행정 구역 의 주권 을 행사 하 고 있 다 . ( 홍콩 특별 행정구 ) ( 마카오 특별 행정구 ) 다음 구역 의 영유권 을 주장 하 고 있 다 . 중화민국 이 통치 하 는 타이완 과 진먼 현 , 마쭈 열도 , 둥사 군 도 . 시사 군도 ( 베트남 및 중화민국 과 분쟁 ) 스프래틀리 군 도 ( 중화민국 , 베트남 , 필리핀 , 말레이시아 , 브루나이 와 분쟁 ) 인도 의 아루나찰프라데시 주 일부 . 중화 인민공화국 의 지배 하 에 있 는 아크 사 이친 은 인도 가 잠무 카슈미르 주 의 일부 로 주장 하 고 있 다 . 티베트 , 동 투르키스탄 은 분리주의 망명 정부 를 갖 고 있 다 . ---- 프랑스어 République Centrafricaine 상고어 Ködörösêse tî Bêafrîka 유엔 가입 국가 로 승인 받 았 다 . ---- 중화민국 1 5 px 타이완 ---- 중화 인민공화국 1 5 px 중국 ---- – 지부티 공화국 프랑스어 Djibouti – République de Djibouti 아랍어 جيبوتي – جمهورية جيبوتي : 지부티 - 줌 후리 얏 지부티 유엔 가입 국가 로 승인 받 았 다 . ---- – 짐바브웨 공화국 영어 Zimbabwe – Republic of Zimbabwe 유엔 가입 국가 로 승인 받 았 다 . ---- ---- – 차드 공화국 프랑스어 Tchad – République du Tchad 아랍어 تشاد – جمهوريّة تشاد : 차드 – 줌 후리 얏 차드 유엔 가입 국가 로 승인 받 았 다 . ---- - 체코 공화국 체코어 Česko – Česká republika 유엔 과 유럽 연합 가입 국가 로 승인 받 았 다 . ---- – 칠레 공화국 스페인어 Chile – República de Chile 유엔 가입 국가 로 승인 받 았 다 . 이스터 섬 은 칠레 의 \" 특별 행정 구역 \" 이 다 . ---- ---- – 카메룬 공화국 프랑스어 Cameroun – République du Cameroun 영어 Cameroon – Republic of Cameroon 유엔 가입 국가 로 승인 받 았 다 . ---- – 카보베르데 공화국 포르투갈어 Cabo Verde – República de Cabo Verde 유엔 가입 국가 로 승인 받 았 다 . ---- – 카자흐스탄 공화국 카자흐어 Қазақстан Республикасы / Qazaqstan Respwblïkası 러시아어 Республика Казахстан / Respublika Kazakhstan 유엔 가입 국가 로 승인 받 았 다 . ---- – 카타르국 아랍어 قطر – دولة قطر : 카타르 – 다울 라트 카타르 유엔 가입 국가 로 승인 받 았 다 . ---- – 캄보디아 왕국 크메르어 1 5 0 px : 프레아 레아 체아 나 차크 르 캄푸 체아 유엔 가입 국가 로 승인 받 았 다 . ---- 영어 와 프랑스어 Canada 유엔 가입 국가 로 승인 받 았 다 . 캐나다 는 영국 연방 왕국 이 자 주 와 준주 로 나뉜 연합 국가 이 다 ---- – 케냐 공화국 영어 Kenya – Republic of Kenya 스와힐리어 Kenya – Jamhuri ya Kenya 유엔 가입 국가 로 승인 받 았 다 . ---- – 코모로 연방 코모로어 Komori – Udzima wa Komori 프랑스어 Comores – Union des Comores 아랍어 القمر – اتحاد القمر : 알 쿠 무르 - 잇 티 하드 알 쿠 무르 유엔 가입 국가 로 승인 받 았 다 . 코모로 는 독립 된 섬 들 로 이루어진 연합 국가 이 다 . 코모로 는 프랑스 의 해외 영토 인 마요트 와 글로리 오소 제도 로 프랑스 와 분쟁 하 고 있 다 . ---- 코소보 1 5 px 기타 국가 ---- – 코스타리카 공화국 스페인어 Costa Rica – República de Costa Rica 유엔 가입 국가 로 승인 받 았 다 . ---- – 코트디부아르 공화국 프랑스어 Côte d Ivoire – République de Côte d Ivoire 유엔 가입 국가 로 승인 받 았 다 . ---- – 콜롬비아 공화국 스페인어 Colombia – República de Colombia 유엔 가입 국가 로 승인 받 았 다 . 콜롬비아 는 3 1 개 주 ( 산안 드레스 이 프로비덴시아 주 포함 ) 와 한 개 의 수도 구역 ( 보고타 ) 으로 구성 된 독립 공화국 이 다 . ---- - 콩고 공화국 프랑스어 Congo – République du Congo 유엔 가입 국가 로 승인 받 았 다 . ---- 프랑스어 Congo – République Démocratique du Congo 유엔 가입 국가 로 승인 받 았 다 . ---- – 쿠바 공화국 스페인어 Cuba – República de Cuba 유엔 가입 국가 로 승인 받 았 다 . 쿠바 의 영토 인 관타나모 만 에 는 미국 이 쿠바 와 의 1 9 0 3 년 조약 에 따라서 임차료 를 지불 하 고 있 는 관할 영토 ( 영유권 주장 없 음 ) 인 관타나모 만 해군 기지 가 있 다 . ---- – 쿠웨이트국 아랍어 الكويت – دولة الكويت : 알 쿠 웨이트 - 다울 라트 알 쿠 웨이트 유엔 가입 국가 로 승인 받 았 다 . ---- – 크로아티아 공화국 크로아티아어 Hrvatska – Republika Hrvatska 유엔 가입 국가 로 승인 받 았 다 . ---- – 키르기스 공화국 키르기스어 Кыргызстан – Кыргыз Республикасы : 키르기스스탄 – 키르기스 레스 푸 블리 카시 러시아어 Кыргызстан – Кыргызская республика : 키르기스스탄 – 키르기스 스카 야 레스 푸 블리 카 유엔 가입 국가 로 승인 받 았 다 . ---- – 키리바시 공화국 키리바시어 Kiribati – Ribaberikin Kiribati 영어 Kiribati – Republic of Kiribati 유엔 가입 국가 로 승인 받 았 다 . ---- – 키프로스 공화국 그리스어 Κυπρος – Κυπριακή Δημοκρατία : 키프로스 - 키 프리 아키 디모 크라 티아 터키어 Kıbrıs – Kıbrıs Cumhuriyeti 유엔 과 유럽 연합 가입 국가 로 승인 받 았 다 . 북키프로스 는 국가 이 지만 법률 상 으로 키프로스 의 영토 이 다 . ---- ---- 타이 1 5 px 태국 ---- 타이완 1 5 px 기타 국가 ---- – 타지키스탄 공화국 타지크어 Тоҷикистон – Ҷумҳурии Тоҷикистон : 토지 키스톤 – 줌 후리 토지 키스톤 유엔 가입 국가 로 승인 받 았 다 . 타지키스탄 은 자치 주인 고르노바다흐샨 자치주 를 가지 고 있 다 . ---- – 탄자니아 연합 공화국 스와힐리어 Tanzania – Jamhuri ya Muungano wa Tanzania : 탄자니아 - 잠 후리 야 뭉가노 와 탄자니아 영어 Tanzania – United Republic of Tanzania 유엔 가입 국가 로 승인 받 았 다 . 탄자니아 는 자치령 잔지 바르 를 가지 고 있 는 연합 국가 이 다 . ---- – 타이 왕국 태국어 ประเทศไทย – ราชอาณาจักรไทย : 프라 테 트 타이 – 랏 차 아나 착 타이 유엔 가입 국가 로 승인 받 았 다 . ---- – 터키 공화국 터키어 Türkiye – Türkiye Cumhuriyeti 유엔 가입 국가 로 승인 받 았 다 . 터키 는 시리아 가 영유권 을 주장 하 는 하타 이 주 의 주권 을 행사 하 고 있 다 . ---- – 토고 공화국 프랑스어 Togo – République Togolaise 유엔 가입 국가 로 승인 받 았 다 . ---- – 통가 왕국 통가어 Tonga – Pule anga Fakatu i o Tonga 영어 Tonga – Kingdom of Tonga 유엔 가입 국가 로 승인 받 았 다 . ---- 투르크멘어 : Türkmenistan 유엔 가입 국가 로 승인 받 았 다 . ---- 투발 루어 와 영어 Tuvalu 유엔 가입 국가 로 승인 받 았 다 . 투발루 는 영국 연방 왕국 이 다 . ---- – 튀니지 공화국 아랍어 تونس – الجمهورية التونسية : 투니스 – 알줌 후리 야 앗 투니 시야 프랑스어 République du Tunisie 유엔 가입 국가 로 승인 받 았 다 . ---- 트란 스 니스트 리아 1 5 px 기타 국가 ---- – 트리니다드 토바고 공화국 영어 Trinidad and Tobago – Republic of Trinidad and Tobago 유엔 가입 국가 로 승인 받 았 다 . 트리니다드 토바고 는 자치 구역 인 토바고 섬 을 가지 고 있 다 . ---- ---- – 파나마 공화국 스페인어 Panamá – República de Panamá 유엔 가입 국가 로 승인 받 았 다 . ---- – 파라과이 공화국 스페인어 Paraguay – República del Paraguay 과라 니어 Paraguái – Têta Paraguái 유엔 가입 국가 로 승인 받 았 다 . ---- – 파키스탄 이슬람 공화국 우르 두 어 پاکستان – اسلامی جمہوریۂ پاکستان : 파키스탄 – 이슬라 미 좀 후리 예 파키스탄 영어 Pakistan – Islamic Republic of Pakistan 유엔 가입 국가 로 승인 받 았 다 . 파키스탄 은 주 와 준주 로 나뉜 연합 국가 이 다 . 파키스탄 은 카슈미르 지역 의 영유권 을 주장 하 고 있 다 . ---- – 파푸아뉴기니 독립국 영어 Papua New Guinea – Independent State of Papua New Guinea 톡 피 신 Papua Niugini – Independen Stet bilong Papua Niugini 유엔 가입 국가 로 승인 받 았 다 . 파푸아뉴기니 는 영국 연방 왕국 으로 , 자치 구역 인 부건빌 주 를 가지 고 있 다 . ---- – 팔라우 공화국 팔라우어 Belau – Beluu er a Belau 영어 Palau – Republic of Palau 미국 과 의 자유 연합 협정 으로 유엔 가입 국가 로 승인 받 았 다 . ---- – 팔레스타인 국 영어 Palestine 유엔 옵서버 국가 로 승인 받 았 다 . 이스라엘 과 영토 분쟁 을 빚 고 있 다 . ---- – 페루 공화국 스페인어 Perú – República del Perú 유엔 가입 국가 로 승인 받 았 다 . ---- – 포르투갈 공화국 포르투갈어 Portugal – República Portuguesa 유엔 과 유럽 연합 가입 국가 로 승인 받 았 다 . 포르투갈 은 다음 두 자치 구역 을 가지 고 있 다 . 포르투갈 은 스페인 의 올리벤사 와 탈리 가 영유권 을 인정 하 지 않 고 있 다 . ---- – 폴란드 공화국 폴란드어 Polska – Rzeczpospolita Polska 유엔 과 유럽 연합 가입 국가 로 승인 받 았 다 . ---- – 프랑스 공화국 프랑스어 France – République française 유엔 과 유럽 연합 가입 국가 로 승인 받 았 다 . 프랑스 의 해외 레지옹 / 영토 ( 프랑스령 기아 나 , 과들루프 , 마르티니크 , 레위니옹 , 마요트 ) 는 프랑스 영토 의 일부 이 며 , 프랑스 는 무 인도인 클리퍼 턴 섬도 소유 하 고 있 다 . 프랑스 는 또한 다음 해외 영토 의 주권 을 행사 하 고 있 다 . ( Polynésie française ) ( Terres australes et antarctiques françaises ) . 아델리 랜드 의 영유권 을 주장 하 고 있 지만 어떠 한 나라 도 이 를 일체 인정 하 지 않 는다 . 프랑스 는 마다가스카르 가 영유권 을 주장 하 는 바사 스다 인디아 , 유로파 섬 , 주앙 드노 바 의 주권 을 행사 하 고 있 다 . 또한 , 마다가스카르 와 세이셸 , 코모로 가 영유권 을 주장 하 는 글로리 오소 제도 의 주권 , 모리셔스 와 세이셸 이 영유권 을 주장 하 는 트 로 믈 랭 섬 의 주권 을 행사 하 고 있 다 . ---- – 피지 공화국 피지어 Viti – Matanitu Tu - Vaka - i - koya ko Viti 영어 Fiji – Republic of the Fiji Islands 피지 힌디어 फ़िजी / فِجی – फ़िजी गणराज्य / فِجی رپبلک : 피지 - 피지 리 파블 리크 유엔 가입 국가 로 승인 받 았 다 . 피지 는 보호령 자치 구역 인 로투마 섬 을 가지 고 있 다 . ---- – 핀란드 공화국 핀란드어 Suomi – Suomen tasavalta 스웨덴어 Finland – Republiken Finland 유엔 과 유럽 연합 가입 국가 로 승인 받 았 다 . 는 핀란드 의 자치 구역 으로 , 비무장 중립 지역 이 다 . ---- – 필리핀 공화국 필리핀어 Pilipinas – Republika ng Pilipinas 영어 Philippines – Republic of the Philippines 유엔 가입 국가 로 승인 받 았 다 . 필리핀 은 자치 구역 인 무슬림 민다나오 자치구 를 가지 고 있 다 . 필리핀 은 스프래틀리 군 도 , 황암 도 , 말레이시아 가 영유 하 는 사바주 의 영유권 을 주장 하 고 있 다 . ---- ---- 한국 1 5 px 대한민국 ---- 헝가리어 Magyarország 유엔 과 유럽 연합 가입 국가 로 승인 받 았 다 . ---- 호주 1 5 px 오스트레일리아 ---- 이 목록 은 주권 을 주장 하 고 점유 한 영토 를 관리 하 고 있 으나 , 적법성 의 논란 으로 인하 여 많 은 국가 와 외교 관계 를 맺 지 못한 나라 를 설명 하 고 있 다 . 극소형 국가 는 이 목록 에 포함 하 지 않 는다 . ---- - 아르 차 흐 공화국 아르메니아어 Լեռնային Ղարաբաղ – Լեռնային Ղարաբաղի Հանրապետություն : 레르 나린 가라 바그 - 레르 나인 가라 바기 한라 페투티윤 사실 상 압 하 지야 , 트란 스니 스트리 아 , 남오세티야 만 이 승인 하 는 독립 국가 이 다 . 아제르바이잔 공화국 이 국가 전체 를 자국 의 영토 로 점유 하 고 있 다 . ---- – 남오세티야 공화국 오 세 트 어 Хуссар Ирыстон – Республик æ Хуссар Ирыстон : 후사르 이리스 톤 - 레스 푸 블리 캐 후사르 이리스 톤 러시아어 Южная Осетия – Республика Южная Осетия : 유즈나 야 오세티야 – 레스 푸 블리 카 유즈나 야 오세티야 사실 상 러시아 , 니카라과 , 베네수엘라 , 나 우루 , 시리아 , 압 하 지야 , 아르 차 흐 공화국 , 트란 스니 스트리 아만 이 승인 하 는 독립 국가 이 다 . 조지아 가 국가 전체 를 남오세티야 임시 행정 독립 구로 점유 하 고 있 다 . ---- 영어 Niue 니우 에 어 Niuē 뉴질랜드 와 자유 연합 ( free association with New Zealand ) 관계 를 맺 고 있 는 국가 로 , 일본 과 네덜란드 그리고 중국 , 대한민국 으로부터 인정 을 받 았 다 . 니우 에 는 여러 유엔 기구 의 회원국 이 며 , 완전 한 조약 체결 능력 을 갖 고 있 다 . 뉴질랜드 와 공동 의 국가 원수 아래 에 있 으며 , 국적 도 공유 하 고 있 다 . ---- – 북키프로스 튀르크 공화국 터키어 Kuzey Kıbrıs – Kuzey Kıbrıs Türk Cumhuriyeti 사실 상 터키 만 이 승인 하 는 독립 국가 이 다 . 1 9 7 9 년 부터 터키 키프로스 국가 라는 이름 으로 이슬람 회의 기구 의 참관 국가 자격 을 승인 받 았 다 . 또한 , 나히체반 자치 공화국 은 북키프로스 튀르크 공화국 을 주권 국가 로 간주 하나 , 아제르바이잔 ( 나히체반 이 속한 주권 국가 ) 은 입장 이 다르 다 . 키프로스 공화국 이 국가 전체 를 자국 의 영토 로 점유 하 고 있 다 . ---- – 사하라 아랍 민주 공화국 아랍어 الجمهورية العربية الصحراوية الديمقراطية : 알줌 후리 야 알아라비 야 아스 사라 위 야 아드 디 무크 라 티야 사실 상 4 6 개 나라 만 이 승인 하 는 독립 국가 이 다 . 아프리카 연합 과 2 0 0 5 년 아시아 아프리카 회의 에서 결성 된 아시아 아프리카 전략 협력 의 가입 국 이 다 . 모로코 가 자유 구역 이 라고 부르 는 영토 전체 를 남부 주로 점유 하 고 있 다 . 결과 적 으로 , 사하라 아랍 민주 공화국 은 모로코 가 지배 하 는 서사하라 의 일부 와 모로코 장벽 의 서부 를 요구 하 고 있 다 . 정부 는 추방 당하 여 알제리 에 위치 한다 . ---- – 소말릴란드 공화국 소말리 아어 Soomaaliland – Jamhuuriyadda Soomaaliland 아랍어 ارض الصومال – جمهورية ارض الصومال : 아르 드 앗 수말 - 줌 후리 얏 아르 드 앗 수말 현재 남 수단 만 이 승인 한 상태 이 다 . ---- - 압 하 지 야 공화국 압 하 지 야어 Аҧсны – Аҧснытәи Республика : 압 스니 – 압 스니 테이 레스 푸 블리 카 러시아어 : A бхазия – Республика Абхазия : 압 하 지 야 – 레스 푸 블리 카 압 하 지야 사실상 러시아 , 니카라과 , 베네수엘라 , 나 우루 , 시리아 , 남오세티야 , 트란 스니 스트리 아만 이 승인 하 는 독립 국가 이 다 . 조지아 가 국가 전체 를 자국 의 압 하 지 야 자치 공화국 으로 점유 하 고 있 다 . ---- - 코소보 공화국 알바니아어 Kosovës – Republika e Kosovës 세르비아어 Косово – Република Косово : 코소보 - 레 푸 블 리카 코소보 대한민국 을 포함 한 1 0 0 여 개 유엔 회원국 과 유엔 비회원국 인 중화민국 이 승인 하 는 독립 국가 이 다 . 중앙유럽 자유 무역 협정 의 가입 국가 이 다 . 세르비아 공화국 이 코소보 공화국 전체 를 여전히 자국 의 코소보 메토히야 자치주 의 일부 로 주장 하 며 독립 선언 을 인정 하 지 않 고 있 다 . 코소보 공화국 은 세르비아 공화국 이 여전히 지배 하 는 북부 코소보 지역 에 대한 영유권 을 주장 하 고 있 다 . ---- 영어 Cook Islands 쿡 제도 마오리어 Kūki Āirani 뉴질랜드 와 자유 연합 ( free association with New Zealand ) 관계 를 맺 고 있 는 국가 로 , 일본 과 네덜란드 그리고 중화 인민공화국 으로부터 승인 을 받 았 다 . 쿡 제도 는 여러 유엔 기구 의 회원국 이 며 , 완전 한 조약 체결 능력 을 갖 고 있 다 . 뉴질랜드 와 공동 의 국가 원수 아래 에 있 으며 , 국적 도 공유 하 고 있 다 . 2 0 1 3 년 2 월 에 는 대한민국 과 수교 하 였 다 . ---- – 중화민국 중국어 臺灣 , 中華 民國 : 타이완 - 중화 민 궈 1 9 4 9 년 부터 하나 의 중국 이 라는 정통 성 을 두 고 중화 인민공화국 과 분쟁 하 는 국가 이 다 . 중화민국 은 타이 완 섬 및 중국 대륙 에 인접 한 일부 도서 들 , 스프래틀리 군 도 의 일부 를 지배 하 고 있 으며 , 중화 인민공화국 과 몽골 의 영토 일체 에 대한 영유권 을 주장 하 고 있 다 . 반면 중화민국 이 실효 지배 중 인 영토 일체 는 중화 인민공화국 이 영유권 을 주장 하 고 있 다 . 중화민국 은 세계 무역 기구 , 국제 올림픽 위원회 를 비롯 한 많 은 비유 엔 국제 기구 에서 차이니스 타이베이 라는 잠정 적 인 명칭 으로 참가 하 기 도 한다 . ---- – 트란 스니 스트리 아 몰도바 공화국 러시아어 Приднестровье Приднестровская Молдавская Республика : 프리드 네스트 로브 예 – 프리드 네스트 로 브스카야 몰 다 브스카야 레스 푸 블리 카 우크라이나어 Придністров я Придністровська Молдавська Республіка : 프리드 니스트 로브 야 – 리드 니스트 로브 스카 몰 다 브 스카 레스 푸 블리 카 몰도바어 Нистря Република Молдовеняскэ Нистрянэ : 니스트 리아 – 레 푸 블리 카 몰 도베 네 스카 니스트 레나 사실 상 압 하 지 야 공화국 과 남오세티야 만 이 승인 하 는 독립 국가 이 다 . 몰도바 공화국 이 국가 전체 를 트 란스 니스트 리아 영토 단위 로 점유 하 고 있 다 . 이 목록 에 실린 국가 기준 은 1 9 3 3 년 몬테비데오 협약 1 장 을 참고 로 하 였 다 . 협정 에 따르 면 , 국가 는 다음 의 조건 을 만족 해야 한다 . ( a ) 영속 적 인 국민 ( b ) 일정 한 영토 ( c ) 정부 ( d ) 타국 과 의 관계 참여 자격 . 특히 , 마지막 조건 은 국제 공동체 의 참여 용인 을 내포 하 고 있 기 때문 에 , 다른 나라 의 승인 이 매우 중요 한 역할 을 할 수 있 다 . 이 목록 에 포함 된 모든 국가 는 보통 이 기준 을 만족 하 는 것 으로 보이 는 자주 적 이 고 독립 적 인 국가 이 다 . 하지만 몬테비데오 협약 기준 을 만족 하 는지 의 여부 는 많 은 국가 가 논쟁 이 되 고 있 는 실정 이 다 . 또한 , 몬테비데오 협약 기준 만 이 국가 지위 의 충분 한 자격 이 든 아니 든 , 국제법 의 견해 차이 는 존재 할 수 있 다 . 이 물음 에 대한 다른 이론 에 대한 고리 는 아래 에서 볼 수 있 다 . 위 기준 에 논거 하 여 이 목록 은 다음 2 0 6 개 국가 를 포함 하 고 있 다 . 일반 국제 승인 을 받 은 1 9 5 개 자주 국가 . * 유엔 가입 국가 1 9 3 개 * 성좌 ( \" 비회원 국가 \" 에 속하 는 유엔 영속 참관자 ) 가 통치 하 며 , 일반 국제 승인 을 받 은 국가 바티칸 시국 * 팔레스타인 지역 에 위치 하 며 유엔 영구 옵서버 국가 팔레스타인 유엔 의 가입 국 이 아니 며 , 일반 국제 승인 을 받 지 않 은 1 1 개 자주 국가 . * 유엔 회원국 으로부터 승인 을 받 은 8 개 국가 남오세티야 , 니우 에 , 북키프로스 튀르크 공화국 , 사하라 아랍 민주 공화국 , 압 하 지야 , 중화민국 , 코소보 , 쿡 제도 , * 유엔 비회원국 으로부터 승인 을 받 은 2 개 국가 아르 차 흐 공화국 , 트 란스 니스트 리아 * 어떤 나라 에서 도 승인 받 지 않 은 국가 소말릴란드 위 목록 에 포함 되 지 않 은 다음 국가 는 몬테비데오 협약 의 모든 조건 을 만족 하 지 못하 거나 , 자주 적 이 고 독립 적 임 을 주장 하 지 않 는 국가 이 다 . 남극 대륙 전체 는 정부 와 영속 인구 가 없 다 . 7 개 국가 가 남극 대륙 일부 를 차지 하 고 있 으며 , 이 중 5 개 국가 가 서로 의 영유권 을 인정 하 고 있 다 . 남극 조약 에 따라서 규제 되 는 이 권리 는 어떤 나라 에서 도 승인 을 받 지 않 았 다 . 유럽 연합 은 2 7 개 가입 국가 를 보유 한 독특 한 초 국가 기구 이 다 . 가입 국가 는 입법 권 , 행정 권 , 사법 권 기준 을 유럽 연합 위원회 로 이양 하 며 , 유럽 연합 은 엄밀히 말 해 일반 적 인 주권 국가 간주 와 관계 없이 주권 국가 로 의 특징 을 가지 고 있 다 . 유럽 연합 은 주권 국가 를 주장 하 지 않 으며 , 다른 나라 와 의 관계 에서 제한 된 지위 를 가지 고 있 다 . 미국 과 오스트레일리아 , 기타 국가 에서 주 ( State ) 라고 칭하 는 행정 구역 은 주 ( 행정 구역 ) 을 참 고 하 라 . 이러 한 하부 국가 개념 의 행정 구역 은 일부 를 제외 하 고 는 다른 나라 와 관계 를 형성 하 지 않 는다 . 예 를 들 어서 독일 제국 의 주 는 해외 영사관 을 가졌으며 , 소비에트 연방 의 한 부분 이 었 던 우크라 이나 소비에트 사회주의 공화국 ( 현재 의 우크라이나 ) 과 벨로루시 소비에트 사회주의 공화국 ( 현재 의 벨라루스 ) 는 유엔 가입 국 이 었 다 . 무엇 보다 중요 한 것 은 , 이러 한 주 들 은 자주 적 이 고 독립 적 임 을 주장 하 지 않 는다는 것 이 다 . 몰타 기사단 은 \" 총회 에 유효 참 관국 자격 으로 참여 할 수 있 으며 , 본부 에서 영속 적 인 지위 를 유지 하 는 기타 국가 \" 분류 에 속하 는 유엔 참관 국가 이 다 . 이 단체 는 1 0 4 개 국가 와 쌍방 외교 관계 를 맺 고 있 으나 , 로마 내의 치 외 법권 영역 이외 에 는 일정 한 영토 가 없 다 . 단체 의 웹 사이트 에서 는 \" 항상 국가 에게 국제법 의 독립 주체 로 인정 받 는다 . \" 고 선언 하 고 있 다 . 기사단 의 헌법 에서 는 다음 과 같이 설명 하 고 있 다 . \" 기사단 은 국제법 의 주체 이 며 , 주권 기능 을 행사 한다 . \" 기사단 은 자주 주권 을 주장 하 고 있 지만 , 이름 에서 볼 수 있 듯이 주권 국가 라고 주장 하 지 는 않 는다 . 다른 대사관 처럼 이탈리아 는 이론 상 기사단 과 외교 관계 를 파기 할 수 있 으며 , 이탈리아 국민 이 아닌 단원 을 이탈리아 영토 에서 강제 로 추방 할 수 있 다 . 기사단 의 단원 은 모두 다른 나라 의 국민 이 기 때문 에 , 사실상 이 들 은 모두 자신 의 국가 에서 살 고 있 으며 , 로마 에서 기사단 의 치 외 법권 영역 에 거주 하 는 단원 은 오직 공식 직무 에 만 연관 하 여 활동 한다 . 따라서 , 기사단 은 영속 적 인 국민 의 특성 이 부족 하 다고 볼 수 있 다 . 마이크 로 네이션 으로 여겨 지 는 국가 는 자주 적 이 고 독립 적 이 라고 주장 하 고 , 다른 나라 와 외교 관계 를 맺 고자 시도 하 여도 포함 하 지 않 았 다 . 마이크 로 네이션 이 정말로 점유 한 영토 를 지배 하 는지 , 마이크 로 네이션 의 인구 감소 빈도 가 낮 은 지 의 여부 는 논쟁 이 되 고 있 다 . ISIS 등 은 다른 나라 들 못지 않 은 영역 을 두 고 있 으며 스스로 를 \" 나라 \" 라고 자처 하 지만 , 국제법 상 주권 이 결여 되 어 있 으며 국제법 에 위배 되 는 테러리즘 을 일삼 아 나라 로 간주 되 지 도 않 는다 . 다만 준 국가 로 분류 한다 . 대륙 별 나라 목록 국기 목록 국장 목록 국가 목록 나라 표어 목록 영토 목록 ( 2 0 0 4 ) . 유엔 지도 제작 단락 . 2 0 0 6 년 1 월 1 7 일 확인 . Countries or areas , codes and abbreviations ( 2 0 0 6 ) . 유엔 통계학 분할 . 2 0 0 6 년 1 0 월 1 8 일 확인 . 국가 와 화폐 ( 2 0 0 6 ) . 유럽 위원회 . 2 0 0 6 년 1 0 월 2 7 일 확인 . 더 월드 팩트북 ( 2 0 0 6 ) . 미국 중앙 정보국 . 2 0 0 6 년 1 월 1 7 일 확인 . ISO 3 1 6 6 국가 코드 목록 ( 2 0 0 6 ) ISO 3 1 6 6 - 1 2 0 0 6 년 1 0 월 1 8 일 확인 이 세상 에 는 몇 개 의 나라 가 있 을까 ? 데이비드 매도어 논설 국가 의 평균 위도 및 경도 ISO 국가 세계 목록\\n', 'in flasks . jpg | 섬네일 | right | 2 5 0 px | 화학 은 물질 에 대해서 연구 하 는 자연 과학 의 한 분야 이 다 . 화학 ( 化學 은 물질 의 성질 , 조성 , 구조 , 변화 및 그 에 수반 하 는 에너지 의 변화 를 연구 하 는 자연 과학 의 한 분야 이 다 . 물리학 도 역시 물질 을 다루 는 학문 이 지만 , 물리학 이 원소 와 화합물 을 모두 포함 한 물체 의 운동 과 에너지 , 열적 · 전기 적 · 광학 적 · 기계 적 속성 을 다루 고 이러 한 현상 으로부터 통일 된 이론 을 구축 하 려는 것 과 는 달리 화학 에서 는 물질 자체 를 연구 대상 으로 한다 . 화학 은 이미 존재 하 는 물질 을 이용 하 여 특정 한 목적 에 맞 는 새로운 물질 을 합성 하 는 길 을 제공 하 며 , 이 는 농작물 의 증산 , 질병 의 치료 및 예방 , 에너지 효율 증대 , 환경 오염 감소 등 여러 가지 이점 을 제공 한다 . 고대 화학 초기 야금 ( 야금 금속 을 광석 으로부터 추출 하 고 정련 하 는 기술 ) 인간 에 의해 발견 된 최초 의 기록 된 금속 은 금 인 것 으로 보이 며 구석기 후기 ( BC 4 0 , 0 0 0 ) 에 스페인 동굴 에서 소량 의 천연 금 이 발견 되 었 다고 한다 . 은 , 구리 , 주석 및 유성 철 또한 고대 문화 에서 제한 된 양 의 금속 가공 을 허용 하 면서 고대 문화 로 발견 될 수 있 었 다 . 기원전 3 0 0 0 년 경 유성 철제 로 만든 이집트 무기 는 \" 천국 의 단검 \" 으로 높이 평가 받 았 다 . 아마도 통제 된 방식 으로 사용 된 최초 의 화학 반응 은 불 이 였 다 . 그러나 천 년 동안 불 는 단순히 열 과 빛 을 생성 하 면서 한 물질 을 다른 물질 ( 타 는 나무 또는 끓 는 물 ) 로 변형 시킬 수 있 는 신비 한 힘 으로 만 알려졌 다 . 불 는 초기 사회 의 여러 측면 에 영향 을 미쳤 다 . 이 들 은 요리 및 서식지 조명 과 같 은 일상 생활 의 가장 단순 한 면 에서 도기 , 벽돌 및 금속 을 녹여 도구 를 만드 는 것 과 같 은 고급 기술 에 이르 기 까지 다양 했 다 . 유리 의 발견 과 금속 의 정화 로 이어지 는 불로 인해 야금 이 부상 했 다 . 야금 의 초기 단계 에서 금속 의 정화 방법 이 요구 되 었 고 , 금은 BC 2 9 0 0 년 초기 의 고대 이집트 의 귀중 한 금속 이 되 었 다 . 1 7 세기 와 1 8 세기 초기 화학 로버트 보일 로버트 보일 현대 화학 의 공동 창립자 영국 계 미국인 화학자 로버트 보일 ( Robert Boyle , 1 6 2 7 - 1 6 9 1 ) 은 연금술 에 대한 현대 의 과학 적 방법 을 정제 하 고 화학 을 연금술 과 분리 한 것 으로 생각 된다 . 그 의 연구 가 연금술 전통 에 뿌리 를 두 고 있 음 에 도 불구 하 고 , 보일 은 오늘날 현대 의 화학자 이 자 현대 화학 의 창시자 이 자 현대 실험 과학 방법 의 선구자 중 한 사람 으로 불리 고 있 다 . 보일 이 원래 발견자 가 아님 에 도 보일 은 1 6 6 2 년 에 제시 한 보일 의 법칙 으로 가장 잘 알려져 있 다 . 보일 의 법칙 은 온도 만 폐쇄 된 시스템 내 에서 일정 하 게 유지 된다면 가스 의 절대 압력 과 부피 가 반비례 함 을 의미 한다 . 보일 은 또한 화학 분야 의 초석 으로 간주 되 는 1 6 6 1 년 의 《 의심 많 은 화학자 》 에 대한 획기 적 인 저서 로 인정받 고 있 다 . 작품 에서 보일 은 모든 현상 이 움직이 는 입자 의 충돌 의 결과 라는 가설 을 제시 한다 . 보일 ( Boyle ) 은 화학자 들 에게 실험 을 호소 했으며 실험 은 지구 , 화염 , 공기 및 물 과 같 은 고전 적 인 4 가지 원소 만 으로 화학 원소 를 제한 한다는 것 을 부인 했 다 . 그 는 또한 화학 이 의학 이나 연금술 에 종속 되 어 과학 의 지위 로 부상 하 는 것 을 중단 해야 한다고 촉구 했 다 . 중요 한 것 은 과학 실험 에 대한 엄격 한 접근 방식 이 라고 주장 했 다 . 그 는 모든 이론 이 사실 로 간주 되 기 전 에 실험 적 으로 입증 되 어야 한다고 믿 었 다 . 이 작품 은 원자 , 분자 및 화학 반응 의 가장 초기 의 현대 적 인 아이디어 를 포함 하 고 있 으며 현대 화학 의 역사 의 시작 을 나타낸다 . 보일 은 또한 화학 물질 을 정제 하 여 재현 가능 한 반응 을 얻 으려고 시도 했 다 . 그 는 재료 물질 의 물리 적 특성 과 상호 작용 을 설명 하 고 정량 화 하 기 위해 René Descartes 가 제안 한 기계 철학 의 보컬 지지자 였 다 . 보일 은 원자핵 론 자 였 지만 원자 보다 더 많 은 입자 를 선호 했 다 . 그 는 속성 이 유지 되 는 물질 의 가장 정밀 한 부분 은 미립자 의 수준 에 있 다고 논평 했 다 . 그 는 또한 공기 펌프 로 수 많 은 조사 를 수행 했으며 , 공기 가 펌프 로 퍼져 나감 에 따라 수은 이 떨어지 는 것 으로 나타났 다 . 그 는 또한 컨테이너 에서 공기 를 펌핑 하 면 화염 을 없애 고 내부 에 있 는 작 은 동물 을 죽일 수 있 음 을 관찰 했 다 . 과거 화학 에서 더 이상 나뉘 지 않 는 기초 적 인 요소 가 존재 한다고 했 는데 , 이 기초 적 인 요소 를 원자 ( atom ) 라 한다 . 원자 란 물질 을 구성 하 는 기본 적 인 입자 로 고대 그리스 의 데모크리토스 에서부터 그 존재 가 주장 되 었 는데 , 1 8 0 3 년 존 돌턴 에 의해서 원자론 으로 정리 되 었 다 . 2 0 세기 초 , 화학자 들 은 원자 를 구성 하 는 더 작 은 입자 들 , 즉 전자 , 양성자 , 중성자 가 존재 한다는 사실 을 발견 하 였 다 . 전자 는 음전하 를 띠 고 있 고 , 양성자 는 양전하 를 띠 고 있 으며 , 중성자 는 전하 를 띠 지 않 고 있 다 . 원자 는 양성자 와 중성자로 구성 되 어 있 는 원자핵 을 가지 고 있 으며 전자 는 이 주변 에 오비탈 을 이루 며 분포 되 어 있 다 . 원소 ( element ) 는 일반 적 인 화학 적 , 물리학 적 방법 으로 는 분해 되 지 않 는 물질 을 의미 한다 . 원소 는 원자핵 에 존재 하 는 양성자 수 로 정의 되 는 원자 번호 로 구별 된다 . 산소 , 황 , 주석 , 철 등 은 원소 이 다 . 1 9 세기 중엽 까지 약 8 0 가지 의 원소 가 발견 되 었 는데 , 이 들 은 주기 율 에 따라 배열 될 수 있 다 . 동위 원소 는 아이소토프 또는 동위체 라고 도 한다 . 서로 화학 적 으로 는 거의 구별 하 지 못하 지만 그것 을 구성 하 고 있 는 원자 의 질량 이 서로 다른 원소 를 동위 원소 라고 한다 . 영어 의 isotope 는 그리스어 인 isos ( 같 은 ) 와 topos ( 장소 ) 의 합성어 인데 , 질량 은 서로 달라도 원소 의 주기율표 에서 같 은 장소 에 배열 되 는 데 서 1 9 0 1 년 영국 의 화학자 F . 소디 가 isotope 라는 명칭 을 붙였 다 . 대부분 의 원소 는 동위 원소 를 가진다 . 동위 원소 는 원자 번호 는 같 으나 , 중성자 수 가 다른 원소 를 뜻 한다 . 동위 원소 는 화학 적 인 성질 은 동일 하나 , 원자량 의 차이 를 이용 하 여 분리 할 수 있 다 . 자연 에서 도 발견 되 는 9 2 개 의 원소 중 8 8 개 는 동위 원소 가 지표 면 상 에 존재 한다 . 자연 에서 발견 되 지 않 더라도 동위 원소 는 핵반응 을 이용 하 여 만들 어 낼 수 있 다 . 어떤 동위 원소 는 방사능 을 가지 기 도 하 는데 , 이 경우 동위 원소 의 원자핵 은 불 안정 하 고 방사선 을 방출 하 며 자연 적 으로 붕괴 된다 . 동중 원소 ( isobar ) 는 원자 질량 은 같 으나 , 양성 자수 가 다른 원소 를 뜻 한다 . 동중 원소 는 화학 적 , 물리 적 성질 이 다르 며 4 0 S , 4 0 Cl , 4 0 Ar , 4 0 K , 4 0 Ca 등 이 있 다 . 물 분자 분자 란 원자 의 결합체 중 독립 입자 로서 작용 하 는 단위체 이 다 . 일정 한 개수 의 원자 가 특정 하 게 정렬 되 어 서로 결합 해 분자 가 형성 된다 . 원자 가 원소 의 최 소단위 이 듯 , 분자 는 화합물 의 최 소단위 가 된다 . 원자 가 결합 될 때 전자 의 재배치 가 일어나 는데 , 이 는 화학 에서 의 중요 한 관심사 중 하나 이 다 . 화학 반응 은 원자 혹은 분자 가 화학 적 인 변화 를 겪 는 일 을 말 한다 . 화학 반응 은 원자 간 의 결합 이 끊 어 지 는 일 과 다시 이어지 는 일 을 포함 한다 . 결합 이 끊어질 때 는 에너지 가 흡수 되 고 , 결합 이 이어질 때 는 에너지 가 방출 된다 . 화학 반응 의 간단 한 예 로 는 수소 와 산소 가 반응 하 여 물 이 되 는 것 을 들 수 있 다 . 반응식 은 다음 과 같 다 . :: 2 H 2 + 2 O → 2 H 2 O : : Δ H = - 5 7 2 kJ 반응식 에서 알 수 있 듯이 , 화학 반응 에서 는 원자 가 새로 생성 되 거나 나타나 는 일 이 일어나 지 않 는다 . Δ H 는 에너지 또는 엔탈피 변화 를 뜻 한다 . 반응 은 발열 반응 일 수 도 있 고 , 흡열 반응 일 수 도 있 다 . 발열 반응 은 주위 로 열 을 방출 하 는 반응 으로 엔탈피 변화 가 음수 로 나타난다 . 반면 에 흡열 반응 은 주위 열 을 흡수 하 는 반응 으로 엔탈피 변화 가 양수 로 나타난다 . 위 반응 의 경우 는 발열 반응 인데 , 이 는 계로 부터 주위 로 열 이 이동하 였 다는 의미 이 다 . 화학 결합 을 주된 세 가지 부류 로 나누 어 보 면 이온 결합 , 공유 결합 그리고 금속 결합 으로 나눌 수 있 다 . 이온 이 란 전하 를 띤 원자 또는 분자 를 뜻 한다 . 이온 결합 은 양전하 와 음전하 의 전기 적 인 인력 에 의해서 생성 되 는 화학 결합 이 다 . 예 를 들 면 염화 나트륨 은 양전하 를 띤 나트륨 이온 ( Na +) 과 음전하 를 띤 염화 이온 ( Cl -) 사이 의 전기 적 인 결합 으로 이루어진 이온 화합물 이 다 . 이러 한 물질 을 물 에 녹이 면 이온 은 물 분자 에 의해 수화 되 고 이렇게 해서 만들 어 진 수용액 은 전기전도도 를 가진다 . 공유 결합 은 오비탈 이 겹쳐진 결과 두 원자 가 전자쌍 을 공유 하 게 되 어 생성 되 는 결합 을 의미 한다 . 공유 결합 이 형성 되 는 결합 은 발열 반응 인데 , 이때 방출 되 는 에너지 의 양 이 그 결합 의 결합 에너지 이 다 . 결합 에너지 만큼 의 에너지 를 그 결합 에 가해 주 면 결합 은 끊어질 수 있 다 . 금속 결합 은 금속 원자 에서 전자 들 이 떨어져 나와 자유 전자 를 생성 하 게 되 어 생성 되 는 결합 을 의미 한다 . 금속 의 특성 인 연성 과 전 성 이 생성 되 는 이유 이 기 도 하 다 . 화합물 은 구성 하 고 있 는 원자 의 종류 , 수 , 배치 에 의해서 그 특성 이 결정 된다 . 자연 에서 찾 을 수 있 거나 인공 적 으로 합성 할 수 있 는 화합물 의 수 는 엄청나 고 , 이 들 중 대부분 은 유기 화합물 이 다 . 유기 화합물 을 이루 는 주 된 화학 원소 인 탄소 는 다른 화학 원소 와 는 다르 게 매우 긴 사슬 형태 로 정렬 될 수 있 으며 , 같 은 수많 은 이성질체 를 형성 할 수 있 다 . 예 를 들 어 , 분자식 C 8 H 1 6 O 는 약 천 개 의 서로 다른 화합물 을 뜻 할 수 있 다 . 화학 은 취급 대상 및 대상 의 취급 방법 에 따라서 몇 가지 분과 로 구분 될 수 있 다 . 물질 을 분석 하 는 분석 화학 은 크 게 물질 의 존재 를 취급 하 는 정성 분석 과 물질 의 양 을 결정 하 는 정량 분석 으로 나눌 수 있 다 . 탄소 를 포함 한 유기 화합물 을 다루 는 유기 화학 과 유기 화합물 을 제외 한 무기 화합물 을 다루 는 무기 화학 도 있 다 . 물리학 과 화학 의 경계 에 는 물리 화학 이 있 고 생물학 과 의 경계 에 는 생화학 이 있 다 . 물리 화학 에서 특히 분자 의 구조 와 성질 과 의 관계 를 다루 는 부분 을 구조 화학 이 라고 부르 기 도 한다 . 제 2 차 세계 대전 이후 에 는 방사성 물질 을 다루 는 방사 화학 이 발전 하 였 고 화학 공업 을 다루 는 공업 화학 도 있 다 . 이 외 에 도 화학 의 분과 는 매우 다양 하 다 . 화학 의 분과 는 전통 적 으로 다음 과 같 은 5 가지 로 나눌 수 있 으며 , 각각 의 분과 는 더욱 세분 화 될 수 있 다 . 화합물 의 예 ( Cu ( NH 3 ) 4 2 + 무기 화학 은 유기 화학 에서 다루 지 않 는 물질 을 다루 며 주로 금속 이나 준금속 이 포함 된 물질 에 대해서 연구 한다 . 따라서 무기 화학 에서 는 매우 넓 은 범위 의 화합물 을 다루 게 된다 . 초기 에 는 광물 의 구성 이나 새 원소 의 발견 이 주요 관심사 였 고 여기 서부터 지구 화학 이 분기 되 었 다 . 주로 전이 금속 등 을 이용 한 촉매 나 생물 에서 산소 수송 , 광합성 , 질소 고정 등 의 과정 에서 중요 한 역할 을 하 는 금속 원자 들 에 대해 연구 하 며 이 외 에 도 세라믹 , 복합 재료 , 초전도체 등 에 대한 연구 를 한다 . 물리 화학 은 화학 적 현상 에 대한 해석 과 이 를 설명 하 기 위한 물리 적 원리 들 에 대해 다루 는 분과 이 다 . 화학 반응 에 관련 된 열역학 적 원리 와 물질 의 물리학 적 성질 에 대한 설명 은 물리 화학 이 다루 는 고전 적 인 주제 이 다 . 물리 화학 은 양자 화학 의 발전 에 도 큰 기여 를 하 였 다 . 분광계 나 자기 공명 , 회절 기기 등 물리 화학 에서 사용 하 는 실험 장비 나 실험 방법 들 은 다른 화학 의 분과 에서 도 매우 많이 사용 된다 . 물리 화학 이 다루 는 대상 은 유기 화합물 , 무기 화합물 , 혼합물 을 모두 포함 한다 . 분석 화학 은 물질 의 조성 이나 혼합물 의 구성 요소 등 을 결정 하 는 방법 에 대해서 연구 하 는 화학 의 분과 이 다 . 혼합물 을 이루 고 있 는 성분 의 탐색 , 분리 , 정량 과 분자 를 이루 고 있 는 원자 의 비율 을 측정 하 여 분자식 을 결정 하 는 일 등 이 분석 화학 에서 행해진다 . 1 9 5 0 년 대 의 분석 화학 의 발전 은 많 은 질량 분석 계 를 포함 한 분석 기구 의 등장 을 불러일으켰 다 . 이 외 에 도 고해상도 크로마토그래피 , 전기 화학 에서 의 많 은 실험 방법 등 은 분석 화학 에 있 어서 중요 한 분석법 이 다 . 분석 화학 에 있 어서 최종 목표 는 더 정확 한 측 정법 이나 측정 기기 등 을 개발 하 는 것 이 다 . 분석 화학 의 발전 으로 인해 환경 오염 물질 등 을 피코 그램 의 수준 에서 도 감지 하 는 것 이 가능 해졌 다 . 헤모글로빈 . 생화학 에서 는 이 와 같이 생물체 에서 기능 하 는 물질 들 을 다룬다 . 생화학 은 생물 을 화학 의 관점 에서 다루 는 학문 이 다 . 식물 이나 동물 의 세포 에서 발견 되 는 물질 이나 일어나 는 화학 반응 들 이 주 관심사 이 다 . 생명체 에서 발견 되 는 탄수화물 , 지방 , 단백질 , 핵산 , 호르몬 등 은 유기 화합물 이 라서 유기 화학 에서 도 다루 어 지 기 도 하나 , 이 들 화합물 에 관련 된 물질대사 과정 이나 조절 과정 에 대한 연구 는 생화학 의 고유 분야 이 다 . 효소 와 조효소 , 그리고 이 들 의 작용 과정 에 대해서 도 연구 하 며 , 세포막 을 통과 하 는 이온 과 분자 , 신경전달물질 과 다른 조절 물질 들 의 작용 에 대해서 도 연구 한다 . 생화학 은 내분비학 , 유전학 , 면역학 , 바이러스학 의 발전 에 큰 영향 을 끼쳤 다 . 유기 화학 은 탄소 로 이루어진 화합물 을 연구 하 는 분과 이 다 . 원래 유기 화합물 은 식물 이나 동물 로부터 추출 해 낸 화합물 을 뜻 하 였으나 지금 은 유기 화합물 의 범위 가 크 게 넓 어 져 탄소 사슬 또는 탄소 고리 를 가진 모든 화합물 을 뜻 한다 . 유기 화학 의 오랜 관심사 는 유기 화합물 의 합성 메커니즘 이 다 . 현대 에 들 어서 핵자기 공명 법 과 X 선 결정학 등 이 개발 되 어 유기 화합물 분석 에 있 어서 매우 중요 한 방법 으로 자리 잡 았 다 . 플라스틱 , 합성섬유 등 의 고분자 물질 등 도 유기 화학 에서 다루 어 진다 . Oxtoby , D . W . et al . , Principles of Modern Chemisty , 6 th edition , Belmont Thomson Brooks / Cole , 2 0 0 7 . Parker , S . P . et al . , McGraw - Hill encyclopedia of chemistry , New York McGraw - Hill , 1 9 9 3 . 東亞 出版 社 百科事典部 편 , 《 東亞 原色 世界 大 百科事典 》, 서울 東亞 出版 社 , 1 9 8 2 ~ 1 9 8 3 . 學園 出版 公社 事典 編纂 局 편 , 《 學園 世界 大 百科事典 》, 서울 學園 出版 公社 , 1 9 9 3 . 化學 大 辭典 編 集 委員 會 편 , 성용길 , 김창홍 역 , 《 화학 대사전 》, 서울 世 和 , 2 0 0 1 . 주기율표 화합물 목록 국제 순수 · 응용 화학 연합 대한 화 학회 네이버 캐스트 - 효도 하 는 화학 대한 화 학회 네이버 지식 백 과 화학 공학 연구 정보 센터 용어 검색 분류 : 자연 과학\\n', '2 5 0 px 체첸 공화국 ( , , 또는 줄여서 체첸 ( , 은 러시아 의 공화국 이 다 . 체첸 에서 사용 되 는 언어 는 체첸어 와 러시아어 이 다 . 체첸어 는 캅카스 제어 중 , 북동 캅카스 제어 로 불리 는 그룹 에 속하 는데 인구시어 와 매우 밀접 한 관계 에 있 다 . 거의 대부분 이 체첸인 이 다 . 일부 는 러시아인 , 인구시인 과 기타 북 코카서스 계 민족 도 섞여 있 다 . 1 9 8 9 년 에 행해진 체첸 - 인 구시 자치 공화국 의 통계 에서 는 체첸인 이 9 5 6 , 8 7 9 명 , 인구시인 이 2 3 7 , 4 3 8 명 으로 , 2 6 9 , 0 0 0 명 의 러시아인 은 인구 의 약 2 3 % 로 소수 민족 이 었 다 . 그 후 서부 가 잉 구슈 공화국 으로 분리 되 었 기 때문 에 인구 시인 들 의 수 가 절반 가까이 감소 하 고 , 내전 과 사회 불안 으로 대부분 의 러시아인 은 체첸 공화국 에서 대부분 떠났 다 . 1 9 9 0 년 대 체첸 공화국 에 남 아 있 던 러시아인 은 약 6 만 명 이 었 다 . 체첸 공화국 은 일반 적 으로 러시아 연방 중 에서 도 젊 은 층 이 가장 많 은 인구 구성 을 가진다 . 1 9 9 0 년 대 에 는 몇몇 지방 에서 인구 증가 가 있 었 다 . 민족 2 0 1 0 년 의 인구 수 체첸인 1 , 2 0 6 , 5 5 1 ( 9 5 . 3 %) 러시아인 2 4 , 3 8 2 ( 1 . 9 %) 쿠미크인 1 2 , 2 2 1 ( 1 . 0 %) 아바르 인 4 , 7 6 4 ( 0 . 4 %) 노가이인 3 , 4 4 4 ( 0 . 3 %) 인구시인 1 , 2 9 6 ( 0 . 1 %) 기타 1 3 , 7 1 6 ( 1 . 1 %) # 나우르스키 군 ( Наурский ) # 셸 콥스 코이 군 ( Шелковской ) # 낫 테레 치 니 군 ( Надтеречный ) # 그 조 젠 스키 군 ( Грозненский ) # 구데르메스 키 군 ( Гудермесский ) # 순 젠 스키 군 ( Сунженский ) # 아치 호이 마르타 놉 스키 군 ( Ачхой - Мартановский ) # 우루스 마르타 놉 스키 군 ( Урус - Мартановский ) # 샬 린스키 군 ( Шалинский ) # 쿠르 찰로 예프스키 군 ( Курчалоевский ) # 이 툼 칼 린스키 군 ( Итум - Калинский ) # 샤토이 스키 군 ( Шатойский ) # 베 덴 스키 군 ( Веденский ) # 노자 이 유르 토프 스키 군 ( Ножай - Юртовский ) # 샤 로 이 스키 군 ( Шаройский ) # 알 쿼 틸라 군 다게스탄 지역 을 통해 1 6 세기 에서 1 9 세기 를 기점 으로 , 체첸 인 들 은 대다수 가 수니파 이슬람교 를 믿 으며 러시아 정교회 도 소수 존재 한다 . 구데르메스 즈 나 멘스 코 예 나우르 스카 야 아치 호이 마르 탄 우루스 마르 탄 샬 리 이 툼 - 샬레 샤토이 베 데오 노자 이 유르트 1 8 3 0 년 에서 1 8 5 9 년 에 이르 는 동안 , 러시아 군 은 오스만 투르크 제국 과 의 접경 지역 안보 를 이유 로 체첸 에 진주 했 다 . 체첸 은 1 8 5 9 년 러시아 제국 에 병합 됐 다 . 제 2 차 세계 대전 동안 소비에트 정부 는 체첸 이 나 치군 과 협력 했 다고 맹비난 하 였 다 . 스탈린 은 체첸 국민 전체 에게 카자흐스탄 으로 의 강제 이주 를 명령 했 다 . 그 후 스탈린 이 사망 한 지 4 년 후 인 1 9 5 7 년 에 이르 러서야 체첸인 의 귀환 이 허용 되 었 다 . 그리고 체첸 전쟁 때 러시아 의 엄청난 공세 로 인해 체첸 전역 은 초토화 되 었 다 . 체첸 공화국 정부 홈페이지 체첸 공화국 정보 분류 : 분단 된 지역\\n', '맥스웰 방정식 ( Maxwell 方 程式 은 전기 와 자기 의 발생 , 전기장 과 자기장 , 전하 밀도 와 전류 밀도 의 형성 을 나타내 는 4 개 의 편미분 방정식 이 다 . 맥스웰 방정식 은 빛 역시 전자기파 의 하나 임 을 보여준다 . 각각 의 방정식 은 가우스 법칙 , 가우스 자기 법칙 , 패러데이 전자기 유도 법칙 , 앙페르 회로 법칙 으로 불린다 . 각각 의 방정식 을 제임스 클러크 맥스웰 이 종합 한 이후 맥스웰 방정식 으로 불리 게 되 었 다 . 전 자기 역학 은 맥스웰 방정식 과 로런츠 힘 법칙 으로 요약 된다 . 로런츠 힘 은 맥스웰 방정식 으로부터 유도 될 수 있 다 . core . jpg | 섬네일 | 왼쪽 | 1 9 5 4 년 왕안이 앙페르 회로 법칙 을 이용 하 여 고안 한 자기 코어 메모리 . 하나 의 코어 가 1 비트 에 해당 한다 . 맥스웰 의 방정식 은 네 개 의 법칙 을 모아 종합 하 여 구성 한 것 이 다 . 맥스웰 의 방정식 은 빛 과 같 은 전자기파 의 특성 을 설명 한다 . 각 방정식 의 수학 적 표현 은 공식 부분 에서 다루 기 로 하 고 우선 은 방정식 의 의미 를 살펴보 면 다음 과 같 다 . 가우스 법칙 가우스 법칙 은 전하 에 의해 발생 된 전기장 의 크기 를 설명 한다 . 따라서 가우스 법칙 은 본질 적 으로 쿨롱 법칙 과 같 은 의미 를 지닌다 . 다만 , 쿨롱 법칙 이 공간 에 놓인 두 점전하 사이 에서 발생 하 는 힘 을 설명 하 는 데 반해 가우스 법칙 은 하나 의 전하 로부터 발생 하 는 전기장 의 세기 가 거리 에 따라 반감 되 는 이유 를 설명 한다 . 실제 회로 이론 이나 전자 공학 에서 는 계산 이 편리 하 고 직관 적 으로 이해 하 기 쉬운 가우스 법칙 을 일반 적 으로 사용 한다 . 가우스 자기 법칙 가우스 자기 법칙 에 따르 면 , 폐곡면 의 총 자기 선속 은 0 이 다 . 즉 , 전기 와 달리 자기 는 홀극 이 없 고 , N 극과 S 극 이 언제나 함께 존재 한다 . 이러 한 자기 의 성질 때문 에 일정 한 공간 으로 들어오 는 자기력선 과 나가 는 자기력선 의 크기 는 언제나 같 고 , 따라서 서로 정반대 의 방향 으로 작용 하 는 같 은 크기 의 힘 의 합계 는 언제나 0 이 다 . 패러데이 전자기 유도 법칙 패러데이 전자기 유도 법칙 은 자기 선속 이 변화 하 면 그 주변 에 전기장 이 발생 한다는 것 이 다 . 고리 모양 으로 만들 어 진 전선 가운데 서 자석 을 위 아래 로 움직이 면 전류 가 발생 하 는 것 을 예 로 들 수 있 다 . 발전소 는 이러 한 원리 를 이용 하 여 교류 전류 를 만들 어 낸다 . 앙페르 - 맥스웰 회로 법칙 앙페르 회로 법칙 은 전류 가 흐르 는 전선 에 따라 자기장 이 발생 한다는 것 이 다 . 맥스웰 은 앙페르 회로 법칙 을 확장 하 여 전기장 의 강도 가 변화 하 면 자기장 이 발생 하 는 것 으로 파악 하 였 고 , 축전기 를 이용 한 실험 을 통해 이 를 입증 하 였 다 . 즉 , 축전기 자체 는 전류 를 이동 시키 지 못하 지만 전계 의 변화 를 전달 한다 . 맥스웰 은 축전기 에서 전계 가 변화 할 때 자기장 이 발생 하 는 것 을 측정 하 였 고 이 로써 전선 뿐 만 아니 라 전계 의 강도 가 변화 하 는 모든 곳 에서 자기장 이 발생 함 을 증명 하 였 다 . 전류 변화 로 자기장 이 발생 하 는 것 을 이용 한 도구 로 는 전자석 , 전동기 와 같 은 것 이 있 다 . 맥스웰 의 방정식 에 나타난 각 식 은 오랜 시간 에 걸쳐 연구 된 전기 와 자기 의 특성 을 종합 한 것 이 다 . 인류 는 고대 시대 부터 이미 정전기 에 의한 인력 과 방전 현상 을 알 고 있 었 고 자석 의 특징 을 이용 한 나침반 을 만들 어 사용 해 왔 다 . 근대 에 이르 러 전기 와 자기 에 대한 많 은 연구 가 진행 되 었 으며 그 결과 쿨롱 법칙 , 패러데이 전자기 유도 법칙 , 앙페르 회로 법칙 과 같 은 법칙 들 이 발견 되 었 다 . 맥스웰 은 이러 한 기존 의 연구 성과 를 종합 하 여 전기 와 자기 가 하나 의 상호 작용 , 즉 전자기력 에 의한 것 임 을 증명 하 면서 빛 역시 전자기파 라는 것 을 밝혔 고 , 전자기 복사 의 발견 을 예언 하 였 다 . 앞서 밝힌 바 와 같이 두 전하 사이 에 인력 과 척력 이 작용 한다는 것 은 고대 이후 잘 알려진 사실 이 었 다 . 그러나 이렇게 두 전하 사이 에 작용 하 는 힘 의 관계 와 크기 는 측정 하 기 매우 어려웠 는데 , 그 까닭 은 작용 하 는 힘 의 크기 가 매우 작 기 때문 이 었 다 . 1 7 8 4 년 샤 를 드 쿨롱 은 비틀림 저울 을 이용 한 실험 장치 를 고안 하 여 대전 된 두 전하 사이 에 작용 하 는 힘 의 크기 를 측정 할 수 있 었 다 . 샤를 드 쿨롱 은 금속 공과 비틀림 저울 을 이용 하 여 두 점전하 사이 에 작용 하 는 힘 을 측정 하 고 , 두 전하 사이 에서 작용 하 는 힘 은 두 전하 크기 의 곱 에 비례 하 고 거리 의 제곱 에 반비례 한다는 쿨롱 법칙 을 발견 하 였 다 . 쿨롱 법칙 을 식 으로 나타내 면 다음 과 같 다 . F 두 전하 사이 의 거리 위 식 에서 Ke 는 쿨롱 상수 로 이 상수 의 크기 는 다음 과 같 다 . : N m 2 C − 2 한편 , 쿨롱 힘 은 전하 사이 의 작용 뿐 만 아니 라 자계 에 도 적용 될 수 있 다 . 두 자극 의 세기 를 각각 mA , mB 라 할 때 , 이 두 자극 사이 에 작용 하 는 힘 은 다음 과 같이 정리 된다 . F 두 전하 사이 의 거리 자극 의 세기 단위 는 웨버 ( Wb ) 로 쿨롱 은 세기 가 같 은 두 개 의 자극 을 1 m 떨어뜨려 놓 았 을 때 작용 하 는 힘 의 세기 가 인 경우 를 1 Wb 로 정의 했 다 . 따라서 상수 k 의 값 은 다음 과 같 다 . : / 자극 사이 에 작용 하 는 힘 의 크기 는 전하 사이 에 작용 하 는 힘 의 크기 와 같 은 방식 으로 계산 할 수 있 으나 둘 사이 에 는 분명 한 차이 가 있 다 . 즉 , 전 하 는 양전하 이 든 음전하 이 든 단독 으로 존재 할 수 있 는 데 반해 자극 은 홀극 으로 존재 할 수 없 고 , N 극과 S 극 이 언제나 쌍 으로 존재 하 여야 한다는 것 이 다 . 제임스 클러크 맥스웰 은 각각 독립 적 으로 다루 어 져 오 던 전기 와 자기 의 법칙 들 을 종합 하 여 맥스웰 방정식 을 수립 하 였 다 . 맥스웰 은 마이클 패러데이 의 \" 역선 \"( 力 線 ) 개념 과 앙드레 마리 앙페르 의 회로 이론 을 근간 으로 방정식 을 정리 하 였 다 . 1 8 6 1 년 맥스웰 은 논문 《 물리 적 인 역선 에 대해 》 를 발표 하 여 모두 4 개 의 방정식 으로 구성 된 맥스웰 방정식 을 소개 하 였 다 . 이 방정식 은 1 8 6 5 년 발표 된 논문 《 전자기장 의 역학 이론 》 과 1 8 7 3 년 출간 된 《 전기 와 자기 에 대한 논문집 》 제 2 권 의 9 장 에서 다시 소개 되 었 다 . 물리학자 리처드 파인먼 은 \" 이 방정식 에 비하 면 남북 전쟁 조차 큰 의미 없 는 지엽 적 인 사건 이 라고 할 수 있 다 \" 라고 맥스웰 방정식 의 중요 성 을 강조 하 였 다 . 1 8 6 5 년 맥스웰 자신 에 의해 발표 된 맥스웰 방정식 의 원래 형태 는 8 개 의 방정식 으로 이루어진 것 이 었 다 . 그러나 , 오늘날 에 는 1 8 8 4 년 올리버 헤비사이드 가 4 개 의 방정식 으로 정리 한 형태 가 일반 적 으로 사용 된다 . 조사 이 어 윌러드 기브스 와 하인리히 루돌프 헤르츠 역시 헤비사이드 와 동일 한 작업 을 한 바 있 다 . 이 때문 에 맥스웰 방정식 은 헤르츠 - 헤비사이드 방정식 으로 불리 기 도 한다 . 그러나 \" 맥스웰 방정식 \" 이 란 이름 이 더 폭넓 게 쓰이 고 있 다 . 1 8 6 1 년 맥스웰 은 《 물리 적 인 역선 에 대해 》 에서 앙페르 회로 법칙 을 설명 하 기 위해 방정식 들 을 열거 하 였 다 . 맥스웰 은 이 논문 에서 앙페르 회로 법칙 에 치환 전류 를 덧붙였 다 . 1 8 6 5 년 발표 한 《 전자기장 의 역학 이론 》 에서 는 전자기파 방정식 을 기술 하 면서 빛 이 전자기 파임 을 제시 하 였 다 . 맥스웰 의 이론 은 1 8 8 7 년 하인리히 루돌프 헤르츠 의 실험 에 의해 증명 되 었 다 . \" 장 \"( 場 ) 이 란 개념 은 마이클 패러데이 가 도입 하 였 다 . 알베르트 아인슈타인 은 맥스웰 이 장 개념 을 도입 한 것 에 대해 다음 과 같이 평가 하 였 다 . 당시 이 방정식 은 헤르츠 - 헤비사이드 방정식 또는 멕스 웰 - 헤비사이드 방정식 이 라고 불렸 다 . 그러나 아인슈타인 은 사이언스 에 의 기고 문 에서 이 를 \" 맥스웰 방정식 \" 이 라 부르 며 , 이 방정식 들 이 이론 물리학 의 기초 라고 설명 하 였 다 . 맥스웰 은 방정식 을 정리 하 면서 헤비사이드 의 전위 와 벡터 위치 등 위치 요소 를 중요 한 개념 으로 도입 하 였 다 . 1 8 8 4 년 맥스웰 은 전자기파 의 전달 을 중력 과 같이 원격 에서 상호 작용 하 는 힘 이 아닌 전자기장 에서 빛 의 속도 로 전파 되 는 전위 로 파악 하 였 다 . 라디오 안테나 에 대한 현대 의 분석 에서 도 맥스웰 의 백 터 와 스칼라 위키 에 대한 수식 만 으로 서로 떨어져 있 는 안테나 사이 에 작용 하 는 전파 의 영향 을 모두 설명 할 수 있 다 . 맥스웰 방정식 과 관련 한 헤비사이드 의 업적 은 맥스웰 이 여러 논문 과 책 에서 서술 한 맥스웰 방정식 을 오늘날 과 같 은 4 개 의 방정식 으로 정리 하 였 다는 것 이 다 . 오늘날 4 개 의 방정식 으로 정리 된 맥스웰 의 방정식 은 1 8 6 1 년 발표 된 논문 인 《 물리 적 역선 에 대해 》 에 기반 한 것 이 다 . 이 논문 에 는 전자기장 에 대한 다수 의 방정식 이 실려 있 다 . 방정식 5 6 번 . 방정식 1 1 2 번 은 멕스 웰 이 앙페르 회로 법칙 을 확장 하 여 전류 와 의 거리 에 따른 자기력선 의 세기 를 표현 한 것 이 다 . 이 방정식 에서 표현 된 원격 전류 의 개념 은 전자기학 의 핵심 개념 이 되 었 다 . 맥스웰 은 1 8 6 5 년 《 전자기장 의 역학 이론 》 에서 전자기 파장 방정식 을 정립 하 여 이 를 보충 하 였 다 . 구스타프 키르히호프 는 특히 이 방정식 에서 원격 전류 의 개념 을 제거 한 방정식 을 수립 한 뒤 이 를 전신수 방정식 이 라고 불렀 는데 , 이 방정식 이 전신 의 이론 적 기반 이 되 었 기 때문 이 다 . 당시 에 는 전자기 복사 가 발견 되 지 않 은 상태 였 기 때문 에 키르히호프 는 자신 의 방정식 이 전선 안 에서 일어나 는 자기 유도 에 국한 된다고 생각 하 였 다 . 방정식 1 1 5 번 은 가우스 법칙 을 정리 하 고 있 다 . 방정식 5 4 번 을 올리버 헤비사이드 는 \" 패러데이 법칙 \" 이 라 불렀 다 . 그러나 , 패러데이 법칙 의 원형 이 자기장 과 전류 의 변화 를 모두 반영 하 는 데 비해 5 4 번 방정식 은 자기장 의 변화 에 따른 전류 의 변화 를 반영 하 지 는 않 는다 . 맥스웰 은 자기장 의 변화 만 을 고려 하 여 v × B 로 표기 한 대신 , 방정식 7 7 번 에서 오늘날 로런츠 힘 법칙 으로 알려진 F = q ( E + v × B ) 을 제시 하 였 다 . 맥스웰 이 이 방정식 을 발표 한 때 에 헨드릭 로런츠 는 아직 어린아이 였 다 . 1 8 5 5 년 맥스웰 은 케임브리지 철학 학회 에서 《 패러데이 의 역선 》 을 발표 하 면서 와 벡터 의 차이점 을 설명 하 였 다 . 이 논문 은 오늘날 에 도 패러데이 전자기 유도 법칙 에 대한 가장 간결 한 모형 으로 인정받 고 있 다 . 여기 서 맥스웰 은 전류 에 관한 모든 지식 을 미분 방정식 으로 나타내 었 다 . 맥스웰 의 분자 와동 모형 . 그림 에서 육각형 안 의 검 은 점 을 밖 으로 나오 는 자기력선 의 기자력 이 되 는 단위 자기장 이 라 할 때 , 모든 단위 자기장 이 반 시계 방향 으로 회전 하 면 녹색 원 으로 표현 된 자기력선 은 단위 자기장 들 의 영향 을 받 아 시계 방향 으로 회전 하 게 된다 . 1 8 5 5 년 맥스웰 이 제안 한 분자 와동 의 바다 란 개념 은 1 8 6 1 년 《 물리 역선 에 대해 》 에서 보다 분명 하 게 소개 되 었 다 . 이 논문 에서 는 자기장 이 형성 되 는 분자 규모 의 와동 에서 의 밀도 에 따라 의 순 와동 운동 이 결정 된다고 보 았 다 . 맥스웰 은 와동 의 밀도 를 측정 하 기 위한 값 으로 투자 율 µ 을 정의 하 였 다 . 이 논문 에서 밝힌 맥스웰 의 개념 은 다음 과 같 다 . # 자기 유도 전류 는 자기 전류 밀도 에 의해 발생 된다 . # 대류 전류 는 선형 전류 의 회전 분석 에 핵심 개념 이 다 . 이 때 는 전하 밀도 이 다 . 는 축 을 이루 어 회전 하 는 자기 전류 이 고 는 그 주위 를 돌 게 되 는 자기력선 의 자기 선속 이 다 . 투자 율 µ 는 결국 자기장 에 의해 유도 되 는 자기 선속 의 비 가 된다 . 전류 방정식 은 전하 의 대류 전류 가 선형 적 으로 움직이 는 것 을 보여준다 . 한편 , 자기 방정식 은 유도 전류 의 회전 에 의해 발생 하 는 자기 를 나타내 는 것 으로 벡터 의 방향 성 으로 인해 비 선형 방정식 이 된다 . 따라서 자기 유도 전류 는 역선 으로 표현 된다 . 자기력선 은 역제곱 법칙 에 의해 전류 에서 멀 어 질수록 약해 지 게 된다 . 1 8 6 4 년 맥스웰 은 《 전자기장 의 역학 이론 》 을 출간 하 였 다 . 맥스웰 은 이 책 에서 빛 이 전자기 파임 을 제시 하 였 다 . 이 책 에서 맥스웰 은 8 개 의 방정식 을 전자기장 에 대한 일반 적 인 방정식 으로 제시 하 였 다 . 이 때문 에 훗날 \" 맥스웰 방정식 \" 이 라는 표현 이 오늘날 의 4 개 의 방정식 을 가리키 는 것 인지 1 8 6 4 년 제시 된 8 개 의 방정식 을 가리키 는 것 인지 를 혼동 하 기 도 한다 . 따라서 오늘날 의 4 개 로 구성 된 방정식 을 분명히 하 기 위해 헤비사이드 가 정리 한 맥스웰 방정식 ( 멕스 웰 - 헤비사이드 방정식 ) 이 라는 표현 이 사용 된다 . 현대 벡터 표기 를 사용 하 여 정리 한 멕스 웰 의 8 개 방정식 은 다음 과 같 다 . ( A ) 총 전류 의 법칙 ( B ) 자기장 방정식 ( 벡터 퍼텐셜 의 정의 ) ( C ) 앙페르 회로 법칙 ( D ) 대류 전하 , 유도 전류 및 정전기 에 의해 생성 된 기전력 ( 로런츠 힘 ) ( E ) 전기 탄성 방정식 ( F ) 옴의 법칙 ( G ) 가우스 법칙 ( H ) 연속 방정식 ( 전하 보존 법칙 ) 또는 주 는 맥스웰 이 자기 강도 라고 표현 한 자기장 이 다 . 는 전류 밀도 로 원격 전류 가 갖 는 총 전류 를 뜻 한다 . 는 맥스웰 이 원격 전류 라고 표현 한 전기 변위장 이 다 . 는 자유 전하 밀도 로 맥스웰 은 이 를 자유 전하 의 양 이 라고 표현 하 였 다 . 는 자기 퍼텐셜 로 맥스웰 은 이 를 각 임펄스 로 표현 하 였 다 . 는 맥스웰 이 기전력 이 라고 표현 한 것 으로 오늘날 볼트 를 단위 로 사용 하 는 기전력 과 달리 전기장 을 의미 한다 . 는 도전율 이 다 . ( 그 역수 는 비저항 인데 , 오늘날 영어 명은 \"\" 이 고 , 맥스웰 은 이 를 \"\" 라 불렀 다 . ) 이 책 에서 표현 된 방정식 D 는 로런츠 힘 의 효과 를 나타낸 것 으로 1 8 6 1 년 논문 의 방정식 7 7 번 을 보다 간략 하 게 표현 한 것 이 다 . 또한 , 맥스웰 은 1 8 6 5 년 논문 에서 전자기파 방정식 을 정의 하 였 는데 이 책 의 방정식 D 를 전자기 유도 를 설명 하 기 위해 사용 하 였 다 . 오늘날 에 는 방정식 D 대신 패러데이 전자기 유도 법칙 이 쓰인다 . 맥스웰 은 전자기파 방정식 을 연구 하 는 과정 에서 방정식 D 의 를 버렸 다 . 1 8 7 3 년 맥스웰 이 출간 한 《 전기 와 자기 에 대한 논문집 》 에서 방정식 은 두 개 의 묶음 으로 나뉘 었 다 . 첫 번 째 묶음 두 번 째 묶음 다음 은 국제단위계 를 사용 하 여 수식 으로 표현 한 맥스웰 방정식 이 다 . 이름 미분 형 적분 형 가우스 법칙 가우스 자기 법칙 패러데이 전자기 유도 법칙 앙페르 - 맥스웰 회로 법칙 발산정리 와 스토크스 의 정리 를 이용 하 면 미분 형 과 적분 형 방정식 이 동치 임 을 알 수 있 다 . 아래 표 는 각 기호 의 뜻 과 단위 를 나타낸다 . 기호 의미 단위 전기장 미터 당 볼트 ( V / m ) 자계 강도 미터 당 암페어 ( A / m ) 전기 변위장 제곱 미터 당 쿨롱 ( C / m 2 ) 자기장 ( 자기 선속 밀도 ) 단위 ( T ) 자유 전하 밀도 ( 매질 에 묶인 쌍극자 전하 제외 ) 세 제곱미터 당 쿨롱 ( C / m 3 ) 자유 전류 밀도 ( 편파 혹은 자화 전류 제외 ) 제곱미터 당 암페어 ( A / m 2 ) 곡면 에 대한 미분 수직 벡터 요소 제곱 미터 ( m 2 ) 곡면 S 에 둘러싸인 부피 미분 요소 세제곱 미터 ( m 3 ) 곡면 S 의 둘레 의 미분 벡터 요소 미터 ( m ) 는 발산 연산자 ( 단위 1 / 미터 ) , 는 회전 연산자 ( 단위 1 / 미터 ) 이 다 . 두 번 째 방정식 은 자기 홀극 이 없 음 을 뜻 한다 . 전기장 과 자기장 이 대전 된 입자 에 미치 는 힘 은 로런츠 힘 에 따라 국제단위계 에서 다음 과 같 다 . . 여기 서 는 입자 의 전하량 이 고 는 입자 의 속도 다 . ( CGS 단위계 에서 는 자기장 을 다르 게 정의 하 므로 , 대신 를 쓴다 . ) 위 의 수식 은 국제단위계 로 표현 되 었 지만 , 다른 단위계 에서 도 맥스웰 방정식 은 변하 지 않 거나 , 약간 의 상수 변화 만 이 있 을 뿐 이 다 . 물리학 과 공학 에서 일반 적 으로 가장 널리 쓰이 는 국제단위계 이외 에 도 특수 한 경우 CGS 단위계 가 쓰인다 . 변압기 안테나 앙페르 회로 법칙 로런츠 힘 레이저 발전기 자기 홀극 타케우치 아츠시 , 김현영 역 , 고교 수학 으로 배우 는 맥스웰 의 방정식 , 도서 출판 홍 , 네이버 캐스트 - 맥스웰 방정식 분류 : 동전기학 분류 : 물리학 의 기본 개념 분류 : 사람 이름 을 딴 낱말 분류 : 전자기학 분류 : 제임스 클러크 맥스웰 분류 : 편미분 방정식 분류 : 물리학 방정식\\n', '초월수 ( 超越 數 는 계수 가 유리수 인 어떤 다항 방정식 의 해도 될 수 없 는 복소수 이 다 . 다항 방정식 의 해 가 될 수 있 는 수 인 대수 적 수 와 반대 개념 이 다 . 실수 인 초월수 는 모두 무리수 이 다 . 하지만 그 역 은 성립 하 지 않 는다 . 예 를 들 어 , 는 무리수 이 지만 다음 이 차 방정식 의 해 이 므로 초월수 가 아니 다 . 대수 적 수 의 집합 이 가산 집합 인 데 비하 여 복소수 의 집합 은 비 가산 집합 이 다 . 따라서 초월수 의 집합 은 비 가산 집합 이 된다 . 이것 은 대수 적 수 의 개수 보다 초월수 의 개수 가 많 다는 것 을 뜻 한다 . 하지만 지금 까지 알려진 초월수 는 많 지 않 고 , 어떤 특정 한 수 가 초월수 임 을 증명 하 는 것 은 매우 어렵 다 . 초월수 의 존재 는 레온하르트 오일러 가 예상 하 였으나 , 최초 의 초월수 는 1 8 4 4 년 에 조제프 리우빌 이 발견 하 였 다 . 그 는 초월수 의 예 로서 다음 과 같이 정의 되 는 리우빌 상수 를 제시 하 였 다 . 초월수 의 존재 를 증명 하 기 위해 특별히 만들 어 진 수 가 아닌 수 중 에서 처음 으로 초월수 임 이 증명 된 수 는 상수 e 로 , 샤를 에르미트 가 1 8 7 3 년 에 증명 하 였 다 . 1 8 8 2 년 에 는 페르디난트 폰 린데만 이 원주율 또한 초월수 임 을 증명 하 였 다 . 이것 은 고대 그리스 시대 부터 의 난제 였 던 원적문제 가 불 가능 함 을 보여 주 는 결과 였 다 . 1 8 7 4 년 에 게오르크 칸토어 는 구체 적 인 초월수 를 제시 하 는 대신 , 앞 에 설명 된 가산 집합 과 비 가산 집합 의 논리 를 이용 하 여 초월수 가 존재 함 을 보였 다 . 1 9 0 0 년 에 다비트 힐베르트 는 힐베르트 의 2 3 문제 가운데 7 번 째 문제 로 초월수 에 대하 여 다음 과 같 은 문제 를 제시 하 였 다 . : 는 0 이나 1 이 아닌 대수 적 수 이 고 는 무리수 이 면서 대수 적 수일 때 , 는 초월수 인가 ? 힐베르트 는 이 문제 의 구체 적 인 예로 를 들 었 다 . 이 문제 는 1 9 3 4 년 에 겔 폰드 - 슈나이더 정리 에 의해 참 임 이 밝혀졌 다 . 이 결과 는 1 9 6 0 년 에 앨런 베이커 에 의해 확장 되 었 다 . ( ) 원주율 0 이 아닌 유리수 에 대하 여 1 이 아닌 양 의 유리수 에 대하 여 가 초월수 임 을 증명 한 것 가 초월수 임 을 증명 한 것 ( PDF ) 가 초월수 임 을 증명 한 것 ( PDF )\\n', '음계 ( 音階 ) 는 음악 에서 음높이 ( pitch ) 순서 로 된 음 의 집합 을 말 한다 . 악곡 을 주로 구성 하 는 음 을 나타낸 것 이 며 음계 의 종류 에 따라 곡 의 분위기 가 달라진다 . 음계 의 각각 의 음 에 는 위치 에 따라 도수 가 붙 는다 . 음계 는 , 음계 가 포함 하 고 있 는 음정 ( interval ) 에 따라서 이름 을 붙일 수 있 다 . 예시 온음계 , 반음계 , 온음음계 또는 음계 가 포함 하 고 있 는 서로 다른 피치 클래스 의 수 에 따라서 이름 을 붙일 수 있 다 . 팔음 음계 칠음 음계 육음 음계 와 오음 음계 사음 음계 , 삼음 음계 와 이음 음계 모노토닉 음계 \" 음계 의 음정 ( interval ) 뿐 만 아니 라 음계 를 만드 는 음 ( note ) 의 수 가 , 한 문화 권 의 음악 에 독특 한 음악 적 특징 을 지니 게 한다 \" \" 어떤 음계 의 음 의 수 보다 , 음 의 거리 ( interval , pitch distance ) 가 음악 의 소리 에 대해서 더 많 은 것 을 알려준다 . \" 온음계 와 반음계 ( 半 音階 ) 는 서양 음악 에서 쓰이 는 용어 이 다 . 자체 로 는 음계 에 관한 말 이 지만 , 온음계 적 · 반음계 적 인 선율 , 화음 , 화성 진행 등 의 표현 으로 도 쓰인다 . 대부분 의 경우 온음계 는 7 개 음 으로 이루어진 장음계 를 말 한다 . 2 0 세기 음악 론 에서 는 반음계 가 아닌 모든 음계 ( 이를테면 팔음 음계 ) 를 말 할 때 쓰이 기 도 한다 . 반음계 는 1 2 개 의 반음 으로 이루어진 음계 를 말 한다 . 계이름 은 음계 를 기준 으로 한 음 의 이름 이 다 . 장음계 를 이루 는 음 의 계이름 은 으뜸음 부터 위 로 올라가 면서 각각 도 , 레 , 미 , 파 , 솔 ( ) , 라 , 시 ( ) , 도 가 된다 . 서양 음악 에서 는 도 · 레 · 미 · 파 · 솔 · 라 · 시 로 된 7 음계 가 많이 쓰이 지만 한국 전통 음악 에 는 황종 ( 黃鍾 ) - 미 ♭· 태주 ( 太蔟 ) - 파 · 중려 ( 仲呂 ) - 라 ♭· 임종 ( 林 鍾 ) - 시 ♭· 무역 ( 無射 ) - 레 ♭ 으로 된 5 음계 가 많이 쓰이 고 , 중국 전통 음악 에 는 궁 - 도 · 상 - 레 · 각 - 미 · 변치 ( 變徵 ) - 올림 화 ( Fa ) · 치 - 솔 · 우 - 라 · 변궁 ( 變宮 ) - 시 로 7 음계 를 많이 쓴다 . 한국 전통 음악 에서 는 5 음계 외 에 도 3 음계 또는 악 계통 에서 는 7 음계 등 이 쓰인다 .\\n']\n"
          ]
        }
      ],
      "source": [
        "# 코퍼스 로드\n",
        "docs=[]\n",
        "with open('tokenized/wiki_ko_mecab.txt','r') as file:\n",
        "    while True:\n",
        "      line = file.readline()\n",
        "      docs.append(line) \n",
        "      if not line: break\n",
        "print(docs[:10])"
      ]
    },
    {
      "cell_type": "code",
      "source": [
        "print(docs[:10])"
      ],
      "metadata": {
        "colab": {
          "base_uri": "https://localhost:8080/"
        },
        "id": "eQTqa7Yo-RGZ",
        "outputId": "95ac4de8-d3da-411b-ab51-617b2f41c1df"
      },
      "execution_count": 140,
      "outputs": [
        {
          "output_type": "stream",
          "name": "stdout",
          "text": [
            "['제임스 얼 \" 지미 \" 카터 주니어 ( , 1 9 2 4 년 1 0 월 1 일 ~ ) 는 민주당 출신 미국 3 9 번 째 대통령 ( 1 9 7 7 년 ~ 1 9 8 1 년 ) 이 다 . 지미 카터 는 조지 아주 섬터 카운티 플 레인스 마을 에서 태어났 다 . 조지 아 공과 대학교 를 졸업 하 였 다 . 그 후 해군 에 들어가 전함 · 원자력 · 잠수함 의 승무원 으로 일 하 였 다 . 1 9 5 3 년 미국 해군 대위 로 예편 하 였 고 이후 땅콩 · 면화 등 을 가꿔 많 은 돈 을 벌 었 다 . 그 의 별명 이 \" 땅콩 농부 \" ( Peanut Farmer ) 로 알려졌 다 . 1 9 6 2 년 조지아 주 상원 의원 선거 에서 낙선 하 나 그 선거 가 부정 선거 였음을 입증 하 게 되 어 당선 되 고 , 1 9 6 6 년 조지아 주 지사 선거 에 낙선 하 지만 1 9 7 0 년 조지아 주 지사 를 역임 했 다 . 대통령 이 되 기 전 조지 아주 상원 의원 을 두 번 연임 했으며 , 1 9 7 1 년 부터 1 9 7 5 년 까지 조지 아 지사 로 근무 했 다 . 조지 아 주지사 로 지내 면서 , 미국 에 사 는 흑인 등 용법 을 내세웠 다 . 취임식 을 올리 는 카터 1 9 7 6 년 대통령 선거 에 민주당 후보 로 출마 하 여 도덕주의 정책 으로 내세워 , 포드 를 누르 고 당선 되 었 다 . 카터 대통령 은 에너지 개발 을 촉구 했으나 공화 당 의 반대 로 무산 되 었 다 . Carter Begin , Camp David 1 9 7 8 . gif | 섬네일 | 3 0 0 px | 캠프 데이비드 에서 사다트 와 베긴 과 함께 카터 는 이집트 와 이스라엘 을 조정 하 여 , 캠프 데이비드 에서 안와르 사다트 대통령 과 메나헴 베긴 수상 과 함께 중동 평화 를 위한 캠프 데이비드 협정 을 체결 했 다 . 그러나 이것 은 공화 당 과 미국 의 유대 인 단체 의 반발 을 일으켰 다 . 1 9 7 9 년 백악관 에서 양국 간 의 평화 조약 으로 이끌 어 졌 다 . 또한 소련 과 제 2 차 전략 무기 제한 협상 에 조인 했 다 . 카터 는 1 9 7 0 년 대 후반 당시 대한민국 등 인권 후진국 의 국민 들 의 인권 을 지키 기 위해 노력 했으며 , 취임 이후 계속 해서 도덕 정치 를 내세웠 다 . 그러나 주 이 란 미국 대사관 인질 사건 에서 인질 구출 실패 를 이유 로 1 9 8 0 년 대통령 선거 에서 공화 당 의 로널드 레이건 후보 에게 져 결국 재선 에 실패 했 다 . 또한 임기 말기 에 터진 소련 의 아프가니스탄 침공 사건 으로 인해 1 9 8 0 년 하계 올림픽 에 반공 국가 들 의 보이콧 을 내세웠 다 . 지미 카터 는 대한민국 과 의 관계 에서 도 중요 한 영향 을 미쳤 던 대통령 중 하나 다 . 인권 문제 와 주한 미군 철수 문제 로 한때 한미 관계 가 불편 하 기 도 했 다 . 1 9 7 8 년 대한민국 에 대한 북한 의 위협 에 대비 해 한 미연 합사 를 창설 하 면서 , 1 9 8 2 년 까지 3 단계 에 걸쳐 주한 미군 을 철수 하 기 로 했 다 . 그러나 주한 미군 사령부 와 정보 기관 · 의회 의 반대 에 부딪혀 주한 미군 은 완전 철수 대신 6 , 0 0 0 명 을 감축 하 는 데 그쳤 다 . 또한 박정희 정권 의 인권 문제 등 과 의 논란 으로 불협화음 을 냈으나 , 1 9 7 9 년 6 월 하순 , 대한민국 을 방문 하 여 관계 가 다소 회복 되 었 다 . 1 9 7 9 년 ~ 1 9 8 0 년 대한민국 의 정치 적 격변기 당시 의 대통령 이 었 던 그 는 이 에 대해 애매 한 태도 를 보였 고 , 이 는 후 에 대한민국 내 에서 고조 되 는 반미 운동 의 한 원인 이 됐 다 . 1 0 월 2 6 일 , 박정희 대통령 이 김재규 중앙 정보 부장 에 의해 살해 된 것 에 대해 그 는 이 사건 으로 큰 충격 을 받 았 으며 , 사이러스 밴스 국무 장관 을 조문 사절 로 파견 했 다 . 1 2 · 1 2 군사 반란 과 5 . 1 7 쿠데타 에 대해 초기 에 는 강하 게 비난 했으나 , 미국 정부 가 신 군부 를 설득 하 는데 , 한계 가 있 었 고 결국 묵인 하 는 듯 한 태도 를 보이 게 됐 다 . 남수단 독립 국민 투표 에 업 저 버 사절단 을 지도 한 카터 퇴임 이후 민간 자원 을 적극 활용 한 비 영리 기구 인 카터 재단 을 설립 한 뒤 민주주의 실현 을 위해 제 3 세계 의 선거 감시 활동 및 기니 벌레 에 의한 드라 쿤 쿠르 스 질병 방재 를 위해 힘썼 다 . 미국 의 빈곤층 지원 활동 , 사랑 의 집짓기 운동 , 국제 분쟁 중재 등 의 활동 도 했 다 . 카터 는 카터 행정부 이후 미국 이 북 핵 위기 , 코소보 전쟁 , 이라크 전쟁 과 같이 미국 이 군사 적 행동 을 최후 로 선택 하 는 전통 적 사고 를 버리 고 군사 적 행동 을 선행 하 는 행위 에 대해 깊 은 유감 을 표시 하 며 미국 의 군사 적 활동 에 강한 반대 입장 을 보이 고 있 다 . 특히 국제 분쟁 조정 을 위해 북한 의 김일성 , 아이 티 의 세드 라스 장군 , 팔레 인 스타인 의 하마스 , 보스니아 의 세르비 아계 정권 같이 미국 정부 에 대해 협상 을 거부 하 면서 사태 의 위기 를 초래 한 인물 및 단체 를 직접 만나 분쟁 의 원인 을 근본 적 으로 해결 하 기 위해 힘썼 다 . 이 과정 에서 미국 행정부 와 갈등 을 보이 기 도 했 지만 , 전직 대통령 의 권한 과 재야 유명 인사 들 의 활약 으로 해결 해 나갔 다 . 1 9 7 8 년 에 채결 된 캠프 데이비드 협정 의 이행 이 지지부진 하 자 중동 분쟁 분제 를 해결 하 기 위해 1 9 9 3 년 퇴임 후 직접 이스라엘 과 팔레 인 스타인 의 오슬로 협정 을 이끌 어 내 는 데 도 성공 했 다 . 행렬 5 0 주년 을 맞 는 날 빌 클린턴 , 버락 오바마 대통령 과 함께 ( 2 0 1 3 년 ) 1 9 9 3 년 1 차 북 핵 위기 당시 북한 에 대한 미국 의 군사 적 행동 이 임박 했으나 , 미국 전직 대통령 으로 는 처음 으로 북한 을 방문 하 고 미국 과 북 양국 의 중재 에 큰 기여 를 해 위기 를 해결 했 다는 평가 를 받 았 다 . 또한 이 때 김영삼 대통령 과 김일성 주석 의 만남 을 주선 했 다 . 하지만 그 로부터 수 주일 후 김일성 이 갑자기 사망 하 여 김일성 과 김영삼 의 정상 회담 은 이루어지 지 못했 다 . 미국 의 관타나모 수용소 문제 , 세계 의 인권 문제 에서 도 관심 이 깊 어 유엔 에 유엔 인권 고등 판무관 의 제도 를 시행 하 도록 노력 하 여 독재자 들 의 인권 유린 에 대해 제약 을 하 고 , 국제 형사 재판소 를 만드 는 데 기여 하 여 독재자 들 같 은 인권 유린 범죄자 를 재판소 로 회부 하 여 국제 적 인 처벌 을 받 게 하 는 등 인권 신장 에 크 나 큰 기여 를 했 다 . 2 0 1 1 년 4 월 2 6 일 부터 2 9 일 까지 북한 을 3 일 간 방문 했 다 . 경제 문제 를 해결 하 지 못하 고 주 이란 미국 대사관 인질 사건 에 발목 이 잡혀 실패 한 대통령 으로 평가 를 받 지만 이란 사태 는 미국 내 이 란 재산 을 풀 어 주 겠 다는 조건 을 내세워서 사실상 카터 가 해결 한 것 이 었 고 , 사랑 의 집짓기 운동 등 으로 퇴임 후 에 훨씬 더 존경 받 는 미국 대통령 중 에 특이 한 인물 로 남 았 다 . 그 는 2 0 0 2 년 말 인권 과 중재 역할 에 대한 공로 를 인정받 아 노벨 평화상 을 받 게 되 었 다 . 《 진정 한 리더 는 떠난 후 에 아름답 다 》 저자 지미 카터 《 지미 카터 》 저자 지미 카터 ( 지식 의 날개 , 2 0 1 8 ) 분류 : 1 9 2 4 년 태어남 분류 : 1 9 7 6 년 미국 대통령 후보 분류 : 1 9 8 0 년 미국 대통령 후보 분류 : 그래미상 수상자 분류 : 노벨 평화상 수상자 분류 : 미국 해군 의 장교 분류 : 미국 의 침례교 도 분류 : 미국 의 노벨상 수상자 분류 : 미국 의 농부 분류 : 미국 의 대통령 분류 : 미국 의 역사 ( 1 9 6 4 - 1 9 8 0 ) 분류 : 미국 의 외교관 분류 : 미국 의 인도주의자 분류 : 미국 의 제 2 차 세계 대전 참전 군인 분류 : 미국 의 진보주의 분류 : 민주당 ( 미국 ) 의 정치 인 분류 : 살 아 있 는 사람 분류 : 스코틀랜드 계 미국인 분류 : 아일랜드 계 미국인 분류 : 잉글랜드 계 미국인 분류 : 조지아 공과 대학교 동문 분류 : 조지 아주 출신 정치 인 분류 : 조지 아주 지사 분류 : 미국 의 회고록 작가 분류 : 에모리 대학교 교수 분류 : 미국 해군사관학교 동문 분류 : 미국 미주리 종합 군사 학원 동문 분류 : 타임 올해 의 인물 분류 : 군사 기술자 분류 : 이 란 혁명 관련자\\n', '수학 ( 數學 , Mathematics ) 은 양 , 구조 , 공간 , 변화 등 의 개념 을 다루 는 학문 이 다 . 현대 수학 은 형식 논리 를 이용 해서 공리 로 구성 된 추상 적 구조 를 연구 하 는 학문 으로 여겨 지 기 도 한다 . 수학 은 그 구조 와 발전 과정 에서 는 자연 과학 에 속하 는 물리학 을 비롯 한 다른 학문 들 과 깊 은 연관 을 맺 고 있 다 . 하지만 , 어느 과학 의 분야 들 과 는 달리 , 자연 계 에서 관측 되 지 않 는 개념 들 에 대해서 까지 이론 을 일반 화 및 추상 화 시킬 수 있 다는 차이 가 있 다고 한다 . 수학자 들 은 그러 한 개념 들 에 대해서 추측 을 하 고 , 적절 하 게 선택 된 정의 와 공리 로부터 의 엄밀 한 연역 을 통해서 추측 들 의 진위 를 파악 한다 . 수학 은 숫자 세기 , 계산 , 측정 및 물리 적 대상 의 모양 과 움직임 을 추상 화 하 고 , 이 에 논리 적 추론 을 적용 하 여 나타났 다 . 이런 기본 개념 들 은 고대 이집트 , 메소포타미아 , 고대 인도 , 고대 중국 및 고대 그리스 의 수학 책 에서 찾아볼 수 있 다 . 그리고 , 유클리드 의 원론 에서 는 엄밀 한 논증 이 발견 된다 . 이런 발전 은 그 뒤 로 도 계속 되 어 , 1 6 세기 의 르네상스 에 이르 러서는 수학 적 발전 과 과학 적 방법 들 의 상호 작용 이 일어나 , 혁명 적 인 연구 들 이 진행 되 며 인류 문명 에 큰 영향 을 미치 게 되 었 다 . 그리고 , 이 는 현재 까지 도 계속 되 고 있 다 . 오늘날 수학 은 자연 과학 , 공학 , 의학 뿐 만 아니 라 , 경제학 등 의 사회 과학 에서 도 중요 한 도구 로서 도 사용 된다 . 수학 을 이런 분야 들 에 적용 한 응용 수학 은 그 결과 로써 수학 자체 의 발전 을 이끌 고 새로운 분야 들 을 낳 았 다 . 응용 이 아닌 수학 자체 의 아름다움 과 재미 를 추구 하 며 연구 하 는 것 을 순수 수학 이 라 하 는데 , 긴 시간 이 지난 뒤 에 순수 수학 적 연구 를 다른 분야 에 응용 할 방법 이 발견 된 경우 도 많 았 다고 한다 . 대부분 자료 를 보 면 , \" mathematics \" 는 \" 수리 적 인 \" 이 라는 뜻 을 가진 라틴어 mathmaticus 와 그리스어 mathematikos 에서 유래 되 었 거나 , \" 학식 있 는 \" 을 뜻 하 는 mathema 와 \" 배우 다 \" 를 뜻 하 는 manthanein 에서 유래 되 었 다고 한다 . 줄여서 \" math \" 라고 표현 하 기 도 한다 . 수학 은 기원전 6 0 0 년 경 에 살 았 던 탈레스 로부터 시작 됐 다 . 하지만 탈레스 가 태어나 기 전 에 도 수학 을 연구 한 사람 이 있 을 수 도 있 기 때문 에 , 인류 의 역사 와 더불 어 시작 되 었 다고 할 수 있 다 . 교역 • 분배 • 과세 등 의 인류 의 사회 생활 에 필요 한 모든 계산 을 수학 이 담당 해 왔 고 , 농경 생활 에 필수 적 인 천문 관측 과 달력 의 제정 , 토지 의 측량 또한 수학 이 직접 적 으로 관여 한 분야 이 다 . 고대 수학 을 크 게 발전 시킨 나라 로 는 이집트 , 인도 , 그리스 , 중국 등 이 있 다 . 그 중 에서 도 그리스 는 처음 으로 수학 의 방정식 에서 변수 를 문자 로 쓴 나라 이 다 . 한국 의 수학 은 약 1 , 5 0 0 년 전 부터 기록 으로 보이 기 시작 한다 . 신라 시대 에 수학 을 가르쳤으며 , 탈레스 가 최초 로 발견 한 일식 과 월식 을 예측 할 정도 로 발달 했 다 . 조선 시대 에 훈민정음 을 창제 한 세종 대왕 은 집현전 학자 들 에게 수학 연구 를 명하 는 등 , 조선 의 수학 수준 을 향상 시키 기 위해서 많 은 노력 을 기울였 다 . 하지만 임진왜란 으로 많 은 서적 들 이 불타 고 , 천문학 분야 에서 큰 손실 을 입 었 다 . 조선 후기 의 한국 의 수학 은 실학자 들 을 중심 으로 다시 발전 하 였 고 , 새로운 결과 도 성취 되 었 다 . 6 . png | right | 섬네일 | 주판 은 고대 로부터 계산 도구 로 사용 되 어 왔 다 . 수학 의 각 분야 들 은 상업 에 필요 한 계산 을 하 기 위해 , 숫자 들 의 관계 를 이해 하 기 위해 , 토지 를 측량 하 기 위해 , 그리고 천문학 적 사건 들 을 예견 하 기 위해 발전 되 어 왔 다 . 이 네 가지 목적 은 대략 적 으로 수학 이 다루 는 대상 인 양 , 구조 , 공간 및 변화 에 대응 되 며 , 이 들 을 다루 는 수학 의 분야 를 각각 산술 , 대수학 , 기하학 , 해석학 이 라 한다 . 또한 이 밖 에 도 근대 이후 에 나타난 수학 기초 론 과 이산 수학 및 응용 수학 등 이 있 다 . 산술 은 자연수 와 정수 및 이 에 대한 사칙 연산 에 대한 연구 로서 시작 했 다 . 수론 은 이런 주제 들 을 보다 깊 게 다루 는 학문 으로 , 그 결과 로 는 페르마 의 마지막 정리 등 이 유명 하 다 . 또한 쌍둥이 소수 추측 과 골드바 흐 추측 등 을 비롯 해 오랜 세월 동안 해결 되 지 않 고 남 아 있 는 문제 들 도 여럿 있 다 . 수 의 체계 가 보다 발전 하 면서 , 정수 의 집합 을 유리수 의 집합 의 부분집합 으로 여기 게 되 었 다 . 또한 유리수 의 집합 은 실수 의 집합 의 부분집합 이 며 , 이 는 또 다시 복소수 집합 의 일부분 으로 볼 수 있 다 . 여기 에서 더 나아가 면 사원수 와 팔원수 등 의 개념 을 생각 할 수 도 있 다 . 이 와 는 약간 다른 방향 으로 , 자연수 를 무한대 까지 세 어 나간다는 개념 을 형식 화 하 여 순서수 의 개념 을 얻 으며 , 집합 의 크기 비교 를 이용 하 여 무한대 를 다루 기 위한 또 다른 방법 으로 는 기수 의 개념 도 있 다 . 자연수 정수 유리수 실수 복소수 수 대신 문자 를 써서 문제 해결 을 쉽 게 하 는 것 과 , 마찬가지 로 수학 적 법칙 을 일반 적 이 고 간명 하 게 나타내 는 것 을 포함 한다 . 고전 대수학 은 대수 방정식 및 연립 방정식 의 해법 에서 시작 하 여 군 , 환 , 체 등 의 추상 대수학 을 거쳐 현대 에 와서 는 대수계 의 구조 를 보 는 것 을 중심 으로 하 는 선형 대수학 으로 전개 되 었 다 . 수 의 집합 이나 함수 와 같 은 많 은 수학 적 대상 들 은 내재 적 인 구조 를 보인다 . 이러 한 대상 들 의 구조 적 특성 들 이 군론 , 환론 , 체 론 그리고 그 외 의 수많 은 대수 적 구조 들 을 연구 하 면서 다루 어 지 며 , 그것 들 하나하나 가 내재 적 구조 를 지닌 수학 적 대상 이 다 . 이 분야 에서 중요 한 개념 은 벡터 , 벡터 공간 으로 의 일반 화 , 그리고 선형 대수학 에서 의 지식 들 이 다 . 벡터 의 연구 에 는 산술 , 대수 , 기하라 는 수학 의 중요 한 세 개 의 분야 가 조합 되 어 있 다 . 벡터 미적분학 은 여기 에 해석학 의 영역 이 추가 된다 . 텐서 미적분학 은 대칭 성 과 회전축 의 영향 아래 에서 벡터 의 움직임 을 연구 한다 . 눈금 없 는 자 와 컴퍼스 와 관련 된 많 은 고대 의 미해결 문제 들 이 갈루아 이론 을 사용 하 여 비로소 해결 되 었 다 . 9 6 px 9 6 px 9 6 px 9 6 px 군론 수론 그래프 이론 순서론 공간 에 대한 연구 는 기하학 에서 시작 되 었 고 , 특히 유클리드 기하학 에서 비롯 되 었 다 . 삼각법 은 공간 과 수 들 을 결합 하 였 고 , 잘 알려진 피타고라스 의 정리 를 포함 한다 . 현대 에 와서 공간 에 대한 연구 는 , 이러 한 개념 들 은 더 높 은 차원 의 기하학 을 다루 기 위해 비 유클리드 기하학 ( 상대 성 이론 에서 핵심 적 인 역할 을 함 ) 과 위상 수학 으로 일반 화 되 었 다 . 수론 과 공간 에 대한 이해 는 모두 해석 기하학 , 미분기 하학 , 대수 기하학 에 중요 한 역할 을 한다 . 리 군 도 공간 과 구조 , 변화 를 다루 는데 사용 된다 . 위상 수학 은 2 0 세기 수학 의 다양 한 지류 속 에서 괄목 할 만 한 성장 을 한 분야 이 며 , 푸앵카레 추측 과 인간 에 의해서 증명 되 지 못하 고 오직 컴퓨터 로 만 증명 된 4 색 정리 를 포함 한다 . 9 6 px 9 6 px 9 6 px 9 6 px 위상 수학 삼각법 미분기 하학 프랙털 기하학 변화 에 대한 이해 와 묘사 는 자연 과학 에 있 어서 일반 적 인 주제 이 며 , 미적분학 은 변화 를 탐구 하 는 강력 한 도구 로서 발전 되 었 다 . 함수 는 변화 하 는 양 을 묘사 함 에 있 어서 중추 적 인 개념 으로써 떠오르 게 된다 . 실수 와 실변수 로 구성 된 함수 의 엄밀 한 탐구 가 실해 석학 이 라는 분야 로 알려 지 게 되 었 고 , 복소수 에 대한 이 와 같 은 탐구 분야 는 복소 해석학 이 라고 한다 . 함수 해석학 은 함수 의 공간 ( 특히 무한 차원 ) 의 탐구 에 주목 한다 . 함수 해석학 의 많 은 응용 분야 중 하나 가 양자 역학 이 다 . 많 은 문제 들 이 자연 스럽 게 양 과 그 양 의 변화 율 의 관계 로 귀착 되 고 , 이러 한 문제 들 이 미분 방정식 으로 다루 어 진다 . 자연 의 많 은 현상 들 이 동역학 계 로 기술 될 수 있 다 . 혼돈 이론 은 이러 한 예측 불 가능 한 현상 을 탐구 하 는 데 상당 한 기여 를 한다 . 9 6 px 9 6 px 9 6 px 9 6 px 9 6 px 미적분학 벡터 미적분학 미분 방정식 동역학 계 혼돈 이론 수학 의 기초 를 확실히 세우 기 위해 , 수리 논리학 과 집합론 이 발전 하 였 고 , 이 와 더불 어 범주론 이 최근 에 도 발전 되 고 있 다 . “ 근본 위기 ” 라는 말 은 대략 1 9 0 0 년 에서 1 9 3 0 년 사이 에 일어난 , 수학 의 엄밀 한 기초 에 대한 탐구 를 상징 적 으로 보여 주 는 말 이 다 . 수학 의 엄밀 한 기초 에 대한 몇 가지 의견 불 일치 는 오늘날 에 도 계속 되 고 있 다 . 수학 의 기초 에 대한 위기 는 그 당시 수많 은 논쟁 에 의해 촉발 되 었 으며 , 그 논쟁 에 는 칸토어 의 집합론 과 브라우어 - 힐베르트 논쟁 이 포함 되 었 다 . 1 2 8 px 9 6 px 집합론 범주론 수리 논리학 9 6 px 9 6 px 9 6 px 조합론 계산 이론 암호학 그래프 이론 9 6 px 9 6 px 9 6 px 9 6 px 수리 물리학 유체 역학 수치 해석학 최적화 이론 9 6 px 9 6 px 9 6 px 9 6 px 확률론 통계학 금융 수학 게임 이론 정수론 기하학 대수학 해석학 산학 대한민국 의 고등학교 수학 교과목 이산 수학 응용 수학 Eves , Howard , An Introduction to the History of Mathematics , Sixth Edition , Saunders , 1 9 9 0 , . Jourdain , Philip E . B . , The Nature of Mathematics , in The World of Mathematics , James R . Newman , editor , Dover , 2 0 0 3 , . Peterson , Ivars , Mathematical Tourist , New and Updated Snapshots of Modern Mathematics , Owl Books , 2 0 0 1 , . 대한 수학회 ( KMS ) KAIST 수학 문제 연구회 Mathworld The MacTutor History of Mathematics archive 수리 과학 연구 정보 센터 용어 검색 분류 : 형식 과학 분류 : 수학 용어\\n', '수학 에서 상수 란 그 값 이 변하 지 않 는 불변량 으로 , 변수 의 반대말 이 다 . 물리 상수 와 는 달리 , 수학 상수 는 물리 적 측정 과 는 상관없이 정의 된다 . 수학 상수 는 대개 실수체 나 복소수체 의 원소 이 다 . 우리 가 이야기 할 수 있 는 상수 는 ( 거의 대부분 계산 가능 한 ) 정의 가능 한 수 이 다 . 특정 수학 상수 , 예 를 들 면 골 롬 - 딕맨 상수 , 프랑세즈 - 로빈슨 상수 , , 레비 상수 같 은 상수 는 다른 수학 상수 또는 함수 와 약한 상관관계 또는 강한 상관 관계 를 갖 는다 . 기호 값 이름 분류 N 알려진 때 알려진 소수점 자릿수 1 1 일 , 하나 일 반 정수 고대 ? ∞ 0 0 영 일반 대수 적 수 고대 BC 5 0 0 년 경 ∞ i 허수 단위 , 아이 ( ) 일반 복소수 1 5 0 0 년 경 ∞ π ≈ 3 . 1 4 1 5 9 2 6 5 3 5 8 9 7 9 3 2 3 8 4 6 2 6 4 3 3 8 3 2 7 9 5 0 2 8 8 원주율 일반 초월수 고대 1 , 2 4 1 , 1 7 7 , 3 0 0 , 0 0 0 e ≈ 2 . 7 1 8 2 8 1 8 2 8 4 5 9 0 4 5 2 3 5 3 6 0 2 8 7 4 7 1 3 5 2 6 6 2 4 9 네이피어 수 , 자연로그 의 밑 일반 초월수 1 6 1 8 년 1 2 , 8 8 4 , 9 0 1 , 0 0 0 ≈ 1 . 4 1 4 2 1 3 5 6 2 3 7 3 0 9 5 0 4 8 8 0 1 6 8 8 7 2 4 2 0 9 6 9 8 0 7 2 의 제곱근 , 닮음비 일반 대수 적 수 , 무리수 고대 1 3 7 , 4 3 8 , 9 5 3 , 4 4 4 γ ≈ 0 . 5 7 7 2 1 5 6 6 4 9 0 1 5 3 2 8 6 0 6 0 6 5 1 2 0 9 0 0 8 2 4 0 2 4 3 오 일 러 - 마스 케로 니 상수 일반 , 수론 ? 1 7 3 5 년 1 0 8 , 0 0 0 , 0 0 0 φ ≈ 1 . 6 1 8 0 3 3 9 8 8 7 4 9 8 9 4 8 4 8 2 0 4 5 8 6 8 3 4 3 6 5 6 3 8 1 1 황금비 일반 , 피보나치 수열 대수 적 수 , 무리수 고대 3 , 1 4 1 , 0 0 0 , 0 0 0 β ≈ 0 . 7 0 2 5 8 엠브리 - 트레 페텐 상수 수론 ? ? ? δ ≈ 4 . 6 6 9 2 0 1 6 0 9 1 0 2 9 9 0 6 7 1 8 5 3 2 0 3 8 2 0 4 6 6 2 0 1 6 1 파이겐바움 상수 혼돈 이론 ? 1 9 7 5 년 ? α ≈ 2 . 5 0 2 9 0 7 8 7 5 0 9 5 8 9 2 8 2 2 2 8 3 9 0 2 8 7 3 2 1 8 2 1 5 7 8 파이겐바움 상수 혼돈 이론 ? ? ? C 2 ≈ 0 . 6 6 0 1 6 1 8 1 5 8 4 6 8 6 9 5 7 3 9 2 7 8 1 2 1 1 0 0 1 4 5 5 5 7 7 쌍둥이 소수 상수 수론 ? ? 5 , 0 2 0 M 1 ≈ 0 . 2 6 1 4 9 7 2 1 2 8 4 7 6 4 2 7 8 3 7 5 5 4 2 6 8 3 8 6 0 8 6 9 5 8 5 메이 쎌 - 메르텐스 상수 ( Meissel - Mertens constant ) 수론 ? 1 8 6 6 년 1 8 7 4 년 8 , 0 1 0 B 2 ≈ 1 . 9 0 2 1 6 0 5 7 8 2 4 쌍둥이 소수 에 대한 브룬 상수 ( Brun s constant ) 수론 ? 1 9 1 9 년 1 1 B 4 ≈ 0 . 8 7 0 5 8 8 3 8 0 0 소수 쿼드 러플 릿 ( prime quadruplet ) 에 대한 브룬 상수 ( Brun s constant ) 수론 ? ? ? Λ – 2 . 7 · 1 0 - 9 드 브루인 - 뉴먼 상수 ( de Bruijn - Newman constant ) 수론 ? 1 9 5 0 년 ? ? G ≈ 0 . 9 1 5 9 6 5 5 9 4 1 7 7 2 1 9 0 1 5 0 5 4 6 0 3 5 1 4 9 3 2 3 8 4 1 1 카탈란 상수 ( Catalan s constant ) 조합론 ? ? 1 5 , 5 1 0 , 0 0 0 , 0 0 0 K ≈ 0 . 7 6 4 2 2 3 6 5 3 5 8 9 2 2 0 6 6 란다우 - 라마누잔 상수 수론 무리수 ( ? ) ? 3 0 , 0 1 0 K ≈ 1 . 1 3 1 9 8 8 2 4 8 7 9 4 3 비 슈바 나트 상수 ( Viswanath s constant 1 ) 수론 ? ? 1 3 L ≈ 0 . 5 4 3 2 5 8 9 6 5 3 4 2 9 7 6 7 0 6 9 5 2 7 2 8 2 9 5 3 0 0 6 1 3 2 3 란다우 상수 ( Landau s constant ) 해석학 ? ? > 1 , 0 0 0 B ´ L ≈ 1 . 0 8 3 6 6 르장드르 상수 ( Legendre s constant ) 수론 ? ? ? μ ≈ 1 . 4 5 1 3 6 9 2 3 4 8 8 3 3 8 1 0 5 0 2 8 3 9 6 8 4 8 5 8 9 2 0 2 7 라마누잔 - 솔드너 상수 ( Ramanujan - Soldner s constant ) , 솔드너 상수 ( Soldner s constant ) 수론 ? ? 7 5 , 5 0 0 EB ≈ 1 . 6 0 6 6 9 5 1 5 2 4 1 5 2 9 1 7 6 3 에르되시 - 보어 와인 상수 ( Erdös - Borwein s constant ) 수론 무리수 ? ? ≈ 렝겔 상수 ( Lengyel s Constant ) 수론 ? 1 9 9 2 년 ? ≈ 알라 디 - 그린 스테드 상수 ( Alladi – Grinstead constant ) 조합론 ? ? ? * 레비 상수 * 라플라스 극한 * 알라 디 - 그린 스테드 상수 * 뤼 로스 상수 * 오일러 - 마스 케로 니 상수 * 프랑세즈 - 로빈슨 상수 * 번스타인 상수 * 아페리 상수 * 시 에 르 핀스 키 상수 * 가우스 상수 * 란다우 상수 * 브룬 상수 * 밀스 상수 * 골 롬 - 딕맨 상수 * 빽 하우스 상수 * 니븐 상수 * 로크 스 상수 * 르장드르 상수 * 해프너 - 사 낙 크 - 맥컬리 상수 * 에르되시 - 보어 와인 상수 * 마이셀 - 메르텐스 상수 * 쌍둥이 소수 상수 * 알틴 상수 * 드 브루인 - 뉴먼 상수 * 글레이셔 - 킨 켈린 상수 * 포터 상수 * 가우스 - 쿠즈민 - 비어 징 상수 * 킨 친 상수 * 뤼카 수 * 역 피보나치 상수 ( Reciprocal Fibonacci constant ) * 비 슈바 나트 상수 * 엠브리 - 트레 페텐 상수 * 플라스틱 수 * 콘웨이 상수 * 바르 가 상수 ( Varga constant ) * 체비쇼프 상수 * 카 앵 상수 ( Cahen s constant ) * 오메가 상수 ( Omega constant ) * 립 의 4 각 얼음 상수 * 유니버설 파라 볼 릭 상수 ( Universal parabolic constant ) * 함수 * 수학 기호 * 오일러 의 곱셈 공식\\n', 'The Reader . jpg | 섬네일 | 2 5 0 px | 장 오노레 프라고나르 작 \" 책 읽 는 소녀 \" 문학 ( 文學 ) 은 언어 를 예술 적 표현 의 제재 로 삼 아 새로운 의미 를 창출 하 여 , 인간 과 사회 를 진실 되게 묘사 하 는 예술 의 하위 분야 이 다 . 간단 하 게 설명 하 면 , 언어 를 통해 인간 의 삶 을 미적 ( 美 的 ) 으로 형상 화 한 것 이 라고 볼 수 있 다 . 문학 은 원래 문예 ( 文藝 ) 라고 부르 는 것 이 옳 으며 , 문학 을 학문 의 대상 으로서 탐구 하 는 학문 의 명칭 역시 문예학 이 다 . 문예학 은 음악 사학 , 미술 사학 등 과 함께 예술학 의 핵심 분야 로서 인문학 의 하위 범주 에 포함 된다 . 일반 적 으로 문학 의 정의 는 텍스트 들 의 집합 이 다 . 각각 의 국가 들 은 고유 한 문학 을 가질 수 있 으며 , 이 는 기업 이나 철학 조류 , 어떤 특정 한 역사 적 시대 도 마찬가지 이 다 . 흔히 한 국가 의 문학 을 묶 어서 분류 한다 . 예 를 들 어 고대 그리스어 , 성서 , 베오울프 , 일리아드 , 그리고 미국 헌법 등 이 그러 한 분류 의 범주 에 들어간다 . 좀 더 일반 적 으로 는 문학 은 특정 한 주제 를 가진 이야기 , 시 , 희곡 의 모음 이 라 할 수 있 다 . 이 경우 , 이야기 , 시 , 그리고 희곡 은 민족주의 적 인 색채 를 띨 수 도 아닐 수 도 있 다 . 문학 의 한 부분 으로서 특정 한 아이템 을 구분 짓 는 일 은 매우 어려운 일 이 다 . 어떤 사람 들 에게 \" 문학 \" 은 어떠 한 상징 적 인 기록 의 형태 로 도 나타날 수 있 는 것 이 다 . ( 이를테면 이미지 나 조각 , 또는 문자 로 도 나타날 수 있 다 . ) 그러나 또 다른 사람 들 에게 있 어 문학 은 오직 문자 로 이루어진 텍스트 로 구성 된 것 만 을 포함 한다 . 좀 더 보수 적 인 사람 들 은 그 개념 이 꼭 물리 적 인 형태 를 가진 텍스트 여야 하 고 , 대개 그러 한 형태 는 종이 등 의 눈 에 보이 는 매체 에서 디지털 미디어 까지 다양 할 수 있 다 . 더 나아가 보 면 , \" 문학 \" 과 몇몇 인기 있 는 기록 형태 의 작업 들 , 소위 대중 문학 사이 에 는 인식 가능 한 차이점 이 존재 한다 . 이때 \" 문학 적 인 허구성 \" 과 \" 문학 적 인 재능 \" 이 종종 개별 적 인 작품 들 을 구별 하 는 데 에 사용 된다 . 예 를 들 어 , 찰스 디킨즈 의 작품 들 은 대부분 의 사람 들 에게 \" 문학 적 인 것 \" 으로 받아들여 지 지만 , 제프리 아처 의 작품 들 은 영문학 이 라는 일반 적 인 범주 아래 두기 에 는 다소 가치 가 떨어지 는 것 으로 생각 된다 . 또한 예 를 들 어 문법 과 어법 에 서투르 거나 , 이야기 가 혼란 스러워 신뢰 성 을 주 지 않 거나 , 인물 들 의 성격 에 일관 성 이 없 을 경우 에 도 문학 에서 제외 될 수 있 다 . 로맨스 , 범죄 소설 , 과학 소설 등 의 장르 소설 도 때로 \" 문학 \" 이 아닌 것 으로 간주 되 는 경우 도 있 다 . 이 들 은 대부분 대중 문학 의 범주 에 포함 된다 . 문학 은 분류 하 는 방법 에 따라 다음 과 같이 구분 한다 . # 전달 ( 傳達 ) 수단 이 말 인 구전 문학 ( 口傳 文學 ) 과 문자 에 의한 기재 문학 ( 記 載 文學 ) # 문체 가 틀 에 박힌 율문 ( 律文 ) 과 그렇 지 않 은 산문 ( 散文 ) . # 내용 이 현재 형 으로서 , 주관 적 내용 인 서정 문학 ( 抒情 文學 ) , 과거 형 으로서 객관 적 내용 인 서사 문학 ( 敍事 文學 ) , 과거 의 사건 이 현재 형 으로 표현 되 며 동작 과 회화 에 의한 극 문학 ( 劇 文學 ) , 서정 적 과 서사 적 의 중간 에 위치 하 며 일기 · 수필 · 시론 ( 詩論 ) · 비평 등 을 가리키 는 자조 문학 ( 自照 文學 ) . # 문학 활동 에서 , 자기 의 상상 을 기초 로 하 는 창작 과 창작 된 작품 의 가치 를 논하 는 평론 이 외 에 도 편의 에 따라 발생 적 으로 대별 하 기 도 한다 . 문학 은 처음 은 유일 한 종류 , 즉 노래 하 고 , 말 하 고 , 춤춘다는 것 이 분화 되 지 않 은 것 이 었 다 . 이 춤추 는 것 을 중심 으로 발달 한 것 이 연극 ( 演劇 ) 이 며 , 노래 하 는 것 이 발달 하 여 시 ( 詩 ) , 말 하 는 것 이 발달 하 여 산문 ( 散文 ) 의 이야기 가 되 었 다 . 시 는 정형시 · 자유시 · 산문시 로 , 또한 서사시 와 서정시 로 나뉜다 . 산문 은 사건 을 중심 으로 그려진 이야기 , 근대 리얼리즘 의 수법 이후 인물 의 성격 을 묘사 하 는 것 을 중심 으로 한 소설 이 있 다 . 이야기 나 소설 과 같이 특별 한 구상 에 의하 지 않 고 , 작자 의 흥미 에 의해서 씌 어 지 는 것 이 잡문 ( 雜文 ) 또는 수필 이 며 , 이것 이 날짜 에 따라 씌 어 지 는 것 이 일기 , 여행 의 과정 에 따라 씌 어 지 는 것 이 기행문 이 다 . 일기 와 마찬가지 로 발표 의 의도 가 작 은 것 에 서간 ( 書簡 ) 이 있 다 . 이 밖 에 사건 의 경험 에 따른 회고록 , 사건 등 의 특정시 ( 特定 時 ) 에 한정 되 지 않 는 자서전 , 제삼자 에 의해서 씌 어 지 는 전기 ( 傳記 ) 가 있 다 . 또한 이것 들 을 포함 하 는 예술 작품 의 가치 평가 를 시도 하 는 것 이 평론 ( 評論 ) 이 다 . 산문 * 소설 ** 주제 별 소설 ** 대상 별 소설 *** 동화 * 수필 ** 수필 ** 편지 ** 기록 문학 *** 전기 *** 일기 *** 기행문 *** 실록 * 평론 다만 수필 의 일부 로 보 기 도 한다 . 운문 * 시 * 부 극 문학 다만 산문 의 일부 로 보 기 도 한다 . * 희곡 대중 문학 이 란 상업 성 을 띠 며 대중 을 겨냥 하 여 그 들 의 통속 적 인 흥미 와 욕구 를 채워 주 는 문학 을 말 한다 . 대중 문학 의 하위 장르 에 는 여러 가지 가 있 다 . 에세이 연애 소설 판타지 소설 무협 소설 공상 과학 소설 추리 소설 공포 소설 인터넷 소설 시나리오 방송극 인터넷 시 만화 바로크 ( Baroque ) 고전주의 ( 古典 主義 , Classic ) 낭만주의 ( 浪漫主義 , Romantic ) 계몽주의 ( 啓蒙 主義 , Enlightenment ) 자연주의 ( 自然 主義 , Naturalism ) 사실주의 ( 寫實 主義 , Realism ) 표현주의 ( 表現 主義 , Expressionism ) 허무주의 ( 虛無 主義 , Nihilism ) 실존주의 ( 實存 主義 , Existentialism ) 모더니즘 ( Modernism ) 초현실주의 ( 超 現實 主義 , Surrealism ) 포스트모더니즘 ( Post - modernism ) 문학 을 창작 하 는 예술가 를 문예가 라고 부른다 . 문예학 을 연구 하 는 사람 을 문예학 자 라고 부른다 . 문학 을 창작 하 는 사람 을 따로 저술가 라고 한다 . 문예 학자 와 언어학자 를 합쳐 어 문학자 로 칭하 기 도 한다 . 그러나 언어 와 , 언어 를 사용 한 예술 인 문학 은 현격 한 차이 가 있 으므로 주의 해야 한다 . 문예 가 번역가 에세 이스트 저널리스트 소설가 시인 문예 학자 한국 문학 중국 문학 일본 문학 인도 문학 고대 그리스 문학 고대 라틴 어문학 영어 문학 * 영국 문학 * 미국 문학 * 아일랜드 문학 * 오스트레일리아 문학 프랑스 문학 독일 문학 이탈리아 문학 스페인 문학 러시아 문학 스칸디나비아 문학 * 스웨덴 문학 * 노르웨이 문학 * 핀란드 문학 * 덴마크 문학 중 남미 문학 * 멕시코 문학 * 베네수엘라 문학 * 브라질리아 문학 * 아르헨티나 문학 * 칠레 문학 유대 문학 아라비아 문학 터키 문학 이집트 문학 남아프리카 문학 반영론 적 관점 에 의한 감상 은 작품 을 창작 된 당시 시대 정황 과 연결 시켜 감상 하 는 입장 이 고 , 내재 적 관점 의 감상 은 작품 의 형식 , 내용 에 국한 하 여 감상 하 는 것 이 다 . 표현 론 적 관점 의 감상 은 작가 의 전기 적 사실 과 작품 을 연결 시켜 감상 하 는 것 이 고 , 수용 론 적 관점 의 감상 은 독자 와 작품 을 연결 시켜 감상 하 는 것 을 말 한다 . 문학자 문학상\\n', '이 문서 는 나라 목록 이 며 , 전 세계 2 0 6 개 나라 의 각 현황 과 주권 승인 정보 를 개요 형태 로 나열 하 고 있 다 . 이 목록 은 명료 화 를 위해 두 부분 으로 나뉘 어 있 다 . # 첫 번 째 부분 은 바티칸 시국 과 팔레스타인 을 포함 하 여 유엔 등 국제 기구 에 가입 되 어 국제 적 인 승인 을 널리 받 았 다고 여기 는 1 9 5 개 나라 를 나열 하 고 있 다 . # 두 번 째 부분 은 일부 지역 의 주권 을 사실 상 ( 데 팍토 ) 행사 하 고 있 지만 , 아직 국제 적 인 승인 을 널리 받 지 않 았 다고 여기 는 1 1 개 나라 를 나열 하 고 있 다 . 두 목록 은 모두 가 나다 순 이 다 . 일부 국가 의 경우 국가 로서 의 자격 에 논쟁 의 여부 가 있 으며 , 이 때문 에 이러 한 목록 을 엮 는 것 은 매우 어렵 고 논란 이 생길 수 있 는 과정 이 다 . 이 목록 을 구성 하 고 있 는 국가 를 선정 하 는 기준 에 대한 정보 는 \" 포함 기준 \" 단락 을 통해 설명 하 였 다 . 나라 에 대한 일반 적 인 정보 는 \" 국가 \" 문서 에서 설명 하 고 있 다 . 나라 · 가 나 다 라 마 바 사 아 자 차 카 타 파 하 기 타 국가 · 포함 기준 · 같이 보 기 · 각주 · 참고 문헌 한국어 와 국가 공용어 명칭 주권 상태 와 승인 정보 ---- ---- – 가나 공화국 영어 Ghana – Republic of Ghana 유엔 가입 국가 로 승인 받 았 다 . ---- – 가봉 공화국 프랑스어 Gabon – République Gabonaise 유엔 가입 국가 로 승인 받 았 다 . ---- – 가이아 나 협동 공화국 영어 Guyana – Co - operative Republic of Guyana 유엔 가입 국가 로 승인 받 았 다 . ---- – 감비아 공화국 영어 Gambia – Republic of The Gambia 유엔 가입 국가 로 승인 받 았 다 . ---- – 과테말라 공화국 스페인어 Guatemala – República de Guatemala 유엔 가입 국가 로 승인 받 았 다 . ---- 영어 Grenada 유엔 가입 국가 로 승인 받 았 다 . 그레 나 다는 영국 연방 왕국 이 다 . ---- 그루지야 1 5 px 조지아 ---- – 그리스 공화국 그리스어 Ελλάδα – Ελληνική Δημοκρατία : 엘 라다 - 엘리 니케 디모 크라 티아 유엔 과 유럽 연합 가입 국가 로 승인 받 았 다 . 그리스 는 아토스 산 의 주권 을 행사 하 고 있 다 . 아토스 산 은 종교 자치 구역 으로 , 수도원 공동체 와 그리스 외교부 장관 이 임명 한 내정 지도자 의 연대 로 행정 이 이루어지 며 , 종교 상 의 사법 권 은 총 대주교구 에 있 다 . ---- – 기니 공화국 프랑스어 Guinée – République de Guinée 유엔 가입 국가 로 승인 받 았 다 . ---- – 기니비사우 공화국 포르투갈어 Guiné - Bissau – República da Guiné - Bissau 유엔 가입 국가 로 승인 받 았 다 . ---- ---- 나 고 르노 카라바흐 공화국 1 5 px 기타 국가 ---- – 나미 비아 공화국 영어 Namibia – Republic of Namibia 유엔 가입 국가 로 승인 받 았 다 . ---- – 나 우루 공화국 나우루어 Naoero – Ripublik Naoero 영어 Nauru – Republic of Nauru 유엔 가입 국가 로 승인 받 았 다 . ---- – 나이지리아 연방 공화국 영어 Nigeria – Federal Republic of Nigeria 유엔 가입 국가 로 승인 받 았 다 . 나이지리아 는 주 와 하나 의 연방 지역 으로 나뉜 연합 국가 이 다 . ---- – 남수단 공화국 영어 South Sudan – Republic of Sudan 2 0 1 1 년 7 월 9 일 독립 하 여 , 유엔 가입 국가 로 승인 받 았 다 . ---- – 남아프리카 공화국 영어 South Africa – Republic of South Africa 아프리칸스 어 Suid - Afrika – Republiek van Suid - Afrika 코사어 Mzantsi Afrika – IRiphabliki yaseMzantsi Afrika 줄루어 Ningizimu Afrika – IRiphabliki yaseNingizimu Afrika 은데벨레 어 Sewula Afrika – IRiphabliki yeSewula Afrika 남소 토어 Afrika - Borwa – Rephaboliki ya Afrika - Borwa 소토어 Afrika Borwa – Rephaboliki ya Afrika Borwa 츠와나 어 Aforika Borwa – Rephaboliki ya Aforika Borwa 스와티어 Ningizimu Afrika – IRiphabhulikhi yeNingizimu Afrika 벤다어 Afurika Tshipembe – Riphabuḽiki ya Afurika Tshipembe 총 가어 Afrika Dzonga – Riphabliki ra Afrika Dzonga 유엔 가입 국가 로 승인 받 았 다 . ---- 남오세티야 1 5 px 기타 국가 ---- 남조선 1 5 px 대한민국 ---- 남한 1 5 px 대한민국 ---- – 네덜란드 왕국 네덜란드어 Nederland – Koninkrijk der Nederlanden 파피 아멘 토어 Hulanda ( or Ulanda ) - Reino di Hulanda 영어 Netherlands - Kingdom of the Netherlands 유엔 가입 국가 로 승인 받 았 다 . 네덜란드 왕국 은 다섯 국가 로 이루어져 있 으며 , 각 국가 는 강력 한 자치 권 을 행사 한다 . 네덜란드 는 법률 상 으로 왕국 의 구성 국가 중 하나 의 명칭 이 다 . 네덜란드 왕국 자체 는 유럽 연합 가입 국가 이나 , 아루바 를 포함 한 자치령 들 은 유럽 연합 에 속하 지 않 는다 . ---- – 네 팔 연방 민주 공화국 네팔어 नेपाल : Sanghiya Loktāntrik Ganatantra Nepāl 유엔 가입 국가 로 승인 받 았 다 . ---- – 노르웨이 왕국 노르웨이어 Norge – Kongeriket Norge 유엔 가입 국가 로 승인 받 았 다 . 스발바르 제도 는 노르웨이 의 일부 영토 이나 , 스발바르 조약 에 따라서 특별 권 을 행사 한다 . 노르웨이 는 해외 무인지경 영토 인 부베 섬 과 얀마옌 섬 을 소유 하 고 있 다 . 노르웨이 가 주장 하 는 표트르 1 세 섬 과 퀸모드랜드 의 영유권 은 현재 동결 하 였 다 . ---- 영어 New Zealand 마오리어 Aotearoa 유엔 가입 국가 로 승인 받 았 다 . 뉴질랜드 는 영국 연방 왕국 으로 , 다음 두 자유 연합 국가 의 책무 를 맡 고 있 다 . . 쿡 제도 는 외교 승인 을 받 았 다 . . 뉴질랜드 가 외교 정사 책임 을 맡 고 있 으나 , 2 0 0 7 년 중화 인민공화국 과 외교 관계 를 맺 었 다 . 다음 의 속령 국가 를 가지 고 있 다 . 뉴질랜드 는 남극 대륙 일부 지역 의 영유권 을 주장 하 고 있 다 . 로스 보호령 뉴질랜드 가 영유권 을 주장 하 고 있 지만 어떠 한 국가 도 인정 하 지 않 는다 . ---- – 니제르 공화국 프랑스어 Niger – République du Niger 유엔 가입 국가 로 승인 받 았 다 . ---- – 니카라과 공화국 스페인어 Nicaragua – República de Nicaragua 유엔 가입 국가 로 승인 받 았 다 . ---- ---- 대만 1 5 px 타이완 ---- 한국어 대한민국 유엔 가입 국가 로 승인 받 았 다 . 대한민국 과 조선 민주주의 인민공화국 은 서로 를 승인 하 지 않 았 다 . 대한민국 은 일본 이 영유권 을 주장 하 는 독도 의 주권 을 가지 며 , 조선 민주주의 인민공화국 이 차지 하 고 있 는 영토 일체 에 대한 영유권 을 주장 한다 . ---- – 덴마크 왕국 덴마크어 Danmark – Kongeriget Danmark 유엔 과 유럽 연합 가입 국가 로 승인 받 았 다 . 덴마크 왕국 은 한 개 의 자치 구역 을 가지 고 있 다 . ( Føroyar / Færøerne ) ---- – 도미니카 연방 영어 Dominica – Commonwealth of Dominica 유엔 가입 국가 로 승인 받 았 다 . ---- 스페인어 República Dominicana 유엔 가입 국가 로 승인 받 았 다 . ---- – 독일 연방 공화국 독일어 Deutschland – Bundesrepublik Deutschland : 도이칠란트 - 분 데스 레 푸 블 리크 도이칠란트 유엔 과 유럽 연합 가입 국가 로 승인 받 았 다 . 독일 은 주로 나뉜 연합 국가 이 다 . ---- – 동티 모르 민주 공화국 테툼어 Timor Lorosa e – Repúblika Demokrátika Timor Lorosa e 포르투갈어 Timor - Leste – República Democrática de Timor - Leste 유엔 가입 국가 로 승인 받 았 다 . ---- ---- – 라오 인민 민주 공화국 라오어 ນລາວ – ສາທາລະນະລັດປະຊາທິປະໄຕ ປະຊາຊົນລາວ : 라오 – 사탈 라나 낫 빠 사티 빠 타이 빠삭 쏜 라오 유엔 가입 국가 로 승인 받 았 다 . ---- – 라이베리아 공화국 영어 Liberia – Republic of Liberia 유엔 가입 국가 로 승인 받 았 다 . ---- – 라트비아 공화국 라트비아어 Latvija – Latvijas Republika 유엔 과 유럽 연합 가입 국가 로 승인 받 았 다 . ---- – 러시아 연방 러시아어 Россия – Российская Федерация : 로시야 – 로시 스카 야 페데 라 치 야 유엔 가입 국가 로 승인 받 았 다 . 러시아 는 러시아 구성체 ( 주 , 공화국 , 자치주 , 자치구 , 지방 , 연방 시 ) 로 나뉜 연합 국가 이 다 . 연방 구성체 의 일부 는 민족 자치 권 을 행사 하 는 공화국 이 다 . ---- – 레바논 공화국 아랍어 لبنان – الجمهوريّة اللبنانيّة : 루브 낸 - 알줌 후리 야 알 루브 낸 니야 프랑스어 République libanaise 유엔 가입 국가 로 승인 받 았 다 . ---- – 레소토 왕국 영어 Lesotho – Kingdom of Lesotho 소토어 Lesotho – Mmuso wa Lesotho 유엔 가입 국가 로 승인 받 았 다 . ---- 루마니아어 România 유엔 과 유럽 연합 가입 국가 로 승인 받 았 다 . ---- – 룩셈부르크 대공국 룩셈부르크어 Lëtzebuerg – Groussherzogdem Lëtzebuerg 프랑스어 Luxembourg – Grand - Duché du Luxembourg 독일어 Luxemburg – Großherzogtum Luxemburg : 룩셈부르크 - 그로스 헤어초크 툼 룩셈부르크 유엔 과 유럽 연합 가입 국가 로 승인 받 았 다 . ---- – 르완다 공화국 키 냐 르완다 어 Rwanda – Repubulika y u Rwanda 프랑스어 Rwanda – République du Rwanda 영어 Rwanda – Republic of Rwanda 유엔 가입 국가 로 승인 받 았 다 . ---- 아랍어 ليبيا 유엔 가입 국가 로 승인 받 았 다 . ---- – 리투아니아 공화국 리투아니아어 Lietuva – Lietuvos Respublika 유엔 과 유럽 연합 가입 국가 로 승인 받 았 다 . ---- – 리히텐슈타인 공국 독일어 Liechtenstein – Fürstentum Liechtenstein : 리히텐슈타인 - 퓌르 스텐 툼 리히텐슈타인 유엔 가입 국가 로 승인 받 았 다 . ---- ---- – 마다가스카르 공화국 마다가스카르 어 Madagasikara – Repoblikan i Madagasikara 프랑스어 Madagascar – République de Madagascar 유엔 가입 국가 로 승인 받 았 다 . 마다가스카르 는 프랑스 의 영토 인 글로리 오소 제도 와 주안 드 노바 의 영유권 을 주장 하 고 있 다 . ---- – 마셜 제도 공화국 마셜어 Aorōkin M ̧ ajeļ – Aolepān Aorōkin M ̧ ajeļ 영어 Marshall Islands – Republic of the Marshall Islands 미국 과 의 자유 연합 협정 으로 유엔 가입 국가 로 승인 받 았 다 . 마셜 제도 는 미국 의 영토 인 웨이크 섬 의 영유권 을 주장 하 고 있 다 . ---- – 말라위 공화국 영어 Malawi – Republic of Malawi 치체 와 어 Malaŵi – Mfuko la Malaŵi 유엔 가입 국가 로 승인 받 았 다 . ---- 말레이어 Malaysia 유엔 가입 국가 로 승인 받 았 다 . 말레이시아 는 주 와 연방 지역 으로 나뉜 연방 국가 이 다 . 말레이시아 는 스프래틀리 군 도 일부 의 영유권 을 주장 하 고 있 다 . 망명 분리주의 정부 는 사라왁 공화국 과 북보르네오 공화국 의 독립 을 주장 하 고 있 다 . ---- – 말리 공화국 프랑스어 Mali – République du Mali 유엔 가입 국가 로 승인 받 았 다 . ---- – 멕시코 합중국 스페인어 México – Estados Unidos Mexicanos 유엔 가입 국가 로 승인 받 았 다 . 멕시코 는 주 와 연방 지역 으로 나뉜 연합 국가 이 다 . ---- – 모나코 공국 프랑스어 Monaco – Principauté de Monaco 모나코어 Múnegu – Principatu de Múnegu 이탈리아어 Monaco - Principato di Monaco 유엔 가입 국가 로 승인 받 았 다 . ---- – 모로코 왕국 아랍어 المغرب – المملكة المغربية : 알마 그리브 - 알마 믈라카 알 마그리 비야 유엔 가입 국가 로 승인 받 았 다 . 모로코 는 서사하라 의 영유권 을 주장 하 고 대부분 의 지역 을 관할 하 고 있 으며 , 사하라 아랍 민주 공화국 과 분쟁 하 고 있 다 . 모로코 는 스페인 의 영토 인 세우타 , 알보란 섬 , 페레 질 섬 , 차파 리나스 섬 , 멜리 야 , 페논 데 알 우세마 스로 스페인 과 분쟁 하 고 있 다 . ---- – 모리셔스 공화국 영어 Mauritius – Republic of Mauritius 유엔 가입 국가 로 승인 받 았 다 . 모리셔스 는 자치 구역 인 로드리게스 섬 을 가지 고 있 다 . 모리셔스 는 영국 령 인도양 지역 과 프랑스 의 영토 인 트 로 믈 랭 섬 의 영유권 을 주장 하 고 있 다 . ---- – 모리타니 이슬람 공화국 아랍어 موريتانيا – الجمهورية الإسلامية الموريتانية : 무리 타 니야 - 줌 후리 야 알 이슬라 미야 알무 리타 니야 프랑스어 Mauritanie – République Islamique de la Mauritanie 유엔 가입 국가 로 승인 받 았 다 . ---- – 모잠비크 공화국 포르투갈어 Moçambique – República de Moçambique 유엔 가입 국가 로 승인 받 았 다 . ---- 몬테네그로 어 Црна Гора – Црна Гора : 츠 르 나 고라 - 츠 르 나 고라 유엔 가입 국가 로 승인 받 았 다 . ---- – 몰도바 공화국 몰도바어 Moldova – Republica Moldova 유엔 가입 국가 로 승인 받 았 다 . 트 란스 니스트 리아 는 사실상 독립 국가 이 지만 법률 상 몰도바 의 영토 이 다 . ---- – 몰디브 공화국 디베히어 ގުޖޭއްރާ ޔާއްރިހޫމްޖު – ހިވެދި ގުޖޭއްރާ ޔާއްރިހޫމްޖ : 디 베히 라 제이 - 디 베히 라 제이 제 줌 후리 야 유엔 가입 국가 로 승인 받 았 다 . ---- – 몰타 공화국 몰타어 Malta – Repubblika ta Malta 영어 Malta – Republic of Malta 유엔 과 유럽 연합 가입 국가 로 승인 받 았 다 . ---- - 몽골국 몽골어 Монгол Улс : 몽골 울스 유엔 가입 국가 로 승인 받 았 다 . ---- - 아메리카 합중국 영어 United States of America 유엔 가입 국가 로 승인 받 았 다 . 미국 은 주 , 연방 구 , 해외 영토 로 나뉜 연합 국가 이 다 . 미국 은 다음 의 해외 영토 와 연방 국가 의 주권 을 행사 하 고 있 다 . 이외 에 도 태평양 과 카리브 해 에 위치 한 미국 령 군소 제도 에 속한 무인 도 베이커 섬 , 하울랜드 섬 , 자비스 섬 , 존스턴 섬 , 킹 맨 섬 , 미 드웨이 섬 , 페트 렐 섬 ( 콜롬비 아 , 자메이카 와 분쟁 ) , 세라 닐 라 섬 ( 콜롬비아 와 분쟁 ) , 웨이크 섬 ( 마셜 제도 와 분쟁 ) , 나 바사 섬 ( 아이 티 와 분쟁 ) 의 주권 을 행사 하 고 있 다 . 미국 은 쿠바 의 영토 인 관타나모 만 에 위치 한 관타나모 만 해군 기지 를 ( 영유권 주장 없이 ) 관할 영토 로 가지 고 있 으며 , 협정 에 따라 쿠바 에게 임차료 를 지급 하 고 있 다 . ---- – 미얀마 연방 공화국 버마어 မြန်မာပြည် — ပြည်ထောင်စု သမ္မတ မြန်မာနိုင်ငံတော် : 먄마 – 피다 웅주 탄 만 다 먄마 나잉 강도 유엔 가입 국가 로 승인 받 았 다 . ---- – 미크로네시아 연방 영어 Micronesia – Federated States of Micronesia 미국 과 의 자유 연합 협정 으로 유엔 가입 국가 로 승인 받 았 다 . 미크로네시아 는 주로 나뉜 연합 국가 이 다 . ---- ---- – 바누아투 공화국 비슬라마 Vanuatu – Ripablik blong Vanuatu 영어 Vanuatu – Republic of Vanuatu 프랑스어 Vanuatu – République du Vanuatu 유엔 가입 국가 로 승인 받 았 다 . ---- – 바레인 왕국 아랍어 البحرين – مملكة البحرين : 알바 레인 - 맘 라 캇 알바 레인 유엔 가입 국가 로 승인 받 았 다 . ---- 영어 Barbados 유엔 가입 국가 로 승인 받 았 다 . 바베이도스 는 영국 연방 왕국 이 다 . ---- – 바티칸 시국 라틴어 Civitas Vaticana – Status Civitatis Vaticanæ 이탈리아어 Città del Vaticano – Stato della Città del Vaticano 국가 로 공인 받 았 다 . 성좌 는 1 7 6 개 나라 에서 공인 하 는 독립 주체 이 자 바티칸 시국 의 주권자 로 , 비회원국 에 속하 는 유엔 에서 영속 참관자 이 다 . 바티칸 시국 은 교황 이 임명 한 바티칸 시국 주교 위원회 가 다스리 며 , 직무 상 바티칸 시국 의 주권자 라고 할 수 있 다 . 성좌 는 또한 이탈리아 에 속한 많 은 치 외 소유물 을 관리 한다 . ---- – 바하마 연방 영어 The Bahamas – Commonwealth of The Bahamas 유엔 가입 국가 로 승인 받 았 다 . 바하마 는 영국 연방 왕국 이 다 . ---- – 방글라데시 인민 공화국 벵골어 বাংলাদেশ – গণপ্রজাতন্ত্রী বাংলাদেশ : 방 라데 시 - 고노 프로 자 톤 트리 방 라 데시 유엔 가입 국가 로 승인 받 았 다 . ---- 버마 1 5 px 미얀마 ---- – 베냉 공화국 프랑스어 Bénin – République du Bénin 유엔 가입 국가 로 승인 받 았 다 . ---- – 베네수엘라 볼리바르 공화국 스페인어 Venezuela – República Bolivariana de Venezuela 유엔 가입 국가 로 승인 받 았 다 . 베네수엘라 는 주 , 연방 령 , 연방 구 로 나뉜 연합 국가 이 다 . ---- – 베트남 사회주의 공화국 베트남어 Việt Nam – Cộng hòa Xã hội Chủ nghĩa Việt Nam : 비 엣 남 - 꽁 호아 싸 호이 쭈응이어비엣남 유엔 가입 국가 로 승인 받 았 다 . 베트남 은 파라셀 제도 와 스프래틀리 군 도 의 영유권 을 주장 하 고 있 다 . ---- – 벨기에 왕국 네덜란드어 België – Koninkrijk België 프랑스어 Belgique – Royaume de Belgique 독일어 Belgien – Königreich Belgien : 벨 기 엔 - 쾨니히 라이히 벨 기 엔 유엔 과 유럽 연합 가입 국가 로 승인 받 았 다 . 벨기에 는 언어 공동체 와 지역 으로 나뉜 연합 국가 이 다 . ---- – 벨라루스 공화국 벨라루스어 Беларусь – Рэспубліка Беларусь : 벨라 루 시 - 레스 푸 블리 카 벨라 루시 러시아어 Беларусь – Республика Беларусь : 벨라 루 시 - 레스 푸 블리 카 벨라 루시 유엔 가입 국가 로 승인 받 았 다 . ---- 영어 Belize 유엔 가입 국가 로 승인 받 았 다 . 벨리즈 는 영국 연방 왕국 이 다 . ---- – 보스니아 헤르체고비나 보스니아어 와 크로아티아어 Bosna i Hercegovina 세르비아어 Босна и Херцеговина 유엔 가입 국가 로 승인 받 았 다 . 보스니아 헤르체고비나 연방 과 스릅스카 공화국 , 이전 의 유고슬라비아 연방 공화국 이 맺 은 데이턴 협정 의 결과 로 , 보스니아 헤르체고비나 는 두 개 의 최고 행정 구역 으로 나뉘 어 있 다 . ---- – 보츠 와 나 공화국 츠와나 어 Botswana – Lefatshe la Botswana 영어 Botswana – Republic of Botswana 유엔 가입 국가 로 승인 받 았 다 . ---- – 볼리비아 다 민족 국 스페인어 Bolivia – Estado Plurinacional de Bolivia 아이마라 어 Wuliwya – Wuliwya Suyu 과라 니어 Volivia – Tetã Volívia 케추아 어 Bulibiya – Bulibiya Mama Llaqta 유엔 가입 국가 로 승인 받 았 다 . ---- – 부룬디 공화국 키 룬 디 어 Uburundi – Republika y Uburundi 프랑스어 Burundi – République du Burundi 유엔 가입 국가 로 승인 받 았 다 . ---- – 부르키나파소 프랑스어 Burkina Faso 유엔 가입 국가 로 승인 받 았 다 . ---- – 부탄 왕국 종카어 འབྲུག་རྒྱལ་ཁབ་ - འབྲུག་ཡུལ་ : 추 얄 캅 - 추위 유엔 가입 국가 로 승인 받 았 다 . ---- – 북마 케도 니아 공화국 마케도니아어 Северна Македонија – Република Северна Македонија 세 베르나 마케도니아 - 레 푸 블리 카 세 베르나 마 케도 니야 알바니아어 Maqedonia e Veriut – Republika e Maqedonisë së Veriut 마 체도 니 아 에 베리 우트 - 레 푸 블리 카 에 마 체도 니 서 서 베리 우트 유엔 가입 국가 로 승인 받 았 다 . ---- 북조선 1 5 px 조선 민주주의 인민공화국 ---- 북한 1 5 px 조선 민주주의 인민공화국 ---- 북키프로스 1 5 px 기타 국가 ---- – 불가리아 공화국 불가리아어 България – Република България : 벌 가리야 - 레 푸 블리 카 벌 가리야 유엔 과 유럽 연합 가입 국가 로 승인 받 았 다 . ---- – 브라질 연방 공화국 포르투갈어 Brasil – República Federativa do Brasil 유엔 가입 국가 로 승인 받 았 다 . 브라질 은 2 6 개 주 와 하나 의 연방 구 로 나뉜 연합 국가 이 다 . ---- – 브루나이 다루 살람 국 말레이어 Negara Brunei Darussalam : 브루네 이 - 느 가라 브루네 이 다루 살람 유엔 가입 국가 로 승인 받 았 다 . 브루나이 는 스프래틀리 군 도 일부 의 영유권 을 주장 하 고 있 다 . ---- ---- – 사모아 독립국 사모 아어 Sāmoa – Mālo Tuto atasi o Sāmoa 영어 Samoa – Independent State of Samoa 유엔 가입 국가 로 승인 받 았 다 . ---- – 사우디아라비아 왕국 아랍어 السعودية – المملكة العربيّة السّعوديّة : 아 사우디 야 – 알 맘 라카 알아라비 야 아 사우디 야 유엔 가입 국가 로 승인 받 았 다 . ---- – 산마리노 공화국 이탈리아어 San Marino – Repubblica di San Marino 유엔 가입 국가 로 승인 받 았 다 . ---- – 상투메 프린시페 민주 공화국 포르투갈어 São Tomé e Príncipe – República Democrática de São Tomé e Príncipe 유엔 가입 국가 로 승인 받 았 다 . 상투메 프린시페 는 자치 구역 인 프린시페 섬 을 가지 고 있 다 . ---- 서사하라 1 5 px 기타 국가 ---- – 세네갈 공화국 프랑스어 Sénégal – République du Sénégal 유엔 가입 국가 로 승인 받 았 다 . ---- – 세르비아 공화국 세르비아어 Србија , Srbija – Република Србија , Republika Srbija : 스 르비 야 – 레 푸 블리 카 스 르비 야 유엔 가입 국가 로 승인 받 았 다 . 세르비아 는 두 자치주 를 소유 한 것 으로 정하 고 있 으나 , 사실상 코소보 지역 의 대부분 은 정식 승인 을 받 지 않 은 코소보 공화국 이 주권 을 행사 하 고 있 다 . 코소보 메토히야 ---- – 세이셸 공화국 영어 Seychelles – Republic of Seychelles 프랑스어 Seychelles – République des Seychelles 크레올 어 Sesel – Repiblik Sesel 유엔 가입 국가 로 승인 받 았 다 . 세이셸 은 영국 령 인도양 지역 과 프랑스 의 글로리 오소 제도 와 트 로 믈 랭 섬 의 영유권 을 주장 하 고 있 다 . ---- 영어 Saint Lucia 유엔 가입 국가 로 승인 받 았 다 . 세인트루시아 는 영국 연방 왕국 이 다 . ---- 영어 Saint Vincent and the Grenadines 유엔 가입 국가 로 승인 받 았 다 . 세인트빈센트 그레나딘 은 영국 연방 왕국 이 다 . ---- – 세인트 키츠 네 비스 연방 영어 Saint Kitts and Nevis – Federation of Saint Christopher and Nevis 유엔 가입 국가 로 승인 받 았 다 . 세인트 키츠 네 비스 는 영국 연방 왕국 이 자 제도 연합 국가 이 다 . ---- – 소말리아 연방 공화국 소말리 아어 Soomaaliya – Jamhuuriyadda Federaalka Soomaaliya 아랍어 الصومال – جمهورية الصومال : 아수 말 - 줌 후리 얏 아수 말 유엔 가입 국가 로 승인 받 았 다 . 소말리아 는 현재 과도 연방 정부 로 해체 되 었 다 . 소말릴란드 는 사실 상 내부 에 있 는 국가 이나 , 법률 상 소말리아 의 영토 이 다 . ---- 소말릴란드 1 5 px 기타 국가 ---- 영어 Solomon Islands 유엔 가입 국가 로 승인 받 았 다 . 솔로몬 제도 는 영국 연방 왕국 이 다 . ---- – 수단 공화국 아랍어 السودان – جمهورية السودان : 아 수단 - 줌 후리 얏 아 수단 영어 : Sudan – Republic of the Sudan 유엔 가입 국가 로 승인 받 았 다 . 수단 은 주로 나뉜 연합 국가 이 다 . 과거 남 수단 주 였 던 자치 구역 남 수단 을 가지 고 있 다 . ---- – 수리남 공화국 네덜란드어 Suriname – Republiek Suriname 유엔 가입 국가 로 승인 받 았 다 . ---- – 스리랑카 민주 사회주의 공화국 싱할라어 ශ්රී ලංකාව – 3 0 0 px : 스리랑카 - 스리랑카 프라자 탄트 리카 사마자 바디 자나 라자 야 타밀어 இலங்கை – இலங்கை ஜனநாயக சமத்துவ குடியரசு : 일랑 카이 – 일랑 카이 차 나 나 야 카 초살 리사 쿠 디야 라스 유엔 가입 국가 로 승인 받 았 다 . ---- 스와질란드 1 5 px 에스 와 티니 ---- – 스웨덴 왕국 스웨덴어 Sverige – Konungariket Sverige 유엔 과 유럽 연합 가입 국가 로 승인 받 았 다 . ---- – 스위스 연방 독일어 Schweiz – Schweizerische Eidgenossenschaft : 슈 바이츠 - 슈바 이 쳐 리셰 아이 트 게노센샤프트 프랑스어 Suisse – Confédération Suisse 이탈리아어 Svizzera – Confederazione Svizzera 로만슈어 Svizra – Confederaziun Svizra 라틴어 Confoederatio Helvetica 유엔 가입 국가 로 승인 받 았 다 . 스위스 는 주로 나뉜 연합 국가 이 다 . ---- – 스페인 왕국 스페인어 España – Reino de España 유엔 과 유럽 연합 가입 국가 로 승인 받 았 다 . 스페인 은 자치 지방 과 도시 로 나뉘 어 있 다 . 스페인 은 모로코 가 영유권 을 주장 하 는 세우타 , 알보란 섬 , 페레 질 섬 , 차파 리나스 섬 , 멜리 야 , 페논 데 알 우세마 스 의 주권 을 행사 하 고 있 다 . 또한 , 포르투갈 이 영유권 을 주장 하 는 올리벤사 , 탈 리가 의 주권 을 행사 하 고 있 다 . 스페인 은 지브롤터 의 영유권 으로 영국 과 분쟁 하 고 있 다 . ---- – 슬로바키아 공화국 슬로바키아어 Slovensko – Slovenská republika 유엔 과 유럽 연합 가입 국가 로 승인 받 았 다 . ---- – 슬로베니아 공화국 슬로베니아어 Slovenija – Republika Slovenija 유엔 과 유럽 연합 가입 국가 로 승인 받 았 다 . ---- – 시리아 아랍 공화국 아랍어 سورية – الجمهوريّة العربيّة السّوريّة : 수리야 - 알줌 후리 야 알아라비 야 아 수리야 유엔 가입 국가 로 승인 받 았 다 . 골란 고원 은 이스라엘 이 점령 하 고 있 다 . 시리아 는 하타 이 주 의 영유권 을 놓 고 터키 와 분쟁 을 벌이 고 있 다 . ---- – 시에라리온 공화국 영어 Sierra Leone – Republic of Sierra Leone 유엔 가입 국가 로 승인 받 았 다 . ---- – 싱가포르 공화국 영어 Singapore – Republic of Singapore 말레이어 Singapura – Republik Singapura 중국어 新 加 坡 – 新 加 坡 共和 国 : 싱 자포 – 싱 자포 궁허 궈 타밀어 சிங்கப்பூர் – சிங்கப்பூர் குடியரசு : 싱 카푸르 – 싱 카푸르 쿠디 야라 수 유엔 가입 국가 로 승인 받 았 다 . ---- ---- – 아랍 토후국 연방 아랍어 دولة الإمارات العربيّة المتّحدة : 다울 라트 알 이 마라트 알아라비 야 알무 타 히다 유엔 가입 국가 로 승인 받 았 다 . 아랍에미리트 연방 은 에미리트 로 나뉜 연합 국가 이 다 . ---- – 아르메니아 공화국 아르메니아어 Հայաստան – Հայաստանի Հանրապետություն : 하야 스탄 - 하야 스타 니 한라 페투티윤 유엔 가입 국가 로 승인 받 았 다 . 아르메니아 는 유엔 가입 국가 파키스탄 의 승인 을 받 지 않 았 다 . 이것 은 파키스탄 이 나 고 르노 카라바흐 갈등 에서 아제르바이잔 을 지지 하 고 , 아르메니아 가 인도 에게 카슈미르 의 영유권 을 승인 하 였 기 때문 이 다 . ---- 아르 차 흐 공화국 1 5 px 기타 국가 ---- – 아르헨티나 공화국 스페인어 Argentina – República Argentina 유엔 가입 국가 로 승인 받 았 다 . 아르헨티나 는 주 와 하나 의 연방 지역 으로 나뉜 연합 국가 이 다 . 아르헨티나 는 영국 의 해외 영토 인 포클랜드 제도 와 사우스조지아 사우스샌드위치 제도 의 영유권 을 주장 하 고 있 다 . ---- 아이보리 코스트 1 5 px 코트디부아르 ---- – 아이슬란드 공화국 아이슬란드어 Ísland – Lýðveldið Ísland 유엔 가입 국가 로 승인 받 았 다 . ---- – 아이 티 공화국 프랑스어 Haïti – République d Haïti 아이 티 크레올 어 Ayiti – Repiblik dAyiti 유엔 가입 국가 로 승인 받 았 다 . 아이 티 는 미국 이 점유 한 무 인도인 나바 사 섬 의 영유권 을 주장 하 고 있 다 . ---- - 아일랜드 공화국 ( 에 이레 공화국 ) 아일랜드어 Éire 영어 Ireland 유엔 과 유럽 연합 가입 국가 로 승인 받 았 다 . ---- – 아제르바이잔 공화국 아제르바이잔 어 Az ə rbaycan – Az ə rbaycan Respublikası 유엔 가입 국가 로 승인 받 았 다 . 아제르바이잔 은 자치 공화국 인 나히체반 과 자치 구역 인 나 고 르노 카라바흐 ( Dağlıq Qarabağ ) 를 가지 고 있 다 . 나 고 르노 카라바흐 는 법 으로 국가 이 지만 실제로 는 아제르바이잔 의 주로 확정 되 었 다 . ---- – 아프가니스탄 이슬람 공화국 파슈토 어 د افغانستان اسلامي جمهوریت : 다 아프가니스탄 이슬라 미 좀 호리 얏 다리 어 / 페르시 아어 افغانستان – جمهوری اسلامی افغانستان : 아프가니스탄 – 좀 후리 예 이슬 라미예 아프가니스탄 유엔 가입 국가 로 승인 받 았 다 . ---- – 안도라 공국 카탈루냐어 Andorra – Principat d ’ Andorra 유엔 가입 국가 로 승인 받 았 다 . ---- – 알바니아 공화국 알바니아어 Shqipëria – Republika e Shqipërise 유엔 가입 국가 로 승인 받 았 다 . ---- – 알제리 인민 민주 공화국 아랍어 الجزائر – الجمهورية الجزائرية الديمقراطية الشعبية : 알자 자이르 - 알줌 후리 야 알자 자 이 리야 아드 디 무크 라 티야 아스 샤 비야 유엔 가입 국가 로 승인 받 았 다 . ---- 압 하 지 야 1 5 px 기타 국가 ---- – 앙골라 공화국 포르투갈어 Angola – República de Angola 유엔 가입 국가 로 승인 받 았 다 . 추방 된 분리주의 정부 가 카빈다 주 의 독립 을 요구 하 고 있 다 . ---- – 앤티가 바부다 영어 Antigua and Barbuda 유엔 가입 국가 로 승인 받 았 다 . 앤티가 바부다 는 영국 연방 왕국 으로 , 행정 구역 ( 속령 ) 인 바부다 는 자치 권 을 행사 하 고 있 다 . ---- – 에 리트레 아국 티그리냐어 ኤርትራ – ሃግሬ ኤርትራ : 에르 트라 - 하 게 레 에르 트라 유엔 가입 국가 로 승인 받 았 다 . ---- – 에스 와 티니 왕국 영어 Eswatini – Kingdom of Eswatini 스와티어 eSwatini – Umbuso weSwatini 유엔 가입 국가 로 승인 받 았 다 . ---- – 에스토니아 공화국 에스토니아어 Eesti – Eesti Vabariik 유엔 과 유럽 연합 가입 국가 로 승인 받 았 다 . ---- 에스파냐 1 5 px 스페인 ---- – 에콰도르 공화국 스페인어 Ecuador – República del Ecuador 유엔 가입 국가 로 승인 받 았 다 . ---- – 에티오피아 연방 민주 공화국 암하라어 ኢትዮጵያ – የኢትዮጵያ ፈደራላዊ ዲሞክራሲያዊ ሪፐብሊክ : 이 티오피 야 - 이 티오피 야 페데 랄 라위 디모 크라 시야 위 리페 블리 크 유엔 가입 국가 로 승인 받 았 다 . 에티오피아 는 주 와 특별시 로 나뉜 연합 국가 이 다 . ---- – 엘살바도르 공화국 스페인어 El Salvador – República de El Salvador 유엔 가입 국가 로 승인 받 았 다 . ---- – 그레이트 브리튼 북 아일랜드 연합 왕국 영어 United Kingdom – United Kingdom of Great Britain and Northern Ireland 유엔 과 유럽 연합 가입 국가 로 승인 받 았 다 . 영국 은 네 지역 으로 나뉜 영국 연방 왕국 이 다 . 영국 은 다음 의 해외 영토 를 가지 고 있 다 . 아크로티리 데 켈 리아 ( 모리셔스 , 세이셸 과 분쟁 ) ( 아르헨티나 와 분쟁 ) ( 스페인 과 분쟁 ) ( 속령 은 과 ) ( 아르헨티나 와 분쟁 ) ( 어떠 한 국가 도 영국 의 남극 지역 영유권 주장 을 인정 하 지 않 는다 . ) 영국 왕실 은 다음 행정 구역 의 주권 을 행사 하 고 있 다 * * * ---- – 예멘 공화국 아랍어 اليمن – الجمهوريّة اليمنية : 알 야 만 - 알줌 후리 야 알 야 마 니야 유엔 가입 국가 로 승인 받 았 다 . ---- – 오만 술탄국 아랍어 عُمان – سلطنة عُمان : 우만 – 술 타 나트 우만 유엔 가입 국가 로 승인 받 았 다 . ---- – 오스트레일리아 연방 영어 Australia – Commonwealth of Australia 유엔 가입 국가 로 승인 받 았 다 . 오스트레일리아 는 영국 연방 왕국 이 자 주 와 준주 로 나뉜 연합 국가 이 다 . 오스트레일리아 는 다음 영토 의 주권 을 행사 하 고 있 다 . 애 시모어 카르티에 제도 산호 해 제도 허드 맥도널드 제도 오스트레일리아 는 남극 대륙 일부 지역 의 영유권 을 주장 하 고 있 지만 어떠 한 나라 도 오스트레일리아 의 남극 지역 영유권 을 인정 하 지 않 는다 . 오스트 레일리 아령 남극 준주 ---- – 오스트리아 공화국 독일어 Österreich – Republik Österreich : 외 스터 라이히 - 레 푸 블 리크 외 스터 라이히 유엔 과 유럽 연합 가입 국가 로 승인 받 았 다 . 오스트리아 는 연방국 ( Bundesländer ) 로 나뉜 연합 국가 이 다 . ---- – 온두라스 공화국 스페인어 Honduras – República de Honduras 유엔 가입 국가 로 승인 받 았 다 . ---- – 요르단 하심 왕국 아랍어 الاردن – المملكة الأردنّيّة الهاشميّة : 알 - 우르 둔 - 알 맘 라카 알 우르두 니야 알 하 시 미야 유엔 가입 국가 로 승인 받 았 다 . ---- – 우간다 공화국 영어 Uganda – Republic of Uganda 스와힐리어 Uganda – Jamhuri ya Uganda 유엔 가입 국가 로 승인 받 았 다 . ---- – 우루과이 동방 공화국 스페인어 Uruguay – República Oriental del Uruguay 유엔 가입 국가 로 승인 받 았 다 . ---- – 우즈베키스탄 공화국 우즈베크어 Ўзбекистон – Ўзбекистон Республикаси : 오즈 베키스 톤 – 오즈 베키스 톤 레스 푸 블리 카시 유엔 가입 국가 로 승인 받 았 다 . 우즈베키스탄 은 자치 공화국 인 을 가지 고 있 다 . ---- - 우크라 이나 우크라이나어 Україна : 우크라 이나 유엔 가입 국가 로 승인 받 았 다 . ---- – 이라크 공화국 아랍어 العراق – جمهورية العراق : 알 이라크 - 줌 후리 야 알 이라크 쿠르드 어 عێراق – كۆماری عێراق : 이라크 - 코마 라 이 라케 유엔 가입 국가 로 승인 받 았 다 . 이라크 의 헌법 에 는 국가 를 구와 주 , 수도 지역 으로 나뉜 연합 국가 로 표시 하 고 있 다 . 현재 남 아 있 는 유일 한 구 는 쿠르드 자치구 이 다 . ---- – 이란 이슬람 공화국 페르시 아어 ایران – جمهوری اسلامی ایران : 이란 – 좀 후리 예 에 슬 라미예 이란 유엔 가입 국가 로 승인 받 았 다 . 주 와 준주 로 행정 구역 이 나뉘 어 있 다 . ---- – 이스라엘국 히브 리어 ישראל – מדינת ישראל : 이스라엘 - 메디 나트 이스라엘 아랍어 اسرائيل – دولة اسرائيل : 이스라엘 - 다울 라트 이스라엘 유엔 가입 국가 로 승인 받 았 다 . 이스라엘 은 동예루살렘 과 골란 고원 , 요르단 강 서안 지구 일부 를 점유 하 고 있 다 . 국제 적 으로 는 이 지역 을 이스라엘 의 영토 로 인정 하 지 않 고 있 다 . 이스라엘 은 철수 계획 에 따라서 더 이상 가 자 지구 에 군사 를 주둔 시키 지 않 지만 국제법 을 통한 무력 공습 이 일어나 고 있 어서 논쟁 이 되 고 있 다 . ---- – 이집트 아랍 공화국 아랍어 مصر – جمهوريّة مصرالعربيّة : 미스 르 - 줌 후리 얏 미스 르 알 아 라비야 유엔 가입 국가 로 승인 받 았 다 . ---- – 이탈리아 공화국 이탈리아어 Italia – Repubblica Italiana 유엔 과 유럽 연합 가입 국가 로 승인 받 았 다 . 이탈리아 는 자치 구역 인 아오스타 밸리 , 프리 울리 베네치 아 줄리아 , 사르데냐 , 시칠리아 , 트렌티노 알토 아디제 / 수드 티롤 을 가지 고 있 다 . ---- – 인도 공화국 힌디어 भारत – भारत गणराज्य : 바라트 - 바라트 가나 라자 영어 India – Republic of India 유엔 가입 국가 로 승인 받 았 다 . 인도 는 주 와 연방 지역 으로 나뉜 연합 국가 이 다 . 인도 는 중화 인민공화국 이 영유권 을 주장 하 는 아루나찰프라데시 주 의 주권 을 행사 하 고 있 다 . 인도 는 잠무 카슈미르 의 영유권 을 주장 하 며 일부 지역 을 지배 하 고 있 다 . ---- – 인도네시아 공화국 인도네시아어 Indonesia – Republik Indonesia : 인도네시아 - 레 푸 블릭 인도네시아 유엔 가입 국가 로 승인 받 았 다 . 인도네시아 는 특별히 구분 되 는 네 개 의 주로 아 체 , 욕야카르타 , 파푸아 , 자카르타 를 가지 고 있 다 . 망명 분리주의 정부 는 남 몰루카 공화국 과 서파푸아 공화국 , 아체 주 의 독립 을 주장 하 고 있 다 . ---- – 일본국 일본어 日本 – 日本 国 : 니혼 / 닙폰 - 니 홍 코쿠 / 닙퐁코쿠 유엔 가입 국가 로 승인 받 았 다 . 대한민국 의 영토 인 독도 의 영유권 을 주장 하 고 있 다 . ---- ---- 영어 Jamaica 유엔 가입 국가 로 승인 받 았 다 . 자메이카 는 영국 연방 왕국 이 다 . ---- – 잠비아 공화국 영어 Zambia – Republic of Zambia 유엔 가입 국가 로 승인 받 았 다 . ---- – 적도 기니 공화국 스페인어 Guinea Ecuatorial – República de Guinea Ecuatorial 프랑스어 Guinée Équatoriale – République de Guinée Équatoriale 유엔 가입 국가 로 승인 받 았 다 . ---- 조선 1 5 px 조선 민주주의 인민공화국 ---- 조선어 조선 민주주의 인민공화국 유엔 가입 국가 로 승인 받 았 다 . 조선 민주주의 인민공화국 은 유엔 가입 국가 인 대한민국 , 일본 의 승인 을 받 지 않 았 다 . 조선 민주주의 인민공화국 은 대한민국 의 영토 일체 에 대한 영유권 을 주장 하 고 있 다 . ---- 조지아어 საქართველო : 사 카르트 벨로 유엔 가입 국가 로 승인 받 았 다 . 조지아 는 두 개 로 나뉜 자치 국가 를 가지 고 있 다 . 압 하 지 야 와 남오세티야 ( 이전 자치 주체 ) 는 러시아 , 니카라과 , 베네수엘라 , 나 우루 , 시리아 이외 에 국가 로서 일체 인정받 지 않 고 있 다 . ---- – 중화 인민공화국 중국어 中 国 – 中 华 人民 共和 国 : 중 궈 - 중화 런 민 궁허 궈 유엔 가입 국가 로 승인 받 았 다 . 일반 적 으로 중국 ( China ) 으로 알려져 있 는 중화 인민공화국 은 다섯 개 의 자치 구역 을 가지 고 있 다 광시 좡족 자치구 내몽골 자치구 , 닝샤 후이족 자치구 , 신장 위구르 자치구 , 시짱 자치구 여기 에 더 하 여 , 다음 특별 행정 구역 의 주권 을 행사 하 고 있 다 . ( 홍콩 특별 행정구 ) ( 마카오 특별 행정구 ) 다음 구역 의 영유권 을 주장 하 고 있 다 . 중화민국 이 통치 하 는 타이완 과 진먼 현 , 마쭈 열도 , 둥사 군 도 . 시사 군도 ( 베트남 및 중화민국 과 분쟁 ) 스프래틀리 군 도 ( 중화민국 , 베트남 , 필리핀 , 말레이시아 , 브루나이 와 분쟁 ) 인도 의 아루나찰프라데시 주 일부 . 중화 인민공화국 의 지배 하 에 있 는 아크 사 이친 은 인도 가 잠무 카슈미르 주 의 일부 로 주장 하 고 있 다 . 티베트 , 동 투르키스탄 은 분리주의 망명 정부 를 갖 고 있 다 . ---- 프랑스어 République Centrafricaine 상고어 Ködörösêse tî Bêafrîka 유엔 가입 국가 로 승인 받 았 다 . ---- 중화민국 1 5 px 타이완 ---- 중화 인민공화국 1 5 px 중국 ---- – 지부티 공화국 프랑스어 Djibouti – République de Djibouti 아랍어 جيبوتي – جمهورية جيبوتي : 지부티 - 줌 후리 얏 지부티 유엔 가입 국가 로 승인 받 았 다 . ---- – 짐바브웨 공화국 영어 Zimbabwe – Republic of Zimbabwe 유엔 가입 국가 로 승인 받 았 다 . ---- ---- – 차드 공화국 프랑스어 Tchad – République du Tchad 아랍어 تشاد – جمهوريّة تشاد : 차드 – 줌 후리 얏 차드 유엔 가입 국가 로 승인 받 았 다 . ---- - 체코 공화국 체코어 Česko – Česká republika 유엔 과 유럽 연합 가입 국가 로 승인 받 았 다 . ---- – 칠레 공화국 스페인어 Chile – República de Chile 유엔 가입 국가 로 승인 받 았 다 . 이스터 섬 은 칠레 의 \" 특별 행정 구역 \" 이 다 . ---- ---- – 카메룬 공화국 프랑스어 Cameroun – République du Cameroun 영어 Cameroon – Republic of Cameroon 유엔 가입 국가 로 승인 받 았 다 . ---- – 카보베르데 공화국 포르투갈어 Cabo Verde – República de Cabo Verde 유엔 가입 국가 로 승인 받 았 다 . ---- – 카자흐스탄 공화국 카자흐어 Қазақстан Республикасы / Qazaqstan Respwblïkası 러시아어 Республика Казахстан / Respublika Kazakhstan 유엔 가입 국가 로 승인 받 았 다 . ---- – 카타르국 아랍어 قطر – دولة قطر : 카타르 – 다울 라트 카타르 유엔 가입 국가 로 승인 받 았 다 . ---- – 캄보디아 왕국 크메르어 1 5 0 px : 프레아 레아 체아 나 차크 르 캄푸 체아 유엔 가입 국가 로 승인 받 았 다 . ---- 영어 와 프랑스어 Canada 유엔 가입 국가 로 승인 받 았 다 . 캐나다 는 영국 연방 왕국 이 자 주 와 준주 로 나뉜 연합 국가 이 다 ---- – 케냐 공화국 영어 Kenya – Republic of Kenya 스와힐리어 Kenya – Jamhuri ya Kenya 유엔 가입 국가 로 승인 받 았 다 . ---- – 코모로 연방 코모로어 Komori – Udzima wa Komori 프랑스어 Comores – Union des Comores 아랍어 القمر – اتحاد القمر : 알 쿠 무르 - 잇 티 하드 알 쿠 무르 유엔 가입 국가 로 승인 받 았 다 . 코모로 는 독립 된 섬 들 로 이루어진 연합 국가 이 다 . 코모로 는 프랑스 의 해외 영토 인 마요트 와 글로리 오소 제도 로 프랑스 와 분쟁 하 고 있 다 . ---- 코소보 1 5 px 기타 국가 ---- – 코스타리카 공화국 스페인어 Costa Rica – República de Costa Rica 유엔 가입 국가 로 승인 받 았 다 . ---- – 코트디부아르 공화국 프랑스어 Côte d Ivoire – République de Côte d Ivoire 유엔 가입 국가 로 승인 받 았 다 . ---- – 콜롬비아 공화국 스페인어 Colombia – República de Colombia 유엔 가입 국가 로 승인 받 았 다 . 콜롬비아 는 3 1 개 주 ( 산안 드레스 이 프로비덴시아 주 포함 ) 와 한 개 의 수도 구역 ( 보고타 ) 으로 구성 된 독립 공화국 이 다 . ---- - 콩고 공화국 프랑스어 Congo – République du Congo 유엔 가입 국가 로 승인 받 았 다 . ---- 프랑스어 Congo – République Démocratique du Congo 유엔 가입 국가 로 승인 받 았 다 . ---- – 쿠바 공화국 스페인어 Cuba – República de Cuba 유엔 가입 국가 로 승인 받 았 다 . 쿠바 의 영토 인 관타나모 만 에 는 미국 이 쿠바 와 의 1 9 0 3 년 조약 에 따라서 임차료 를 지불 하 고 있 는 관할 영토 ( 영유권 주장 없 음 ) 인 관타나모 만 해군 기지 가 있 다 . ---- – 쿠웨이트국 아랍어 الكويت – دولة الكويت : 알 쿠 웨이트 - 다울 라트 알 쿠 웨이트 유엔 가입 국가 로 승인 받 았 다 . ---- – 크로아티아 공화국 크로아티아어 Hrvatska – Republika Hrvatska 유엔 가입 국가 로 승인 받 았 다 . ---- – 키르기스 공화국 키르기스어 Кыргызстан – Кыргыз Республикасы : 키르기스스탄 – 키르기스 레스 푸 블리 카시 러시아어 Кыргызстан – Кыргызская республика : 키르기스스탄 – 키르기스 스카 야 레스 푸 블리 카 유엔 가입 국가 로 승인 받 았 다 . ---- – 키리바시 공화국 키리바시어 Kiribati – Ribaberikin Kiribati 영어 Kiribati – Republic of Kiribati 유엔 가입 국가 로 승인 받 았 다 . ---- – 키프로스 공화국 그리스어 Κυπρος – Κυπριακή Δημοκρατία : 키프로스 - 키 프리 아키 디모 크라 티아 터키어 Kıbrıs – Kıbrıs Cumhuriyeti 유엔 과 유럽 연합 가입 국가 로 승인 받 았 다 . 북키프로스 는 국가 이 지만 법률 상 으로 키프로스 의 영토 이 다 . ---- ---- 타이 1 5 px 태국 ---- 타이완 1 5 px 기타 국가 ---- – 타지키스탄 공화국 타지크어 Тоҷикистон – Ҷумҳурии Тоҷикистон : 토지 키스톤 – 줌 후리 토지 키스톤 유엔 가입 국가 로 승인 받 았 다 . 타지키스탄 은 자치 주인 고르노바다흐샨 자치주 를 가지 고 있 다 . ---- – 탄자니아 연합 공화국 스와힐리어 Tanzania – Jamhuri ya Muungano wa Tanzania : 탄자니아 - 잠 후리 야 뭉가노 와 탄자니아 영어 Tanzania – United Republic of Tanzania 유엔 가입 국가 로 승인 받 았 다 . 탄자니아 는 자치령 잔지 바르 를 가지 고 있 는 연합 국가 이 다 . ---- – 타이 왕국 태국어 ประเทศไทย – ราชอาณาจักรไทย : 프라 테 트 타이 – 랏 차 아나 착 타이 유엔 가입 국가 로 승인 받 았 다 . ---- – 터키 공화국 터키어 Türkiye – Türkiye Cumhuriyeti 유엔 가입 국가 로 승인 받 았 다 . 터키 는 시리아 가 영유권 을 주장 하 는 하타 이 주 의 주권 을 행사 하 고 있 다 . ---- – 토고 공화국 프랑스어 Togo – République Togolaise 유엔 가입 국가 로 승인 받 았 다 . ---- – 통가 왕국 통가어 Tonga – Pule anga Fakatu i o Tonga 영어 Tonga – Kingdom of Tonga 유엔 가입 국가 로 승인 받 았 다 . ---- 투르크멘어 : Türkmenistan 유엔 가입 국가 로 승인 받 았 다 . ---- 투발 루어 와 영어 Tuvalu 유엔 가입 국가 로 승인 받 았 다 . 투발루 는 영국 연방 왕국 이 다 . ---- – 튀니지 공화국 아랍어 تونس – الجمهورية التونسية : 투니스 – 알줌 후리 야 앗 투니 시야 프랑스어 République du Tunisie 유엔 가입 국가 로 승인 받 았 다 . ---- 트란 스 니스트 리아 1 5 px 기타 국가 ---- – 트리니다드 토바고 공화국 영어 Trinidad and Tobago – Republic of Trinidad and Tobago 유엔 가입 국가 로 승인 받 았 다 . 트리니다드 토바고 는 자치 구역 인 토바고 섬 을 가지 고 있 다 . ---- ---- – 파나마 공화국 스페인어 Panamá – República de Panamá 유엔 가입 국가 로 승인 받 았 다 . ---- – 파라과이 공화국 스페인어 Paraguay – República del Paraguay 과라 니어 Paraguái – Têta Paraguái 유엔 가입 국가 로 승인 받 았 다 . ---- – 파키스탄 이슬람 공화국 우르 두 어 پاکستان – اسلامی جمہوریۂ پاکستان : 파키스탄 – 이슬라 미 좀 후리 예 파키스탄 영어 Pakistan – Islamic Republic of Pakistan 유엔 가입 국가 로 승인 받 았 다 . 파키스탄 은 주 와 준주 로 나뉜 연합 국가 이 다 . 파키스탄 은 카슈미르 지역 의 영유권 을 주장 하 고 있 다 . ---- – 파푸아뉴기니 독립국 영어 Papua New Guinea – Independent State of Papua New Guinea 톡 피 신 Papua Niugini – Independen Stet bilong Papua Niugini 유엔 가입 국가 로 승인 받 았 다 . 파푸아뉴기니 는 영국 연방 왕국 으로 , 자치 구역 인 부건빌 주 를 가지 고 있 다 . ---- – 팔라우 공화국 팔라우어 Belau – Beluu er a Belau 영어 Palau – Republic of Palau 미국 과 의 자유 연합 협정 으로 유엔 가입 국가 로 승인 받 았 다 . ---- – 팔레스타인 국 영어 Palestine 유엔 옵서버 국가 로 승인 받 았 다 . 이스라엘 과 영토 분쟁 을 빚 고 있 다 . ---- – 페루 공화국 스페인어 Perú – República del Perú 유엔 가입 국가 로 승인 받 았 다 . ---- – 포르투갈 공화국 포르투갈어 Portugal – República Portuguesa 유엔 과 유럽 연합 가입 국가 로 승인 받 았 다 . 포르투갈 은 다음 두 자치 구역 을 가지 고 있 다 . 포르투갈 은 스페인 의 올리벤사 와 탈리 가 영유권 을 인정 하 지 않 고 있 다 . ---- – 폴란드 공화국 폴란드어 Polska – Rzeczpospolita Polska 유엔 과 유럽 연합 가입 국가 로 승인 받 았 다 . ---- – 프랑스 공화국 프랑스어 France – République française 유엔 과 유럽 연합 가입 국가 로 승인 받 았 다 . 프랑스 의 해외 레지옹 / 영토 ( 프랑스령 기아 나 , 과들루프 , 마르티니크 , 레위니옹 , 마요트 ) 는 프랑스 영토 의 일부 이 며 , 프랑스 는 무 인도인 클리퍼 턴 섬도 소유 하 고 있 다 . 프랑스 는 또한 다음 해외 영토 의 주권 을 행사 하 고 있 다 . ( Polynésie française ) ( Terres australes et antarctiques françaises ) . 아델리 랜드 의 영유권 을 주장 하 고 있 지만 어떠 한 나라 도 이 를 일체 인정 하 지 않 는다 . 프랑스 는 마다가스카르 가 영유권 을 주장 하 는 바사 스다 인디아 , 유로파 섬 , 주앙 드노 바 의 주권 을 행사 하 고 있 다 . 또한 , 마다가스카르 와 세이셸 , 코모로 가 영유권 을 주장 하 는 글로리 오소 제도 의 주권 , 모리셔스 와 세이셸 이 영유권 을 주장 하 는 트 로 믈 랭 섬 의 주권 을 행사 하 고 있 다 . ---- – 피지 공화국 피지어 Viti – Matanitu Tu - Vaka - i - koya ko Viti 영어 Fiji – Republic of the Fiji Islands 피지 힌디어 फ़िजी / فِجی – फ़िजी गणराज्य / فِجی رپبلک : 피지 - 피지 리 파블 리크 유엔 가입 국가 로 승인 받 았 다 . 피지 는 보호령 자치 구역 인 로투마 섬 을 가지 고 있 다 . ---- – 핀란드 공화국 핀란드어 Suomi – Suomen tasavalta 스웨덴어 Finland – Republiken Finland 유엔 과 유럽 연합 가입 국가 로 승인 받 았 다 . 는 핀란드 의 자치 구역 으로 , 비무장 중립 지역 이 다 . ---- – 필리핀 공화국 필리핀어 Pilipinas – Republika ng Pilipinas 영어 Philippines – Republic of the Philippines 유엔 가입 국가 로 승인 받 았 다 . 필리핀 은 자치 구역 인 무슬림 민다나오 자치구 를 가지 고 있 다 . 필리핀 은 스프래틀리 군 도 , 황암 도 , 말레이시아 가 영유 하 는 사바주 의 영유권 을 주장 하 고 있 다 . ---- ---- 한국 1 5 px 대한민국 ---- 헝가리어 Magyarország 유엔 과 유럽 연합 가입 국가 로 승인 받 았 다 . ---- 호주 1 5 px 오스트레일리아 ---- 이 목록 은 주권 을 주장 하 고 점유 한 영토 를 관리 하 고 있 으나 , 적법성 의 논란 으로 인하 여 많 은 국가 와 외교 관계 를 맺 지 못한 나라 를 설명 하 고 있 다 . 극소형 국가 는 이 목록 에 포함 하 지 않 는다 . ---- - 아르 차 흐 공화국 아르메니아어 Լեռնային Ղարաբաղ – Լեռնային Ղարաբաղի Հանրապետություն : 레르 나린 가라 바그 - 레르 나인 가라 바기 한라 페투티윤 사실 상 압 하 지야 , 트란 스니 스트리 아 , 남오세티야 만 이 승인 하 는 독립 국가 이 다 . 아제르바이잔 공화국 이 국가 전체 를 자국 의 영토 로 점유 하 고 있 다 . ---- – 남오세티야 공화국 오 세 트 어 Хуссар Ирыстон – Республик æ Хуссар Ирыстон : 후사르 이리스 톤 - 레스 푸 블리 캐 후사르 이리스 톤 러시아어 Южная Осетия – Республика Южная Осетия : 유즈나 야 오세티야 – 레스 푸 블리 카 유즈나 야 오세티야 사실 상 러시아 , 니카라과 , 베네수엘라 , 나 우루 , 시리아 , 압 하 지야 , 아르 차 흐 공화국 , 트란 스니 스트리 아만 이 승인 하 는 독립 국가 이 다 . 조지아 가 국가 전체 를 남오세티야 임시 행정 독립 구로 점유 하 고 있 다 . ---- 영어 Niue 니우 에 어 Niuē 뉴질랜드 와 자유 연합 ( free association with New Zealand ) 관계 를 맺 고 있 는 국가 로 , 일본 과 네덜란드 그리고 중국 , 대한민국 으로부터 인정 을 받 았 다 . 니우 에 는 여러 유엔 기구 의 회원국 이 며 , 완전 한 조약 체결 능력 을 갖 고 있 다 . 뉴질랜드 와 공동 의 국가 원수 아래 에 있 으며 , 국적 도 공유 하 고 있 다 . ---- – 북키프로스 튀르크 공화국 터키어 Kuzey Kıbrıs – Kuzey Kıbrıs Türk Cumhuriyeti 사실 상 터키 만 이 승인 하 는 독립 국가 이 다 . 1 9 7 9 년 부터 터키 키프로스 국가 라는 이름 으로 이슬람 회의 기구 의 참관 국가 자격 을 승인 받 았 다 . 또한 , 나히체반 자치 공화국 은 북키프로스 튀르크 공화국 을 주권 국가 로 간주 하나 , 아제르바이잔 ( 나히체반 이 속한 주권 국가 ) 은 입장 이 다르 다 . 키프로스 공화국 이 국가 전체 를 자국 의 영토 로 점유 하 고 있 다 . ---- – 사하라 아랍 민주 공화국 아랍어 الجمهورية العربية الصحراوية الديمقراطية : 알줌 후리 야 알아라비 야 아스 사라 위 야 아드 디 무크 라 티야 사실 상 4 6 개 나라 만 이 승인 하 는 독립 국가 이 다 . 아프리카 연합 과 2 0 0 5 년 아시아 아프리카 회의 에서 결성 된 아시아 아프리카 전략 협력 의 가입 국 이 다 . 모로코 가 자유 구역 이 라고 부르 는 영토 전체 를 남부 주로 점유 하 고 있 다 . 결과 적 으로 , 사하라 아랍 민주 공화국 은 모로코 가 지배 하 는 서사하라 의 일부 와 모로코 장벽 의 서부 를 요구 하 고 있 다 . 정부 는 추방 당하 여 알제리 에 위치 한다 . ---- – 소말릴란드 공화국 소말리 아어 Soomaaliland – Jamhuuriyadda Soomaaliland 아랍어 ارض الصومال – جمهورية ارض الصومال : 아르 드 앗 수말 - 줌 후리 얏 아르 드 앗 수말 현재 남 수단 만 이 승인 한 상태 이 다 . ---- - 압 하 지 야 공화국 압 하 지 야어 Аҧсны – Аҧснытәи Республика : 압 스니 – 압 스니 테이 레스 푸 블리 카 러시아어 : A бхазия – Республика Абхазия : 압 하 지 야 – 레스 푸 블리 카 압 하 지야 사실상 러시아 , 니카라과 , 베네수엘라 , 나 우루 , 시리아 , 남오세티야 , 트란 스니 스트리 아만 이 승인 하 는 독립 국가 이 다 . 조지아 가 국가 전체 를 자국 의 압 하 지 야 자치 공화국 으로 점유 하 고 있 다 . ---- - 코소보 공화국 알바니아어 Kosovës – Republika e Kosovës 세르비아어 Косово – Република Косово : 코소보 - 레 푸 블 리카 코소보 대한민국 을 포함 한 1 0 0 여 개 유엔 회원국 과 유엔 비회원국 인 중화민국 이 승인 하 는 독립 국가 이 다 . 중앙유럽 자유 무역 협정 의 가입 국가 이 다 . 세르비아 공화국 이 코소보 공화국 전체 를 여전히 자국 의 코소보 메토히야 자치주 의 일부 로 주장 하 며 독립 선언 을 인정 하 지 않 고 있 다 . 코소보 공화국 은 세르비아 공화국 이 여전히 지배 하 는 북부 코소보 지역 에 대한 영유권 을 주장 하 고 있 다 . ---- 영어 Cook Islands 쿡 제도 마오리어 Kūki Āirani 뉴질랜드 와 자유 연합 ( free association with New Zealand ) 관계 를 맺 고 있 는 국가 로 , 일본 과 네덜란드 그리고 중화 인민공화국 으로부터 승인 을 받 았 다 . 쿡 제도 는 여러 유엔 기구 의 회원국 이 며 , 완전 한 조약 체결 능력 을 갖 고 있 다 . 뉴질랜드 와 공동 의 국가 원수 아래 에 있 으며 , 국적 도 공유 하 고 있 다 . 2 0 1 3 년 2 월 에 는 대한민국 과 수교 하 였 다 . ---- – 중화민국 중국어 臺灣 , 中華 民國 : 타이완 - 중화 민 궈 1 9 4 9 년 부터 하나 의 중국 이 라는 정통 성 을 두 고 중화 인민공화국 과 분쟁 하 는 국가 이 다 . 중화민국 은 타이 완 섬 및 중국 대륙 에 인접 한 일부 도서 들 , 스프래틀리 군 도 의 일부 를 지배 하 고 있 으며 , 중화 인민공화국 과 몽골 의 영토 일체 에 대한 영유권 을 주장 하 고 있 다 . 반면 중화민국 이 실효 지배 중 인 영토 일체 는 중화 인민공화국 이 영유권 을 주장 하 고 있 다 . 중화민국 은 세계 무역 기구 , 국제 올림픽 위원회 를 비롯 한 많 은 비유 엔 국제 기구 에서 차이니스 타이베이 라는 잠정 적 인 명칭 으로 참가 하 기 도 한다 . ---- – 트란 스니 스트리 아 몰도바 공화국 러시아어 Приднестровье Приднестровская Молдавская Республика : 프리드 네스트 로브 예 – 프리드 네스트 로 브스카야 몰 다 브스카야 레스 푸 블리 카 우크라이나어 Придністров я Придністровська Молдавська Республіка : 프리드 니스트 로브 야 – 리드 니스트 로브 스카 몰 다 브 스카 레스 푸 블리 카 몰도바어 Нистря Република Молдовеняскэ Нистрянэ : 니스트 리아 – 레 푸 블리 카 몰 도베 네 스카 니스트 레나 사실 상 압 하 지 야 공화국 과 남오세티야 만 이 승인 하 는 독립 국가 이 다 . 몰도바 공화국 이 국가 전체 를 트 란스 니스트 리아 영토 단위 로 점유 하 고 있 다 . 이 목록 에 실린 국가 기준 은 1 9 3 3 년 몬테비데오 협약 1 장 을 참고 로 하 였 다 . 협정 에 따르 면 , 국가 는 다음 의 조건 을 만족 해야 한다 . ( a ) 영속 적 인 국민 ( b ) 일정 한 영토 ( c ) 정부 ( d ) 타국 과 의 관계 참여 자격 . 특히 , 마지막 조건 은 국제 공동체 의 참여 용인 을 내포 하 고 있 기 때문 에 , 다른 나라 의 승인 이 매우 중요 한 역할 을 할 수 있 다 . 이 목록 에 포함 된 모든 국가 는 보통 이 기준 을 만족 하 는 것 으로 보이 는 자주 적 이 고 독립 적 인 국가 이 다 . 하지만 몬테비데오 협약 기준 을 만족 하 는지 의 여부 는 많 은 국가 가 논쟁 이 되 고 있 는 실정 이 다 . 또한 , 몬테비데오 협약 기준 만 이 국가 지위 의 충분 한 자격 이 든 아니 든 , 국제법 의 견해 차이 는 존재 할 수 있 다 . 이 물음 에 대한 다른 이론 에 대한 고리 는 아래 에서 볼 수 있 다 . 위 기준 에 논거 하 여 이 목록 은 다음 2 0 6 개 국가 를 포함 하 고 있 다 . 일반 국제 승인 을 받 은 1 9 5 개 자주 국가 . * 유엔 가입 국가 1 9 3 개 * 성좌 ( \" 비회원 국가 \" 에 속하 는 유엔 영속 참관자 ) 가 통치 하 며 , 일반 국제 승인 을 받 은 국가 바티칸 시국 * 팔레스타인 지역 에 위치 하 며 유엔 영구 옵서버 국가 팔레스타인 유엔 의 가입 국 이 아니 며 , 일반 국제 승인 을 받 지 않 은 1 1 개 자주 국가 . * 유엔 회원국 으로부터 승인 을 받 은 8 개 국가 남오세티야 , 니우 에 , 북키프로스 튀르크 공화국 , 사하라 아랍 민주 공화국 , 압 하 지야 , 중화민국 , 코소보 , 쿡 제도 , * 유엔 비회원국 으로부터 승인 을 받 은 2 개 국가 아르 차 흐 공화국 , 트 란스 니스트 리아 * 어떤 나라 에서 도 승인 받 지 않 은 국가 소말릴란드 위 목록 에 포함 되 지 않 은 다음 국가 는 몬테비데오 협약 의 모든 조건 을 만족 하 지 못하 거나 , 자주 적 이 고 독립 적 임 을 주장 하 지 않 는 국가 이 다 . 남극 대륙 전체 는 정부 와 영속 인구 가 없 다 . 7 개 국가 가 남극 대륙 일부 를 차지 하 고 있 으며 , 이 중 5 개 국가 가 서로 의 영유권 을 인정 하 고 있 다 . 남극 조약 에 따라서 규제 되 는 이 권리 는 어떤 나라 에서 도 승인 을 받 지 않 았 다 . 유럽 연합 은 2 7 개 가입 국가 를 보유 한 독특 한 초 국가 기구 이 다 . 가입 국가 는 입법 권 , 행정 권 , 사법 권 기준 을 유럽 연합 위원회 로 이양 하 며 , 유럽 연합 은 엄밀히 말 해 일반 적 인 주권 국가 간주 와 관계 없이 주권 국가 로 의 특징 을 가지 고 있 다 . 유럽 연합 은 주권 국가 를 주장 하 지 않 으며 , 다른 나라 와 의 관계 에서 제한 된 지위 를 가지 고 있 다 . 미국 과 오스트레일리아 , 기타 국가 에서 주 ( State ) 라고 칭하 는 행정 구역 은 주 ( 행정 구역 ) 을 참 고 하 라 . 이러 한 하부 국가 개념 의 행정 구역 은 일부 를 제외 하 고 는 다른 나라 와 관계 를 형성 하 지 않 는다 . 예 를 들 어서 독일 제국 의 주 는 해외 영사관 을 가졌으며 , 소비에트 연방 의 한 부분 이 었 던 우크라 이나 소비에트 사회주의 공화국 ( 현재 의 우크라이나 ) 과 벨로루시 소비에트 사회주의 공화국 ( 현재 의 벨라루스 ) 는 유엔 가입 국 이 었 다 . 무엇 보다 중요 한 것 은 , 이러 한 주 들 은 자주 적 이 고 독립 적 임 을 주장 하 지 않 는다는 것 이 다 . 몰타 기사단 은 \" 총회 에 유효 참 관국 자격 으로 참여 할 수 있 으며 , 본부 에서 영속 적 인 지위 를 유지 하 는 기타 국가 \" 분류 에 속하 는 유엔 참관 국가 이 다 . 이 단체 는 1 0 4 개 국가 와 쌍방 외교 관계 를 맺 고 있 으나 , 로마 내의 치 외 법권 영역 이외 에 는 일정 한 영토 가 없 다 . 단체 의 웹 사이트 에서 는 \" 항상 국가 에게 국제법 의 독립 주체 로 인정 받 는다 . \" 고 선언 하 고 있 다 . 기사단 의 헌법 에서 는 다음 과 같이 설명 하 고 있 다 . \" 기사단 은 국제법 의 주체 이 며 , 주권 기능 을 행사 한다 . \" 기사단 은 자주 주권 을 주장 하 고 있 지만 , 이름 에서 볼 수 있 듯이 주권 국가 라고 주장 하 지 는 않 는다 . 다른 대사관 처럼 이탈리아 는 이론 상 기사단 과 외교 관계 를 파기 할 수 있 으며 , 이탈리아 국민 이 아닌 단원 을 이탈리아 영토 에서 강제 로 추방 할 수 있 다 . 기사단 의 단원 은 모두 다른 나라 의 국민 이 기 때문 에 , 사실상 이 들 은 모두 자신 의 국가 에서 살 고 있 으며 , 로마 에서 기사단 의 치 외 법권 영역 에 거주 하 는 단원 은 오직 공식 직무 에 만 연관 하 여 활동 한다 . 따라서 , 기사단 은 영속 적 인 국민 의 특성 이 부족 하 다고 볼 수 있 다 . 마이크 로 네이션 으로 여겨 지 는 국가 는 자주 적 이 고 독립 적 이 라고 주장 하 고 , 다른 나라 와 외교 관계 를 맺 고자 시도 하 여도 포함 하 지 않 았 다 . 마이크 로 네이션 이 정말로 점유 한 영토 를 지배 하 는지 , 마이크 로 네이션 의 인구 감소 빈도 가 낮 은 지 의 여부 는 논쟁 이 되 고 있 다 . ISIS 등 은 다른 나라 들 못지 않 은 영역 을 두 고 있 으며 스스로 를 \" 나라 \" 라고 자처 하 지만 , 국제법 상 주권 이 결여 되 어 있 으며 국제법 에 위배 되 는 테러리즘 을 일삼 아 나라 로 간주 되 지 도 않 는다 . 다만 준 국가 로 분류 한다 . 대륙 별 나라 목록 국기 목록 국장 목록 국가 목록 나라 표어 목록 영토 목록 ( 2 0 0 4 ) . 유엔 지도 제작 단락 . 2 0 0 6 년 1 월 1 7 일 확인 . Countries or areas , codes and abbreviations ( 2 0 0 6 ) . 유엔 통계학 분할 . 2 0 0 6 년 1 0 월 1 8 일 확인 . 국가 와 화폐 ( 2 0 0 6 ) . 유럽 위원회 . 2 0 0 6 년 1 0 월 2 7 일 확인 . 더 월드 팩트북 ( 2 0 0 6 ) . 미국 중앙 정보국 . 2 0 0 6 년 1 월 1 7 일 확인 . ISO 3 1 6 6 국가 코드 목록 ( 2 0 0 6 ) ISO 3 1 6 6 - 1 2 0 0 6 년 1 0 월 1 8 일 확인 이 세상 에 는 몇 개 의 나라 가 있 을까 ? 데이비드 매도어 논설 국가 의 평균 위도 및 경도 ISO 국가 세계 목록\\n', 'in flasks . jpg | 섬네일 | right | 2 5 0 px | 화학 은 물질 에 대해서 연구 하 는 자연 과학 의 한 분야 이 다 . 화학 ( 化學 은 물질 의 성질 , 조성 , 구조 , 변화 및 그 에 수반 하 는 에너지 의 변화 를 연구 하 는 자연 과학 의 한 분야 이 다 . 물리학 도 역시 물질 을 다루 는 학문 이 지만 , 물리학 이 원소 와 화합물 을 모두 포함 한 물체 의 운동 과 에너지 , 열적 · 전기 적 · 광학 적 · 기계 적 속성 을 다루 고 이러 한 현상 으로부터 통일 된 이론 을 구축 하 려는 것 과 는 달리 화학 에서 는 물질 자체 를 연구 대상 으로 한다 . 화학 은 이미 존재 하 는 물질 을 이용 하 여 특정 한 목적 에 맞 는 새로운 물질 을 합성 하 는 길 을 제공 하 며 , 이 는 농작물 의 증산 , 질병 의 치료 및 예방 , 에너지 효율 증대 , 환경 오염 감소 등 여러 가지 이점 을 제공 한다 . 고대 화학 초기 야금 ( 야금 금속 을 광석 으로부터 추출 하 고 정련 하 는 기술 ) 인간 에 의해 발견 된 최초 의 기록 된 금속 은 금 인 것 으로 보이 며 구석기 후기 ( BC 4 0 , 0 0 0 ) 에 스페인 동굴 에서 소량 의 천연 금 이 발견 되 었 다고 한다 . 은 , 구리 , 주석 및 유성 철 또한 고대 문화 에서 제한 된 양 의 금속 가공 을 허용 하 면서 고대 문화 로 발견 될 수 있 었 다 . 기원전 3 0 0 0 년 경 유성 철제 로 만든 이집트 무기 는 \" 천국 의 단검 \" 으로 높이 평가 받 았 다 . 아마도 통제 된 방식 으로 사용 된 최초 의 화학 반응 은 불 이 였 다 . 그러나 천 년 동안 불 는 단순히 열 과 빛 을 생성 하 면서 한 물질 을 다른 물질 ( 타 는 나무 또는 끓 는 물 ) 로 변형 시킬 수 있 는 신비 한 힘 으로 만 알려졌 다 . 불 는 초기 사회 의 여러 측면 에 영향 을 미쳤 다 . 이 들 은 요리 및 서식지 조명 과 같 은 일상 생활 의 가장 단순 한 면 에서 도기 , 벽돌 및 금속 을 녹여 도구 를 만드 는 것 과 같 은 고급 기술 에 이르 기 까지 다양 했 다 . 유리 의 발견 과 금속 의 정화 로 이어지 는 불로 인해 야금 이 부상 했 다 . 야금 의 초기 단계 에서 금속 의 정화 방법 이 요구 되 었 고 , 금은 BC 2 9 0 0 년 초기 의 고대 이집트 의 귀중 한 금속 이 되 었 다 . 1 7 세기 와 1 8 세기 초기 화학 로버트 보일 로버트 보일 현대 화학 의 공동 창립자 영국 계 미국인 화학자 로버트 보일 ( Robert Boyle , 1 6 2 7 - 1 6 9 1 ) 은 연금술 에 대한 현대 의 과학 적 방법 을 정제 하 고 화학 을 연금술 과 분리 한 것 으로 생각 된다 . 그 의 연구 가 연금술 전통 에 뿌리 를 두 고 있 음 에 도 불구 하 고 , 보일 은 오늘날 현대 의 화학자 이 자 현대 화학 의 창시자 이 자 현대 실험 과학 방법 의 선구자 중 한 사람 으로 불리 고 있 다 . 보일 이 원래 발견자 가 아님 에 도 보일 은 1 6 6 2 년 에 제시 한 보일 의 법칙 으로 가장 잘 알려져 있 다 . 보일 의 법칙 은 온도 만 폐쇄 된 시스템 내 에서 일정 하 게 유지 된다면 가스 의 절대 압력 과 부피 가 반비례 함 을 의미 한다 . 보일 은 또한 화학 분야 의 초석 으로 간주 되 는 1 6 6 1 년 의 《 의심 많 은 화학자 》 에 대한 획기 적 인 저서 로 인정받 고 있 다 . 작품 에서 보일 은 모든 현상 이 움직이 는 입자 의 충돌 의 결과 라는 가설 을 제시 한다 . 보일 ( Boyle ) 은 화학자 들 에게 실험 을 호소 했으며 실험 은 지구 , 화염 , 공기 및 물 과 같 은 고전 적 인 4 가지 원소 만 으로 화학 원소 를 제한 한다는 것 을 부인 했 다 . 그 는 또한 화학 이 의학 이나 연금술 에 종속 되 어 과학 의 지위 로 부상 하 는 것 을 중단 해야 한다고 촉구 했 다 . 중요 한 것 은 과학 실험 에 대한 엄격 한 접근 방식 이 라고 주장 했 다 . 그 는 모든 이론 이 사실 로 간주 되 기 전 에 실험 적 으로 입증 되 어야 한다고 믿 었 다 . 이 작품 은 원자 , 분자 및 화학 반응 의 가장 초기 의 현대 적 인 아이디어 를 포함 하 고 있 으며 현대 화학 의 역사 의 시작 을 나타낸다 . 보일 은 또한 화학 물질 을 정제 하 여 재현 가능 한 반응 을 얻 으려고 시도 했 다 . 그 는 재료 물질 의 물리 적 특성 과 상호 작용 을 설명 하 고 정량 화 하 기 위해 René Descartes 가 제안 한 기계 철학 의 보컬 지지자 였 다 . 보일 은 원자핵 론 자 였 지만 원자 보다 더 많 은 입자 를 선호 했 다 . 그 는 속성 이 유지 되 는 물질 의 가장 정밀 한 부분 은 미립자 의 수준 에 있 다고 논평 했 다 . 그 는 또한 공기 펌프 로 수 많 은 조사 를 수행 했으며 , 공기 가 펌프 로 퍼져 나감 에 따라 수은 이 떨어지 는 것 으로 나타났 다 . 그 는 또한 컨테이너 에서 공기 를 펌핑 하 면 화염 을 없애 고 내부 에 있 는 작 은 동물 을 죽일 수 있 음 을 관찰 했 다 . 과거 화학 에서 더 이상 나뉘 지 않 는 기초 적 인 요소 가 존재 한다고 했 는데 , 이 기초 적 인 요소 를 원자 ( atom ) 라 한다 . 원자 란 물질 을 구성 하 는 기본 적 인 입자 로 고대 그리스 의 데모크리토스 에서부터 그 존재 가 주장 되 었 는데 , 1 8 0 3 년 존 돌턴 에 의해서 원자론 으로 정리 되 었 다 . 2 0 세기 초 , 화학자 들 은 원자 를 구성 하 는 더 작 은 입자 들 , 즉 전자 , 양성자 , 중성자 가 존재 한다는 사실 을 발견 하 였 다 . 전자 는 음전하 를 띠 고 있 고 , 양성자 는 양전하 를 띠 고 있 으며 , 중성자 는 전하 를 띠 지 않 고 있 다 . 원자 는 양성자 와 중성자로 구성 되 어 있 는 원자핵 을 가지 고 있 으며 전자 는 이 주변 에 오비탈 을 이루 며 분포 되 어 있 다 . 원소 ( element ) 는 일반 적 인 화학 적 , 물리학 적 방법 으로 는 분해 되 지 않 는 물질 을 의미 한다 . 원소 는 원자핵 에 존재 하 는 양성자 수 로 정의 되 는 원자 번호 로 구별 된다 . 산소 , 황 , 주석 , 철 등 은 원소 이 다 . 1 9 세기 중엽 까지 약 8 0 가지 의 원소 가 발견 되 었 는데 , 이 들 은 주기 율 에 따라 배열 될 수 있 다 . 동위 원소 는 아이소토프 또는 동위체 라고 도 한다 . 서로 화학 적 으로 는 거의 구별 하 지 못하 지만 그것 을 구성 하 고 있 는 원자 의 질량 이 서로 다른 원소 를 동위 원소 라고 한다 . 영어 의 isotope 는 그리스어 인 isos ( 같 은 ) 와 topos ( 장소 ) 의 합성어 인데 , 질량 은 서로 달라도 원소 의 주기율표 에서 같 은 장소 에 배열 되 는 데 서 1 9 0 1 년 영국 의 화학자 F . 소디 가 isotope 라는 명칭 을 붙였 다 . 대부분 의 원소 는 동위 원소 를 가진다 . 동위 원소 는 원자 번호 는 같 으나 , 중성자 수 가 다른 원소 를 뜻 한다 . 동위 원소 는 화학 적 인 성질 은 동일 하나 , 원자량 의 차이 를 이용 하 여 분리 할 수 있 다 . 자연 에서 도 발견 되 는 9 2 개 의 원소 중 8 8 개 는 동위 원소 가 지표 면 상 에 존재 한다 . 자연 에서 발견 되 지 않 더라도 동위 원소 는 핵반응 을 이용 하 여 만들 어 낼 수 있 다 . 어떤 동위 원소 는 방사능 을 가지 기 도 하 는데 , 이 경우 동위 원소 의 원자핵 은 불 안정 하 고 방사선 을 방출 하 며 자연 적 으로 붕괴 된다 . 동중 원소 ( isobar ) 는 원자 질량 은 같 으나 , 양성 자수 가 다른 원소 를 뜻 한다 . 동중 원소 는 화학 적 , 물리 적 성질 이 다르 며 4 0 S , 4 0 Cl , 4 0 Ar , 4 0 K , 4 0 Ca 등 이 있 다 . 물 분자 분자 란 원자 의 결합체 중 독립 입자 로서 작용 하 는 단위체 이 다 . 일정 한 개수 의 원자 가 특정 하 게 정렬 되 어 서로 결합 해 분자 가 형성 된다 . 원자 가 원소 의 최 소단위 이 듯 , 분자 는 화합물 의 최 소단위 가 된다 . 원자 가 결합 될 때 전자 의 재배치 가 일어나 는데 , 이 는 화학 에서 의 중요 한 관심사 중 하나 이 다 . 화학 반응 은 원자 혹은 분자 가 화학 적 인 변화 를 겪 는 일 을 말 한다 . 화학 반응 은 원자 간 의 결합 이 끊 어 지 는 일 과 다시 이어지 는 일 을 포함 한다 . 결합 이 끊어질 때 는 에너지 가 흡수 되 고 , 결합 이 이어질 때 는 에너지 가 방출 된다 . 화학 반응 의 간단 한 예 로 는 수소 와 산소 가 반응 하 여 물 이 되 는 것 을 들 수 있 다 . 반응식 은 다음 과 같 다 . :: 2 H 2 + 2 O → 2 H 2 O : : Δ H = - 5 7 2 kJ 반응식 에서 알 수 있 듯이 , 화학 반응 에서 는 원자 가 새로 생성 되 거나 나타나 는 일 이 일어나 지 않 는다 . Δ H 는 에너지 또는 엔탈피 변화 를 뜻 한다 . 반응 은 발열 반응 일 수 도 있 고 , 흡열 반응 일 수 도 있 다 . 발열 반응 은 주위 로 열 을 방출 하 는 반응 으로 엔탈피 변화 가 음수 로 나타난다 . 반면 에 흡열 반응 은 주위 열 을 흡수 하 는 반응 으로 엔탈피 변화 가 양수 로 나타난다 . 위 반응 의 경우 는 발열 반응 인데 , 이 는 계로 부터 주위 로 열 이 이동하 였 다는 의미 이 다 . 화학 결합 을 주된 세 가지 부류 로 나누 어 보 면 이온 결합 , 공유 결합 그리고 금속 결합 으로 나눌 수 있 다 . 이온 이 란 전하 를 띤 원자 또는 분자 를 뜻 한다 . 이온 결합 은 양전하 와 음전하 의 전기 적 인 인력 에 의해서 생성 되 는 화학 결합 이 다 . 예 를 들 면 염화 나트륨 은 양전하 를 띤 나트륨 이온 ( Na +) 과 음전하 를 띤 염화 이온 ( Cl -) 사이 의 전기 적 인 결합 으로 이루어진 이온 화합물 이 다 . 이러 한 물질 을 물 에 녹이 면 이온 은 물 분자 에 의해 수화 되 고 이렇게 해서 만들 어 진 수용액 은 전기전도도 를 가진다 . 공유 결합 은 오비탈 이 겹쳐진 결과 두 원자 가 전자쌍 을 공유 하 게 되 어 생성 되 는 결합 을 의미 한다 . 공유 결합 이 형성 되 는 결합 은 발열 반응 인데 , 이때 방출 되 는 에너지 의 양 이 그 결합 의 결합 에너지 이 다 . 결합 에너지 만큼 의 에너지 를 그 결합 에 가해 주 면 결합 은 끊어질 수 있 다 . 금속 결합 은 금속 원자 에서 전자 들 이 떨어져 나와 자유 전자 를 생성 하 게 되 어 생성 되 는 결합 을 의미 한다 . 금속 의 특성 인 연성 과 전 성 이 생성 되 는 이유 이 기 도 하 다 . 화합물 은 구성 하 고 있 는 원자 의 종류 , 수 , 배치 에 의해서 그 특성 이 결정 된다 . 자연 에서 찾 을 수 있 거나 인공 적 으로 합성 할 수 있 는 화합물 의 수 는 엄청나 고 , 이 들 중 대부분 은 유기 화합물 이 다 . 유기 화합물 을 이루 는 주 된 화학 원소 인 탄소 는 다른 화학 원소 와 는 다르 게 매우 긴 사슬 형태 로 정렬 될 수 있 으며 , 같 은 수많 은 이성질체 를 형성 할 수 있 다 . 예 를 들 어 , 분자식 C 8 H 1 6 O 는 약 천 개 의 서로 다른 화합물 을 뜻 할 수 있 다 . 화학 은 취급 대상 및 대상 의 취급 방법 에 따라서 몇 가지 분과 로 구분 될 수 있 다 . 물질 을 분석 하 는 분석 화학 은 크 게 물질 의 존재 를 취급 하 는 정성 분석 과 물질 의 양 을 결정 하 는 정량 분석 으로 나눌 수 있 다 . 탄소 를 포함 한 유기 화합물 을 다루 는 유기 화학 과 유기 화합물 을 제외 한 무기 화합물 을 다루 는 무기 화학 도 있 다 . 물리학 과 화학 의 경계 에 는 물리 화학 이 있 고 생물학 과 의 경계 에 는 생화학 이 있 다 . 물리 화학 에서 특히 분자 의 구조 와 성질 과 의 관계 를 다루 는 부분 을 구조 화학 이 라고 부르 기 도 한다 . 제 2 차 세계 대전 이후 에 는 방사성 물질 을 다루 는 방사 화학 이 발전 하 였 고 화학 공업 을 다루 는 공업 화학 도 있 다 . 이 외 에 도 화학 의 분과 는 매우 다양 하 다 . 화학 의 분과 는 전통 적 으로 다음 과 같 은 5 가지 로 나눌 수 있 으며 , 각각 의 분과 는 더욱 세분 화 될 수 있 다 . 화합물 의 예 ( Cu ( NH 3 ) 4 2 + 무기 화학 은 유기 화학 에서 다루 지 않 는 물질 을 다루 며 주로 금속 이나 준금속 이 포함 된 물질 에 대해서 연구 한다 . 따라서 무기 화학 에서 는 매우 넓 은 범위 의 화합물 을 다루 게 된다 . 초기 에 는 광물 의 구성 이나 새 원소 의 발견 이 주요 관심사 였 고 여기 서부터 지구 화학 이 분기 되 었 다 . 주로 전이 금속 등 을 이용 한 촉매 나 생물 에서 산소 수송 , 광합성 , 질소 고정 등 의 과정 에서 중요 한 역할 을 하 는 금속 원자 들 에 대해 연구 하 며 이 외 에 도 세라믹 , 복합 재료 , 초전도체 등 에 대한 연구 를 한다 . 물리 화학 은 화학 적 현상 에 대한 해석 과 이 를 설명 하 기 위한 물리 적 원리 들 에 대해 다루 는 분과 이 다 . 화학 반응 에 관련 된 열역학 적 원리 와 물질 의 물리학 적 성질 에 대한 설명 은 물리 화학 이 다루 는 고전 적 인 주제 이 다 . 물리 화학 은 양자 화학 의 발전 에 도 큰 기여 를 하 였 다 . 분광계 나 자기 공명 , 회절 기기 등 물리 화학 에서 사용 하 는 실험 장비 나 실험 방법 들 은 다른 화학 의 분과 에서 도 매우 많이 사용 된다 . 물리 화학 이 다루 는 대상 은 유기 화합물 , 무기 화합물 , 혼합물 을 모두 포함 한다 . 분석 화학 은 물질 의 조성 이나 혼합물 의 구성 요소 등 을 결정 하 는 방법 에 대해서 연구 하 는 화학 의 분과 이 다 . 혼합물 을 이루 고 있 는 성분 의 탐색 , 분리 , 정량 과 분자 를 이루 고 있 는 원자 의 비율 을 측정 하 여 분자식 을 결정 하 는 일 등 이 분석 화학 에서 행해진다 . 1 9 5 0 년 대 의 분석 화학 의 발전 은 많 은 질량 분석 계 를 포함 한 분석 기구 의 등장 을 불러일으켰 다 . 이 외 에 도 고해상도 크로마토그래피 , 전기 화학 에서 의 많 은 실험 방법 등 은 분석 화학 에 있 어서 중요 한 분석법 이 다 . 분석 화학 에 있 어서 최종 목표 는 더 정확 한 측 정법 이나 측정 기기 등 을 개발 하 는 것 이 다 . 분석 화학 의 발전 으로 인해 환경 오염 물질 등 을 피코 그램 의 수준 에서 도 감지 하 는 것 이 가능 해졌 다 . 헤모글로빈 . 생화학 에서 는 이 와 같이 생물체 에서 기능 하 는 물질 들 을 다룬다 . 생화학 은 생물 을 화학 의 관점 에서 다루 는 학문 이 다 . 식물 이나 동물 의 세포 에서 발견 되 는 물질 이나 일어나 는 화학 반응 들 이 주 관심사 이 다 . 생명체 에서 발견 되 는 탄수화물 , 지방 , 단백질 , 핵산 , 호르몬 등 은 유기 화합물 이 라서 유기 화학 에서 도 다루 어 지 기 도 하나 , 이 들 화합물 에 관련 된 물질대사 과정 이나 조절 과정 에 대한 연구 는 생화학 의 고유 분야 이 다 . 효소 와 조효소 , 그리고 이 들 의 작용 과정 에 대해서 도 연구 하 며 , 세포막 을 통과 하 는 이온 과 분자 , 신경전달물질 과 다른 조절 물질 들 의 작용 에 대해서 도 연구 한다 . 생화학 은 내분비학 , 유전학 , 면역학 , 바이러스학 의 발전 에 큰 영향 을 끼쳤 다 . 유기 화학 은 탄소 로 이루어진 화합물 을 연구 하 는 분과 이 다 . 원래 유기 화합물 은 식물 이나 동물 로부터 추출 해 낸 화합물 을 뜻 하 였으나 지금 은 유기 화합물 의 범위 가 크 게 넓 어 져 탄소 사슬 또는 탄소 고리 를 가진 모든 화합물 을 뜻 한다 . 유기 화학 의 오랜 관심사 는 유기 화합물 의 합성 메커니즘 이 다 . 현대 에 들 어서 핵자기 공명 법 과 X 선 결정학 등 이 개발 되 어 유기 화합물 분석 에 있 어서 매우 중요 한 방법 으로 자리 잡 았 다 . 플라스틱 , 합성섬유 등 의 고분자 물질 등 도 유기 화학 에서 다루 어 진다 . Oxtoby , D . W . et al . , Principles of Modern Chemisty , 6 th edition , Belmont Thomson Brooks / Cole , 2 0 0 7 . Parker , S . P . et al . , McGraw - Hill encyclopedia of chemistry , New York McGraw - Hill , 1 9 9 3 . 東亞 出版 社 百科事典部 편 , 《 東亞 原色 世界 大 百科事典 》, 서울 東亞 出版 社 , 1 9 8 2 ~ 1 9 8 3 . 學園 出版 公社 事典 編纂 局 편 , 《 學園 世界 大 百科事典 》, 서울 學園 出版 公社 , 1 9 9 3 . 化學 大 辭典 編 集 委員 會 편 , 성용길 , 김창홍 역 , 《 화학 대사전 》, 서울 世 和 , 2 0 0 1 . 주기율표 화합물 목록 국제 순수 · 응용 화학 연합 대한 화 학회 네이버 캐스트 - 효도 하 는 화학 대한 화 학회 네이버 지식 백 과 화학 공학 연구 정보 센터 용어 검색 분류 : 자연 과학\\n', '2 5 0 px 체첸 공화국 ( , , 또는 줄여서 체첸 ( , 은 러시아 의 공화국 이 다 . 체첸 에서 사용 되 는 언어 는 체첸어 와 러시아어 이 다 . 체첸어 는 캅카스 제어 중 , 북동 캅카스 제어 로 불리 는 그룹 에 속하 는데 인구시어 와 매우 밀접 한 관계 에 있 다 . 거의 대부분 이 체첸인 이 다 . 일부 는 러시아인 , 인구시인 과 기타 북 코카서스 계 민족 도 섞여 있 다 . 1 9 8 9 년 에 행해진 체첸 - 인 구시 자치 공화국 의 통계 에서 는 체첸인 이 9 5 6 , 8 7 9 명 , 인구시인 이 2 3 7 , 4 3 8 명 으로 , 2 6 9 , 0 0 0 명 의 러시아인 은 인구 의 약 2 3 % 로 소수 민족 이 었 다 . 그 후 서부 가 잉 구슈 공화국 으로 분리 되 었 기 때문 에 인구 시인 들 의 수 가 절반 가까이 감소 하 고 , 내전 과 사회 불안 으로 대부분 의 러시아인 은 체첸 공화국 에서 대부분 떠났 다 . 1 9 9 0 년 대 체첸 공화국 에 남 아 있 던 러시아인 은 약 6 만 명 이 었 다 . 체첸 공화국 은 일반 적 으로 러시아 연방 중 에서 도 젊 은 층 이 가장 많 은 인구 구성 을 가진다 . 1 9 9 0 년 대 에 는 몇몇 지방 에서 인구 증가 가 있 었 다 . 민족 2 0 1 0 년 의 인구 수 체첸인 1 , 2 0 6 , 5 5 1 ( 9 5 . 3 %) 러시아인 2 4 , 3 8 2 ( 1 . 9 %) 쿠미크인 1 2 , 2 2 1 ( 1 . 0 %) 아바르 인 4 , 7 6 4 ( 0 . 4 %) 노가이인 3 , 4 4 4 ( 0 . 3 %) 인구시인 1 , 2 9 6 ( 0 . 1 %) 기타 1 3 , 7 1 6 ( 1 . 1 %) # 나우르스키 군 ( Наурский ) # 셸 콥스 코이 군 ( Шелковской ) # 낫 테레 치 니 군 ( Надтеречный ) # 그 조 젠 스키 군 ( Грозненский ) # 구데르메스 키 군 ( Гудермесский ) # 순 젠 스키 군 ( Сунженский ) # 아치 호이 마르타 놉 스키 군 ( Ачхой - Мартановский ) # 우루스 마르타 놉 스키 군 ( Урус - Мартановский ) # 샬 린스키 군 ( Шалинский ) # 쿠르 찰로 예프스키 군 ( Курчалоевский ) # 이 툼 칼 린스키 군 ( Итум - Калинский ) # 샤토이 스키 군 ( Шатойский ) # 베 덴 스키 군 ( Веденский ) # 노자 이 유르 토프 스키 군 ( Ножай - Юртовский ) # 샤 로 이 스키 군 ( Шаройский ) # 알 쿼 틸라 군 다게스탄 지역 을 통해 1 6 세기 에서 1 9 세기 를 기점 으로 , 체첸 인 들 은 대다수 가 수니파 이슬람교 를 믿 으며 러시아 정교회 도 소수 존재 한다 . 구데르메스 즈 나 멘스 코 예 나우르 스카 야 아치 호이 마르 탄 우루스 마르 탄 샬 리 이 툼 - 샬레 샤토이 베 데오 노자 이 유르트 1 8 3 0 년 에서 1 8 5 9 년 에 이르 는 동안 , 러시아 군 은 오스만 투르크 제국 과 의 접경 지역 안보 를 이유 로 체첸 에 진주 했 다 . 체첸 은 1 8 5 9 년 러시아 제국 에 병합 됐 다 . 제 2 차 세계 대전 동안 소비에트 정부 는 체첸 이 나 치군 과 협력 했 다고 맹비난 하 였 다 . 스탈린 은 체첸 국민 전체 에게 카자흐스탄 으로 의 강제 이주 를 명령 했 다 . 그 후 스탈린 이 사망 한 지 4 년 후 인 1 9 5 7 년 에 이르 러서야 체첸인 의 귀환 이 허용 되 었 다 . 그리고 체첸 전쟁 때 러시아 의 엄청난 공세 로 인해 체첸 전역 은 초토화 되 었 다 . 체첸 공화국 정부 홈페이지 체첸 공화국 정보 분류 : 분단 된 지역\\n', '맥스웰 방정식 ( Maxwell 方 程式 은 전기 와 자기 의 발생 , 전기장 과 자기장 , 전하 밀도 와 전류 밀도 의 형성 을 나타내 는 4 개 의 편미분 방정식 이 다 . 맥스웰 방정식 은 빛 역시 전자기파 의 하나 임 을 보여준다 . 각각 의 방정식 은 가우스 법칙 , 가우스 자기 법칙 , 패러데이 전자기 유도 법칙 , 앙페르 회로 법칙 으로 불린다 . 각각 의 방정식 을 제임스 클러크 맥스웰 이 종합 한 이후 맥스웰 방정식 으로 불리 게 되 었 다 . 전 자기 역학 은 맥스웰 방정식 과 로런츠 힘 법칙 으로 요약 된다 . 로런츠 힘 은 맥스웰 방정식 으로부터 유도 될 수 있 다 . core . jpg | 섬네일 | 왼쪽 | 1 9 5 4 년 왕안이 앙페르 회로 법칙 을 이용 하 여 고안 한 자기 코어 메모리 . 하나 의 코어 가 1 비트 에 해당 한다 . 맥스웰 의 방정식 은 네 개 의 법칙 을 모아 종합 하 여 구성 한 것 이 다 . 맥스웰 의 방정식 은 빛 과 같 은 전자기파 의 특성 을 설명 한다 . 각 방정식 의 수학 적 표현 은 공식 부분 에서 다루 기 로 하 고 우선 은 방정식 의 의미 를 살펴보 면 다음 과 같 다 . 가우스 법칙 가우스 법칙 은 전하 에 의해 발생 된 전기장 의 크기 를 설명 한다 . 따라서 가우스 법칙 은 본질 적 으로 쿨롱 법칙 과 같 은 의미 를 지닌다 . 다만 , 쿨롱 법칙 이 공간 에 놓인 두 점전하 사이 에서 발생 하 는 힘 을 설명 하 는 데 반해 가우스 법칙 은 하나 의 전하 로부터 발생 하 는 전기장 의 세기 가 거리 에 따라 반감 되 는 이유 를 설명 한다 . 실제 회로 이론 이나 전자 공학 에서 는 계산 이 편리 하 고 직관 적 으로 이해 하 기 쉬운 가우스 법칙 을 일반 적 으로 사용 한다 . 가우스 자기 법칙 가우스 자기 법칙 에 따르 면 , 폐곡면 의 총 자기 선속 은 0 이 다 . 즉 , 전기 와 달리 자기 는 홀극 이 없 고 , N 극과 S 극 이 언제나 함께 존재 한다 . 이러 한 자기 의 성질 때문 에 일정 한 공간 으로 들어오 는 자기력선 과 나가 는 자기력선 의 크기 는 언제나 같 고 , 따라서 서로 정반대 의 방향 으로 작용 하 는 같 은 크기 의 힘 의 합계 는 언제나 0 이 다 . 패러데이 전자기 유도 법칙 패러데이 전자기 유도 법칙 은 자기 선속 이 변화 하 면 그 주변 에 전기장 이 발생 한다는 것 이 다 . 고리 모양 으로 만들 어 진 전선 가운데 서 자석 을 위 아래 로 움직이 면 전류 가 발생 하 는 것 을 예 로 들 수 있 다 . 발전소 는 이러 한 원리 를 이용 하 여 교류 전류 를 만들 어 낸다 . 앙페르 - 맥스웰 회로 법칙 앙페르 회로 법칙 은 전류 가 흐르 는 전선 에 따라 자기장 이 발생 한다는 것 이 다 . 맥스웰 은 앙페르 회로 법칙 을 확장 하 여 전기장 의 강도 가 변화 하 면 자기장 이 발생 하 는 것 으로 파악 하 였 고 , 축전기 를 이용 한 실험 을 통해 이 를 입증 하 였 다 . 즉 , 축전기 자체 는 전류 를 이동 시키 지 못하 지만 전계 의 변화 를 전달 한다 . 맥스웰 은 축전기 에서 전계 가 변화 할 때 자기장 이 발생 하 는 것 을 측정 하 였 고 이 로써 전선 뿐 만 아니 라 전계 의 강도 가 변화 하 는 모든 곳 에서 자기장 이 발생 함 을 증명 하 였 다 . 전류 변화 로 자기장 이 발생 하 는 것 을 이용 한 도구 로 는 전자석 , 전동기 와 같 은 것 이 있 다 . 맥스웰 의 방정식 에 나타난 각 식 은 오랜 시간 에 걸쳐 연구 된 전기 와 자기 의 특성 을 종합 한 것 이 다 . 인류 는 고대 시대 부터 이미 정전기 에 의한 인력 과 방전 현상 을 알 고 있 었 고 자석 의 특징 을 이용 한 나침반 을 만들 어 사용 해 왔 다 . 근대 에 이르 러 전기 와 자기 에 대한 많 은 연구 가 진행 되 었 으며 그 결과 쿨롱 법칙 , 패러데이 전자기 유도 법칙 , 앙페르 회로 법칙 과 같 은 법칙 들 이 발견 되 었 다 . 맥스웰 은 이러 한 기존 의 연구 성과 를 종합 하 여 전기 와 자기 가 하나 의 상호 작용 , 즉 전자기력 에 의한 것 임 을 증명 하 면서 빛 역시 전자기파 라는 것 을 밝혔 고 , 전자기 복사 의 발견 을 예언 하 였 다 . 앞서 밝힌 바 와 같이 두 전하 사이 에 인력 과 척력 이 작용 한다는 것 은 고대 이후 잘 알려진 사실 이 었 다 . 그러나 이렇게 두 전하 사이 에 작용 하 는 힘 의 관계 와 크기 는 측정 하 기 매우 어려웠 는데 , 그 까닭 은 작용 하 는 힘 의 크기 가 매우 작 기 때문 이 었 다 . 1 7 8 4 년 샤 를 드 쿨롱 은 비틀림 저울 을 이용 한 실험 장치 를 고안 하 여 대전 된 두 전하 사이 에 작용 하 는 힘 의 크기 를 측정 할 수 있 었 다 . 샤를 드 쿨롱 은 금속 공과 비틀림 저울 을 이용 하 여 두 점전하 사이 에 작용 하 는 힘 을 측정 하 고 , 두 전하 사이 에서 작용 하 는 힘 은 두 전하 크기 의 곱 에 비례 하 고 거리 의 제곱 에 반비례 한다는 쿨롱 법칙 을 발견 하 였 다 . 쿨롱 법칙 을 식 으로 나타내 면 다음 과 같 다 . F 두 전하 사이 의 거리 위 식 에서 Ke 는 쿨롱 상수 로 이 상수 의 크기 는 다음 과 같 다 . : N m 2 C − 2 한편 , 쿨롱 힘 은 전하 사이 의 작용 뿐 만 아니 라 자계 에 도 적용 될 수 있 다 . 두 자극 의 세기 를 각각 mA , mB 라 할 때 , 이 두 자극 사이 에 작용 하 는 힘 은 다음 과 같이 정리 된다 . F 두 전하 사이 의 거리 자극 의 세기 단위 는 웨버 ( Wb ) 로 쿨롱 은 세기 가 같 은 두 개 의 자극 을 1 m 떨어뜨려 놓 았 을 때 작용 하 는 힘 의 세기 가 인 경우 를 1 Wb 로 정의 했 다 . 따라서 상수 k 의 값 은 다음 과 같 다 . : / 자극 사이 에 작용 하 는 힘 의 크기 는 전하 사이 에 작용 하 는 힘 의 크기 와 같 은 방식 으로 계산 할 수 있 으나 둘 사이 에 는 분명 한 차이 가 있 다 . 즉 , 전 하 는 양전하 이 든 음전하 이 든 단독 으로 존재 할 수 있 는 데 반해 자극 은 홀극 으로 존재 할 수 없 고 , N 극과 S 극 이 언제나 쌍 으로 존재 하 여야 한다는 것 이 다 . 제임스 클러크 맥스웰 은 각각 독립 적 으로 다루 어 져 오 던 전기 와 자기 의 법칙 들 을 종합 하 여 맥스웰 방정식 을 수립 하 였 다 . 맥스웰 은 마이클 패러데이 의 \" 역선 \"( 力 線 ) 개념 과 앙드레 마리 앙페르 의 회로 이론 을 근간 으로 방정식 을 정리 하 였 다 . 1 8 6 1 년 맥스웰 은 논문 《 물리 적 인 역선 에 대해 》 를 발표 하 여 모두 4 개 의 방정식 으로 구성 된 맥스웰 방정식 을 소개 하 였 다 . 이 방정식 은 1 8 6 5 년 발표 된 논문 《 전자기장 의 역학 이론 》 과 1 8 7 3 년 출간 된 《 전기 와 자기 에 대한 논문집 》 제 2 권 의 9 장 에서 다시 소개 되 었 다 . 물리학자 리처드 파인먼 은 \" 이 방정식 에 비하 면 남북 전쟁 조차 큰 의미 없 는 지엽 적 인 사건 이 라고 할 수 있 다 \" 라고 맥스웰 방정식 의 중요 성 을 강조 하 였 다 . 1 8 6 5 년 맥스웰 자신 에 의해 발표 된 맥스웰 방정식 의 원래 형태 는 8 개 의 방정식 으로 이루어진 것 이 었 다 . 그러나 , 오늘날 에 는 1 8 8 4 년 올리버 헤비사이드 가 4 개 의 방정식 으로 정리 한 형태 가 일반 적 으로 사용 된다 . 조사 이 어 윌러드 기브스 와 하인리히 루돌프 헤르츠 역시 헤비사이드 와 동일 한 작업 을 한 바 있 다 . 이 때문 에 맥스웰 방정식 은 헤르츠 - 헤비사이드 방정식 으로 불리 기 도 한다 . 그러나 \" 맥스웰 방정식 \" 이 란 이름 이 더 폭넓 게 쓰이 고 있 다 . 1 8 6 1 년 맥스웰 은 《 물리 적 인 역선 에 대해 》 에서 앙페르 회로 법칙 을 설명 하 기 위해 방정식 들 을 열거 하 였 다 . 맥스웰 은 이 논문 에서 앙페르 회로 법칙 에 치환 전류 를 덧붙였 다 . 1 8 6 5 년 발표 한 《 전자기장 의 역학 이론 》 에서 는 전자기파 방정식 을 기술 하 면서 빛 이 전자기 파임 을 제시 하 였 다 . 맥스웰 의 이론 은 1 8 8 7 년 하인리히 루돌프 헤르츠 의 실험 에 의해 증명 되 었 다 . \" 장 \"( 場 ) 이 란 개념 은 마이클 패러데이 가 도입 하 였 다 . 알베르트 아인슈타인 은 맥스웰 이 장 개념 을 도입 한 것 에 대해 다음 과 같이 평가 하 였 다 . 당시 이 방정식 은 헤르츠 - 헤비사이드 방정식 또는 멕스 웰 - 헤비사이드 방정식 이 라고 불렸 다 . 그러나 아인슈타인 은 사이언스 에 의 기고 문 에서 이 를 \" 맥스웰 방정식 \" 이 라 부르 며 , 이 방정식 들 이 이론 물리학 의 기초 라고 설명 하 였 다 . 맥스웰 은 방정식 을 정리 하 면서 헤비사이드 의 전위 와 벡터 위치 등 위치 요소 를 중요 한 개념 으로 도입 하 였 다 . 1 8 8 4 년 맥스웰 은 전자기파 의 전달 을 중력 과 같이 원격 에서 상호 작용 하 는 힘 이 아닌 전자기장 에서 빛 의 속도 로 전파 되 는 전위 로 파악 하 였 다 . 라디오 안테나 에 대한 현대 의 분석 에서 도 맥스웰 의 백 터 와 스칼라 위키 에 대한 수식 만 으로 서로 떨어져 있 는 안테나 사이 에 작용 하 는 전파 의 영향 을 모두 설명 할 수 있 다 . 맥스웰 방정식 과 관련 한 헤비사이드 의 업적 은 맥스웰 이 여러 논문 과 책 에서 서술 한 맥스웰 방정식 을 오늘날 과 같 은 4 개 의 방정식 으로 정리 하 였 다는 것 이 다 . 오늘날 4 개 의 방정식 으로 정리 된 맥스웰 의 방정식 은 1 8 6 1 년 발표 된 논문 인 《 물리 적 역선 에 대해 》 에 기반 한 것 이 다 . 이 논문 에 는 전자기장 에 대한 다수 의 방정식 이 실려 있 다 . 방정식 5 6 번 . 방정식 1 1 2 번 은 멕스 웰 이 앙페르 회로 법칙 을 확장 하 여 전류 와 의 거리 에 따른 자기력선 의 세기 를 표현 한 것 이 다 . 이 방정식 에서 표현 된 원격 전류 의 개념 은 전자기학 의 핵심 개념 이 되 었 다 . 맥스웰 은 1 8 6 5 년 《 전자기장 의 역학 이론 》 에서 전자기 파장 방정식 을 정립 하 여 이 를 보충 하 였 다 . 구스타프 키르히호프 는 특히 이 방정식 에서 원격 전류 의 개념 을 제거 한 방정식 을 수립 한 뒤 이 를 전신수 방정식 이 라고 불렀 는데 , 이 방정식 이 전신 의 이론 적 기반 이 되 었 기 때문 이 다 . 당시 에 는 전자기 복사 가 발견 되 지 않 은 상태 였 기 때문 에 키르히호프 는 자신 의 방정식 이 전선 안 에서 일어나 는 자기 유도 에 국한 된다고 생각 하 였 다 . 방정식 1 1 5 번 은 가우스 법칙 을 정리 하 고 있 다 . 방정식 5 4 번 을 올리버 헤비사이드 는 \" 패러데이 법칙 \" 이 라 불렀 다 . 그러나 , 패러데이 법칙 의 원형 이 자기장 과 전류 의 변화 를 모두 반영 하 는 데 비해 5 4 번 방정식 은 자기장 의 변화 에 따른 전류 의 변화 를 반영 하 지 는 않 는다 . 맥스웰 은 자기장 의 변화 만 을 고려 하 여 v × B 로 표기 한 대신 , 방정식 7 7 번 에서 오늘날 로런츠 힘 법칙 으로 알려진 F = q ( E + v × B ) 을 제시 하 였 다 . 맥스웰 이 이 방정식 을 발표 한 때 에 헨드릭 로런츠 는 아직 어린아이 였 다 . 1 8 5 5 년 맥스웰 은 케임브리지 철학 학회 에서 《 패러데이 의 역선 》 을 발표 하 면서 와 벡터 의 차이점 을 설명 하 였 다 . 이 논문 은 오늘날 에 도 패러데이 전자기 유도 법칙 에 대한 가장 간결 한 모형 으로 인정받 고 있 다 . 여기 서 맥스웰 은 전류 에 관한 모든 지식 을 미분 방정식 으로 나타내 었 다 . 맥스웰 의 분자 와동 모형 . 그림 에서 육각형 안 의 검 은 점 을 밖 으로 나오 는 자기력선 의 기자력 이 되 는 단위 자기장 이 라 할 때 , 모든 단위 자기장 이 반 시계 방향 으로 회전 하 면 녹색 원 으로 표현 된 자기력선 은 단위 자기장 들 의 영향 을 받 아 시계 방향 으로 회전 하 게 된다 . 1 8 5 5 년 맥스웰 이 제안 한 분자 와동 의 바다 란 개념 은 1 8 6 1 년 《 물리 역선 에 대해 》 에서 보다 분명 하 게 소개 되 었 다 . 이 논문 에서 는 자기장 이 형성 되 는 분자 규모 의 와동 에서 의 밀도 에 따라 의 순 와동 운동 이 결정 된다고 보 았 다 . 맥스웰 은 와동 의 밀도 를 측정 하 기 위한 값 으로 투자 율 µ 을 정의 하 였 다 . 이 논문 에서 밝힌 맥스웰 의 개념 은 다음 과 같 다 . # 자기 유도 전류 는 자기 전류 밀도 에 의해 발생 된다 . # 대류 전류 는 선형 전류 의 회전 분석 에 핵심 개념 이 다 . 이 때 는 전하 밀도 이 다 . 는 축 을 이루 어 회전 하 는 자기 전류 이 고 는 그 주위 를 돌 게 되 는 자기력선 의 자기 선속 이 다 . 투자 율 µ 는 결국 자기장 에 의해 유도 되 는 자기 선속 의 비 가 된다 . 전류 방정식 은 전하 의 대류 전류 가 선형 적 으로 움직이 는 것 을 보여준다 . 한편 , 자기 방정식 은 유도 전류 의 회전 에 의해 발생 하 는 자기 를 나타내 는 것 으로 벡터 의 방향 성 으로 인해 비 선형 방정식 이 된다 . 따라서 자기 유도 전류 는 역선 으로 표현 된다 . 자기력선 은 역제곱 법칙 에 의해 전류 에서 멀 어 질수록 약해 지 게 된다 . 1 8 6 4 년 맥스웰 은 《 전자기장 의 역학 이론 》 을 출간 하 였 다 . 맥스웰 은 이 책 에서 빛 이 전자기 파임 을 제시 하 였 다 . 이 책 에서 맥스웰 은 8 개 의 방정식 을 전자기장 에 대한 일반 적 인 방정식 으로 제시 하 였 다 . 이 때문 에 훗날 \" 맥스웰 방정식 \" 이 라는 표현 이 오늘날 의 4 개 의 방정식 을 가리키 는 것 인지 1 8 6 4 년 제시 된 8 개 의 방정식 을 가리키 는 것 인지 를 혼동 하 기 도 한다 . 따라서 오늘날 의 4 개 로 구성 된 방정식 을 분명히 하 기 위해 헤비사이드 가 정리 한 맥스웰 방정식 ( 멕스 웰 - 헤비사이드 방정식 ) 이 라는 표현 이 사용 된다 . 현대 벡터 표기 를 사용 하 여 정리 한 멕스 웰 의 8 개 방정식 은 다음 과 같 다 . ( A ) 총 전류 의 법칙 ( B ) 자기장 방정식 ( 벡터 퍼텐셜 의 정의 ) ( C ) 앙페르 회로 법칙 ( D ) 대류 전하 , 유도 전류 및 정전기 에 의해 생성 된 기전력 ( 로런츠 힘 ) ( E ) 전기 탄성 방정식 ( F ) 옴의 법칙 ( G ) 가우스 법칙 ( H ) 연속 방정식 ( 전하 보존 법칙 ) 또는 주 는 맥스웰 이 자기 강도 라고 표현 한 자기장 이 다 . 는 전류 밀도 로 원격 전류 가 갖 는 총 전류 를 뜻 한다 . 는 맥스웰 이 원격 전류 라고 표현 한 전기 변위장 이 다 . 는 자유 전하 밀도 로 맥스웰 은 이 를 자유 전하 의 양 이 라고 표현 하 였 다 . 는 자기 퍼텐셜 로 맥스웰 은 이 를 각 임펄스 로 표현 하 였 다 . 는 맥스웰 이 기전력 이 라고 표현 한 것 으로 오늘날 볼트 를 단위 로 사용 하 는 기전력 과 달리 전기장 을 의미 한다 . 는 도전율 이 다 . ( 그 역수 는 비저항 인데 , 오늘날 영어 명은 \"\" 이 고 , 맥스웰 은 이 를 \"\" 라 불렀 다 . ) 이 책 에서 표현 된 방정식 D 는 로런츠 힘 의 효과 를 나타낸 것 으로 1 8 6 1 년 논문 의 방정식 7 7 번 을 보다 간략 하 게 표현 한 것 이 다 . 또한 , 맥스웰 은 1 8 6 5 년 논문 에서 전자기파 방정식 을 정의 하 였 는데 이 책 의 방정식 D 를 전자기 유도 를 설명 하 기 위해 사용 하 였 다 . 오늘날 에 는 방정식 D 대신 패러데이 전자기 유도 법칙 이 쓰인다 . 맥스웰 은 전자기파 방정식 을 연구 하 는 과정 에서 방정식 D 의 를 버렸 다 . 1 8 7 3 년 맥스웰 이 출간 한 《 전기 와 자기 에 대한 논문집 》 에서 방정식 은 두 개 의 묶음 으로 나뉘 었 다 . 첫 번 째 묶음 두 번 째 묶음 다음 은 국제단위계 를 사용 하 여 수식 으로 표현 한 맥스웰 방정식 이 다 . 이름 미분 형 적분 형 가우스 법칙 가우스 자기 법칙 패러데이 전자기 유도 법칙 앙페르 - 맥스웰 회로 법칙 발산정리 와 스토크스 의 정리 를 이용 하 면 미분 형 과 적분 형 방정식 이 동치 임 을 알 수 있 다 . 아래 표 는 각 기호 의 뜻 과 단위 를 나타낸다 . 기호 의미 단위 전기장 미터 당 볼트 ( V / m ) 자계 강도 미터 당 암페어 ( A / m ) 전기 변위장 제곱 미터 당 쿨롱 ( C / m 2 ) 자기장 ( 자기 선속 밀도 ) 단위 ( T ) 자유 전하 밀도 ( 매질 에 묶인 쌍극자 전하 제외 ) 세 제곱미터 당 쿨롱 ( C / m 3 ) 자유 전류 밀도 ( 편파 혹은 자화 전류 제외 ) 제곱미터 당 암페어 ( A / m 2 ) 곡면 에 대한 미분 수직 벡터 요소 제곱 미터 ( m 2 ) 곡면 S 에 둘러싸인 부피 미분 요소 세제곱 미터 ( m 3 ) 곡면 S 의 둘레 의 미분 벡터 요소 미터 ( m ) 는 발산 연산자 ( 단위 1 / 미터 ) , 는 회전 연산자 ( 단위 1 / 미터 ) 이 다 . 두 번 째 방정식 은 자기 홀극 이 없 음 을 뜻 한다 . 전기장 과 자기장 이 대전 된 입자 에 미치 는 힘 은 로런츠 힘 에 따라 국제단위계 에서 다음 과 같 다 . . 여기 서 는 입자 의 전하량 이 고 는 입자 의 속도 다 . ( CGS 단위계 에서 는 자기장 을 다르 게 정의 하 므로 , 대신 를 쓴다 . ) 위 의 수식 은 국제단위계 로 표현 되 었 지만 , 다른 단위계 에서 도 맥스웰 방정식 은 변하 지 않 거나 , 약간 의 상수 변화 만 이 있 을 뿐 이 다 . 물리학 과 공학 에서 일반 적 으로 가장 널리 쓰이 는 국제단위계 이외 에 도 특수 한 경우 CGS 단위계 가 쓰인다 . 변압기 안테나 앙페르 회로 법칙 로런츠 힘 레이저 발전기 자기 홀극 타케우치 아츠시 , 김현영 역 , 고교 수학 으로 배우 는 맥스웰 의 방정식 , 도서 출판 홍 , 네이버 캐스트 - 맥스웰 방정식 분류 : 동전기학 분류 : 물리학 의 기본 개념 분류 : 사람 이름 을 딴 낱말 분류 : 전자기학 분류 : 제임스 클러크 맥스웰 분류 : 편미분 방정식 분류 : 물리학 방정식\\n', '초월수 ( 超越 數 는 계수 가 유리수 인 어떤 다항 방정식 의 해도 될 수 없 는 복소수 이 다 . 다항 방정식 의 해 가 될 수 있 는 수 인 대수 적 수 와 반대 개념 이 다 . 실수 인 초월수 는 모두 무리수 이 다 . 하지만 그 역 은 성립 하 지 않 는다 . 예 를 들 어 , 는 무리수 이 지만 다음 이 차 방정식 의 해 이 므로 초월수 가 아니 다 . 대수 적 수 의 집합 이 가산 집합 인 데 비하 여 복소수 의 집합 은 비 가산 집합 이 다 . 따라서 초월수 의 집합 은 비 가산 집합 이 된다 . 이것 은 대수 적 수 의 개수 보다 초월수 의 개수 가 많 다는 것 을 뜻 한다 . 하지만 지금 까지 알려진 초월수 는 많 지 않 고 , 어떤 특정 한 수 가 초월수 임 을 증명 하 는 것 은 매우 어렵 다 . 초월수 의 존재 는 레온하르트 오일러 가 예상 하 였으나 , 최초 의 초월수 는 1 8 4 4 년 에 조제프 리우빌 이 발견 하 였 다 . 그 는 초월수 의 예 로서 다음 과 같이 정의 되 는 리우빌 상수 를 제시 하 였 다 . 초월수 의 존재 를 증명 하 기 위해 특별히 만들 어 진 수 가 아닌 수 중 에서 처음 으로 초월수 임 이 증명 된 수 는 상수 e 로 , 샤를 에르미트 가 1 8 7 3 년 에 증명 하 였 다 . 1 8 8 2 년 에 는 페르디난트 폰 린데만 이 원주율 또한 초월수 임 을 증명 하 였 다 . 이것 은 고대 그리스 시대 부터 의 난제 였 던 원적문제 가 불 가능 함 을 보여 주 는 결과 였 다 . 1 8 7 4 년 에 게오르크 칸토어 는 구체 적 인 초월수 를 제시 하 는 대신 , 앞 에 설명 된 가산 집합 과 비 가산 집합 의 논리 를 이용 하 여 초월수 가 존재 함 을 보였 다 . 1 9 0 0 년 에 다비트 힐베르트 는 힐베르트 의 2 3 문제 가운데 7 번 째 문제 로 초월수 에 대하 여 다음 과 같 은 문제 를 제시 하 였 다 . : 는 0 이나 1 이 아닌 대수 적 수 이 고 는 무리수 이 면서 대수 적 수일 때 , 는 초월수 인가 ? 힐베르트 는 이 문제 의 구체 적 인 예로 를 들 었 다 . 이 문제 는 1 9 3 4 년 에 겔 폰드 - 슈나이더 정리 에 의해 참 임 이 밝혀졌 다 . 이 결과 는 1 9 6 0 년 에 앨런 베이커 에 의해 확장 되 었 다 . ( ) 원주율 0 이 아닌 유리수 에 대하 여 1 이 아닌 양 의 유리수 에 대하 여 가 초월수 임 을 증명 한 것 가 초월수 임 을 증명 한 것 ( PDF ) 가 초월수 임 을 증명 한 것 ( PDF )\\n', '음계 ( 音階 ) 는 음악 에서 음높이 ( pitch ) 순서 로 된 음 의 집합 을 말 한다 . 악곡 을 주로 구성 하 는 음 을 나타낸 것 이 며 음계 의 종류 에 따라 곡 의 분위기 가 달라진다 . 음계 의 각각 의 음 에 는 위치 에 따라 도수 가 붙 는다 . 음계 는 , 음계 가 포함 하 고 있 는 음정 ( interval ) 에 따라서 이름 을 붙일 수 있 다 . 예시 온음계 , 반음계 , 온음음계 또는 음계 가 포함 하 고 있 는 서로 다른 피치 클래스 의 수 에 따라서 이름 을 붙일 수 있 다 . 팔음 음계 칠음 음계 육음 음계 와 오음 음계 사음 음계 , 삼음 음계 와 이음 음계 모노토닉 음계 \" 음계 의 음정 ( interval ) 뿐 만 아니 라 음계 를 만드 는 음 ( note ) 의 수 가 , 한 문화 권 의 음악 에 독특 한 음악 적 특징 을 지니 게 한다 \" \" 어떤 음계 의 음 의 수 보다 , 음 의 거리 ( interval , pitch distance ) 가 음악 의 소리 에 대해서 더 많 은 것 을 알려준다 . \" 온음계 와 반음계 ( 半 音階 ) 는 서양 음악 에서 쓰이 는 용어 이 다 . 자체 로 는 음계 에 관한 말 이 지만 , 온음계 적 · 반음계 적 인 선율 , 화음 , 화성 진행 등 의 표현 으로 도 쓰인다 . 대부분 의 경우 온음계 는 7 개 음 으로 이루어진 장음계 를 말 한다 . 2 0 세기 음악 론 에서 는 반음계 가 아닌 모든 음계 ( 이를테면 팔음 음계 ) 를 말 할 때 쓰이 기 도 한다 . 반음계 는 1 2 개 의 반음 으로 이루어진 음계 를 말 한다 . 계이름 은 음계 를 기준 으로 한 음 의 이름 이 다 . 장음계 를 이루 는 음 의 계이름 은 으뜸음 부터 위 로 올라가 면서 각각 도 , 레 , 미 , 파 , 솔 ( ) , 라 , 시 ( ) , 도 가 된다 . 서양 음악 에서 는 도 · 레 · 미 · 파 · 솔 · 라 · 시 로 된 7 음계 가 많이 쓰이 지만 한국 전통 음악 에 는 황종 ( 黃鍾 ) - 미 ♭· 태주 ( 太蔟 ) - 파 · 중려 ( 仲呂 ) - 라 ♭· 임종 ( 林 鍾 ) - 시 ♭· 무역 ( 無射 ) - 레 ♭ 으로 된 5 음계 가 많이 쓰이 고 , 중국 전통 음악 에 는 궁 - 도 · 상 - 레 · 각 - 미 · 변치 ( 變徵 ) - 올림 화 ( Fa ) · 치 - 솔 · 우 - 라 · 변궁 ( 變宮 ) - 시 로 7 음계 를 많이 쓴다 . 한국 전통 음악 에서 는 5 음계 외 에 도 3 음계 또는 악 계통 에서 는 7 음계 등 이 쓰인다 .\\n']\n"
          ]
        }
      ]
    },
    {
      "cell_type": "code",
      "execution_count": 141,
      "metadata": {
        "ExecuteTime": {
          "end_time": "2022-02-19T14:33:03.423002Z",
          "start_time": "2022-02-19T14:33:03.419818Z"
        },
        "id": "WAKB6bbt4WSl",
        "colab": {
          "base_uri": "https://localhost:8080/"
        },
        "outputId": "c7e55f08-68d4-4b72-cd96-620a17917e52"
      },
      "outputs": [
        {
          "output_type": "stream",
          "name": "stdout",
          "text": [
            "# wiki documents: 311,238\n"
          ]
        }
      ],
      "source": [
        "print(f\"# wiki documents: {len(docs):,}\")"
      ]
    },
    {
      "cell_type": "code",
      "execution_count": 142,
      "metadata": {
        "ExecuteTime": {
          "end_time": "2022-02-19T14:33:04.016885Z",
          "start_time": "2022-02-19T14:33:03.962269Z"
        },
        "id": "-OI1MCXv4WSl"
      },
      "outputs": [],
      "source": [
        "# 문서 개수를 500개로 줄임\n",
        "\n",
        "docs=random.sample(docs,500)"
      ]
    },
    {
      "cell_type": "code",
      "source": [
        "print(f\"# wiki documents: {len(docs):,}\")"
      ],
      "metadata": {
        "id": "mP5wGu9YwDUw",
        "colab": {
          "base_uri": "https://localhost:8080/"
        },
        "outputId": "0ace0816-62e2-480e-9df5-d8ee3fb39df8"
      },
      "execution_count": 143,
      "outputs": [
        {
          "output_type": "stream",
          "name": "stdout",
          "text": [
            "# wiki documents: 500\n"
          ]
        }
      ]
    },
    {
      "cell_type": "code",
      "source": [
        "print(docs[:30])"
      ],
      "metadata": {
        "colab": {
          "base_uri": "https://localhost:8080/"
        },
        "id": "xW070Lry9KAh",
        "outputId": "58fe8e31-1260-4284-818c-c0ede8ac90a5"
      },
      "execution_count": 144,
      "outputs": [
        {
          "output_type": "stream",
          "name": "stdout",
          "text": [
            "['남모 공주 ( 南 毛 公主 ) 는 신라 의 공주 , 왕족 으로 법흥왕 과 보과 공주 부여 씨 의 딸 이 며 백제 동성왕 의 외손녀 였 다 . 경쟁자 인 준정 과 함께 신라 의 초대 여성 원화 ( 화랑 ) 였 다 . 그 가 준정 에게 암살 당한 것 을 계기 로 화랑 은 여성 이 아닌 남성 미소년 으로 선발 하 게 되 었 다 . 신라 진흥왕 에게 는 사촌 누나 이 자 이모 가 된다 . 신라 의 청소년 조직 이 었 던 화랑도 는 처음 에 는 남모 , 준정 두 미녀 를 뽑 아 이 를 ` 원화 라 했으며 이 들 주위 에 는 3 0 0 여 명 의 무리 를 따르 게 하 였 다 . 그러나 준정 과 남모 는 서로 최고 가 되 고자 시기 하 였 다 . 준정 은 박영실 을 섬겼 는데 , 지소태후 는 자신 의 두 번 째 남편 이 기 도 한 그 를 싫어해서 준정 의 원화 를 없애 고 낭도 가 부족 한 남모 에게 위화랑 의 낭도 를 더 해 주 었 다 . 그 뒤 남모 는 준정 의 초대 로 그 의 집 에 갔 다가 억지로 권하 는 술 을 받아마시 고 취한 뒤 준정 에 의해 강물 에 던져져 살해 되 었 다 . 이 일 이 발각 돼 준 정도 사형 에 처해지 고 나라 에서 는 귀족 출신 의 잘 생기 고 품행 이 곧 은 남자 를 뽑 아 곱 게 단장 한 후 이 를 화랑 이 라 칭하 고 받들 게 하 였 다 . . 부왕 신라 제 2 3 대 국왕 법흥왕 모후 보과 공주 부여 씨 ( 宝 果 公主 扶餘 氏 ) * 공주 남모 공주 외조부 백제 제 2 4 대 국왕 동성왕 외조모 신라 이찬 비지 의 딸 《 화랑전사 마루 》( KBS , 2 0 0 6 년 , 배우 : 박효빈 ) 신라 법흥왕 백제 동성왕 준정 화랑 분류 : 5 7 6 년 죽음 분류 : 신라 의 왕녀 분류 : 신라 의 왕족 분류 : 화랑 분류 : 암살 된 사람 분류 : 독살 된 사람 분류 : 법흥왕\\n', '1 5 5 mm W 4 8 핵포탄 W 4 8 은 미국 의 1 5 5 mm 핵포탄 이 다 . M 1 1 4 곡사포 , M 1 9 8 곡사포 , M 1 0 9 곡사포 등 어떤 1 5 5 mm ( 6 . 1 인치 ) 곡사포 에서 도 발사 할 수 있 다 . 1 9 6 3 년 생산 이 시작 되 었 으며 , 1 9 9 2 년 모두 퇴역 했 다 . W 4 8 은 직경 6 . 1 인치 ( 1 5 5 mm ) , 길 이 3 3 . 3 인치 , 폭발력 7 2 톤 t ( 0 . 0 7 2 킬로톤 ) 이 다 . 이후 에 W 7 4 , W 8 2 를 개발 하 여 대체 하 려고 했 지만 , 모두 개발 중단 되 었 다 . W 8 2 핵포탄 은 폭발력 2 kt 에 중성자탄 , 핵분열 탄 의 2 가지 버전 이 계획 되 었 다 . 분류 : 핵무기\\n', '너지 티메어 ( Nagy Tímea , 1 9 7 0 년 8 월 2 2 일 , 부다페스트 ~) 는 헝가리 의 에페 펜싱 선수 로 , 여자 에페 개인전 에서 현재 까지 유일 하 게 2 연패 ( 2 0 0 0 년 , 2 0 0 4 년 ) 를 거둔 선수 이 다 . 그녀 는 좌완 이 며 , 2 0 0 6 년 세계 선수 권 도 재패 하 였 다 . 그 는 이 업적 으로 헝가리 올해 의 여성 선수 로 선정 되 었 다 . 2 0 0 0 년 하계 올림픽 에서 그녀 는 에페 단체전 에서 4 위 를 기록 하 기 도 하 였으며 , 세계 선수 권 에서 는 에페 단체전 에서 1 9 9 2 년 , 1 9 9 3 년 , 1 9 9 5 년 , 1 9 9 7 년 , 그리고 1 9 9 9 년 에 우승 을 거두 었 으며 , 2 0 0 1 년 과 2 0 0 3 년 에 는 3 위 를 기록 하 였 다 . 프로파일 분류 : 1 9 7 0 년 태어남 분류 : 살 아 있 는 사람 분류 : 헝가리 의 여자 펜싱 선수 분류 : 1 9 9 6 년 하계 올림픽 펜싱 참가 선수 분류 : 2 0 0 0 년 하계 올림픽 펜싱 참가 선수 분류 : 2 0 0 4 년 하계 올림픽 펜싱 참가 선수 분류 : 헝가리 의 올림픽 금메달리스트 분류 : 올림픽 펜싱 메달리스트 분류 : 헝가리 의 올림픽 펜싱 참가 선수 분류 : 2 0 0 0 년 하계 올림픽 메달리스트 분류 : 2 0 0 4 년 하계 올림픽 메달리스트\\n', '대포 병 레이다 ( ) 는 적 이 발사 한 포탄 이나 다연장 로켓포 의 근원 점 을 역추적 해 알아내 는 레이다 를 말 한다 . * AN / TPQ - 3 6 파이어 파인더 * AN / TPQ - 3 7 파이어 파인더 * AN / TPQ - 4 7 레이다 * AN / TPQ - 5 3 레이다 , 구형 인 TPQ - 3 6 , TPQ - 3 7 을 대체 한 신 형 레이다 * AN / MPQ - 6 4 센티 넬 , 대포 병 임무 를 포함 한 다목 적 레이다 , 호크 미사일 최신 버전 의 레이다 * AN / TPS - 8 0 레이다 , 대포 병 임무 를 포함 한 다목 적 레이다 * ARTHUR , 실전 배치 1 9 9 4 년 * BEL 무기 위치 레이다 ( WLR ) , AN / TPQ - 3 7 레이다 를 바탕 으로 개발 되 었 다 . * Red Color , 실전 배치 2 0 0 5 년 * EL / M - 2 0 8 4 , 포탄 요격 체계 인 아이언 돔 의 다목 적 레이다 . * 그린 아처 , 실전 배치 1 9 6 2 년 * 심 벨린 , 실전 배치 1 9 7 5 년 * 7 0 4 식 레이다 , 4 대 의 AN / TPQ - 3 7 레이다 가 중국 에 수출 되 었 으며 , 이 를 바탕 으로 SLC - 2 레이다 , 7 0 4 식 레이다 를 개발 했 다 . * 천궁 레이다 , 실전 배치 2 0 1 5 년 . AN / MPQ - 6 4 센티 넬 과 제원 이 거의 동일 하 다 . * 대 포병 탐지 레이다 - II\\n', '다음 은 홍조식물 의 과 목록 이 다 . 모두 7 강 , 4 0 목 , 1 0 8 과 를 포함 하 고 있 다 . 강 목 NO . 과 원시 홍조 강 김 파래 목 1 보라털 과 ( Bangiaceae ) 2 그라 누 필 룸 과 ( Granufilaceae ) 콤프 소포 곤강 콤프 소포 곤 목 3 볼디 아과 ( Boldiaceae ) 4 콤프 소포 곤 과 ( Compsopogonaceae ) 붉 은 털목 5 붉 은 털 과 ( Erythrotrichiaceae ) 로 도카이 테 목 6 로 도카이 테 과 ( Rhodochaetaceae ) 키 아니 디 움 강 키아니 디 움 목 7 키 아니 디 움 과 ( Cyanidiaceae ) 8 갈 디 에 리아 과 ( Galdieriaceae ) 진정 홍 조강 붉 은 솜 목 9 붉 은 솜 과 ( Acrochaetiaceae ) 아크 로 심피 톤 목 1 0 아크 로 심피 톤 과 ( Acrosymphytaceae ) 싹새기 목 1 1 싹새기 과 ( Ahnfeltiaceae ) 발비 아니 아 목 1 2 발비 아니 아 과 ( Balbianiaceae ) 발리 아목 1 3 발리 아과 ( Balliaceae ) 개구리 알 말목 1 4 개 구 리알 말 과 ( Batrachospermaceae ) 1 5 레마 네 아과 ( Lemaneaceae ) 갈고리 풀 목 1 6 갈고리 풀 과 ( Bonnemaisoniaceae ) 1 7 나 카리아 과 ( Naccariaceae ) 비단풀 목 1 8 외 깃 풀 과 ( Callithamniaceae ) 1 9 비단풀 과 ( Ceramiaceae ) 2 0 다홍 풀 과 ( Dasyaceae ) 2 1 보라 잎 과 ( Delesseriaceae ) 2 2 이인규 과 ( Inkyuleeaceae ) 2 3 빨간 검둥이 과 ( Rhodomelaceae ) 2 4 사르 코메 니 아과 ( Sarcomeniaceae ) 2 5 비단 사돈 풀 과 ( Spyridiaceae ) 2 6 깃 복슬 털 과 ( Wrangeliaceae ) 홍 다발 솔 목 2 7 홍 다발 솔 과 ( Colaconemataceae ) 산호 말목 2 8 산호말 과 ( Corallinaceae ) 엔트위슬 레아 목 2 9 엔트위슬 레아 과 ( Entwisleiaceae ) 우뭇가사리 목 3 0 우뭇가사리 과 ( Gelidiaceae ) 3 1 겔 리디 엘라 과 ( Gelidiellaceae ) 3 2 프 테 로 클 라디아 과 ( Pterocladiaceae ) 돌가사리 목 3 3 아크 로 틸 루스 과 ( Acrotylaceae ) 3 4 아레스 코우 기아 과 ( Areschougiaceae ) 3 5 블린 크시 아과 ( Blinksiaceae ) 3 6 칼 로 시 포니 아과 ( Calosiphoniaceae ) 3 7 카테 넬 롭 시스 과 ( Catenellopsidaceae ) 3 8 카울 라칸 투스 과 ( Caulacanthaceae ) 3 9 콘 드리 엘라 과 ( Chondriellaceae ) 4 0 콘 드리 메 니 아과 ( Chondrymeniaceae ) 4 1 코 리노 키 스티스 과 ( Corynocystaceae ) 4 2 크루 오리아 과 ( Cruoriaceae ) 4 3 쿠 비 쿨 로스포 룸 과 ( Cubiculosporaceae ) 4 4 열매 가 지과 ( Cystocloniaceae ) 4 5 디 크 라네 마과 ( Dicranemataceae ) 4 6 미끌 풀 과 ( Dumontiaceae ) 4 7 풀 가사리 과 ( Endocladiaceae ) 4 8 푸르 켈 라리아 과 ( Furcellariaceae ) 4 9 가 이니 아과 ( Gainiaceae ) 5 0 돌가사리 과 ( Gigartinaceae ) 5 1 실 풀 가사리 과 ( Gloiosiphoniaceae ) 5 2 하이 메스 카리아 과 ( Haemeschariaceae ) 5 3 붉 은 땀띠 과 ( Kallymeniaceae ) 5 4 미코 데 아과 ( Mychodeaceae ) 5 5 미코 데오 필 룸 과 ( Mychodeophyllaceae ) 5 6 니지 메 니 아과 ( Nizymeniaceae ) 5 7 꿩 꼬리풀 과 ( Phacelocarpaceae ) 5 8 부챗살 과 ( Phyllophoraceae ) 5 9 폴리 이 데스 과 ( Polyidaceae ) 6 0 프 틸로 클라 디옵 시스 과 ( Ptilocladiopsidaceae ) 6 1 리조 필리스 과 ( Rhizophyllidaceae ) 6 2 리 소 엘라 과 ( Rissoellaceae ) 6 3 스 크 미트 지 엘라 과 ( Schmitziellaceae ) 6 4 끈 적 살 과 ( Solieriaceae ) 6 5 꿩 꼬리 과 ( Sphaerococcaceae ) 6 6 티코 카르 푸 스 과 ( Tichocarpaceae ) 꼬시래기 목 6 7 꼬시래기 과 ( Gracilariaceae ) 6 8 프 테 로 클 라디오 필라 과 ( Pterocladiophilaceae ) 도박 목 6 9 지누아리 과 ( Halymeniaceae ) 7 0 첸 기아 과 ( Tsengiaceae ) 하 팔리 디 움 목 7 1 하 팔리 디 움 과 ( Hapalidiaceae ) 분홍 딱 지목 7 2 분홍 딱 지과 ( Hildenbrandiaceae ) 국수 나 물목 7 3 카이 탄기 아과 ( Chaetangiaceae ) 7 4 가위손 말 과 ( Galaxauraceae ) 7 5 분 홍국 수말 과 ( Liagoraceae ) 7 6 리 아고 롭 시스 과 ( Liagoropsidaceae ) 7 7 국수나물 과 ( Nemaliaceae ) 7 8 흐늘 풀 과 ( Scinaiaceae ) 7 9 야마다 엘라 과 ( Yamadaellaceae ) 네마 스토 마목 8 0 네마 스토 마과 ( Nemastomataceae ) 8 1 갈래 잎 과 ( Schizymeniaceae ) 팔 손 이 풀 목 8 2 메이오 디스 쿠스 과 ( Meiodiscaceae ) 8 3 팔 손 이 풀 과 ( Palmariaceae ) 8 4 버짐 더부살이 과 ( Rhodophysemataceae ) 8 5 로 도 탐 니 엘라 과 ( Rhodothamniellaceae ) 바다 표 고목 8 6 바다 표고 과 ( Peyssonneliaceae ) 피 히 엘라 목 8 7 피 히 엘라 과 ( Pihiellaceae ) 곱슬 이목 8 8 곱슬 이과 ( Plocamiaceae ) 8 9 프 세 우도 아네 모니 아과 ( Pseudoanemoniaceae ) 9 0 사르 코디 아과 ( Sarcodiaceae ) 로다 클리 아목 9 1 로다 클리 아과 ( Rhodachlyaceae ) 로 도 고르 곤 목 9 2 로 도 고르 곤 과 ( Rhodogorgonaceae ) 분홍 치목 9 3 사슬 풀 과 ( Champiaceae ) 9 4 파우 케 아과 ( Faucheaceae ) 9 5 프리 엘라 과 ( Fryeellaceae ) 9 6 히메노 클라 디아 과 ( Hymenocladiaceae ) 9 7 마디 잘록 이과 ( Lomentariaceae ) 9 8 분홍 치과 ( Rhodymeniaceae ) 미끌 부채 목 9 9 미끌 부채 과 ( Sebdeniaceae ) 스 포 로리 톤 목 1 0 0 스 포 로리 톤 과 ( Sporolithaceae ) 토레 아목 1 0 1 토레 아과 ( Thoreaceae ) 피떡 말 강 피떡 말목 1 0 2 프라그 모네 마과 ( Phragmonemataceae ) 1 0 3 피떡 말 과 ( Porphyridiaceae ) 로델 라 강 딕 소니 엘라 목 1 0 4 딕 소니 엘라 과 ( Dixoniellaceae ) 글라우코스 파이 라 목 1 0 5 글라우코스 파이 라 과 ( Glaucosphaeraceae ) 로델 라 목 1 0 6 로델 라 과 ( Rhodellaceae ) 스틸 로 네 마강 루푸 시 아목 1 0 7 루 푸시 아과 ( Rufusiaceae ) 스틸로 네 마목 1 0 8 스틸 로 네 마과 ( Stylonemataceae ) 녹조식물 의 과 목록 윤조식물 의 과 목록 우산이끼 류 의 과 목록 선태식물 의 과 목록 양치식물 의 과 목록 속씨식물 의 과 목록 과\\n', 'AUTOEXEC . BAT 는 MS - DOS 운영 체제 에서 찾 을 수 있 는 시스템 파일 의 이름 이 다 . 순수 문자열 이 담긴 배치 파일 이 며 시동 장치 의 루트 디렉터리 에 위치 해 있 다 . 이 파일 의 이름 은 \" automatic ( 자동 ) \" 과 \" execution ( 실행 ) \" 을 합친 것 이 며 , 시스템 이 시작 할 때 자동 으로 명령어 들 을 실행 할 수 있 도록 도와 주 는 기능 을 제공 한다 . 윈도 9 5 와 윈도 9 8 에서 쓰이 는 MS - DOS 버전 7 . x 을 포함 한 모든 버전 의 도스 는 컴퓨터 가 시동 하 면 AUTOEXEC . BAT 를 불러들인다 . 윈도 ME 는 환경 변수 만 읽 어 들이 고 나머지 부분 들 을 사용 하 지 않 지만 일종 의 패치 를 사용 하 여 AUTOEXEC . BAT 의 모든 내용 을 불러올 수 있 다 . 도스 에서 이 파일 은 운영 체제 가 시동 되 면서 CONFIG . SYS 가 처리 된 뒤 에 실행 된다 . 윈도 NT 와 그것 을 잇 는 윈도 XP 와 윈도 비스타 는 사용 자 가 로그 온 할 때 AUTOEXEC . BAT 의 일부 내용 만 을 불러 실행 한다 . 윈도 ME 의 경우 환경 변수 만 읽 어 들이 고 나머지 는 읽 어 들이 지 않 는다 . CONFIG . SYS 와 달리 AUTOEXEC . BAT 의 명령어 들 은 도스 프롬프트 에서 입력 할 수 도 있 다 . 컴퓨터 가 켜 지 면 자동 으로 실행 되 게끔 도와 주 는데 내용 에 는 표준 명령어 들 로 이루어져 있 을 뿐 이 며 일괄 파일 을 포함 할 수 있 다 . AUTOEXEC . BAT 는 키보드 , 사운드 카드 , 프린터 , 그리고 임시 파일 의 위치 와 같 은 환경 변수 를 설정 하 는 데 에 가장 흔히 사용 된다 . 낮 은 수준 의 시스템 유틸리티 들 을 실행 하 는 데 에 도 쓰일 수 있 다 : 바이러스 검사 프로그램 : 디스크 캐시 소프트웨어 - SMARTDRV . EXE ( 시스템 의 속도 가 빨라진다 ) : 마우스 드라이버 - 보통 MOUSE . COM : 키보드 드라이버 : CD 드라이버 - 보통 MSCDEX . EXE : 기타 장치 드라이버 도스 가 흔히 쓰이 던 당시 , 한국 에 는 많 은 컴퓨터 들 이 Mdir 을 사용 하 였 는데 컴퓨터 가 시동 되 자마 마자 Mdir 이 실행 되 곤 했 다 . 이것 도 AUTOEXEC . BAT 의 마지막 줄 에 Mdir 이 라는 프로그램 이 등록 되 어 있 었 기 때문 이 다 . 초기 버전 의 도스 에서 , AUTOEXEC . BAT 는 기본 적 으로 매우 단순 하 였 다 . XT 계열 의 컴퓨터 들 은 배터리 백업 형 실시간 시계 를 기본 으로 채용 하 고 있 지 않 았 으므로 , 초기 PC 에 는 DATE 와 TIME 명령어 가 필수 적 으로 들어가 있 었 다 . ECHO OFF CLS DATE TIME VER 미국 외 국가 들 에선 키보드 드라이버 ( 프랑스어 키보드 를 위한 KEYBFR 와 같이 ) 또한 포함 되 었 다 . 나중 에 나온 버전 들 은 자주 수많 은 서드 파티 장치 드라이버 들 과 더불 어 확장 되 었 다 . 아래 에 는 기본 도스 5 . x 형식 의 AUTOEXEC . BAT 구성 이 며 , 필수 적 인 명령어 들 만 포함 하 고 있 다 @ ECHO OFF PROMPT $ P $ G PATH = C : \\\\ DOS ; C : \\\\ WINDOWS SET TEMP = C : \\\\ TEMP SET BLASTER = A 2 2 0 I 7 D 1 T 2 LH SMARTDRV . EXE LH DOSKEY LH MOUSE . COM / Y WIN 이러 한 구성 은 윈도 시작 전 에 공통 환경 변수 를 설정 하 고 , 디스크 캐시 SMARTDRIVE 를 불러들이 며 ( 6 째 줄 ) , 공통 디렉터리 를 기본 경로 로 설정 하 고 , 도스 마우스 및 키보드 드라이버 를 시작 한다 . PROMPT 명령어 ( $ P $ G 변수 포함 ) 는 도스 프롬프트 를 기본 적 인 \" C >\" 대신 에 \" C : \\\\>\" 로 설정 해 준다 . 일반 적 으로 . sys 파일 들 은 CONFIG . SYS 에서 호출 되 며 , MS - DOS 5 x 에서 제공 했 던 SMARTDRIVE 와 같 은 디스크 캐시 소프트웨어 와 같 은 . exe 프로그램 들 은 AUTOEXEC . BAT 파일 에서 불러들였 다 . 마우스 와 같 은 일부 장치 들 은 CONFIG . SYS 안 에서 . sys 파일 로 불러들이 거나 AUTOEXEC . BAT 에서 . com 파일 로 불러들일 수 있 다 . 이 는 제조 업체 에 따라 다르 다 . \" REM \" 문자열 로 시작 하 는 줄 은 주석 을 뜻 하 며 AUTOEXEC . BAT 에서 이 줄 을 일시 적 으로 사용 하 지 않 겠 다는 것 을 말 한다 . 이 와 비슷 한 대체 문자열 로 두 개 의 콜론 ( : ) 을 사용 할 수 있 다 . MS - DOS 6 이상 에서 , 도스 시동 메뉴 를 설정 할 수 있 다 . 다양 한 프로그램 들 을 위한 최적 의 시동 구성 을 사용 자 가 정할 수 있 기 때문 에 큰 도움 이 된다 . 이를테면 도스 게임 을 위한 메뉴 와 윈도 를 위한 메뉴 를 따로 지정 할 수 있 다 . ( CONFIG . SYS 글 에서 이어짐 ) @ ECHO OFF PROMPT $ P $ G PATH = C : \\\\ DOS ; C : \\\\ WINDOWS SET TEMP = C : \\\\ TEMP SET BLASTER = A 2 2 0 I 7 D 1 T 2 GOTO % CONFIG % : WIN LH SMARTDRV . EXE LH MOUSE . COM / Y WIN GOTO END : XMS LH SMARTDRV . EXE LH DOSKEY GOTO END : END GOTO % CONFIG % 줄 은 도스 가 CONFIG . SYS 안 에 정의 해 둔 메뉴 항목 을 찾 아 본다 . 그 뒤 에 , 이러 한 프로 파일 들 은 여기 에 이름 이 붙여져서 원 하 는 지정 드라이버 와 유틸리티 로 구성 된다 . 각 지정 구성 의 끝 에 , GOTO 명령어 를 사용 하 여 ( GOTO END 로 지정 되 어 있 음 ) 도스 가 : END 섹션 으로 끝나 게 된다 . : END 뒤 의 항목 은 모든 프로파일 에서 쓰인다 . 도스 위 에 윈도 버전 을 실행 할 때 문제점 들 가운데 하나 는 기본 메모리 의 부족 이 다 . 이것 은 초기 x 8 6 프로세서 의 아키텍처 설계 에 기인 한 것 이 며 1 0 2 4 킬로바이트 , 곧 효과 적 인 6 4 0 킬로바이트 의 메모리 에 주소 를 매길 수 있 다 . 이것 이 나중 에 새로운 프로세서 모드 가 포함 된 반면 , 도스 는 낮 은 수준 의 AUTOEXEC . BAT 형식 드라이버 를 확장 메모리 로 불러오 지 는 못했 다 . 이 를 위해 사용 자 들 은 LH 명령어 를 사용 해야 했 다 . COMMAND . COM MS - DOS Windows 9 8 CONFIG . TXT file 분류 : 도스 분류 : 설정 파일\\n', '청안 초등 학교 는 충청북도 괴산군 청안면 읍내리 에 있 는 공립 초등 학교 이 다 . 1 9 0 8 년 2 월 1 0 일 사립 천 명 학교 설립 1 9 0 8 년 9 월 2 일 사립 중명 학교 로 교명 변경 1 9 1 1 년 1 1 월 3 일 청안 공립 보통학교 ( 4 년 제 ) 개편 1 9 2 3 년 5 월 2 일 6 년 제 인가 1 9 3 8 년 4 월 1 일 청안 공립 심상 소학교 로 개칭 1 9 4 1 년 4 월 1 일 청안 공립 국민학교 로 개칭 1 9 4 8 년 4 월 1 일 청안 국민학교 로 개칭 1 9 8 3 년 3 월 1 0 일 병설 유치원 개원 1 9 9 6 년 3 월 1 일 청안 초등 학교 로 개칭 분류 : 괴산군 의 초등 학교 분류 : 1 9 0 8 년 개교\\n', '선남 초등 학교 는 경상북도 성주군 선남면 관화리 에 있 는 공립 초등 학교 다 . 1 9 3 2 년 9 월 1 3 일 선남 공립 보통학교 ( 4 년 제 ) 개교 ( 설립 인가 8 월 1 7 일 ) 1 9 3 9 년 4 월 1 일 선남 공립 심상 소학교 ( 6 년 제 ) 로 개칭 1 9 4 1 년 4 월 1 일 선남 공립 국민학교 로 개칭 1 9 9 2 년 3 월 1 일 문방 분교장 폐교 1 9 9 6 년 3 월 1 일 선남 초등 학교 로 개칭 2 0 0 1 년 3 월 1 일 명포 초등 학교 폐교 로 편입 2 0 1 7 년 2 월 1 0 일 제 8 2 회 졸업식 ( 5 , 3 7 1 명 ) 2 0 1 7 년 9 월 1 일 제 2 6 대 이 사 열 공모 교장 부임 2 0 1 8 년 2 월 9 일 제 8 3 회 졸업식 ( 총 5 , 3 7 5 명 ) 분류 : 1 9 3 2 년 개교 분류 : 성주군 의 초등 학교\\n', '구 라마 ( 鞍馬 ) 는 일본 제국 해군 의 순양전함 이 다 . 건조 될 당시 에 는 장갑순양함 으로 분류 되 었 고 , 구 라마 급 순양전함 1 번 함 이 다 . 이부키 급 장갑순양함 2 번 함 으로 취급 되 기 도 한다 . 함 명 은 교토 에 있 는 구 라마 산 에서 따왔 다 . 1 9 0 5 년 6 월 1 1 일 , 일본 해군 은 인호 장갑순양함 의 이름 을 ‘ 구 라마 ’ 라고 정하 고 , 첫 번 째 장갑순양함 은 이부키 라고 예정 했 다 . 8 월 2 3 일 , 인호 장갑순양함 은 요코스카 해군 공창 에서 기공 되 었 고 , 1 9 0 7 년 1 0 월 2 1 일 에 진수 되 었 다 . 진수식 에 는 메이지 천황 의 황후 ( 이후 쇼켄 황태후 ) 가 참석 했 다 . 이날 부터 인호 장갑순양함 은 제식 명 칙 을 ‘ 구 라마 ’ 라고 부르 고 , 일 등 순양함 으로 분류 했 다 . 준공 은 1 9 1 1 년 2 월 2 8 일 에 되 었 다 . 계획 시점 에서 는 가토리 급 전함 에 준하 는 포 의 위력 을 가진 고속함 이 었 지만 , 진수 를 할 때 쯤 에 는 드레드 노트 가 출시 되 면서 이미 구식 함 이 되 어 버렸 다 . 취역 직후 조지 5 세 의 즉위 기념 관함식 에 참석 하 기 위해 구라 마는 함 은 ‘ 도네 ’ 와 함께 파 영 함대 ( 사령 관장 시마무라 하야오 중장 ) 로 편성 되 었 다 . 1 9 1 1 년 3 월 하순 시마무라 중장 과 구 라마 , 도네 의 승무원 은 메이지 천황 을 만났 다 . 4 월 1 일 , 두 척 의 순양함 ( 구 라마 , 도네 ) 은 요코스카 항 을 출항 하 여 , 6 월 2 4 일 스 핏 헤드 에서 의 관함식 에 참가 했 다 . 1 1 월 2 2 일 요코스카 로 귀환 했 다 . Japanese battleships , battlecruisers , and large cruisers at hazegray . org 분류 : 일본 의 순양전함 분류 : 구 라마 급 순양전함 분류 : 일본 의 순양함 분류 : 1 9 0 7 년 진수 된 선박\\n', '슈퍼 스트링 은 웹툰 회사 인 YLAB 의 다른 웹툰 캐릭터 들 이 서로 하나 의 세계관 을 공유 하 고 연계 하 여 스토리 를 진행 해 나가 는 일종 의 웹툰 유니버스 프로젝트 이 다 . 연재 시작 일 을 기준 으로 소개 . + 연도 제목 작가 연재 처 연재 현황 2 0 1 1 웨스트우드 비브라토 윤인환 / 김선희 네이버 웹툰 완결 2 0 1 2 나 의 밤 은 당신 의 낮 보다 아름답 다 한 동우 / 병수 씨 다음 웹툰 2 0 1 4 심연 의 하늘 시즌 1 ~ 3 윤인완 / 김석희 네이버 웹툰 프린스 의 왕자 재 아 / SE 2 0 1 5 버 닝 헬 윤인완 / 양경일 프린스 의 왕자 - 카페 드 쇼콜라 - 재아 / SE 2 0 1 6 테러 맨 한 동우 / 고진호 부활 남 채용 택 / 김재한 연재 중 아일랜드 1 부 윤인완 / 양경일 완결 심연 의 하늘 시즌 4 윤인완 / 김선희 아일랜드 2 부 윤인완 / 양경일 2 0 1 7 심연 의 하늘 시즌 5 윤인완 / 김선희 신 암행어사 윤인완 / 양경일 연재 중 신석 기녀 재 아 / 한 가람 슈퍼 스트링 의 배경 은 크 게 세 가지 로 나뉜다 . # 멀티 버스 , 인류 이 주 계획 : 어느 날 , 원인 불명 의 사건 으로 인해 목성 이 내행성 궤도 로 다가오 는 사태 가 벌어진다 . 화성 은 목성 궤도 의 영항 을 받 아 섭씨 8 0 0 도 의 행성 이 되 어 버리 고 달 은 목성 의 중력 에 빨려 들어가 파괴 되 어 버린다 . 지구 역시 곧 섭씨 4 0 0 도 의 행성 이 될 것 이 고 모든 인류 는 지구 멸망 을 눈앞 에 두 게 된다 . # 멀티 버스 를 건너온 자 들 현재 의 과학 력 으로 행성 간 의 이 주 는 불 가능 하 다 . 그렇 다면 인류 는 어떻게 생존 할 것 인가 . 이 에 대한 그룹 의 회장 원미 호 는 세계 입자 물리 연구소 화이트 타워 와 함께 차원 의 문 을 열 어 새로운 지구 에 인류 를 이주 시킬 계획 을 세운다 . 화이트 타워 는 끈 이 진동 함 으로서 만물 이 생성 된다는 초 끈 이론 을 이용 하 여 마침내 차원 의 문 - 멀티 버스 를 만들 게 된다 . # 대립 되 는 이념 그러나 멀티 버스 의 개문 은 인류 에게 더 큰 재앙 을 안겨 주 게 된다 . 쾌 타천 이 라 불리 는 차원 의 요괴 들 이 현대 로 넘어오 게 된 것 이 다 . 하지만 멀티 버스 를 통해 넘어온 것 은 요괴 들 만 이 아니 었 다 . 요괴 들 을 따라 다른 세계 의 영웅 들 도 함께 넘어오 게 된 것 이 다 . 원미 호 는 이 영웅 들 을 설득 해서 지구 의 영웅 들 과 함께 슈퍼 스트링 팀 을 만들 어 인류 를 구할 계획 을 세운다 . 다음 은 슈퍼 스트링 의 공식 타임 라 인순 웹툰 목록 이 다 . * 신석 기녀 ( 기원전 8 0 0 0 년 ) → ( 2 0 1 0 년 대 ) * 신 암행어사 ( X 차원 ) * 버 닝 헬 ( 1 8 1 0 년 대 ) * 파락호 ( 1 8 5 0 년 대 . 연재 예정 ) * 하우스키퍼 ( 1 9 7 0 년 대 ) * 웨스트우드 비브라토 ( 2 0 1 0 년 대 ) * 테러 맨 ( 2 0 1 0 년 대 ) * 아일랜드 ( 2 0 1 0 년 대 ) * 나 의 밤 은 당신 의 낮 보다 아름답 다 ( 2 0 1 0 년 대 ) * 부활 남 / 프린스 의 왕자 ( 2 0 2 0 년 대 ) * 캉타우 ( 2 0 2 0 년 대 , ) * 심연 의 하늘 ( 2 0 2 0 년 대 ) 주식회사 와이 랩 홈페이지 분류 : 웹툰 분류 : 가공 의 세계\\n', '앤 불린 ( , 1 5 0 1 년 ( ?) - 1 5 3 6 년 5 월 1 9 일 ) 은 헨리 8 세 의 제 1 계비 이 며 엘리자베스 1 세 의 생모 이 다 . 헨리 8 세 는 앤 불린 과 결혼 하 려고 민족주의 성격 의 종교 개혁 을 일으켜 잉글랜드 교회 를 로마 가톨릭교회 와 결별 시켰 다 . 딸 엘리자베스 를 낳 은 후 , 불륜 과 이단 , 모반 등 의 혐의 를 받 아 1 5 3 6 년 5 월 1 9 일 사형 당했 다 . 그 로부터 1 1 일 후 에 헨리 8 세 는 앤 불린 의 상궁 출신 이 었 던 제인 시무어 와 결혼 하 였 다 . 후 일 헨리 8 세 의 다섯 번 째 왕비 가 되 는 캐서린 하워드 는 그녀 의 외사촌 여동생 이 었 다 . 앤 불린 의 아버지 는 외교관 토머스 불린 , 어머니 는 명문 집안 인 하워드 가문 의 엘리자베스 였 다 . 생년월일 은 명확 하 지 않 으나 초여름 에 노 포크 지방 에서 태어난 것 으로 추정 된다 . 여러 기록 들 에 의하 면 앤 불린 은 1 4 9 9 년 에서 1 5 1 2 년 사이 에 태어난 것 으로 보이 나 학계 에서 는 1 5 0 1 년 이나 1 5 0 7 년 을 가장 신빙 성 있 게 보 고 있 다 . 후 에 헨리 8 세 의 다섯 번 째 왕비 가 되 는 캐서린 하워드 는 그녀 의 외삼촌 에드먼드 하워드 경 의 딸 이 었 다 . 그녀 의 자매 메리 불린 역시 헨리 8 세 의 정부 였 다 . 윌리엄 캐리 의 미망인 으로 한때 헨리 8 세 의 정부 였 던 언니 메리 불린 은 윌리엄 스태포드 와 재혼 하 였 다 . 총명 하 고 재 치 있 는 성격 으로 어렸 을 때 부터 프랑스 궁정 에서 수업 을 받 으며 예법 을 닦 았 고 프랑스어 와 라틴어 에 능숙 했 다 . 프랑스 의 루이 1 2 세 의 왕비 메리 튜더 의 시녀 가 되 었 다가 루이 1 2 세 가 승하 하 고 프랑수아 1 세 가 즉위 하 자 그 의 정비 클로드 의 시녀 로 간택 되 었 다 . 오랜 프랑스 생활 로 프랑스 문화 에 동화 된 앤 불린 은 이후 로 도 프랑스 식 옷차림 , 문학 , 음악 , 그리고 종교 개혁 에 깊 은 관심 을 보인다 . 1 5 2 1 년 경 앤 불린 은 오몬드 공작 과 의 혼담 을 위해 잉글랜드 로 돌아와 헨리 8 세 의 정비 아라곤 의 캐서린 의 시녀 가 된다 . 지참금 문제 로 오몬드 공작 과 의 혼담 이 무산 되 자 앤 불린 은 노섬브리아 공작 의 후계자 헨리 퍼시 와 사랑 에 빠져 결혼 을 약속 한다 . 그러나 두 사람 의 신분 차이 와 토머스 울지 추기경 의 반대 로 퍼시 와 의 결혼 은 무산 되 었 다 . 이 에 낙심 한 헨리 퍼시 는 궁정 을 떠났 다 . 전기 작가 안토니아 프레이저 에 따르 면 헨리 8 세 가 앤 불린 을 의식 하 기 시작 한 것 은 1 5 2 6 년 경 이 라고 한다 . 앤 불린 은 전통 적 인 금발 에 푸른 눈 을 가진 미인 은 아니 었 으나 흑발 에 까만 눈 의 매력 적 인 여인 이 었 다 . 당시 유럽 유행 의 최첨단 을 걸 었 던 프랑스 궁정 에서 받 은 교육 덕분 에 세련된 기품 이 배 어 있 었 으며 화술 도 뛰어났 다 . 이미 앤 의 누이 ( 언니 인지 동생 인지 는 정확 하 지 않 으나 메리 가 언니 라는 설 이 가장 유력 하 다 ) 메리 불린 을 정부 로 두 었 던 전력 이 있 는 헨리 8 세 는 앤 마저 정부 로 삼 으려 했 다 . 그러나 앤 은 왕 의 유혹 을 거절 하 며 정식 결혼 을 요구 했 다 . 왕비 캐서린 에게서 아들 을 얻 지 못했 던 헨리 8 세 는 젊 은 앤 불린 이 왕자 를 낳 아 줄 것 이 라는 희망 을 품 게 된다 . 1 5 2 7 년 헨리 8 세 는 캐서린 과 의 이혼 을 시도 하 였 다 . 캐서린 의 거센 저항 과 로마 교황청 의 끈질긴 반대 에 부딪히 자 헨리 8 세 는 결국 종교 개혁 을 일으켜 잉글랜드 교회 를 로마 가톨릭 에서 분리 시키 고 나 서 스스로 교회 의 우두머리 가 되 었 다 . 1 5 2 9 년 부터 앤 은 왕 의 총애 를 받 으며 잉글랜드 궁정 에서 출세 가 도 를 걷 는다 . 하지만 , 앤 불린 은 신실 한 캐서린 왕비 를 왕궁 에서 쫓아낸 여자 라고 백성 의 반감 을 샀 다 . 1 5 3 2 년 헨리 8 세 는 앤 에게 펨브로크 여 후작 ( Marquess of Pembroke ) 의 지위 를 내려 그녀 의 신분 을 격상 시켰 다 . 미혼 여성 이 직접 작위 를 하사 받 은 것 은 전례 가 없 는 일 이 었 다 . 같 은 해 크랜머 대주교 가 헨리 8 세 와 캐서린 의 결혼 을 성경 적 이 지 않 은 것 이 라는 판결 을 내리 면서 무효 로 했 다 . 1 5 3 3 년 1 월 경 헨리 8 세 와 앤 불린 은 정식 으로 결혼식 을 올린다 . 당시 앤 은 이미 임신 한 상태 였 다 . 같 은 해 6 월 1 일 앤 불린 은 호화 로운 예식 을 통해 잉글랜드 의 왕비 로 즉위 했 다 . 1 5 3 3 년 9 월 7 일 앤 은 딸 엘리자베스 를 낳 았 다 . 헨리 8 세 는 실망 했으나 곧 아들 도 생길 것 이 라며 희망 을 잃 지 않 았 다 . 그러나 앤 이 수차례 에 걸쳐 유산 을 반복 했 고 , 부부 사이 의 말다툼 이 잦아지 자 왕 의 마음 도 앤 에게서 멀 어 졌 다 . 대신 왕 은 앤 불린 의 시녀 제인 시무어 에게 눈길 을 주 기 시작 한다 . 앤 불린 의 정적 토머스 크롬웰 은 제인 시무어 를 지지 하 면서 왕비 와 불린 가의 추락 을 획책 했 다 . 1 5 3 6 년 앤 불린 과 남동생 로시 포드 공작 조지 불린 , 그리고 두 사람 과 가까운 귀족 청년 들 몇몇 은 간통 과 반역 , 근친상간 혐의 로 런던 탑 에 감금 되 었 다 . 심지어 앤 불린 은 마법 으로 왕 을 유혹 했 다는 혐의 도 받 았 다 . 이 를 뒷받침 할 증거 가 부족 했으나 앤 불린 은 두 차례 에 걸친 재판 에서 모두 유죄 선고 를 받 았 다 . 본래 앤 은 화형 당하 기 로 판결 되 었 으나 나중 에 헨리 8 세 에 의하 여 참수 로 감형 되 었 다 . 참수형 이 확정 되 자 앤 은 자신 의 시녀 에게 “ 내 목 이 가늘 어서 다행 이 다 . ” 라고 씁쓸 한 농담 을 건넸 다고 한다 . 앤 의 사형 집행 은 그때 당시 참수 에 흔히 쓰이 던 도끼 대신 잘 드 는 칼 을 사용 하 기 로 결정 되 었 고 왕 은 앤 의 참수 를 위해 프랑스 에서 칼 을 쓰 는 노련 한 사람 을 특별히 고용 했 다 . 동생 로시 포드 공작 이 처형 당한 지 이틀 후 인 5 월 1 9 일 , 앤 불린 은 런던 탑 에서 참수 되 었 다 . 사형장 에서 앤 불린 은 구경 꾼 들 에게 왕 에게 는 잘못 이 없 으니 충성 을 다 해 섬겨 달 라고 부탁 하 는 연설 을 남겼 다 . 앤 불린 의 마지막 말 은 “ 주 님 께 제 영혼 을 맡깁니다 . ” 였 다 . 앤 불린 의 사형 집행 은 단칼 에 마무리 되 었 다 . 앤 불린 의 왼손 손가락 이 여섯 개 였 다거나 얼굴 에 큰 사마귀 가 있 었 다는 소문 은 앤 이 마녀 로 몰려 사형 당한 사실 에서 비롯 된 유언비어 로 추정 된다 . 왕족 이 아닌 한 신체 적 으로 큰 결함 이 있 는 여성 이 왕비 가 되 는 일 은 드물 었 다 . 1 8 5 7 년 에 앤 불린 의 유골 이 발견 됨 에 따라 그녀 의 손가락 이 여섯 개 였 다는 소문 은 거짓 이 었 음 이 밝혀졌 다 . 런던 탑 에 는 밤 마다 머리 없 는 앤 불린 의 유령 이 떠돌 아 다닌다는 전설 이 있 다 . 분류 : 1 5 3 6 년 죽음 분류 : 잉글랜드 의 왕비 분류 : 튜더가 분류 : 참수 된 사람 분류 : 엘리자베스 1 세 분류 : 런던탑 수감자 분류 : 잉글랜드 의 반역죄 사형수 분류 : 1 6 세기 잉글랜드 사람 분류 : 로마 가톨릭교회 이탈자 분류 : 잉글랜드 의 성공 회교도\\n', '남양 초등 학교 백금 분교 는 충청남도 청양군 남 양면 백 금리 2 7 3 - 2 에 있 었 던 공립 초등 학교 이 다 . * 1 9 6 4 . 9 . 1 . 설립 인가 ( 5 교실 ) * 1 9 6 4 . 1 0 . 1 . 개교 ( 8 학급 인가 ) * 1 9 7 0 . 3 . 1 . 1 2 학급 인가 * 1 9 7 7 . 3 . 1 . 1 1 학급 인가 * 1 9 8 6 . 1 . 1 . 벽지 학교 지정 * 1 9 8 6 . 3 . 1 . 6 학급 인가 * 1 9 8 7 . 1 . 5 . 시 , 군 , 구 , 읍 , 면 의 관할 구역 변경 에 따른 학교 명칭 및 위치 ( 주소 ) 변경 * 1 9 9 3 . 3 . 1 . 5 학급 인가 * 1 9 9 8 . 3 . 1 . 3 학급 인가 * 2 0 0 6 . 3 . 1 . 남양 초등 학교 백금 분교장 ( 2 학급 인가 ) * 2 0 0 6 . 9 . 1 . 남양 초등 학교 로 통합 백금 은 백 월산 의 기점 과 종점 으로 이용 되 는 마을 금곡 은 ‘ 거문고 골짜기 ’ 라는 뜻 으로 , 마을 지형 이 거문고 처럼 생겼 다 해서 붙여진 이름 으로서 마을 이름 을 따 서 백금 초등 학교 라 지 음 분류 : 남양 초등 학교 ( 충남 ) 분류 : 1 9 6 4 년 개교 분류 : 2 0 0 6 년 폐교 분류 : 대한민국 의 없 어 진 초등 학교 분류 : 청양군 의 학교 분류 : 초등 학교 분교\\n', '《 섬네일 》() 은 , AKB 4 8 의 5 번 째 오리지널 앨범 이 다 . 2 0 1 7 년 1 월 2 5 일 에 You , Be Cool ! 를 통해 발매되 었 다 . 전작 《 0 과 1 사이 》 로부터 약 1 년 2 개월 만 의 앨범 이 다 . 전작 《 여기 가 로도스 다 , 여기 서 뛰 어라 ! 》 로부터 약 2 년 만 의 오리지널 앨범 이 다 . Type A ( 표지 ) 이리야마 안나 · 오카다 나 나 · 카시와기 유키 · 키타하라 리에 · 코지마 하루 나 · 사시하라 리노 · 야마모토 사야카 Type B ( 표지 ) 카토 레나 · 코다마 하루카 · 타카하시 쥬리 · 마츠이 쥬리나 · 미야와키 사쿠라 · 요코야마 유이 · 와타나베 마유 극장판 ( 표지 ) 오구리 유이 · 키자키 유리아 · 코지마 마코 · 스다 아카리 · 나카이 리카 · 무 카이치 미온 · 무토 토무 AKB 4 8 팀 A 이리야마 안나 , 오오 와 다 나 나 , 코지마 하루 나 , 시마자키 하루카 , 타니구치 메 구 , 미야자키 미호 , 요코야마 유이 AKB 4 8 팀 K 미네기시 미나미 , 무 카이치 미온 , 무토 토무 AKB 4 8 팀 B 오오시마 료카 , 카시와기 유키 , 카토 레나 , 키자키 유리아 , 와타나베 마유 AKB 4 8 팀 4 오카다 나 나 , 코지마 마코 , 코미야마 하루카 , 다카하시 쥬리 , 무라야마 유이리 사시 닝 구 무스메 명의 HKT 4 8 팀 H 사시하라 리노 모닝구 무스메 1 7 후쿠무라 미즈키 , 이쿠타 에리나 , 이이쿠보 하루 나 , 이시다 아유미 , 사토 마사키 , 쿠도 하루카 , 오다 사쿠라 , 오가타 하루 나 , 노나카 미키 , 마키노 마리아 , 하가 아카네 , 카가 카에데 , 요코야마 레이나 AKB 4 8 팀 A 이리야마 안나 , 코지마 하루나 AKB 4 8 팀 B 카토 레나 AKB 4 8 팀 A 요코야마 유이 AKB 4 8 팀 B 카시와기 유키 AKB 4 8 팀 4 코미야마 하루카 , 다카하시 쥬리 SKE 4 8 팀 K Ⅱ 타카야나기 아카네 AKB 4 8 팀 B 오오시마 료카 , 키자키 유리아 AKB 4 8 팀 4 코지마 마코 SKE 4 8 팀 K Ⅱ 소다 사리 나 , 타케우치 사키 NMB 4 8 팀 B Ⅱ 야구라 후코 HKT 4 8 팀 H 코다마 하루카 , 야부키 나코 HKT 4 8 팀 K Ⅳ 토모 나 가 미오 HKT 4 8 팀 T Ⅱ 마츠오카 하나 NGT 4 8 팀 N Ⅲ 나카이 리카 AKB 4 8 팀 8 오구리 유이 SKE 4 8 팀 E 고토 라라 NMB 4 8 팀 N 야마모토 아야카 HKT 4 8 팀 T Ⅱ 마츠오카 하나 NGT 4 8 팀 N Ⅲ 타카쿠라 모에 카 AKB 4 8 팀 K 타노 유카 AKB 4 8 팀 8 오다 에리나 SKE 4 8 팀 E 스다 아카리 NMB 4 8 팀 N 스토 리리카 NGT 4 8 팀 N Ⅲ 오기노 유카 AKB 4 8 팀 B 와타나베 마유 SKE 4 8 팀 S 마츠이 쥬리나 HKT 4 8 팀 K Ⅳ 미야와키 사쿠라 AKB 4 8 팀 K 무 카이치 미온 AKB 4 8 팀 4 카와모토 사야 SKE 4 8 팀 S 키 타가 와 료 하 SKE 4 8 팀 K Ⅱ 오오바 미나 SKE 4 8 팀 E 쿠마 자키 하루카 NMB 4 8 팀 M 시부야 나기사 NMB 4 8 팀 B Ⅱ 오키타 아야카 HKT 4 8 팀 K Ⅳ 모리 야스 마도카 NGT 4 8 팀 N Ⅲ 카토 미나미 AKB 4 8 팀 K 미네기시 미나미 , 무토 토무 SKE 4 8 팀 K Ⅱ 후루하타 나오 NMB 4 8 팀 M 시로마 미루 NGT 4 8 팀 N Ⅲ 키타하라 리에 국가 날짜 포맷 레이블 2 0 1 7 년 1 월 2 5 일 CD , 디지털 음원 You , Be Cool ! 2 0 1 8 년 7 월 1 3 일 디지털 음원 스톤 뮤직 엔터 테 인 먼 트 섬네일 AKB 4 8 공식 사이트 킹레코드 의 소개 페이지 * Type A * Type B * 극장 반 분류 : AKB 4 8 의 음반 분류 : 킹레코드 의 음반 분류 : 2 0 1 7 년 음반 분류 : 2 0 1 7 년 오리콘 앨범 차트 1 위 작품\\n', '《 더 보스 》() 는 2 0 1 6 년 공개 된 미국 의 코미디 영화 이 다 . 멜리사 맥카시 크리스틴 벨 피터 딘클리지 엘라 앤더슨 타일러 라빈 캐시 베이츠 세실리 스트롱 크리스틴 스칼 티모시 시몬스 애니 머 몰로 벤 팰콘 마고 마틴데일 마이클 맥도널드 로버트 프 랠 고 래리 도프 세드릭 야브로우 파커 영 샤론 콘리 이사벨라 아마라 미술 러스티 스미스 의상 웬디 척 분류 : 2 0 1 6 년 영화 분류 : 영어 영화 작품 분류 : 미국 의 코미디 영화 분류 : 유니버설 픽처스 영화 분류 : 시카고 를 배경 으로 한 영화 분류 : 애틀랜타 에서 촬영 한 영화 분류 : 시카고 에서 촬영 한 영화\\n', '파우 스타 조각상 플라비아 막 시마 파우 스타 ( Flavia Maxima Fausta , 2 8 9 년 ~ 3 2 6 년 ) 은 로마 제국 의 황후 이 며 , 전 황제 였 던 막시미아누스 의 딸 이 다 . 3 0 7 년 콘스탄티누스 1 세 와 혼인 을 맺 었 으며 , 파우 스타 는 콘스탄티누스 2 세 , 콘스탄티우스 2 세 , 콘스탄스 를 낳 아 콘스탄티누스 왕조 가 유지 되게 하 였 다 . 고대 로마 사람 이 며 , 막시미아누스 와 에우 트로피 아 사이 에서 태어났 다 . 3 0 7 년 막센티우스 와 불화 를 겪 고 있 던 막시미아누스 는 파우 스타 를 트리어 에 거주 중 인 콘스탄티누스 1 세 와 혼인 을 맺 게 해 그 의 세력 하 에 들어갔 으나 , 3 1 0 년 막시미아누스 는 콘스탄티누스 가 라인 강 동부 로 야만족 들 을 격퇴 하 러 간 틈 을 타 반란 을 일으켰 다 . 하지만 예상 보다 빨리 원정 에서 돌아온 콘스탄티누스 에게 진압 당한 뒤 마실 리아 ( 현재 의 마르세유 ) 로 도망갔으나 그곳 에서 죽음 을 맞 았 고 , 이후 3 1 2 년 파우 스타 의 오빠 인 막센티우스 또한 밀비 우스 다리 전투 에서 전사 했 다 . 그 뒤 3 2 5 년 리키니우스 가 반란 을 꾀한다는 의심 을 받 고 처형 당한 뒤 콘스탄티누스 가 로마 제국 의 유일 한 최고 권력자 가 되 자 자연 스럽 게 파우 스타 또한 로마 제국 의 황후 로 인정받 았 으며 , 콘스탄티누스 의 뒤 를 이 어 콘스탄티누스 왕조 의 황제 가 되 는 콘스탄티누스 2 세 , 콘스탄티우스 2 세 , 콘스탄스 를 낳 았 다 . 하지만 3 2 6 년 미 네르비 나 의 아들 인 크리스푸스 가 파우 스타 와 간통 했 다는 죄목 으로 체포 되 어 처형 되 었 으며 , 이후 몇 달 뒤 파우 스타 는 콘스탄티누스 에 의해 증기탕 에 갇혀서 질식사 로 사망 했 다 . Roman Emperors . org 분류 : 2 8 9 년 태어남 분류 : 3 2 6 년 죽음 분류 : 고대 로마 사람 분류 : 황후 분류 : 콘스탄티누스 왕조 분류 : 사형 된 사람\\n', '대머리 우 아카리 ( Cacajao calvus ) 는 신세계원숭이 에 속하 는 우아 카리 원숭이 의 일종 이 다 . 매우 짧 은 꼬리 에 붉 은 얼굴 과 벗겨진 머리 그리고 긴 외투 를 지닌 작 은 몸집 의 원숭이 다 . 몸무게 는 일반 적 으로 4 kg 이하 이 며 몸 길이 는 약 5 0 내지 5 9 cm 정도 이 다 . 대머리 우 아카리 는 4 종 의 아종 이 알려져 있 으며 , 모두 멸종 취약 종 으로 간주 되 고 있 다 . 흰 대머리 우 아카리 ( Cacajao calvus calvus ) 우 까 얄리 대머리 우 아카리 ( Cacajao calvus ucayalii ) 붉 은 대머리 우 아카리 ( Cacajao calvus rubicundus ) 노바 에 대머리 우 아카리 ( Cacajao calvus novaesi ) 흰 대머리 우 아카리 ( Cacajao calvus ) 는 브라질 과 페루 그리고 아마존 강 분지 의 습지 숲 에서 발견 된다 . ARKive - 대머리 우 아카리 ( Cacajao calvus ) 의 사진 과 영상 Primate . wisc . edu 의 이미지 설명 과 사진 , BBC , 2 0 0 4 년 4 월 2 일 확인 . 붉 은 우아 카리 원숭이 프로젝트 , 2 0 0 9 년 3 월 2 6 일 확인 . 분류 : 신세계원숭이 분류 : 1 8 4 7 년 기재 된 동물 분류 : 브라질 의 포유 류 분류 : 페루 의 포유류\\n', '블러디 메리 블러디 메리 씨 푸드 블러디 메리 ( Seafood Bloody Mary ) Surf and Turf Bloody Mary 블러디 메리 ( ) 는 칵테일 의 한 종류 이 다 . 보드카 , 토마토 주스 , 기타 향료 의 조합 을 포함 하 는 칵테일 로서 우스터셔 소스 , 매운 소스 , 마늘 , 허브 , 서양 고추냉이 , 셀러리 , 올리브 , 소금 , 검 은 후추 , 레몬 주스 , 라임 쥬스 또는 셀러리 소금 을 첨가 하 여 만든 다 . 분류 : 보드카 기반 칵테일\\n', '1 9 9 4 년 아프리카 네이션스컵 예선 은 1 9 9 4 년 아프리카 네이션스컵 의 본선 진출 을 위해 개최 국인 튀니지 와 전 대회 우승 국인 코트디부아르 를 제외 한 아프리카 에 속한 팀 들 이 겨루 는 대회 이 다 . ---- ---- ---- 팀 승점 경기 승 무 패 득 실 차 1 0 6 4 2 0 1 0 2 + 8 9 6 3 3 0 7 0 + 7 5 6 2 1 3 7 1 0 − 3 0 6 0 0 6 3 1 5 − 1 2 ---- ---- ---- ---- ---- ---- ---- ---- ---- ---- ---- ---- ---- 가봉 이 본선 에 진출 하 였 다 . 팀 승점 경기 승 무 패 득 실 차 8 6 3 2 1 1 2 1 + 1 1 7 6 2 3 1 7 6 + 1 5 6 2 1 3 7 1 2 − 5 4 6 1 2 3 2 9 − 7 ---- ---- ---- ---- ---- ---- ---- ---- ---- ---- ---- ---- ---- 나이지리아 가 본선 에 진출 하 였 다 . 팀 승점 경기 승 무 패 득 실 차 1 0 6 4 2 0 9 1 + 8 9 6 4 1 1 1 3 4 + 9 5 6 2 1 3 8 9 − 1 0 6 0 0 6 2 1 8 − 1 6 중도 기권 토고 는 6 경기 만 치르 고 기권 하 였 다 . ---- ---- ---- ---- ---- ---- ---- ---- ---- ---- ---- ---- ---- ---- ---- ---- ---- ---- ---- 시에라리온 이 본선 에 진출 하 였 다 . 알제리 도 본선 에 진출 하 였으나 , 부적격 선수 를 출전 시킨 사실 이 발각 되 어 실격 처리 되 었 다 . 이 에 따라 세네갈 이 알 제리 를 대신 하 여 본선 에 진출 하 였 다 . 팀 승점 경기 승 무 패 득 실 차 8 6 3 2 1 1 3 3 + 1 0 8 6 3 2 1 1 1 6 + 5 5 6 1 3 2 5 7 − 2 3 6 0 3 3 4 1 7 − 1 3 ---- ---- ---- ---- ---- ---- ---- ---- ---- ---- ---- ---- ---- 자이르 가 본선 에 진출 하 였 다 . 팀 승점 경기 승 무 패 득 실 차 1 0 6 4 2 0 1 0 2 + 8 9 6 3 3 0 9 3 + 6 4 6 1 2 3 5 1 0 − 5 1 6 0 1 5 2 1 1 − 9 ---- ---- ---- ---- ---- ---- ---- ---- ---- ---- ---- ---- ---- 잠비아 가 본선 에 진출 하 였 다 . 팀 승점 경기 승 무 패 득 실 차 5 4 1 3 0 5 4 + 1 5 4 1 3 0 5 4 + 1 2 4 0 2 2 0 2 − 2 중도 기권 차드 는 2 경기 만 치르 고 기권 하 였 다 . ---- ---- ---- ---- ---- ---- ---- ---- ---- 기니 와 부룬디 는 승점 , 골 득실 , 다득점 , 상대 전적 에서 모두 동률 을 이루 어 중립 지대 인 가봉 리브르빌 에서 단판 승부 형식 의 플레이오프 를 치렀 다 . 기니 가 본선 에 진출 하 였 다 . 와 는 2 경기 만 치르 고 기권 하 였 다 . ---- ---- ---- ---- ---- ---- ---- 가나 가 본선 에 진출 하 였 다 . 팀 승점 경기 승 무 패 득 실 차 7 6 3 1 2 8 7 + 1 6 6 2 2 2 6 5 + 1 6 6 2 2 2 5 4 + 1 5 6 2 1 3 4 7 − 3 기 권 기권 ---- ---- ---- ---- ---- ---- ---- ---- ---- ---- ---- ---- ---- 말리 와 이집트 가 본선 에 진출 하 였 다 . 분류 : 아프리카 네이션스컵 예선 분류 : 1 9 9 4 년 아프리카 네이션스컵\\n', '커피 드립 밀 리타 드리 퍼 . 물 이 커피 를 지나 필터 를 통과 하 여 커피 잔 에 담긴다 . 드립 커피 ( ) 란 볶 아서 간 커피 콩 을 거름 장치 에 담 고 , 그 위 에 물 을 부 어 만드 는 커피 이 다 . 드립 브 류 ( ) 라 함 은 이 와 같이 커피 를 만드 는 방법 을 일컫 는다 . 거름 장치 를 필터 라고 도 일컬 으므로 , 드립 커피 를 다른 말 로 필터 커피 ( ) 라고 한다 . 커피 를 만드 는 사람 은 , 물 을 커피 사이 로 스며 나오 게 한다 . 단지 , 중력 만 이용 하 여 그렇게 하 는 것 이 다 . 물 은 커피 층 을 지나가 면서 커피 의 기름 성분 과 에센스 를 흡수 한다 . 그 다음 물 이 필터 아래쪽 을 통과 한다 . 커피 가루 는 필터 를 통과 하 지 않 으며 , 필터 를 통과 한 액체 성분 만 카라 페 , 커피 폿 등 의 용기 쪽 으로 떨어져서 ( 드리핑 되 어 ) , 안쪽 에 담긴다 . 전 세계 적 으로 종이 필터 가 널리 쓰인다 . 종이 필터 는 독일 의 밀 리타 벤츠 ( Melitta Bentz ) 가 1 9 0 8 년 에 발명 하 였 다 . 커피 를 추출 하 고 나 서 , 커피 가루 와 함께 종이 필터 를 바로 버릴 수 있 다는 점 이 , 종이 필터 의 장점 중 한 가지 이 다 . 필터 를 청소 할 필요 가 없 는 것 이 다 . 또한 금속 필터 도 널리 쓰인다 . 특히 인도 에서 는 금속 필터 가 많이 쓰인다 . 금속제 필터 는 구멍 이 있 는 얇 은 금속판 으로 만든 다 . 금속 필터 는 커피 가루 는 통과 못 하 게 하 면서 , 커피 는 통과 시킨다 . 따로 필터 를 구매 할 필요 가 없 는데 , 지구 어느 한 편 에서 는 별도 의 필터 를 구하 기 힘들 기 때문 에 이 점 이 매우 유용 하 다 . 또 , 많 은 수 의 커피 머신 에서 는 영구 적 인 플라스틱 필터 도 사용 된다 . 고운 체 형태 의 플라스틱 필터 가 쓰인다 . 영구 적 인 플라스틱 필터 는 관리 에 귀찮 은 면 이 있 지만 , 경제 적 이 고 또 한 친환경 적 이 기 도 하 다 . 드립 커피 제조 방식 은 커피 세계 에서 가장 흔한 커피 제조 방식 이 다 . 커피메이커 의 인기 덕분 이 다 . 자동 커피메이커 말 고도 , 수동식 드립 - 브 류잉 기기 가 시장 에서 팔리 고 있 기 도 하 다 . 수동식 기기 를 쓰 면 , 커피 제조 에 있 어서 , 기호 에 맞 게 파라미터 를 조절 할 수 있 기 때문 이 다 . 또한 , 소형 , 휴대용 의 1 컵 만 만들 어 주 는 드립 브 류 메이커 가 시중 에 나와 있 다 . 필터 를 받칠 수 있 는 받침대 를 컵 위 에 설치 하 고 , 뜨거운 물 을 그 위 에 붓 는다 . 그 뜨거운 물 이 바로 컵 으로 드립 된다 . 직접 손 으로 뜨거운 물 을 부어서 만드 는 드립 커피 를 핸드 드립 혹은 핸드 드립 커피 라고 일컫 는다 . 거름 종이 를 받치 는 장치 를 드리 퍼 라고 일컬으며 , 드리 퍼 를 받치 며 내려진 커피 를 담 는 주전자 를 서버 라고 일컫 는다 . 종이 필터 를 사용 하 여 만든 드립 커피 는 일반 적 으로 다음 과 같 은 특징 이 있 다 . 비교 적 깔끔 하 고 , 경쾌 하 다 . 침전물 이 적 다 . 하지만 커피 의 기름 성분 ( oil ) 과 에센스 가 좀 결여 되 어 있 을 수 있 다 . 이 들 이 종이 필터 에 남 아 있 을 수 있 기 때문 이 다 . 니 폴 리탄 플립 커피 팟 과 같 은 커피 팟 을 사용 한 드립 커피 종류 도 있 다 . 인스턴트 커피 터키 식 커피 인 도식 필터 커피 에스프레소 카페 아메리카노 분류 : 커피 드립 브 류\\n', '야쿠모 ( 八雲 ) 는 일본 제국 해군 이 러일 전쟁 전 에 독일 에서 구입 한 최초 의 장갑순양함 이 다 . 6 6 함대 의 장갑순양함 의 제 1 기 확장 계획 에 정비 된 군함 으로 러일 전쟁 에서 태평양 전쟁 전후 까지 활동 했 다 . 스 테 틴 불 칸 조선소 에서 건조 되 었 다 . 1 9 0 0 년 6 월 2 0 일 에 접수 하 여 , 같 은 해 6 월 2 2 일 에 일본 으로 회항 했 다 . 같 은 해 8 월 3 0 일 요코스카 에 도착 했 다 . 야쿠모 등 6 6 함대 의 장갑순양함 은 러일 전쟁 에서 의 전투 뿐 만 아니 라 다이쇼 시대 에서 쇼 와 시대 에 걸쳐서 연습 함대 를 편성 하 여 사관 학교 생도 의 원양 항해 에 종사 했으며 , 야쿠모 는 1 9 3 9 년 까지 사용 되 었 다 . 1 9 4 2 년 7 월 1 일 해방함 에서 1 등 순양함 으로 등급 이 변경 되 었 다 . 전쟁 말기 에 는 주포 를 고각포 로 바꿔 대공전 에 투입 되 었 다 . 또한 종전 시 에 는 가동 상태 였 기 때문 에 1 9 4 5 년 1 2 월 1 일 에 구레 지방 복 원국 소관 의 특별 수송함 으로 지정 되 어 북 중국 이나 대만 등 근거리 수송 에 사용 되 었 다 . 미군 은 야쿠모 의 모습 에 매우 관심 을 갖 기 도 했 다 . 1 9 4 6 년 6 월 2 6 일 특별 수송함 의 지정 을 폐지 하 였 고 , 7 월 2 0 일 부터 다음 해 4 월 에 걸쳐 히타치 조선 의 마이즈루 조선소 에서 해체 되 었 다 . 선체 형상 은 전형 적 인 평 갑판 형 선체 이 며 , 능파 성 을 향상 시키 기 위해 건현 을 높 게 가지 고 있 으며 , 함수 수면 아래 에 는 아직 충각 ( 램 ) 이 붙 어 있 다 . 주포 는 새로 설계 한 ‘ 2 0 . 3 cm ( 4 5 구경 ) 포 ’ 를 타원 원통형 의 연장 포탑 에 묶 어 1 번 주포 탑 , 사령탑 을 넣 은 조타 함교 , 단각 의 전장 , 일정 한 간격 으로 늘어선 3 개 의 굴뚝 뒤 에 함재 보트 차 고 , 철주 ( 보트 크레인 ) 의 기지 를 겸하 는 단각 의 후장 , 2 번 주포 탑 의 순 이 다 . 1 5 cm ( 4 0 구경 ) 단장포 는 1 2 기 가 올려져 있 고 , 갑판 포 곽 부분 에 4 기 , 뱃전 에 2 기 , 편 현 에 6 기 가 배치 되 어 있 다 . 그 밖 에 대 어 뢰정 무기 로 함수 와 함미 의 상갑판 에 8 cm ( 4 0 구경 ) 단장 속사포 가 1 2 기 , 4 7 mm 포 단장 1 2 기 가 전장 , 후장 , 상갑판 에 분산 배치 되 었 다 . 일본 제국 해군 은 열강 에 앞서 전함 , 순양함 에 탑재 된 포 의 구경 을 통일 했 다 . 따라서 본 함 등 6 척 의 1 만 톤 급 장갑순양함 의 탑재포 는 모두 일관 된 제원 이 었 다 . 이러 한 정책 은 군사 교육 과 탄약 의 보급 에 매우 유리 했 다 . 이것 은 메이지 초기 의 함정 구 비포 구경 이나 사용 방법 이 함 마다 제각기 달라 포탄 의 호환 과 병사 들 의 응용 에 고생 을 했 던 교훈 에 의한 것 이 었 다 . 야쿠모 의 주포 는 새로 설계 한 ‘ 2 0 . 3 cm ( 4 5 구경 ) 포 ’ 였 다 . 이것 을 타원 형 원통형 의 연장 포탑 에 담 았 다 . 이 포탑 은 좌우 1 5 0 도 선회 할 수 있 고 , 앙각 3 0 도 , 부각 5 도 였 다 . 무게 는 1 1 3 kg 이 고 , 포탄 을 분당 2 발 의 간격 으로 발사 할 수 있 었 다 . 사정 거리 는 앙각 3 0 도 에서 1 8 , 0 0 0 m 까지 발사 할 수 있 었 다 . 부포 는 ‘ 1 8 9 5 년 형 1 5 . 2 cm ( 4 0 구경 ) 포 ’ 를 채용 했으며 , 이 포 는 분당 5 발 을 발사 할 수 있 었 지만 , 숙련 된 병사 라면 7 발 까지 가능 했 다 . 4 5 . 4 kg 의 포탄 을 부 앙각 도 앙각 2 0 도 , 부각 5 도로 앙각 2 0 도 에서 9 , 1 4 0 m 까지 의 사정거리 를 가지 고 있 었 다 . 그 밖 에 , 빗 커스 사 의 ‘ 1 8 9 4 년 형 8 cm ( 4 0 구경 ) 포 ’ 를 단장 포가 에 1 2 개 , 4 7 mm 단장포 를 1 2 개 , 4 5 . 7 cm 어뢰 발사관 을 단장 으로 선수 부 물 위 에 1 기 , 현측 부 수중 에 4 기 를 장착 했 다 . 보일러 는 당시 최신형 고성능 기관 인 프랑스 제 의 베르베르 식 석탄 전소 요 2 4 개 를 갖추 고 있 었 다 . 이것 에 수직 형 3 단 팽 창식 4 기통 왕복 기관 2 기 , 2 축 추진 으로 출력 1 5 , 5 0 0 hp 을 가지 고 있 으며 , 2 0 . 5 노트 의 속력 을 발휘 했 다 . 항속 거리 는 석탄 1 , 3 0 0 톤 으로 1 0 노트 속력 으로 7 , 0 0 0 해리 를 갈 수 있 었 으며 , 당시 로 는 대 항속 거리 를 자랑 했 다 . 해군 역사 보존 회 『 일본 해 군사 』 제 7 권 , 제 9 권 , 제 1 0 권 第 一法規出版 , 1 9 9 5 년 片 桐 大 自 『 연합 합 대 군함 銘 銘 伝 전 8 6 0 여척 의 영광 과 비극 』 보급판 , 光 人 社 , 2 0 0 3 년 후쿠이 시즈오 福 井 静 夫 『 사진 일본 해군 전함 정사 』 베스트셀러 , 1 9 9 4 년 . 《 관보 》 마루 ( 잡지 ) 스페셜 No . 1 1 1 태평양 전쟁 해 공전 시리즈 『 종전 시 의 제국 함정 』, 潮 書房 , 1 9 8 6 년 분류 : 일본 의 순양함 분류 : 러일 전쟁 의 해군 함정 분류 : 제 2 차 세계 대전 의 일본 순양함 분류 : 1 8 9 9 년 진수 된 선박\\n', '보리스 라이치 ( , 1 9 7 6 년 1 2 월 3 일 ~ ) 는 크로아티아 출신 의 축구 선수 이 다 . 2 0 0 3 년 부천 SK ( 현 제주 유나이티 드 ) 에 입단 하 여 2 0 0 3 시즌 부터 2 0 0 5 시즌 까지 세 시즌 동안 활약 하 였 다 . K 리그 에서 등록 명 은 보리스 를 사용 하 였 다 분류 : 1 9 7 6 년 태어남 분류 : 살 아 있 는 사람 분류 : 크로아티아 의 축구 선수 분류 : 크로아티아 의 해외 진출 축구 선수 분류 : K 리그 1 의 축구 선수 분류 : K 리그 1 의 외국인 축구 선수 분류 : 제주 유나이티 드 FC 의 축구 선수\\n', '가제 는 다음 뜻 으로 쓰인다 . 가제 ( 假題 , working title ) 는 임시 로 붙인 제목 을 말 한다 . 가제 ( 假諦 ) 는 불교 용어 로 , 천태 교학 에서 의 3 제 ( 三諦 ) 의 하나 이 다 . 거즈 ( gauze ) 의 독일어 표기 . 가제 ( ) 는 일본어 로 바람 을 의미 하 는 말 이 다 . 가제 ( 風 ) 는 컴퓨터 에서 의 일본어 입력 시스템 . 가제 ( 風 ) 는 TBS 와 마쓰 타케 가 제작 한 TBS 계열 의 시대극 . 가제 ( 風 ) 는 이세 쇼조 와 오쿠보 가즈히사 가 결성 한 포크 듀엣 . 싱글 , 앨범 , 노래 * 《 바람 》 는 고부쿠로 의 4 번 째 싱글 및 수록 곡 . * 사이조 야소 역사 , 구사카 와 신 작곡 의 곡 . 2 0 0 7 년 に 일본 노래 백선 에 뽑혔 다 . * 하시다 노리히코 와 슈 베 루쓰 의 곡 으로 기타야마 오사무 작사 , 하시다 노리히코 작곡 . * Mr . Children 의 데뷔 미니 앨범 《 Everything 》 에 수록 된 곡 . * 챗몬치 의 곡 . 《 접영 하 는 날치 / 세상 이 끝 나 는 밤 에 》 에 수록 . * 히라카와 치 이 치초 메 의 곡 . 〈 반드시 산타 가 〉 에 수록 . POKKA 〈 じっくり コトコト 煮 込 んだ スープ 〉 의 CF 곡 . * 린드버그 의 3 0 번 째 싱글 〈 바람 〉 에 수록 . 아사히 음료 바야 리스 CF 곡 . * 우에토 아야 의 8 번 째 싱글 〈 바람 / 보내 는 말 〉 에 수록 . NHK 교육 테레비 애니메이션 닌 타마 란타로 의 엔딩 곡 . * 쇼난 노 가제 의 데뷔 싱글 〈 응원가 / 바람 〉 에 수록 . * 미쓰 나 가 료타 의 앨범 〈 far away 〉 에 수록 . * G - FREAK FACTORY 의 앨범 〈 도 생민 ( 島 生民 ) 〉 에 수록 . * 와다 고지 의 앨범 《 all of my mind 》 에 수록 . * 안전 지대 의 앨범 《 안전 지대 III ~ 안 고 싶 어 》 에 수록 . * 아라시 의 앨범 《 Time 》 에 수록 . * 《 바람 》 는 엘리 펀트 카시마 시의 1 6 번 째 앨범 및 수록 곡 . * FUNKY MONKEY BABYS 의 9 번 째 싱글 〈 희망 의 노래 / 바람 〉 에 수록 . 바람 ( 동음이의 )\\n', '조셉 \" 조 \" 스미스 ( Joseph \" Joe \" Smith , 1 8 8 9 년 6 월 2 5 일 ~ 1 9 7 1 년 8 월 1 1 일 ) 는 잉글랜드 의 프로 축구 선수 이 자 감독 이 다 . 볼턴 원더러스 소속 으로 1 9 2 3 년 FA 컵 우승 에 일조 한 스미스 는 은퇴 이후 2 3 년 동안 블랙풀 FC 의 감독 을 맡 았 고 , 1 9 5 3 년 FA 컵 에선 우승 을 차지 했 는데 , 이 는 1 8 8 7 년 창단 이후 로 거둔 최초 의 우승 이 었 다 . 분류 : 1 8 8 9 년 태어남 분류 : 1 9 7 1 년 죽음 분류 : 잉글랜드 의 축구 선수 분류 : 볼턴 원더러스 FC 의 축구 선수 분류 : 잉글랜드 의 축구 감독 분류 : 잉글랜드 축구 국가 대표 팀 선수 분류 : 잉글리시 풋볼 리그 의 축구 선수 분류 : 잉글리시 풋볼 리그 의 축구 감독 분류 : 레딩 FC 의 축구 감독 분류 : 블랙풀 FC 의 축구 감독 분류 : 스톡포트 카운티 FC 의 축구 선수 분류 : 크루 알렉산드라 FC 의 축구 선수\\n', '아리 와라 노 나리 히라 ( , 8 2 5 년 ~ 8 8 0 년 ) 는 일본 헤이안 시대 의 귀족 , 시인 이 다 . 많 은 시가 를 남겨 6 가선 의 한 사람 이 기 도 하 다 . 이 세모 노가 타리 의 등장 인물 로 도 유명 하 다 . 나리 히라 의 아버지 는 헤 이제 이 천황 ( 平城 天皇 ) 의 제 1 황자 였 던 아보 친왕 ( 阿 保 親王 ) , 어머니 는 간무 천황 ( 桓 武 天皇 ) 의 딸 이토 내친왕 ( 伊 都 内 親王 ) 으로 , 부모 모두 천 황가 의 혈통 을 이어받 은 고귀 한 신분 이 었 지만 구스 코 의 변 ( 薬 子 の 変 ) 으로 황통 이 사 가 천황 ( 嵯峨 天皇 ) 의 자손 으로 넘어가 면서 그 의 집안 은 황위 계승 과 는 멀 어 졌 고 , 덴초 ( 天 長 ) 3 년 ( 8 2 6 년 ) 아버지 아보 친왕 이 표문 을 올려 신 적강 하 ( 臣籍 降下 ) 되 고 형 유키 히라 ( 行 平 ) 와 함께 아리 와라 노 아손 ( 在 原 朝臣 ) 이 라는 가바 네 ( 姓 ) 를 하사 받 았 다 . 닌묘 천황 ( 仁明 天皇 ) 때 에 사콘 노에 노 쇼겐 ( 左 近衛 将 監 ) 에 구란 도 ( 蔵 人 ) 를 겸하 면서 천황 의 측근 에서 근무 했 고 , 가쇼 ( 嘉祥 ) 2 년 ( 8 4 9 년 ) 에 는 아무 관위 도 없 다가 곧장 종 5 위하 관등 으로 승진 되 었 다 . 하지만 몬토쿠 천황 ( 文 徳 天皇 ) 때 에 는 모든 승진 이 정지 되 고 관직 에 나아갔 다는 기록 도 없 어서 불우 한 시기 를 보낸 것 으로 추정 된다 . 세이 와 천황 ( 清 和 天皇 ) 때 에 다시 승진 해서 조간 ( 貞 観 ) 4 년 ( 8 6 2 년 ) 에 종 5 위 상 으로 승진 하 였으며 , 관직 도 사효 에 노곤 노스케 ( 左 兵衛 権 佐 ) ・ 사콘 노에 노 곤노 쇼조 ( 左 近衛 権 少 将 ) ・ 우콘 노에 노 곤노 쇼조 ( 右 近衛 権 中 将 ) 등 의 무관 을 역임 하 면서 조간 1 1 년 ( 8 6 9 년 ) 에 는 정 5 위하 , 1 5 년 ( 8 7 3 년 ) 에 는 종 4 위하 까지 관등 이 승진 하 였 다 . 요제 이 천황 ( 陽 成 天皇 ) 때 에 도 순조 롭 게 승진 해 , 간교 ( 元 慶 ) 원년 ( 8 7 7 년 ) 종 4 위상 , 3 년 ( 8 7 9 년 ) 에 는 구란 도 노카 미 ( 蔵 人頭 ) 의 관직 까지 올랐 다 . 또한 몬토쿠 천황 의 아들 인 고레타 카 친왕 ( 惟 喬 親王 ) 을 섬겨서 와카 ( 和 歌 ) 를 받들 어 올리 기 도 하 였 다 . 간교 4 년 ( 8 8 0 년 ) 에 사망 하 였 다 . 향년 5 6 세 . 최종 관위 는 구란 도 노카 미 종 4 위상 행 ( 行 ) 사콘 노 에 노곤 노주 죠 ( 右 近衛 権 中 将 ) 겸 미노 노 곤노 카미 ( 美 濃 権 守 ) 였 다 . 일본삼대실록 ( 日本 三代実録 ) 의 나리 히라 의 졸전 ( 卒 伝 ) 에 는 「 생김새 가 수려 하 였으며 , 방종 하 며 거리낌 이 없 었 다 」 ( 体 貌 閑麗 、 放 縦 不 拘 ) 고 기록 되 어 있 어 , 예 로부터 미남 의 대명사 로 불리 고 있 었 다 . 그 뒤 에 「 이렇 다 할 재주 나 학문 은 없 었 고 , 와카 를 잘 지 었 다 」 ( 略 無才 学 、 善 作 倭 歌 ) 고 이어 쓰 고 있 다 . 기초 적 인 학력 이 얕 았 으나 와카 를 잘 지 었 다는 의미 이 다 . 가인 ( 歌人 ) 으로써 고킨와카슈 ( 古今 和 歌集 ) 에 나리 히라 의 작품 3 0 수 가 실려 있 는 것 을 비롯 해 칙선 ( 勅撰 ) 와카 모음 집 에 모두 8 7 수 의 와카 가 실려 있 다 . 나리 히라 의 아들 무네 하리 ( 棟梁 ) ・ 시게하루 ( 滋 春 ) , 무네 하리 의 아들 인 모토 카타 ( 元 方 ) 모두 나리 히라 와 마찬가지 로 가인 으로써 알려졌 다 . 또한 형 유키 히라 와 함께 매사냥 의 명수 였 다고 전한다 ( 간무 천황 역시 매사냥 을 즐겼 던 것 으로 유명 하 다 ) . 아리 와라 노 나리 히라 는 이른 시기 부터 《 이 세 이야기 》( 伊 勢 物 語 ) 의 주인공 으로 알려진 「 옛날 남자 」 ( 昔 男 ) 와 동일시 되 었 고 , 《 이 세 이야기 》 의 기술 내용 은 어느 정도 는 아리 와라 노 나리 히라 에 관한 사실 인 것 처럼 여겨져 왔 다 . 《 이 세 이야기 》 에 는 몬토쿠 천황 의 제 1 황자 였 음 에 도 어머니 가 후지와라 씨 ( 藤 原 氏 ) 가 아니 었 기 에 제위 에 오르 지 못했 던 고레타 카 친왕 과 의 교류 나 세이 와 천황 의 궁녀 로 훗날 황태후 가 되 는 니조 황후 ( 二条后 , 후지와라노 다카코 藤 原 高 子 ) , 고레타 카 친왕 의 누이 동생 으로 이 세 사 이 구 ( 伊 勢 斎 宮 ) 였 던 덴 시 내친왕 ( 恬 子 内 親王 ) 으로 짐작 되 는 고귀 한 여성 들 과 의 금지 된 사랑 등 이 다루 어 지 고 있 는데 , 앞서 「 방종 하 며 거리낌 이 없 었 다 」 는 《 일본삼대실록 》 의 묘사 와 맞물려 고귀 한 태생 이 면서 동시 에 반 체제 적 인 귀공자 라는 이미지 가 형성 되 었 다 . 한편 《 이 세 이야기 》 성립 이후 덴 시 내친왕 과 의 밀통 으로 다카시나노 모로나오 ( 高階 師 尚 ) 가 태어났 다는 설 이 파생 되 어 , 이후 다 카시나 씨 는 아리 와라 노 나리 히라 의 자손 이 아니 냐는 소문 이 돌 기 도 했 다 . 기노 아리 쓰 네 ( 紀 有 常 ) 의 딸 ( 고레타 카 친왕 에게 는 사촌 누나 에 해당 함 ) 을 아내 로 맞 아 기 씨 ( 紀 氏 ) 와 도 교류 하 였 다 . 그러나 한편 으로 는 후지와라노 모토 쓰 네 ( 藤 原基 経 ) 의 마흔 생일 에 축하 하 는 와카 를 올리 기 도 했 다 . 장남 무네 하리 의 딸 은 할아버지 에 버금가 는 미모 로 후지와라노 모토 쓰 네 의 형 구니 쓰 네 ( 国 経 ) 의 아내 가 되 는 등 나리 히라 의 자손 들 은 후지와라 씨 와 도 꾸준히 교류 하 였 다 . 또한 나리 히라 자신 도 만년 에 는 구란 도 노카 미라 는 요직 을 맡 아 구스 코 의 변 으로 폐 태자 되 었 던 숙부 다카오카 친왕 ( 高 岳 親王 ) 등 다른 헤 이제 이계 황족 들 이나 당시 의 후지와라 씨 이외 의 귀족 들 과 비교 해 보 면 오히려 형 인 유키 히라 보다 도 정치 적 으로 는 중추 에 올랐 기에 《 이 세 이야기 》 나 《 일본삼대실록 》 의 기술 에서 엿볼 수 있 는 인물상 과 는 다소 차이점 이 있 다 . 아리 와라 노 나리 히라 는 칙선 와카 모음 집 에 그 의 와카 8 0 수 이상 이 실려 있 고 육가 선 ( 六歌仙 ) ・ 삼 십 육 가선 ( 三十六歌仙 ) 의 한 명 으로 꼽히 는데 , 나리 히라 자신 이 엮 은 문집 은 따로 존재 하 지 않 는다 . 아리 와라 노 나리 히라 의 작품 을 엮 은 《 업 평집 》( 業 平 集 ) 이 라고 불리 는 저작 은 《 후선 와카 집 》( 後 撰 和 歌集 ) 의 성립 ( 9 5 1 년 ~ 9 5 8 년 ) 이후 에 나리 히라 의 작품 으로 꼽히 는 단가 ( 短歌 ) 들 을 모은 것 으로 , 나리 히라 의 노래 가 실린 노래집 가운데 서 나리 히라 가 살 아 있 던 시대 에 가장 가까운 것 은 《 고킨와카슈 》 이 다 . 《 이 세 이야기 》 는 나리 히라 의 노래 를 많이 사용 한 작품 으로 나리 히 라상 ( 像 ) 의 형성 에 도 많 은 영향 을 주 었 다 . 다음 와카 가운데 도 《 이 세 이야기 》 가운데 도 중요 한 단락 에서 등장 하 는 것 이 많 은데 , 성립 시기 에 크 게 차이 가 나 지 않 는 것 으로 여겨 지 는 《 고킨와카슈 》 와 《 이 세 이야기 》 양쪽 에 채록 된 와카 가운데 는 배경 을 설명 하 는 사서 내용 이 각기 다르 고 와카 자체 도 미묘 하 게 바뀌 어 있 는 것 이 있 다 . 《 이 세 이야기 》 보다 이른 시기 에 성립 된 칙선 와카 모음 집 인 《 고킨와카슈 》 가 맞 는 것 인지 아니 면 후대 로 내려오 면서 《 이 세 이야기 》 내용 을 필사 하 는 단계 에서 개변 이 있 었 던 것 인지 는 알 수 없 다 . 나아가 칙찬 와카 모음 집 인 《 고킨와카슈 》 에서 도 나리 히라 의 와카 는 다른 가인 의 것 보다 사서 ( 詞 書 ) 가 이상 하 게 긴 것 이 많 아서 그 취급 이 부자연 스럽 고 작위 적 이 다 . 신대 ( 神代 ) 에 도 들 어 보 지 못했 네 . 다 쓰 다 강 이 고운 단풍 빛 으로 물들 어 있 다고 는 . ちはやぶる 神代 もきかず 竜 田 川 からくれなゐに 水 くくるとは 깨 지 도 못하 고 잠들 지 도 못한 채 밤 을 지새우 고 하루 를 봄 의 장맛비 바라보 며 보냈 네 起 きもせず 寝 もせでよるを あかしては 春 の 物 とて ながめくらしつ 초역 백인일수 우타코 이 분류 : 8 2 5 년 태어남 분류 : 8 8 0 년 죽음 분류 : 아리 와라 씨 분류 : 헤이안 시대 초기 의 귀족 분류 : 헤이안 시대 전기 의 귀족 분류 : 오구라 백인일수 의 가인 분류 : 야마토 국 사람 분류 : 헤이안 시대 의 가인 분류 : 일본 의 인물 신 ( 가인 ) 분류 : 9 세기 시인\\n', '이라크 침공 당시 , 미국 병사 2 명 이 광 증폭기 를 통해 전방 을 보 는 모습 . 야간 시력 은 저조 도 상태 또는 야간 에 전방 을 볼 수 있 는 기능 이 다 . 생물학 적 또는 기술 적 의미 에 따라서 , 야간 시력 은 두 가지 접근 법 으로 조합 이 가능 하 다 . 하나 는 충분 한 스펙트럼 범위 와 세기 범위 이 다 . 인간 의 눈 에 는 휘판 이 존재 하 지 않 기 때문 에 , 인간 은 많 은 동물 에 비해 야간 시력 이 떨어진다 . 빛 의 스펙트럼 야간 에 유용 한 스펙트럼 범위 기술 은 인간 관찰자 에게 는 보이 지 않 는 전자기파 를 감지 할 수 있 다 . 인간 의 시력 은 오직 전자기 스펙트럼 의 극히 일부 만 볼 수 있 으며 , 이 범위 를 가시광선 이 라고 한다 . 넓 어 진 스펙트럼 범위 는 관찰자 가 근적외선 이나 자외선 을 이용 하 여 보이 지 않 는 스펙트럼 범위 를 통해 볼 수 있 는 이점 을 가지 게 된다 . 일부 동물 들 은 인간 보다 훨씬 넓 은 범위 의 스펙트럼 을 가져 자외선 이나 적외선 도 볼 수 있 다 . 충분 한 세기 범위 는 단순히 적 은 양 의 빛 , 즉 약한 세기 의 빛 으로 도 볼 수 있 는 능력 이 다 . 많 은 동물 들 은 인간 보다 더욱 나 은 야간 시력 을 가지 고 있 고 , 이 는 눈 의 해부학 적 하나 이상 의 차이 로 가져오 게 된 것 이 다 . 온도 기록 카메라 야간 전투 저조 도 텔레비전 존슨 의 기준 스 누 퍼 스코프 Night Vision & Electronic Sensors Directorate - Fort Belvoir , Virginia Automotive Night Vision Demonstration Snooperscope - Wireless Night Vision Device for Smartphones and Tablets 분류 : 적외선 영상 분류 : 눈 ( 해부학 )\\n', '포테마요 ( ぽてまよ ) 는 오 카타야 하루카 가 연재 하 고 있 는 만화 이 자 , 그 만화 를 원작 으로 하 는 TV 애니메이션 이 다 . 일본 에선 후타바 샤 의 코믹 하이 ( 그 이전 엔 모에 용 에서 연재 되 었 음 . ) 에 연재 되 고 있 는 4 컷 만화 이 다 . 2 0 0 5 년 엔 단행본 으로 도 발간 되 었 고 현재 까지 도 연재 중 이 다 . 한국 엔 2 0 0 8 년 부터 단행본 이 번역 되 어 출판 되 었 고 , 역시 계속 연재 중 이 다 . 2 0 0 7 년 엔 일본 에서 2 0 0 7 년 엔 TV 애니메이션 화 되 어 총 1 2 화 로 완결 되 었 다 . 포테마요 ( ぽてまよ ) : 성우 - 하나자와 카나 : 어느 날 스나오 의 냉장고 에서 튀어나온 정체불명 의 생명체 . 2 등신 에 검 은 고양이 귀 와 작 고 동그란 꼬리 를 가지 고 있 으며 , 머리 엔 병아리 같 은 작 은 새 를 엊 곤 한다 . 말 은 거의 하 지 못 하 지만 , 대화 는 알아들 을 수 있 는 듯 하 며 , 또한 다른 사람 의 생각 도 읽 을 수 있 는 듯 . 아기 같 은 순수 하 고 귀여운 외모 와 언행 으로 클래스 메이트 들 로부터 인기 를 얻 고 있 다 . 또한 먹성 이 엄청 좋 고 어떠 한 음식 도 가리 지 않 고 잘 먹 는다 . 스나오 를 굉장히 잘 따르 며 , 스나오 에게 접근 하 려는 미캉 을 매우 경계 하 고 있 다 . 그리고 화 가 나 거나 짜증 을 부릴 땐 무지 무서워진다 . 포테마요 라는 이름 은 스나오 가 먹 던 빵 이름 ( 포테이토 마요네즈 ) 에서 따온 것 . 구 츄 코 ( ぐちゅこ ) : 성우 - 츠지 아유미 : 포테마요 가 냉장고 에서 튀어나온 후 얼마 안 되 어 , 스나오 의 냉장고 에서 튀어나온 또 다른 괴 생명체 . 포테마요 랑 같 은 2 등신 이 며 , 머리 양 옆 엔 악마 의 뿔 같 은 장식 을 하 고 있 다 . 항상 자기 몸집 보다 큰 낫 을 들 고 다니 며 그 낫 으로 물건 을 잘라 버리 는 것 이 특기 . 그리고 자른 물건 은 일단 테이프 로 수리 하 곤 한다 . 머리 양 옆 에 있 는 장식 은 얼굴 이 있 는 살 아 있 는 생명체 같 은 걸로 표정 을 지 을 수 있 고 장식 의 입 에서 광선 도 쏠 수 있 기 도 한다 . 그리고 포테마요 처럼 말 을 거의 하 지 못 하 지만 대화 를 알아들 을 순 있 다 . . 시크 하 게 보이 지만 , 은근히 부끄러움 을 많이 탄다 . 전 엔 따로 지내 는 데 가 없 었 으나 쿄 의 제안 으로 , 쿄 네 마당 에 있 는 나무 위 에서 지내 게 된다 . 구 츄 코 라는 이름 은 쿄 에게서 받 은 송이버섯 모양 의 과자 인 구 츄 타마 를 좋아하 는 걸 본 , 쿄 가 붙여 준 이름 이 다 . 모리야마 스나오 ( 森 山 素 直 ) : 성우 - 키타무라 에리 : 본 작품 의 남 주인공 . 어지간 한 일 엔 꿈 쩍 도 하 지 않 는 쿨 하 고 말 수 가 적 은 중학생 소년 . 포테마요 같 은 괴 생명체 를 아무런 꺼림 낌 도 없이 받아들이 는 , 유연 한 성격 의 소유자 이 기 도 하 다 . 어머니 는 돌아가 셨 고 아버지 는 해외 에 나가 는 기간 이 길 어서 집 엔 거의 혼자 지내 는 것 과 다름 없 다 . 말없이 멋대로 해외 로 나가 는 아버지 에게 차갑 게 대하 지만 , 실은 가족 의 사랑 을 느끼 고 싶 어 하 는 듯 한 태도 를 보인다 . 근시 가 심해 안경 이 없 으면 아무것 도 하 지 못 할 정도 이 다 . .. 그리고 항상 포테마요 를 데리 고 같이 등교 함 . 나츠 미캉 ( 夏 みかん ) : 성우 - 카와스미 아야코 : 스나오 의 클래스 메이트 . 스나오 를 속 으로 좋 아 하 고 있 음 . 사소 한 일 에 도 금방 망상 의 늪 으로 빠져 버리 고 폭주 를 해 버리 는 게 흠 이 라면 흠 이 다 . 집 은 야채 가게 를 하 고 있 고 , 야스미 라는 남동생 이 있 다 . 타카미 모리 쿄 ( 高 見 盛 京 ) : 성우 - 카이다 유코 : 스나오 의 클래스 메이트 로 , 미캉 하고 친하 다 . 시원시원 스런 성격 의 소유자 로 요리 나 과자 만들 기 가 특기 . 구 츄 코 에겐 이름 도 붙여 주 고 구 츄 코 를 돌봐 주 고 있 다 . 카스가 노 네네 ( 春日 乃 ねね ) : 성우 - 쿠기미야 리에 : 미캉 의 친구 로 , 엄청난 부잣집 의 아가씨 이 다 . 매사 에 쿨 하 면서 도 장난기 넘치 는 여왕 님 타입 의 소녀 . 그리고 보 기 와 달리 사람 들 ( 특히 , 쿄 ) 에게 독설 을 자주 내뱉 곤 한다 . 집 엔 엄청난 크기 의 수영장 과 집사 가 딸려 있 을 정도 . ... 키리 하 라 무도 ( 桐 原 無道 ) : 성우 - 토기 타 히카루 : 스나오 의 클래스 메이트 . 보통 은 뭇 땅 이 라 불린다 . 포테마요 를 좋아하 고 엄청 흥미 를 가지 고 있 으나 , 정작 포테마요 로부터 의 반응 은 차가운 편 이 다 . 또한 남자 치어리더 부 에 소속 되 어 있 음 . 또한 어떤 사건 을 이유 로 , 강제 적 으로 네 네 의 노예 가 돼 버린다 . 그러 다 언제 부턴가 네 네 에게 호감 을 느끼 기 시작 한다 . 하츠 시바 카오루 ( 初 芝 薫 ) : 성우 - 콘도 타카유키 : 스나오 의 클래스 메이트 . 무도 랑 같이 다니 는 경우 가 많 다 . 나이 에 비해 체격 이 큰 편 . .. 그리고 항상 무도 옆 에서 무도 의 안쓰러운 모습 을 묵묵히 지켜봐 준다 . 그러나 그런 그 의 모습 이 우정 이상의 ( ? ) 모습 을 보이 곤 한다 . .... 나츠 야스미 ( 夏 哉 純 ) : 성우 - 오카모토 노부히코 : 미캉 의 남동생 . 미캉 보다 키 가 휠씬 더 크 다 . 항상 누나 에게 퉁명 스럽 게 굴 지만 실은 상당 한 시스터 콤플렉스 기질 을 지님 . 원래 는 농구 부 가 있 는 유명 사립 중학교 에 다녔으나 , 누나 인 미캉 의 괴상 한 짓 ( ? ) 로 인해 , 스나오 가 미캉 을 홀렸 다고 생각 해 중간 에 누나 가 있 는 학교 로 전학 을 온다 . 그리고 스나오 를 퉁명 스럽 게 대하 며 경계 를 한다 . 새 : 병아리 처럼 생겼 지만 자세 한 종 은 불 명인 , 노랗 고 둥그런 새 . 어느 날 갑자기 나타나 포테마요 머리 위 에 정착 한다 . 모리야마 코다이 ( 森 山 皇 大 ) : 성우 - 하마다 켄지 : 스나오 의 아버지 로 , 민속학자 이 다 . 평소 엔 해외 를 돌 며 생활 하 고 있 는 듯 집 에 없 을 때 가 많 지만 , 명절 이나 기념일 이 되 면 어느새 집 에 돌아와 있 다 . 아들 스나오 못지 않 게 유연 하 사고 방식 을 가지 고 있 다 . 그리고 나이 에 맞 지 않 게 양 갈래 머리 를 하 고 다닌다 . 하나 부사 에이코 ( 英 英子 ) & 하치 야 미미 ( 蜂 谷 美 美 ) &; 시이나 시즈카 ( 椎 名 靜 ) : 성우 - 야하기 사유리 & 후지무라 아유미 & 토요사키 아키 : 스나오 와 미캉 의 클래스 메이트 . 셋 이 서 같이 붙 어 다님 . 카스가 노 키라 ( 春日 乃 綺 蘭 ) : 성우 - 히사카 와 아야 : 네 네 의 어머니 . 직업 은 탤런트 겸 작가 이 며 , 특수 분장 이 특기 이 다 . 그래서 좀처럼 나이 를 가늠 하 기 가 어렵 다 . 딸 인 네 네 로 부터 괴물 이 라 불린다 . 카스 가노 형제 : 성우 - 코니시 카츠유키 : 네 네 의 세쌍둥이 오빠 들 로 , 심각 한 시스터 콤플렉스 기질 을 가짐 . 장남 이 마츠 이치 ( 松 一 ) , 차남 이 타 케 지 ( 竹 二 ) , 삼남 이 우메 죠 ( 梅 三 ) 이 다 . 세 키 토마리 : 성우 - 쿠기미야 리에 : 애니 중 후반 에서 등장 한 초등 학교 5 학년 생 . 포테마요 하곤 , 밤 을 갖 고 도망치 는 구 츄 코 를 같이 잡 으려고 한 일 로 친해진다 . 이후 포테마요 는 물론 스나오 일행 들 하고 친해진다 . 미캉 의 동생 인 야스미 하 곤 처음 엔 퉁명 스럽 게 대 했으나 어떤 계기 로 야스미 에게 호감 을 품 게 된다 . 소년 같 은 언행 으로 , 포테마요 와 스나오 일행 도 처음 엔 토마리 를 소년 이 라 착각 을 하 였 다 . 해설 ( 解說 ) : 성우 - 이노우에 키쿠코 : 에피소드 에서 , 몇 마디 씩 설명 및 대사 를 해 주 신다 . ( ※ 애니 포테마요 는 한 화 당 2 개 의 에피소드 로 구성 됨 . ) 오프닝 곡 - 《 일방 적 인 캐치볼 ( 片道 きゃっちぼる ) 》 : 노래 - MOSAIC . WAV 엔딩 - 《 선잠 ( うたたね ) 》 : 작사 - 챠 타 / 작곡 - 아카네 / 편곡 - littlelittle : 노래 - 챠 타 분류 : 네 컷 만화 분류 : 2 0 0 7 년 애니메이션 분류 : UHF 애니메이션 분류 : 코미디 애니메이션 분류 : J . C . STAFF 분류 : 코미디 만화 분류 : 학원 만화\\n', '음력 1 1 월 2 4 일 은 음력 1 1 월 의 2 4 번 째 날 이 다 . 1 8 8 4 년 - 조선 과 일본 제국 사이 에 한성 조약 체결 . 1 9 6 1 년 - KBS TV ( CH 9 ) 개국 . 1 9 8 8 년 - * 대한민국 대전 이 직할시 로 승격 됐 다 . * 대한민국 은 음력설 인 민속 의 날 을 설날 로 이름 을 바꿨 다 . * 대한민국 은 음력 날짜 로 한 해 를 시작 하 는 설날 휴일 을 하루 에서 설날 전후 를 포함 하 여 사흘 로 늘렸 다 . 2 0 1 0 년 - 인천 국제 공항철도 서울역 ~ 김포공항역 구간 개통 . 2 0 1 2 년 - 대한민국 의 조직폭력배 김태촌 . * 음력 3 6 0 일 1 월 2 월 3 월 4 월 5 월 6 월 7 월 8 월 9 월 1 0 월 1 1 월 1 2 월 * 전날 : 1 1 월 2 3 일 다음 날 : 1 1 월 2 5 일 - 전달 : 1 0 월 2 4 일 다음 달 : 1 2 월 2 4 일 * 양력 : 1 1 월 2 4 일 * 음력 , 윤달 3 * 2 4 일\\n', '코오롱 그룹 ( Kolon Group ) 은 대한민국 의 재벌 로 코스피 상장 기업인 ( 주 ) 코오롱 을 지주회사 로 하 는 기업 집단 이 다 . 그룹 본사 는 정부과천청사역 인근 에 있 다 . 1 9 5 7 년 창업주 이원만 과 아들 이동찬 은 나일론 생산 을 목적 으로 코오롱 을 설립 한다 . 코오롱 ( KOLON ) 은 KO rea ny LON ( 코리아 나일론 ) 의 줄 임 말 로 , 국내 최초 나일론 생산 으로 한국 의 섬유 산업 을 이끌 었 다 . 이후 전자 , 유통 , 건설 , 화학 , 제약 등 다양 한 사업 으로 진출 그룹 체계 를 확립 한다 . 한때 재계 순위 1 0 위 권 이내 였 던 코오롱 은 IMF 를 거치 면서 위기 를 겪 게 되 나 성공 적 인 사업 구조 조정 등 의 과정 을 통해 현재 3 0 대 중견 기업 으로 자리매김 하 고 있 다 . 2 0 0 9 년 지주회사 로 전환 했 다 . 보유 계열사 는 약 4 0 여 개 이 다 . 또한 코오롱 그룹 은 한국 스포츠 발전 에 도 많 은 기여 를 했 다 . 마라톤 , 골프 , 여자 농구 , 양궁 등 각종 스포츠 에 대한 지원 을 지속 하 고 있 다 . 코오롱 구교 구간 마라톤 과 한국 오픈 등 이 대표 적 인 사례 이 다 . 코오롱 그룹 은 지주회사 체제 로 전환 , 과거 ( 주 ) 코오롱 과 코오롱 인더스 트리 ( 주 ) 로 분할 되 었 다 . 지주회사 인 ( 주 ) 코오롱 은 계열사 들 의 지분 을 소유 , 그룹 전체 계열사 를 지배 하 는 구조 를 지니 고 있 다 . 지주회사 는 사업 을 영위 하 는 것 이 아니 라 , 계열사 들 의 수익 배당 및 보유 주식 가치 의 변화 에 따른 시장 가치 그리고 임대 수익 , 상표 권 수익 , 기타 건물 등 보유 자산 의 임대 수익 등 을 받 는다 . 현재 지주회사 의 매출 구성 은 수입 수수료 4 8 %, 배당금 수익 2 7 %, 임대 수익 2 5 % 가량 으로 이루어진다 . 연결 대상 종속 회사 로 는 화학 , 산업 자재 및 패션 의류 등 을 제조 하 는 코오롱 인더스 트리 ( FnC 코오롱 포함 - 코오롱 스포츠 는 FnC 코오롱 의 패션 브랜드 중 하나 . 대표 브랜드 는 잭 니콜라우스 , 헤드 , 캐스케이드 , 쿠 아 , 캠 브리지 등 ) , 코오롱 글 로 텍 , 종합 건설업 및 상사 , 자동차 유통 업 등 복합 사업 을 영위 하 는 코오롱 글로벌 , 전자 부품 제조업 을 영위 하 는 네오 뷰 코오롱 , 시스템 소프트웨어 개발 과 공급 을 하 는 코오롱 베 니트 , 의 로 및 제약 분야 에 코오롱 제약 , 코오롱 생명 과학 , 티슈 진 , 코오롱 웰 케어 식음료 등 의 비어드 파파 , 스포츠 및 레져 관련 MOD 등 약 4 0 여 개 의 계열사 를 보유 하 고 있 다 . 기타 코오롱 스 포 렉스 , 코오롱 호텔 , 마우 나오 션 리조트 , 우정 힐스 , 라비에 벨 컨트리클럽 등 다양 한 자산 을 운영 하 고 있 다 . 지주 회사 인 코오롱 만 을 보 면 2 0 1 4 년 현재 시가총액 3 , 0 0 0 억 원 가량 이 다 . 순이익 은 2 0 1 2 년 부터 적자 로 전환 하 고 있 다 . 코오롱 그룹 의 전체 매출 은 약 1 0 조 규모 이 다 . 약 4 0 % 는 코오롱 그룹 의 주력 계열사 인 코오롱 인더스 트리 , 3 0 % 는 코오롱 글로벌 , 나머지 는 기타 계열사 에서 매출 이 나온다 . 매년 코오롱 그룹 전체 의 연결 순이익 은 약 3 천억 규모 로 추정 된다 . 특히 제조업 즉 장치 산업 의 특성 상 제조업 군 은 많 은 자산 을 보유 하 고 있 다 . 또한 코오롱 글로벌 역시 유통 사업 군 ( BMW 및 스 포 렉스 등 ) 관련 하 여 많 은 부동산 자산 을 보유 하 고 있 다 . 최근 코오롱 생명 과학 및 티 슈 진 이슈 로 기업 가치 역시 상승 하 고 있 다 . 코오롱 그룹 은 공기업 제외 국내 3 0 대 재벌 기업 임 에 도 불구 하 고 그 실적 이나 규모 , 사업 군 이 잘 알려져 있 지 않 은 편 이 다 . 때문 에 일부 에서 는 코오롱 그룹 의 기업 가치 가 매우 저 평가 되 어 있 는 것 으로 분석 하 고 있 다 . 2 0 1 4 년 2 월 1 7 일 , 이웅열 코오롱 그룹 회장 이 운영 하 는 경주 마우 나오 션 리조트 에서 오리엔테이션 행사 중 이 던 대학생 들 이 강당 천장 붕괴 로 사망 하 는 대형 참사 가 발생 하 였 다 . 이웅열 회장 은 임시 빈소 가 마련 된 울산 2 1 세기 좋 은 병원 을 찾 아 피해자 들 을 위로 했 다 . 마우 나 리조트 는 유족 들 에게 진심 어린 사과 와 함께 빠른 보상 합의 를 이끌 어 냈 다 . 유족 대표 는 합의 배경 에 대해 \" 코오롱 측 에서 도 사과 했 고 , 최대한 노력 한 것 으로 판단 했 다 \" 고 말 했 다 . \" 유족 - 코오롱 보상 합의 \" \" 이웅열 코오롱 회장 리조트 붕괴 피해 보상 위해 사재 출연 \" 사고 를 수습 하 고 , 사과 하 는 코오롱 의 모습 은 이후 타 기업 에 타산지석 이 되 고 있 다 . “ 몸 낮춰서 ” 대형 사고 대처 기업 태도 달라졌 다 \" ( 주 ) 코오롱 코오롱 그룹 지주회사 코오롱 인더스 트리 코오롱 패션 머티 리얼 코오롱 글로벌 ( 건설 부문 ) 코오롱 베 니트 코오롱 생명 과학 코오롱 제약 티슈 진 더블유 스토어 코오롱 웰 케어 코오롱 글 로 텍 서 서 울 고 속도 로 R & D 부문 코오롱 인더스 트리 중앙 기술원 코오롱 글로벌 기술 연구소 코오롱 인더스 트리 기능 소재 기술 연구소 코오롱 글 로 텍 기술 연구소 코오롱 패션 머티 리얼 연구소 코오롱 생명 과학 연구소 코오롱 제약 의약 연구소 과거 계열사 코리아 e 플랫 폼 광동 제약 에 매각 A & C 코오롱 ( 문화 예술 TV ) iHQ 에 매각 ( 현 K - Star ) 코오롱 고속 금호 고속 에 매각 코오롱 - 메트 생명 미국 메트로폴리탄 생명 에 매각 ( 현 메트라이프 생명 ) 코오롱 워터 앤 에너지 SC PE 에 매각 ( 현 환경 관리 주식회사 ) 경주 마우 나오 션 리조트 체육관 붕괴 사고 코오롱 그룹 홈페이지 분류 : 재벌 분류 : 1 9 5 4 년 설립 된 기업\\n', '고드윈오스턴산 ( ) , K 2 또는 초고리 산 ( ) 은 에베레스트산 에 이 어 세계 에서 두 번 째 로 높 은 산 ( 8 , 6 1 1 m ) 으로 , 중국 신장 위구르 자치구 와 파키스탄 길기트 발티스탄 의 경계 ( 인도 측 에 따르 면 파키스탄 점령 카슈미르 지역 ) 에 있 는 카라코람 산맥 에 위치 하 고 있 다 . K 2 란 이름 은 1 8 5 6 년 헨리 고드윈 오스틴 이 이끄 는 조사단 이 카라코람산맥 의 두 번 째 봉우리 라는 의미 로 붙인 것 으로 다른 봉우리 도 K 1 , K 3 , K 4 , K 5 로 불리 다가 나중 에 각각 마셔브룸산 , 브로드피크 산 , 가셔브룸 2 봉 , 가셔브룸 1 봉 으로 명명 되 었 다 . 고드윈오스턴산 은 에베레스트산 에 이어 두 번 째 로 높 은 산 이 지만 , 등반 은 더욱 어렵 다고 알려져 있 다 . 1 9 0 2 년 오스카 에 켄 스타인 과 얼레 이스터 크롤리 가 최초 로 등반 을 시도 하 여 5 차례 도전 하 였으나 모두 실패 하 였 다 . 그 후 로 5 2 년 이나 지난 1 9 5 4 년 7 월 3 1 일 에 야 아르디토 데시오 가 이끄 는 이탈리아 등 정대 중 리노 라 체 델리 와 아킬레 콤 파 그 노니 가 최초 로 등정 에 성공 하 였 다 . 두 번 째 등정 은 2 3 년 후 인 1 9 7 7 년 일본 원정대 에 의해 이루 어 졌 는데 무려 1 , 5 0 0 명 이 넘 는 짐 꾼 들 이 동원 되 기 도 하 였 다 . 분류 : 파키스탄 의 산 분류 : 신장 의 산 분류 : 8 0 0 0 미터 봉우리 분류 : 카스 지구 분류 : 카라코람산맥 분류 : 중국 - 파키스탄 국경 분류 : 나라 별 최고점\\n', '이사벨라 섬 ( ) 은 갈라파고스 군도 에서 가장 큰 섬 으로 면적 은 4 , 5 8 8 km ² 이 다 . 갈라파고스 주 의 이사벨라 칸 톤 으로 지정 되 어 있 으며 , 주도 는 푸에르토 비야밀 이 다 . 적도 바로 아래 에 위치 하 고 있 으며 , 섬 의 북부 를 적도 가 통과 하 고 있 다 . 갈라파고스 군도 에서 적도 바로 아래 에 있 는 이 섬 은 전용 . 이사벨라 섬 은 6 개 의 화산 으로 구성 되 며 , 가장 높 은 곳 은 북부 에 있 는 해발 1 7 0 7 m 의 〈 울프 산 〉 이 다 . 섬 은 화산 마다 고유 갈라파고스 땅 거북 이 서식 하 고 다른 동물 로 는 갈라파고스 펭귄 , 갈라파고스 가마우지 , 갈라파고스 육지 이구아나 , 바다 이구아나 , 갈라파고스 바다사자 , 푸른 발 부비 , 갈색 펠리컨 , 플라멩 고 , 갈라파고스 비둘기 등 의 생물 이 많이 살 고 있 다 . 가장 어린 섬 중 에 하나 로 이사벨라 는 갈라파고스 핫 스팟 근처 에 군도 의 서쪽 끝 에 위치 하 고 있 다 . 약 1 백만 년 된 섬 으로 , 알 세도 , 세로 아 줄 , 다윈 , 에콰도르 , 시에라 네그라 그리고 울프 , 이 여섯 개 의 순상 화산 으로 인해 형성 으로 되 었 다 . 에콰도르 화산 을 제외 하 고 는 모두 활화산 이 며 , 지구 상 에서 가장 화산 활동 이 활발 한 곳 중 하나 이 다 . 화산 들 중 에콰도르 화산 과 울프 화산 ( 최고점 1 , 7 0 7 m ) , 두 개 는 적도 바로 위 에 존재 한다 . 이 섬 은 주로 우르 비나 만 ( Urvina Bay ) 과 볼리바르 수로 ( Bolivar Channel ) 의 융기 , 타구스 곶 ( Tagus Cove ) 의 응화 암 화구 , 세상 에서 가장 활발 한 화산 활동 을 하 는 알 세도 와 시에라 네그라 를 포함 한 갈라파고스 를 만들 었 던 지질 작용 의 좋 은 예 로 알려져 왔 다 . 갈라파고스 군도 에서 세 번 째 로 인구 ( 1 , 7 8 0 명 , 2 0 0 6 년 통계 ) 가 많 은 섬 이 다 . 섬 의 남동쪽 에 있 는 도시 푸에르토 비야밀 주변 에 집중 되 어 있 다 . 이름 의 유래 는 크리스토퍼 콜럼버스 의 탐험 을 후원 했 던 스페인 여왕 이사벨 1 세 의 이름 에서 따왔 다 . 갈라파고스 주 는 1 9 7 3 년 2 월 1 8 일 에 대통령 령 에 의해 지정 되 었 으며 , 이사벨라 칸 톤 , 산크리스토발 칸톤 , 산타크루즈 칸 톤 으로 나뉜 3 개 의 칸 톤 을 나뉜다 . 그 중 이사벨라 칸 톤 은 다음 의 섬 들 로 구성 된다 . 이사벨라 섬 페르난디나 섬 다윈 섬 ( 무 인도 ) 울프 섬 ( 무 인도 ) 이사벨라 칸 톤 의 주도 는 푸에르토 비야밀 이 며 , 인구 는 1 , 7 8 0 명 , 면적 은 5 , 3 6 8 km 2 이 다 . SPOT 1 1 7 8 . jpg | 위성 으로 본 이사벨라 섬 | 타구스 코브 등 반 Bay - Isabela Island - birds . jpg | 엘리자베스 만 의 푸른 발 부비 와 갈라파고스 펭귄 이사벨라 섬 - govisitgalapagos . com 분류 : 갈라파고스 제도 의 화산 분류 : 갈라파고스 제도 의 섬 분류 : 열점 화산\\n']\n"
          ]
        }
      ]
    },
    {
      "cell_type": "code",
      "execution_count": 145,
      "metadata": {
        "ExecuteTime": {
          "end_time": "2022-02-19T14:33:26.392627Z",
          "start_time": "2022-02-19T14:33:26.382358Z"
        },
        "id": "aJaEAVm9sAqv"
      },
      "outputs": [],
      "source": [
        "# 문서 내 숫자, 영어 대소문자, 특수문자를 제거 (re package 사용)\n",
        "import re\n",
        "# docs = re.sub('[-=+,#/\\?:^.@*\\\"※~ㆍ!』‘|\\(\\)\\[\\]`\\'…》\\”\\“\\’·]', '', docs)\n",
        "# docs = re.sub('[-=+,#/\\?:^.@*\\\"※~ㆍ!』‘|\\(\\)\\[\\]`\\'…》\\”\\“\\’·]', '', docs)\n",
        "# docs = re.sub('[a-zA-Z0-9-=+,#/\\?:^.@*\\\"※~ㆍ!』‘|\\(\\)\\[\\]`\\'…》\\”\\“\\’·]', ' ', docs)\n",
        "\n",
        "for doc_idx in range(len(docs)):\n",
        "  doc = docs[doc_idx]\n",
        "  docs[doc_idx] = re.sub('[a-zA-Z0-9-=+,《#/\\?:^.@*\\\"※~ㆍ!』‘|\\(\\)\\[\\]`\\'…》\\”\\“\\’·]','', doc)\n",
        "\n",
        "  # docs[doc_idx] = re.sub('/^[가-힣\\s]+$/','', doc)\n",
        "\n",
        "\n",
        "# print(docs[:30])"
      ]
    },
    {
      "cell_type": "code",
      "source": [
        "print(f\"Check : {docs[0][:1000]}\")"
      ],
      "metadata": {
        "id": "sytiSICawMk5",
        "colab": {
          "base_uri": "https://localhost:8080/"
        },
        "outputId": "7f2c0e53-8ef9-4997-e336-90a51f57f003"
      },
      "execution_count": 146,
      "outputs": [
        {
          "output_type": "stream",
          "name": "stdout",
          "text": [
            "Check : 남모 공주  南 毛 公主  는 신라 의 공주  왕족 으로 법흥왕 과 보과 공주 부여 씨 의 딸 이 며 백제 동성왕 의 외손녀 였 다  경쟁자 인 준정 과 함께 신라 의 초대 여성 원화  화랑  였 다  그 가 준정 에게 암살 당한 것 을 계기 로 화랑 은 여성 이 아닌 남성 미소년 으로 선발 하 게 되 었 다  신라 진흥왕 에게 는 사촌 누나 이 자 이모 가 된다  신라 의 청소년 조직 이 었 던 화랑도 는 처음 에 는 남모  준정 두 미녀 를 뽑 아 이 를  원화 라 했으며 이 들 주위 에 는    여 명 의 무리 를 따르 게 하 였 다  그러나 준정 과 남모 는 서로 최고 가 되 고자 시기 하 였 다  준정 은 박영실 을 섬겼 는데  지소태후 는 자신 의 두 번 째 남편 이 기 도 한 그 를 싫어해서 준정 의 원화 를 없애 고 낭도 가 부족 한 남모 에게 위화랑 의 낭도 를 더 해 주 었 다  그 뒤 남모 는 준정 의 초대 로 그 의 집 에 갔 다가 억지로 권하 는 술 을 받아마시 고 취한 뒤 준정 에 의해 강물 에 던져져 살해 되 었 다  이 일 이 발각 돼 준 정도 사형 에 처해지 고 나라 에서 는 귀족 출신 의 잘 생기 고 품행 이 곧 은 남자 를 뽑 아 곱 게 단장 한 후 이 를 화랑 이 라 칭하 고 받들 게 하 였 다   부왕 신라 제   대 국왕 법흥왕 모후 보과 공주 부여 씨  宝 果 公主 扶餘 氏   공주 남모 공주 외조부 백제 제   대 국왕 동성왕 외조모 신라 이찬 비지 의 딸  화랑전사 마루        년  배우  박효빈  신라 법흥왕 백제 동성왕 준정 화랑 분류     년 죽음 분류  신라 의 왕녀 분류  신라 의 왕족 분류  화랑 분류  암살 된 사람 분류  독살 된 사람 분류  법흥왕\n",
            "\n"
          ]
        }
      ]
    },
    {
      "cell_type": "code",
      "execution_count": 149,
      "metadata": {
        "ExecuteTime": {
          "end_time": "2022-02-19T14:33:27.904880Z",
          "start_time": "2022-02-19T14:33:27.899620Z"
        },
        "id": "OAkkQsvO4WSl"
      },
      "outputs": [],
      "source": [
        "from collections import Counter\n",
        "def make_vocab(docs:List[str], min_count:int):\n",
        "    \"\"\"\n",
        "    'docs'문서 리스트를 입력 받아 단어 사전을 생성.\n",
        "    \n",
        "    return \n",
        "        - word2count : 단어별 빈도 사전\n",
        "        - wid2word : 단어별 인덱스(wid) 사전 \n",
        "        - word2wid : 인덱스(wid)별 단어 사전\n",
        "    \"\"\"\n",
        "\n",
        "    word2count = dict()\n",
        "    word2id = dict()\n",
        "    id2word = dict()\n",
        "    word_doc = []\n",
        "    \n",
        "    for doc in tqdm(docs):\n",
        "        word_list = doc.split(' ')\n",
        "        word_list = [i for i in word_list if i != '']\n",
        "        # 1. 문서 길이 제한\n",
        "        if len(word_list)<3:\n",
        "          continue\n",
        "        word_doc.extend(word_list)\n",
        "        # word_doc.append(word_list)\n",
        "\n",
        "        \n",
        "        # word_list = word_list[:1000]\n",
        "        \n",
        "        # 2. 임시 딕셔너리(_word2count)에 단어별 등장 빈도 기록\n",
        "        word2count = Counter(word_list)\n",
        "        # 3. 불용어 제거\n",
        "        # key가 stopwords에 있으면 삭제하기\n",
        "        del_list=[]\n",
        "        # 없앨 key 목록 생성\n",
        "        for key in word2count.keys():\n",
        "          if key in stop_words:\n",
        "            del_list.append(key)\n",
        "        \n",
        "        for del_key in del_list:\n",
        "          del word2count[del_key]\n",
        "        word_doc.append(word2count)\n",
        "        \n",
        "    # 4. 토큰 최소 빈도를 만족하는 토큰만 사전에 추가\n",
        "    all_word2count = Counter()\n",
        "    for line_word2count in word_doc:\n",
        "      # print(Counter(line_word2count))\n",
        "      all_word2count=Counter(line_word2count) + all_word2count\n",
        "\n",
        "    # print(all_word2count)\n",
        "    word2id = {string : i for i,string in enumerate(all_word2count.keys())}\n",
        "    # print(word2id)\n",
        "    id2word = dict([(value, key) for key, value in word2id.items()])\n",
        "    # print(id2word)\n",
        "    # print(word2count)\n",
        "    \n",
        "    return dict(word2count), word2id, id2word"
      ]
    },
    {
      "cell_type": "code",
      "execution_count": null,
      "metadata": {
        "ExecuteTime": {
          "end_time": "2022-02-19T14:33:30.157872Z",
          "start_time": "2022-02-19T14:33:28.473330Z"
        },
        "id": "ieS5SiQx4WSm",
        "colab": {
          "base_uri": "https://localhost:8080/"
        },
        "outputId": "1b61184a-5054-48de-eab4-27969c04dea4"
      },
      "outputs": [
        {
          "output_type": "stream",
          "name": "stderr",
          "text": [
            "100%|██████████| 500/500 [00:01<00:00, 475.39it/s]\n"
          ]
        }
      ],
      "source": [
        "word2count, word2id, id2word = make_vocab(docs, min_count=5)"
      ]
    },
    {
      "cell_type": "code",
      "execution_count": null,
      "metadata": {
        "ExecuteTime": {
          "end_time": "2022-02-19T14:33:30.754722Z",
          "start_time": "2022-02-19T14:33:30.752115Z"
        },
        "id": "cT1MRN1EJtx6"
      },
      "outputs": [],
      "source": [
        "doc_len = sum(word2count.values()) # 문서 내 모든 단어의 개수 (단어별 등장 빈도의 총 합)\n",
        "# doc_len = len(word2count.values())\n",
        "print(f\"{doc_len:,}\")"
      ]
    },
    {
      "cell_type": "code",
      "execution_count": null,
      "metadata": {
        "ExecuteTime": {
          "end_time": "2022-02-19T14:33:32.916830Z",
          "start_time": "2022-02-19T14:33:32.914355Z"
        },
        "id": "e_1MneB54WSm"
      },
      "outputs": [],
      "source": [
        "print(f\"# unique word : {len(word2id):,}\")"
      ]
    },
    {
      "cell_type": "markdown",
      "metadata": {
        "id": "gHxtZqtk4WSm"
      },
      "source": [
        "### Dataset 클래스 구현\n",
        "- Skip-Gram 방식의 학습 데이터 셋(`Tuple(target_word, context_word)`)을 생성하는 `CustomDataset` 클래스를 구현하라.\n",
        "- 클래스 정의\n",
        "    - 생성자(`__init__()` 함수) 입력 매개변수\n",
        "        - docs: 문서 리스트\n",
        "        - word2id: 단어별 인덱스(wid) 사전\n",
        "        - window_size: Skip-Gram의 윈도우 사이즈\n",
        "    - 메소드\n",
        "        - `make_pair()`\n",
        "            - 문서를 단어로 쪼개고, 사전에 존재하는 단어들만 단어 인덱스로 변경\n",
        "            - Skip-gram 방식의 `(target_word, context_word)` 페어(tuple)들을 `pairs` 리스트에 담아 반환\n",
        "        - `__len__()`\n",
        "            - `pairs` 리스트의 개수 반환\n",
        "        - `__getitem__(index)`\n",
        "            - `pairs` 리스트를 인덱싱\n",
        "    - 주의 사항\n",
        "        - `nn.Module`를 부모 클래스로 상속 받음 \n"
      ]
    },
    {
      "cell_type": "code",
      "execution_count": null,
      "metadata": {
        "ExecuteTime": {
          "end_time": "2022-02-19T14:33:38.111290Z",
          "start_time": "2022-02-19T14:33:38.104531Z"
        },
        "id": "UPiLcYCZ4WSm"
      },
      "outputs": [],
      "source": [
        "# from tensorflow.keras.preprocessing.sequence import skipgrams\n",
        "\n",
        "class CustomDataset(Dataset):\n",
        "    \"\"\"\n",
        "    문서 리스트를 받아 skip-gram 방식의 (target_word, context_word) 데이터 셋을 생성\n",
        "    \"\"\"\n",
        "    def __init__(self, docs:List[str], word2id:Dict[str,int], window_size:int=5):\n",
        "        self.docs = docs\n",
        "        self.word2id = word2id\n",
        "        self.window_size = window_size\n",
        "        self.pairs = self.make_pair()\n",
        "    \n",
        "    def make_pair(self):\n",
        "        \"\"\"\n",
        "        (target, context) 형식의 Skip-gram pair 데이터 셋 생성 \n",
        "        \"\"\"\n",
        "        # pairs = []\n",
        "        # # 네거티브 샘플링\n",
        "        # skip_grams = [skipgrams(sample , vocabulary_size=len(self.word2id.keys()), window_size=self.window_size) for sample in encoded]\n",
        "        # [ [target, context1], [target, context2], [target, context3], [target, context4] ]\n",
        "        pairs = []\n",
        "        for doc in self.docs:\n",
        "          doc = doc.split(' ')\n",
        "          doc =[i for i in doc if i != '']\n",
        "          # print(doc)\n",
        "          doc_pairs=[]\n",
        "\n",
        "          for word_idx in range(len(doc)):\n",
        "            doc_word = doc[word_idx]\n",
        "            if doc_word not in word2id.keys():\n",
        "              continue\n",
        "            target_word =doc[word_idx]\n",
        "\n",
        "            for front_context_word in doc[word_idx-self.window_size:word_idx]:\n",
        "              if front_context_word in word2id.keys():\n",
        "                doc_pairs.append( (word2id[target_word], word2id[front_context_word]) )\n",
        "            for back_context_word in doc[word_idx+1:word_idx+1+self.window_size]:\n",
        "              if back_context_word in word2id.keys():\n",
        "                doc_pairs.append( (word2id[target_word], word2id[back_context_word]) )\n",
        "          # print(len(doc_pairs))\n",
        "          pairs.extend(doc_pairs)\n",
        "        # print(len(pairs))\n",
        "        return pairs\n",
        "        \n",
        "    def __len__(self):\n",
        "        return len(docs)\n",
        "    \n",
        "    def __getitem__(self, idx):\n",
        "        line_pairs = self.make_pair()\n",
        "        # print(line_pairs)\n",
        "        return line_pairs[idx]"
      ]
    },
    {
      "cell_type": "code",
      "execution_count": null,
      "metadata": {
        "ExecuteTime": {
          "end_time": "2022-02-19T14:33:38.945361Z",
          "start_time": "2022-02-19T14:33:38.385577Z"
        },
        "id": "YntOw2q94WSm"
      },
      "outputs": [],
      "source": [
        "dataset = CustomDataset(docs, word2id, window_size=5)"
      ]
    },
    {
      "cell_type": "code",
      "execution_count": null,
      "metadata": {
        "ExecuteTime": {
          "end_time": "2022-02-19T14:33:38.949614Z",
          "start_time": "2022-02-19T14:33:38.946663Z"
        },
        "id": "-RpNbAjk4WSn"
      },
      "outputs": [],
      "source": [
        "len(dataset)"
      ]
    },
    {
      "cell_type": "code",
      "execution_count": null,
      "metadata": {
        "ExecuteTime": {
          "end_time": "2022-02-19T14:33:43.072635Z",
          "start_time": "2022-02-19T14:33:43.069526Z"
        },
        "id": "1FBwcL4H4WSn"
      },
      "outputs": [],
      "source": [
        "dataset[0]"
      ]
    },
    {
      "cell_type": "code",
      "execution_count": null,
      "metadata": {
        "ExecuteTime": {
          "end_time": "2022-02-19T14:33:51.040595Z",
          "start_time": "2022-02-19T14:33:51.031473Z"
        },
        "id": "wTAwTjKk4WSn",
        "scrolled": true
      },
      "outputs": [],
      "source": [
        "# verify (target word, context word)\n",
        "for i, pair in enumerate(dataset):\n",
        "    if i==100:\n",
        "        break\n",
        "    # print(i,pair)\n",
        "    # print(pair[0],pair[1])\n",
        "    print(f\"({id2word[pair[0]]}, {id2word[pair[1]]})\")\n",
        "    "
      ]
    },
    {
      "cell_type": "markdown",
      "metadata": {
        "id": "P0Z50-Dr4WSn"
      },
      "source": [
        "### 위에서 생성한 `dataset`으로 DataLoader  객체 생성\n",
        "- `DataLoader` 클래스로 `train_dataloader`객체를 생성하라. \n",
        "    - 생성자 매개변수와 값\n",
        "        - dataset = 위에서 생성한 dataset\n",
        "        - batch_size = 64\n",
        "        - shuffle = True"
      ]
    },
    {
      "cell_type": "code",
      "execution_count": null,
      "metadata": {
        "ExecuteTime": {
          "end_time": "2022-02-19T14:34:02.645176Z",
          "start_time": "2022-02-19T14:34:02.642780Z"
        },
        "id": "GXcAvFB14WSn"
      },
      "outputs": [],
      "source": [
        "train_dataloader = DataLoader(\n",
        "    dataset,\n",
        "    batch_size = 64,\n",
        "    shuffle = True\n",
        ")"
      ]
    },
    {
      "cell_type": "code",
      "execution_count": null,
      "metadata": {
        "ExecuteTime": {
          "end_time": "2022-02-19T14:34:02.777322Z",
          "start_time": "2022-02-19T14:34:02.774335Z"
        },
        "id": "4Yfcwi_14WSn"
      },
      "outputs": [],
      "source": [
        "len(train_dataloader)"
      ]
    },
    {
      "cell_type": "markdown",
      "metadata": {
        "id": "eTs16gsU4WSn"
      },
      "source": [
        "### Negative Sampling 함수 구현\n",
        "- Skip-Gram은 복잡도를 줄이기 위한 방법으로 negative sampling을 사용한다. \n",
        "- `sample_table`이 다음과 같이 주어졌을 때, sample_table에서 랜덤으로 값을 뽑아 (batch_size, n_neg_sample) shape의 matrix를 반환하는 `get_neg_v_negative_sampling()`함수를 구현하라. \n",
        "- Sample Table은 negative distribution을 따른다. \n",
        "    - [negative distribution 설명](https://aegis4048.github.io/optimize_computational_efficiency_of_skip-gram_with_negative_sampling#How-are-negative-samples-drawn?)\n",
        "- 함수 정의\n",
        "    - 입력 매개변수\n",
        "        - batch_size : 배치 사이즈, matrix의 row 개수 \n",
        "        - n_neg_sample : negative sample의 개수, matrix의 column 개수\n",
        "    - 반환값 \n",
        "        - neg_v : 추출된 negative sample (2차원의 리스트)\n"
      ]
    },
    {
      "cell_type": "code",
      "execution_count": null,
      "metadata": {
        "ExecuteTime": {
          "end_time": "2022-02-19T14:34:11.397509Z",
          "start_time": "2022-02-19T14:34:11.386389Z"
        },
        "id": "PUqIB6dH4WSn",
        "scrolled": true
      },
      "outputs": [],
      "source": [
        "# negative sample을 추출할 sample table 생성 (해당 코드를 참고)\n",
        "\n",
        "sample_table = []\n",
        "\n",
        "sample_table_size = doc_len\n",
        "# sample_table_size = len(list(word2count.values()))\n",
        "# print(word2count)\n",
        "\n",
        "# noise distribution 생성\n",
        "\n",
        "alpha = 3/4\n",
        "frequency_list = np.array(list(word2count.values())) ** alpha\n",
        "print(frequency_list)\n",
        "Z = sum(frequency_list)\n",
        "ratio = frequency_list/Z\n",
        "negative_sample_dist = np.round(ratio*sample_table_size)\n",
        "print(negative_sample_dist)\n",
        "\n",
        "for wid, c in enumerate(negative_sample_dist):\n",
        "    sample_table.extend([wid]*int(c))"
      ]
    },
    {
      "cell_type": "code",
      "source": [
        "# sample_table"
      ],
      "metadata": {
        "id": "VtWMWMRXP_pE"
      },
      "execution_count": null,
      "outputs": []
    },
    {
      "cell_type": "code",
      "execution_count": null,
      "metadata": {
        "ExecuteTime": {
          "end_time": "2022-02-19T14:34:11.508414Z",
          "start_time": "2022-02-19T14:34:11.505464Z"
        },
        "id": "Wdu8qK8x4WSn"
      },
      "outputs": [],
      "source": [
        "len(sample_table)"
      ]
    },
    {
      "cell_type": "code",
      "execution_count": null,
      "metadata": {
        "ExecuteTime": {
          "end_time": "2022-02-19T14:34:11.656046Z",
          "start_time": "2022-02-19T14:34:11.653325Z"
        },
        "id": "mQIVrOIR4WSn"
      },
      "outputs": [],
      "source": [
        "def get_neg_v_negative_sampling(batch_size:int, n_neg_sample:int):\n",
        "    \"\"\"\n",
        "    위에서 정의한 sample_table에서 (batch_size, n_neg_sample) shape만큼 랜덤 추출해 \"네거티브 샘플 메트릭스\"를 생성\n",
        "    np.random.choice() 함수 활용 (위에서 정의한 sample_table을 함수의 argument로 사용)\n",
        "    \"\"\"\n",
        "    neg_v = np.random.choice(sample_table,size =(batch_size, n_neg_sample))\n",
        "    \n",
        "    return neg_v"
      ]
    },
    {
      "cell_type": "code",
      "execution_count": null,
      "metadata": {
        "ExecuteTime": {
          "end_time": "2022-02-19T14:34:12.345976Z",
          "start_time": "2022-02-19T14:34:12.333448Z"
        },
        "id": "8wwT4Af04WSo"
      },
      "outputs": [],
      "source": [
        "get_neg_v_negative_sampling(4, 5)"
      ]
    },
    {
      "cell_type": "markdown",
      "metadata": {
        "id": "nLnDXPvJ4WSo"
      },
      "source": [
        "## Challenge"
      ]
    },
    {
      "cell_type": "markdown",
      "metadata": {
        "id": "B5UubCzK4WSo"
      },
      "source": [
        "### 미니 튜토리얼\n",
        "- 아래 튜토리얼을 따라하며 Skip-Gram 모델의 `forward` 및 `loss` 연산 방식을 이해하자\n",
        "- Reference\n",
        "    - [torch.nn.Embedding](https://pytorch.org/docs/stable/generated/torch.nn.Embedding.html)\n",
        "    - [torch bmm](https://pytorch.org/docs/stable/generated/torch.bmm.html)\n",
        "    - [Skip-Gram negative sampling loss function 설명 영문 블로그](https://aegis4048.github.io/optimize_computational_efficiency_of_skip-gram_with_negative_sampling#Derivation-of-Cost-Function-in-Negative-Sampling)\n",
        "    - [Skip-Gram negative sampling loss function 설명 한글 블로그](https://reniew.github.io/22/)"
      ]
    },
    {
      "cell_type": "code",
      "execution_count": null,
      "metadata": {
        "ExecuteTime": {
          "end_time": "2022-02-19T12:51:46.954048Z",
          "start_time": "2022-02-19T12:51:46.951529Z"
        },
        "id": "IAR68hsY4WSo"
      },
      "outputs": [],
      "source": [
        "# hyper parameter example\n",
        "emb_size = 30000 # vocab size\n",
        "emb_dimension = 300 # word embedding 차원\n",
        "n_neg_sample = 5\n",
        "batch_size = 32"
      ]
    },
    {
      "cell_type": "code",
      "execution_count": null,
      "metadata": {
        "ExecuteTime": {
          "end_time": "2022-02-19T12:51:49.340056Z",
          "start_time": "2022-02-19T12:51:47.300999Z"
        },
        "id": "zzOsVUn94WSo"
      },
      "outputs": [],
      "source": [
        "# 1. Embedding Matrix와 Context Matrix를 생성\n",
        "u_embedding = nn.Embedding(emb_size, emb_dimension, sparse=True).to(device)\n",
        "v_embedding = nn.Embedding(emb_size, emb_dimension, sparse=True).to(device)"
      ]
    },
    {
      "cell_type": "code",
      "execution_count": null,
      "metadata": {
        "ExecuteTime": {
          "end_time": "2022-02-19T12:51:49.352240Z",
          "start_time": "2022-02-19T12:51:49.341437Z"
        },
        "id": "I7J_ADc44WSo"
      },
      "outputs": [],
      "source": [
        "# 2. wid(단어 인덱스)를 임의로 생성\n",
        "pos_u = torch.randint(high = emb_size, size = (batch_size,))\n",
        "pos_v = torch.randint(high = emb_size, size = (batch_size,))\n",
        "neg_v = get_neg_v_negative_sampling(batch_size, n_neg_sample)\n",
        "print(f\"Target word idx : {pos_u} Pos context word idx : {pos_v} Neg context word idx : {neg_v}\\n\")"
      ]
    },
    {
      "cell_type": "code",
      "execution_count": null,
      "metadata": {
        "ExecuteTime": {
          "end_time": "2022-02-19T12:51:49.364020Z",
          "start_time": "2022-02-19T12:51:49.353486Z"
        },
        "id": "4iEG0nCZ4WSo"
      },
      "outputs": [],
      "source": [
        "# 3. tensor로 변환\n",
        "pos_u = Variable(torch.LongTensor(pos_u)).to(device)\n",
        "pos_v = Variable(torch.LongTensor(pos_v)).to(device)\n",
        "neg_v = Variable(torch.LongTensor(neg_v)).to(device)"
      ]
    },
    {
      "cell_type": "code",
      "execution_count": null,
      "metadata": {
        "ExecuteTime": {
          "end_time": "2022-02-19T12:51:51.391896Z",
          "start_time": "2022-02-19T12:51:51.387084Z"
        },
        "id": "gqbNbajG4WSo"
      },
      "outputs": [],
      "source": [
        "# 4. wid로 각각의 embedding matrix에서 word embedding 값을 가져오기\n",
        "pos_u = u_embedding(pos_u)\n",
        "pos_v = v_embedding(pos_v)\n",
        "neg_v = v_embedding(neg_v)\n",
        "print(f\"shape of pos_u embedding : {pos_u.shape}\\n shape of pos_v embedding : {pos_v.shape}\\n shape of neg_v embedding : {neg_v.shape}\")\n"
      ]
    },
    {
      "cell_type": "code",
      "execution_count": null,
      "metadata": {
        "ExecuteTime": {
          "end_time": "2022-02-19T12:51:53.121477Z",
          "start_time": "2022-02-19T12:51:52.646148Z"
        },
        "id": "uDWUrSwo4WSo"
      },
      "outputs": [],
      "source": [
        "# 5. dot product \n",
        "pos_score = torch.mul(pos_u, pos_v) # 행렬 element-wise 곱\n",
        "pos_score = torch.sum(pos_score, dim=1)\n",
        "print(f\"shape of pos logits : {pos_score.shape}\\n\")\n",
        "\n",
        "neg_score = torch.bmm(neg_v, pos_u.unsqueeze(dim=2)).squeeze()\n",
        "print(f\"shape of logits : {neg_score.shape}\")"
      ]
    },
    {
      "cell_type": "code",
      "execution_count": null,
      "metadata": {
        "ExecuteTime": {
          "end_time": "2022-02-19T12:51:53.670418Z",
          "start_time": "2022-02-19T12:51:53.665671Z"
        },
        "id": "adOpcoL54WSo"
      },
      "outputs": [],
      "source": [
        "# 6. loss 구하기\n",
        "pos_score = F.logsigmoid(pos_score)\n",
        "neg_score = F.logsigmoid(-1*neg_score) # negative의 logit은 minimize 하기 위해 -1 곱함\n",
        "print(f\"pos logits : {pos_score.sum()}\")\n",
        "print(f\"neg logits : {neg_score.sum()}\")\n",
        "loss = -1 * (torch.sum(pos_score) + torch.sum(neg_score))\n",
        "print(f\"Loss : {loss}\")"
      ]
    },
    {
      "cell_type": "markdown",
      "metadata": {
        "id": "muEceOGZ4WSo"
      },
      "source": [
        "### Skip-gram 클래스 구현\n",
        "- Skip-Gram 방식으로 단어 embedding을 학습하는 `SkipGram` 클래스를 구현하라.\n",
        "- 클래스 정의\n",
        "    - 생성자(`__init__()` 함수) 입력 매개변수\n",
        "        - `vocab_size` : 사전내 단어 개수\n",
        "        - `emb_dimension` : 엠베딩 크기\n",
        "        - `device` : 연산 장치 종류\n",
        "    - 생성자에서 생성해야할 변수 \n",
        "        - `vocab_size` : 사전내 단어 개수\n",
        "        - `emb_dimension` : 엠베딩 크기\n",
        "        - `u_embedding` : (vocab_size, emb_dimension) 엠베딩 메트릭스 (target_word)\n",
        "        - `v_embedding` : (vocab_size, emb_dimension) 엠베딩 메트릭스 (context_word)\n",
        "    - 메소드\n",
        "        - `init_embedding()` (제공됨)\n",
        "            - 엠베딩 메트릭스 값을 초기화\n",
        "        - `forward()`\n",
        "            - 위 튜토리얼과 같이 dot product를 수행한 후 score를 생성\n",
        "            - loss를 반환 (loss 설명 추가)\n",
        "        - `save_emedding()` (제공됨)\n",
        "            - `u_embedding`의 단어 엠베딩 값을 단어 별로 파일에 저장\n",
        "    - 주의 사항     \n",
        "        - `nn.Module`를 부모 클래스로 상속 받음 "
      ]
    },
    {
      "cell_type": "code",
      "execution_count": null,
      "metadata": {
        "ExecuteTime": {
          "end_time": "2022-02-19T14:34:15.731306Z",
          "start_time": "2022-02-19T14:34:15.721129Z"
        },
        "id": "pnmMamP44WSo"
      },
      "outputs": [],
      "source": [
        "class SkipGram(nn.Module):\n",
        "    def __init__(self, vocab_size:int, emb_dimension:int, device:str):\n",
        "        super(SkipGram, self).__init__()\n",
        "        self.vocab_size = vocab_size\n",
        "        self.emb_dimension = emb_dimension\n",
        "        self.u_embedding = nn.Embedding(vocab_size, emb_dimension, sparse=True).to(device)\n",
        "        self.v_embedding = nn.Embedding(vocab_size, emb_dimension, sparse=True).to(device)\n",
        "        self.init_embedding()\n",
        "    \n",
        "    \n",
        "    def init_embedding(self):\n",
        "        \"\"\"\n",
        "        u_embedding과 v_embedding 메트릭스 값을 초기화\n",
        "        \"\"\"\n",
        "        initrange = 0.5 / self.emb_dimension\n",
        "        self.u_embedding.weight.data.uniform_(-initrange, initrange)\n",
        "        self.v_embedding.weight.data.uniform_(-0, 0)\n",
        "    \n",
        "    \n",
        "    def forward(self, pos_u, pos_v, neg_v):\n",
        "        \"\"\"\n",
        "        dot product를 수행한 후 score를 생성\n",
        "        loss 반환\n",
        "        \"\"\"    \n",
        "            \n",
        "        # 각각의 embedding matrix에서 word embedding 값을 가져오기\n",
        "        # pos_u = torch.Tensor(pos_u)\n",
        "        # pos_v = torch.Tensor(pos_v)\n",
        "        # neg_v = torch.Tensor(neg_v)\n",
        "        # print(f\"shape of pos_u embedding : {pos_u.shape}\\n shape of pos_v embedding : {pos_v.shape}\\n shape of neg_v embedding : {neg_v.shape}\")\n",
        "\n",
        "        pos_u = self.u_embedding(pos_u)\n",
        "        pos_v = self.v_embedding(pos_v)\n",
        "        neg_v = self.v_embedding(neg_v)\n",
        "        # dot product \n",
        "        pos_score = torch.mul(pos_u, pos_v)\n",
        "        pos_score = torch.sum(pos_score, dim=1)\n",
        "        neg_score = torch.bmm(neg_v, pos_u.unsqueeze(dim=2)).squeeze()\n",
        "        pos_score = F.logsigmoid(pos_score)\n",
        "        neg_score = F.logsigmoid(-1*neg_score)\n",
        "        \n",
        "        # loss 구하기\n",
        "        loss = -1 * (torch.sum(pos_score) + torch.sum(neg_score))\n",
        "\n",
        "        return loss\n",
        "    \n",
        "    def save_embedding(self, id2word, file_name, use_cuda):\n",
        "        \"\"\"\n",
        "        'file_name' 위치에 word와 word_embedding을 line-by로 저장\n",
        "        파일의 첫 줄은 '단어 개수' 그리고 '단어 embedding 사이즈' 값을 입력해야 함\n",
        "        \"\"\"\n",
        "        if use_cuda: # parameter를 gpu 메모리에서 cpu 메모리로 옮김\n",
        "            embedding = self.u_embedding.weight.cpu().data.numpy()\n",
        "        else:\n",
        "            embedding = self.u_embedding.weight.data.numpy()\n",
        "\n",
        "        with open(file_name, 'w') as writer:\n",
        "            # 파일의 첫 줄은 '단어 개수' 그리고 '단어 embedding 사이즈' 값을 입력해야 함\n",
        "            writer.write(f\"{len(id2word)} {embedding.shape[-1]}\\n\")\n",
        "            \n",
        "            for wid, word in id2word.items():\n",
        "                e = embedding[wid]\n",
        "                e = \" \".join([str(e_) for e_ in e])\n",
        "                writer.write(f\"{word} {e}\\n\")"
      ]
    },
    {
      "cell_type": "markdown",
      "metadata": {
        "id": "RqqMo0zL4WSo"
      },
      "source": [
        "## Advanced"
      ]
    },
    {
      "cell_type": "markdown",
      "metadata": {
        "id": "wSWd5gV24WSp"
      },
      "source": [
        "### Skip-Gram 방식의  Word2Vec 클래스 구현\n",
        "- Skip-Gram 방식으로 단어 embedding을 학습하는 `Word2Vec` 클래스를 구현하라.\n",
        "- 클래스 정의\n",
        "    - 생성자(`__init__()`) 입력 매개 변수\n",
        "        - `input_file` : 학습할 문서 리스트\n",
        "        - `output_file_name` : 학습된 word embedding을 저장할 파일 위치\n",
        "        - `device` : 연상 장치 종류\n",
        "        - `emb_dimension` : word embedding 차원\n",
        "        - `batch_size` : 학습 배치 사이즈\n",
        "        - `window_size` : skip-gram 윈도우 사이즈 (context word 개수를 결정)\n",
        "        - `n_neg_sample` : negative sample 개수\n",
        "        - `iteration` : 학습 반복 횟수\n",
        "        - `lr` : learning rate\n",
        "        - `min_count` : 사전에 추가될 단어의 최소 등장 빈도\n",
        "    - 생성자에서 생성해야 할 변수 \n",
        "        - `docs` : 학습할 문서 리스트\n",
        "        - `output_file_name` : 학습된 word embedding을 저장할 파일 위치\n",
        "        - `word2count`, `word2id`, `id2word` : 위에서 구현한 `make_vocab()` 함수의 반환 값\n",
        "        - `device` : 연산 장치 종류\n",
        "        - `emb_size` : vocab의 (unique한) 단어 종류 \n",
        "        - `emb_dimension` : word embedding 차원\n",
        "        - `batch_size` : 학습 배치 사이즈\n",
        "        - `window_size` : skip-gram 윈도우 사이즈 (context word 개수를 결정)\n",
        "        - `n_neg_sample` : negative sample 개수\n",
        "        - `iteration` : 학습 반복 횟수\n",
        "        - `lr` : learning rate\n",
        "        - `model` : `SkipGram` 클래스의 인스턴스\n",
        "        - `optimizer` : `SGD` 클래스의 인스턴스\n",
        "    - 메소드\n",
        "        - `train()`\n",
        "            - 입력 매개변수 \n",
        "                - `train_dataloader`\n",
        "            - Iteration 횟수만큼 input_file 학습 데이터를 학습한다. 매 epoch마다 for loop 돌면서 batch 단위 학습 데이터를 skip gram 모델에 학습함. 학습이 끝나면 word embedding을 output_file_name 파일에 저장.\n",
        "- Reference\n",
        "    - [Optimizer - SGD](https://pytorch.org/docs/stable/generated/torch.optim.SGD.html)"
      ]
    },
    {
      "cell_type": "code",
      "execution_count": null,
      "metadata": {
        "ExecuteTime": {
          "end_time": "2022-02-19T14:34:20.503555Z",
          "start_time": "2022-02-19T14:34:20.491585Z"
        },
        "id": "Td-GQrqI4WSp"
      },
      "outputs": [],
      "source": [
        "import os\n",
        "class Word2Vec:\n",
        "    def __init__(self, \n",
        "                input_file: List[str],\n",
        "                output_file_name: str,\n",
        "                 device: str,\n",
        "                 emb_dimension=300,\n",
        "                 batch_size = 64,\n",
        "                 window_size=5,\n",
        "                 n_neg_sample = 5,\n",
        "                 iteration=1,\n",
        "                 lr = 0.02,\n",
        "                 min_count=5):\n",
        "        self.docs = input_file\n",
        "        self.output_file_name = output_file_name\n",
        "        self.word2count, self.word2id, self.id2word = make_vocab(self.docs, min_count)\n",
        "        self.device = device\n",
        "        self.emb_size = len(self.word2id.keys())\n",
        "        self.emb_dimension = emb_dimension\n",
        "        self.batch_size = batch_size\n",
        "        self.window_size = window_size\n",
        "        self.n_neg_sample = n_neg_sample\n",
        "        self.iteration = iteration\n",
        "        self.lr = lr\n",
        "        self.model = SkipGram(self.emb_size,self.emb_dimension,self.device)\n",
        "        self.optimizer = torch.optim.SGD(self.model.parameters(), lr=self.lr, momentum=0.9) # torch.optim.SGD 클래스 사용\n",
        "\n",
        "        # train() 함수에서 만든 임베딩 결과 파일들을 저장할 폴더 생성 (os.makedirs 사용)\n",
        "        os.makedirs(self.output_file_name, exist_ok=True)\n",
        "\n",
        "        \n",
        "    \n",
        "    def train(self, train_dataloader):\n",
        "        \n",
        "        # lr 값을 조절하는 스케줄러 인스턴스 변수를 생성\n",
        "        self.scheduler = get_linear_schedule_with_warmup(\n",
        "            optimizer = self.optimizer,\n",
        "            num_warmup_steps=0,\n",
        "            num_training_steps=len(train_dataloader)* self.iteration\n",
        "        )\n",
        "        \n",
        "        \n",
        "        for epoch in range(self.iteration):\n",
        "            \n",
        "            print(f\"*****Epoch {epoch} Train Start*****\")\n",
        "            print(f\"*****Epoch {epoch} Total Step {len(train_dataloader)}*****\")\n",
        "            total_loss, batch_loss, batch_step = 0,0,0\n",
        "            self.model.train()\n",
        "            self.model.to(device)\n",
        "\n",
        "            for step, batch in enumerate(train_dataloader):\n",
        "                batch_step+=1\n",
        "\n",
        "                pos_u, pos_v = batch\n",
        "                # negative data 생성\n",
        "                neg_v = get_neg_v_negative_sampling(pos_u.shape[0], self.n_neg_sample)\n",
        "                \n",
        "                # 데이터를 tensor화 & device 설정\n",
        "                pos_u = torch.LongTensor(pos_u)\n",
        "                pos_v = torch.LongTensor(pos_v)\n",
        "                neg_v = torch.LongTensor(neg_v)\n",
        "\n",
        "\n",
        "                pos_u = tuple(item.to(device) for item in pos_u)\n",
        "                pos_v = tuple(item.to(device) for item in pos_v)\n",
        "                neg_v = tuple(item.to(device) for item in neg_v)\n",
        "\n",
        "                # model의 gradient 초기화\n",
        "                self.model.zero_grad()\n",
        "                # optimizer의 gradient 초기화\n",
        "                self.optimizer.zero_grad()\n",
        "                # None\n",
        "\n",
        "                # forward--------\n",
        "                # logits = self.model()\n",
        "                loss = self.model(pos_u, pos_v, neg_v)\n",
        "\n",
        "                # loss 계산\n",
        "                loss.backward()\n",
        "                # None\n",
        "                # optimizer 업데이트\n",
        "                # scheduler 업데이트\n",
        "                self.optimizer.step()\n",
        "                self.scheduler.step()\n",
        "\n",
        "                batch_loss += loss.item()\n",
        "                total_loss += loss.item()\n",
        "                \n",
        "                if (step%500 == 0) and (step!=0):\n",
        "                    print(f\"Step: {step} Loss: {batch_loss/batch_step:.4f} lr: {self.optimizer.param_groups[0]['lr']:.4f}\")\n",
        "                    # 변수 초기화    \n",
        "                    batch_loss, batch_step = 0,0\n",
        "            \n",
        "            print(f\"Epoch {epoch} Total Mean Loss : {total_loss/(step+1):.4f}\")\n",
        "            print(f\"*****Epoch {epoch} Train Finished*****\\n\")\n",
        "            \n",
        "            print(f\"*****Epoch {epoch} Saving Embedding...*****\")\n",
        "            self.model.save_embedding(self.id2word, os.path.join(self.output_file_name, f'w2v_{epoch}.txt'), True if 'cuda' in self.device.type else False)\n",
        "            print(f\"*****Epoch {epoch} Embedding Saved at {os.path.join(self.output_file_name, f'w2v_{epoch}.txt')}*****\\n\")"
      ]
    },
    {
      "cell_type": "code",
      "execution_count": null,
      "metadata": {
        "ExecuteTime": {
          "end_time": "2022-02-19T14:34:29.561892Z",
          "start_time": "2022-02-19T14:34:26.103659Z"
        },
        "id": "Ywx9R8n24WSp"
      },
      "outputs": [],
      "source": [
        "output_file = os.path.join(\".\", \"word2vec_wiki\")\n",
        "# Word2Vec 클래스의 인스턴스 생성\n",
        "w2v = Word2Vec(docs, output_file, device, n_neg_sample=10, iteration=3)"
      ]
    },
    {
      "cell_type": "code",
      "execution_count": null,
      "metadata": {
        "ExecuteTime": {
          "end_time": "2022-02-19T14:34:34.615469Z",
          "start_time": "2022-02-19T14:34:34.055502Z"
        },
        "id": "ufBxjKxN4WSp"
      },
      "outputs": [],
      "source": [
        "# 학습 데이터 셋 및 데이터 로더 생성 (위에서 생성한 w2v의 attribute들을 argument에 적절히 넣기)\n",
        "dataset = CustomDataset(docs, word2id, window_size=5)\n",
        "train_dataloader = DataLoader(\n",
        "    dataset,\n",
        "    batch_size = 64,\n",
        "    shuffle = True\n",
        ")\n",
        "len(train_dataloader)"
      ]
    },
    {
      "cell_type": "code",
      "execution_count": null,
      "metadata": {
        "ExecuteTime": {
          "end_time": "2022-02-19T14:45:38.362817Z",
          "start_time": "2022-02-19T14:34:37.382371Z"
        },
        "id": "9JBUrUJ34WSp"
      },
      "outputs": [],
      "source": [
        "# 학습\n",
        "w2v.train(train_dataloader)"
      ]
    },
    {
      "cell_type": "markdown",
      "metadata": {
        "id": "3uTIm4vJ4WSp"
      },
      "source": [
        "### 유사한 단어 확인\n",
        "- 사전에 존재하는 단어들과 유사한 단어를 검색해보자. Gensim 패키지는 유사 단어 외에도 단어간의 유사도를 계산하는 여러 함수를 제공한다. 실험을 통해 word2vec의 한계점을 발견했다면 아래에 markdown으로 작성해보자. \n",
        "- [Gensim 패키지 document](https://radimrehurek.com/gensim/models/keyedvectors.html)"
      ]
    },
    {
      "cell_type": "code",
      "execution_count": null,
      "metadata": {
        "ExecuteTime": {
          "end_time": "2022-02-19T14:47:59.605389Z",
          "start_time": "2022-02-19T14:47:59.368925Z"
        },
        "id": "AKpBuVlP4WSp"
      },
      "outputs": [],
      "source": [
        "import gensim"
      ]
    },
    {
      "cell_type": "code",
      "execution_count": null,
      "metadata": {
        "ExecuteTime": {
          "end_time": "2022-02-19T14:49:06.590460Z",
          "start_time": "2022-02-19T14:49:05.174241Z"
        },
        "id": "AWTCodimsAq8"
      },
      "outputs": [],
      "source": [
        "word_vectors = gensim.models.KeyedVectors.load_word2vec_format(output_file, binary=False)"
      ]
    },
    {
      "cell_type": "code",
      "execution_count": null,
      "metadata": {
        "ExecuteTime": {
          "end_time": "2022-02-19T14:49:11.324372Z",
          "start_time": "2022-02-19T14:49:11.315429Z"
        },
        "id": "MLMh_evrsAq9"
      },
      "outputs": [],
      "source": [
        "word_vectors.most_similar(positive=None)"
      ]
    },
    {
      "cell_type": "markdown",
      "source": [
        "word2vec의 한계점은? \n"
      ],
      "metadata": {
        "id": "X8lc8NQe4cT2"
      }
    }
  ],
  "metadata": {
    "accelerator": "GPU",
    "colab": {
      "name": "조한희 - Week3_1_assignment.ipynb",
      "provenance": [],
      "collapsed_sections": []
    },
    "kernelspec": {
      "display_name": "torch",
      "language": "python",
      "name": "torch"
    },
    "language_info": {
      "codemirror_mode": {
        "name": "ipython",
        "version": 3
      },
      "file_extension": ".py",
      "mimetype": "text/x-python",
      "name": "python",
      "nbconvert_exporter": "python",
      "pygments_lexer": "ipython3",
      "version": "3.8.11"
    }
  },
  "nbformat": 4,
  "nbformat_minor": 0
}