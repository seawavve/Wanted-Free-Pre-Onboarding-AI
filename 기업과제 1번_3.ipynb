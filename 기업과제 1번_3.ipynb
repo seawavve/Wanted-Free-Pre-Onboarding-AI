{
  "nbformat": 4,
  "nbformat_minor": 0,
  "metadata": {
    "colab": {
      "name": "Untitled89.ipynb",
      "provenance": [],
      "authorship_tag": "ABX9TyPdTFZ9YYIlH4KFFZN+onEq",
      "include_colab_link": true
    },
    "kernelspec": {
      "name": "python3",
      "display_name": "Python 3"
    },
    "language_info": {
      "name": "python"
    }
  },
  "cells": [
    {
      "cell_type": "markdown",
      "metadata": {
        "id": "view-in-github",
        "colab_type": "text"
      },
      "source": [
        "<a href=\"https://colab.research.google.com/github/seawavve/Wanted-Pre-Onboarding-AIML/blob/main/%EA%B8%B0%EC%97%85%EA%B3%BC%EC%A0%9C%201%EB%B2%88_3.ipynb\" target=\"_parent\"><img src=\"https://colab.research.google.com/assets/colab-badge.svg\" alt=\"Open In Colab\"/></a>"
      ]
    },
    {
      "cell_type": "markdown",
      "source": [
        "# 기업과제 1번"
      ],
      "metadata": {
        "id": "Fn5A2OpkLeaE"
      }
    },
    {
      "cell_type": "markdown",
      "source": [
        "### input\n",
        "9  \n",
        "\"aaa\", \"aaaabb\", \"aabbcc\", \"abb\", \"bcc\", \"bbcc\", \"aabbccdd\", \"aaabb\", \"cccd\"  \n",
        "1  \n",
        "\"aaaabbaabbccdd\"  "
      ],
      "metadata": {
        "id": "RBXQ1fRZJAM7"
      }
    },
    {
      "cell_type": "code",
      "source": [
        "######### 수정할 점\n",
        "# 추후에 한 줄씩 읽는 것으로 변경\n",
        "# print를 format으로 변경"
      ],
      "metadata": {
        "id": "hYqQPS10Mj_6"
      },
      "execution_count": 2,
      "outputs": []
    },
    {
      "cell_type": "code",
      "execution_count": 3,
      "metadata": {
        "id": "noDZLykjFpkE"
      },
      "outputs": [],
      "source": [
        "N = 9\n",
        "S = [\"aaa\", \"aaaabb\", \"aabbcc\", \"abb\", \"bcc\", \"bbcc\", \"aabbccdd\", \"aaabb\", \"cccd\"]\n",
        "Q = 1\n",
        "object_S = [\"aaaabbaabbccdd\"]"
      ]
    },
    {
      "cell_type": "code",
      "source": [
        "# 1. 문자열의 여러 부분 문자열 중 하나라도 집합 S에 있으면 'YES'를 출력하고, 아무것도 없으면 'NO'를 출력한다.\n",
        "for object_word in object_S:\n",
        "  print('object word: ', object_word)\n",
        "  for word in S:\n",
        "    if word in object_word:\n",
        "      print(word, ': YES')\n",
        "    else:\n",
        "      print(word, ': NO')"
      ],
      "metadata": {
        "colab": {
          "base_uri": "https://localhost:8080/"
        },
        "id": "gmSlP94wGbDN",
        "outputId": "82a9a213-11a1-44c6-d74e-93250295cd18"
      },
      "execution_count": 4,
      "outputs": [
        {
          "output_type": "stream",
          "name": "stdout",
          "text": [
            "object word:  aaaabbaabbccdd\n",
            "aaa : YES\n",
            "aaaabb : YES\n",
            "aabbcc : YES\n",
            "abb : YES\n",
            "bcc : YES\n",
            "bbcc : YES\n",
            "aabbccdd : YES\n",
            "aaabb : YES\n",
            "cccd : NO\n"
          ]
        }
      ]
    },
    {
      "cell_type": "code",
      "source": [
        "# 2. 주어진 문자열의 여러부분 문자열 중 처음 매칭된 패턴과 문자열 시작 포지션을 출력한다.\n",
        "for object_word in object_S:\n",
        "  for word in S:\n",
        "    print(object_word,word)\n",
        "    pos = object_word.find(word)\n",
        "    print(f'#pos = {pos}, pattern = {word}') "
      ],
      "metadata": {
        "colab": {
          "base_uri": "https://localhost:8080/"
        },
        "id": "_lfDi69FLT_F",
        "outputId": "f5611fb1-d3c3-43c8-d940-4a7bfa2b4ea1"
      },
      "execution_count": 5,
      "outputs": [
        {
          "output_type": "stream",
          "name": "stdout",
          "text": [
            "aaaabbaabbccdd aaa\n",
            "#pos = 0, pattern = aaa\n",
            "aaaabbaabbccdd aaaabb\n",
            "#pos = 0, pattern = aaaabb\n",
            "aaaabbaabbccdd aabbcc\n",
            "#pos = 6, pattern = aabbcc\n",
            "aaaabbaabbccdd abb\n",
            "#pos = 3, pattern = abb\n",
            "aaaabbaabbccdd bcc\n",
            "#pos = 9, pattern = bcc\n",
            "aaaabbaabbccdd bbcc\n",
            "#pos = 8, pattern = bbcc\n",
            "aaaabbaabbccdd aabbccdd\n",
            "#pos = 6, pattern = aabbccdd\n",
            "aaaabbaabbccdd aaabb\n",
            "#pos = 1, pattern = aaabb\n",
            "aaaabbaabbccdd cccd\n",
            "#pos = -1, pattern = cccd\n"
          ]
        }
      ]
    },
    {
      "cell_type": "code",
      "source": [
        "# 3. 주어진 문자열의 여러부분 문자열 중 매칭 가능한 모든 패턴과 문자열 시작 포지션을 출력한다.\n",
        "# find를 돌아 인덱스 값을 찾으면 그만큼 지우고 -1이 나올 때까지 다시 find한다. \n",
        "for object_word in object_S:\n",
        "  for word in S:\n",
        "    pos=[]\n",
        "    print(object_word,word)\n",
        "    pos.append(object_word.find(word))\n",
        "    print(pos[-1])\n",
        "    # while pos[-1] != -1:\n",
        "    #   trimmed_object_word = object_word[pos[-1]+2:]\n",
        "    #   print(trimmed_object_word)\n",
        "    #   pos.append(trimmed_object_word.find(word))\n",
        "    #   print(pos)\n",
        "\n",
        "    print(f'#pos = {pos}, pattern = {word}') "
      ],
      "metadata": {
        "colab": {
          "base_uri": "https://localhost:8080/"
        },
        "id": "23MT6Pm-LaNa",
        "outputId": "3a5cbf29-6b1f-4ff0-88a7-043c071cdbee"
      },
      "execution_count": 12,
      "outputs": [
        {
          "output_type": "stream",
          "name": "stdout",
          "text": [
            "aaaabbaabbccdd aaa\n",
            "0\n",
            "#pos = [0], pattern = aaa\n",
            "aaaabbaabbccdd aaaabb\n",
            "0\n",
            "#pos = [0], pattern = aaaabb\n",
            "aaaabbaabbccdd aabbcc\n",
            "6\n",
            "#pos = [6], pattern = aabbcc\n",
            "aaaabbaabbccdd abb\n",
            "3\n",
            "#pos = [3], pattern = abb\n",
            "aaaabbaabbccdd bcc\n",
            "9\n",
            "#pos = [9], pattern = bcc\n",
            "aaaabbaabbccdd bbcc\n",
            "8\n",
            "#pos = [8], pattern = bbcc\n",
            "aaaabbaabbccdd aabbccdd\n",
            "6\n",
            "#pos = [6], pattern = aabbccdd\n",
            "aaaabbaabbccdd aaabb\n",
            "1\n",
            "#pos = [1], pattern = aaabb\n",
            "aaaabbaabbccdd cccd\n",
            "-1\n",
            "#pos = [-1], pattern = cccd\n"
          ]
        }
      ]
    }
  ]
}