{
  "nbformat": 4,
  "nbformat_minor": 0,
  "metadata": {
    "colab": {
      "name": "Untitled89.ipynb",
      "provenance": [],
      "authorship_tag": "ABX9TyO9IcVFz0peItEmq4MZYKvV",
      "include_colab_link": true
    },
    "kernelspec": {
      "name": "python3",
      "display_name": "Python 3"
    },
    "language_info": {
      "name": "python"
    }
  },
  "cells": [
    {
      "cell_type": "markdown",
      "metadata": {
        "id": "view-in-github",
        "colab_type": "text"
      },
      "source": [
        "<a href=\"https://colab.research.google.com/github/seawavve/Wanted-Pre-Onboarding-AIML/blob/main/%EA%B8%B0%EC%97%85%EA%B3%BC%EC%A0%9C%201%EB%B2%88.ipynb\" target=\"_parent\"><img src=\"https://colab.research.google.com/assets/colab-badge.svg\" alt=\"Open In Colab\"/></a>"
      ]
    },
    {
      "cell_type": "markdown",
      "source": [
        "# 문자열 매칭 알고리즘 구현"
      ],
      "metadata": {
        "id": "Fn5A2OpkLeaE"
      }
    },
    {
      "cell_type": "markdown",
      "source": [
        "문자열 집합 S가 존재한다.  \n",
        "ex) S = {\"www\",\"xman\",\"yman\"}. 임의의 문자열이 N개 주어졌을 때 각 임의의 문자열 내에 집합 S에 속하는 문자열이 존재하는지 판별하시오."
      ],
      "metadata": {
        "id": "RBXQ1fRZJAM7"
      }
    },
    {
      "cell_type": "code",
      "execution_count": 8,
      "metadata": {
        "id": "noDZLykjFpkE"
      },
      "outputs": [],
      "source": [
        "N = 9\n",
        "S = [\"aaa\", \"aaaabb\", \"aabbcc\", \"abb\", \"bcc\", \"bbcc\", \"aabbccdd\", \"aaabb\", \"cccd\"]\n",
        "Q = 1\n",
        "object_S = [\"aaaabbaabbccdd\"]"
      ]
    },
    {
      "cell_type": "code",
      "source": [
        "# 1. 문자열의 여러 부분 문자열 중 하나라도 집합 S에 있으면 'YES'를 출력하고, 아무것도 없으면 'NO'를 출력한다.\n",
        "\n",
        "for object_word in object_S:\n",
        "  print(f'object word: {object_word}')\n",
        "  for word in S:\n",
        "    if word in object_word:\n",
        "      print(f'{word}: YES')\n",
        "    else:\n",
        "      print(f'{word}: NO')"
      ],
      "metadata": {
        "colab": {
          "base_uri": "https://localhost:8080/"
        },
        "id": "gmSlP94wGbDN",
        "outputId": "688b1d1b-65d9-4407-aef7-ae777facf118"
      },
      "execution_count": 9,
      "outputs": [
        {
          "output_type": "stream",
          "name": "stdout",
          "text": [
            "object word: aaaabbaabbccdd\n",
            "aaa: YES\n",
            "aaaabb: YES\n",
            "aabbcc: YES\n",
            "abb: YES\n",
            "bcc: YES\n",
            "bbcc: YES\n",
            "aabbccdd: YES\n",
            "aaabb: YES\n",
            "cccd: NO\n"
          ]
        }
      ]
    },
    {
      "cell_type": "code",
      "source": [
        "# 2. 주어진 문자열의 여러부분 문자열 중 처음 매칭된 패턴과 문자열 시작 포지션을 출력한다.\n",
        "\n",
        "for object_word in object_S:\n",
        "  print(f'object_word: {object_word}')\n",
        "  for word in S:\n",
        "    pos = object_word.find(word)\n",
        "    if pos != -1:\n",
        "      print(f'#pos = {pos}, pattern = {word}') "
      ],
      "metadata": {
        "colab": {
          "base_uri": "https://localhost:8080/"
        },
        "id": "_lfDi69FLT_F",
        "outputId": "210f1ec7-d6e2-475b-c9ef-2e4f355e544f"
      },
      "execution_count": 10,
      "outputs": [
        {
          "output_type": "stream",
          "name": "stdout",
          "text": [
            "object_word: aaaabbaabbccdd\n",
            "#pos = 0, pattern = aaa\n",
            "#pos = 0, pattern = aaaabb\n",
            "#pos = 6, pattern = aabbcc\n",
            "#pos = 3, pattern = abb\n",
            "#pos = 9, pattern = bcc\n",
            "#pos = 8, pattern = bbcc\n",
            "#pos = 6, pattern = aabbccdd\n",
            "#pos = 1, pattern = aaabb\n"
          ]
        }
      ]
    },
    {
      "cell_type": "code",
      "source": [
        "# 3. 주어진 문자열의 여러부분 문자열 중 매칭 가능한 모든 패턴과 문자열 시작 포지션을 출력한다.\n",
        "\n",
        "def find_idx(object_word,word,pos):\n",
        "  if object_word.find(word) == -1: return (None,None,pos)\n",
        "  trim_idx = object_word.find(word)\n",
        "  pos.append(trim_idx)\n",
        "  return find_idx(object_word[trim_idx+1:], word, pos)\n",
        "\n",
        "\n",
        "for object_word in object_S:\n",
        "  print(f'object_word: {object_word}')\n",
        "  for word in S:\n",
        "    pos = []\n",
        "\n",
        "    _,_,pos = find_idx(object_word,word,pos)\n",
        "    if len(pos)>1:\n",
        "      for pos_idx in range(1,len(pos)):\n",
        "        pos[pos_idx] = pos[pos_idx-1] +1\n",
        "    \n",
        "    for each_pos in pos:\n",
        "      print(f'#pos = {each_pos}, pattern = {word}')"
      ],
      "metadata": {
        "colab": {
          "base_uri": "https://localhost:8080/"
        },
        "id": "23MT6Pm-LaNa",
        "outputId": "e8305224-96a9-46d5-ed44-782186106b35"
      },
      "execution_count": 11,
      "outputs": [
        {
          "output_type": "stream",
          "name": "stdout",
          "text": [
            "object_word: aaaabbaabbccdd\n",
            "#pos = 0, pattern = aaa\n",
            "#pos = 1, pattern = aaa\n",
            "#pos = 0, pattern = aaaabb\n",
            "#pos = 6, pattern = aabbcc\n",
            "#pos = 3, pattern = abb\n",
            "#pos = 4, pattern = abb\n",
            "#pos = 9, pattern = bcc\n",
            "#pos = 8, pattern = bbcc\n",
            "#pos = 6, pattern = aabbccdd\n",
            "#pos = 1, pattern = aaabb\n"
          ]
        }
      ]
    }
  ]
}