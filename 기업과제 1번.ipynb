{
  "nbformat": 4,
  "nbformat_minor": 0,
  "metadata": {
    "colab": {
      "name": "Untitled89.ipynb",
      "provenance": [],
      "authorship_tag": "ABX9TyN0W4gwArFcJ4FbDCRgYtSi",
      "include_colab_link": true
    },
    "kernelspec": {
      "name": "python3",
      "display_name": "Python 3"
    },
    "language_info": {
      "name": "python"
    }
  },
  "cells": [
    {
      "cell_type": "markdown",
      "metadata": {
        "id": "view-in-github",
        "colab_type": "text"
      },
      "source": [
        "<a href=\"https://colab.research.google.com/github/seawavve/Wanted-Pre-Onboarding-AIML/blob/main/%EA%B8%B0%EC%97%85%EA%B3%BC%EC%A0%9C%201%EB%B2%88.ipynb\" target=\"_parent\"><img src=\"https://colab.research.google.com/assets/colab-badge.svg\" alt=\"Open In Colab\"/></a>"
      ]
    },
    {
      "cell_type": "markdown",
      "source": [
        "# 기업과제 1번"
      ],
      "metadata": {
        "id": "Fn5A2OpkLeaE"
      }
    },
    {
      "cell_type": "markdown",
      "source": [
        "### input\n",
        "9  \n",
        "\"aaa\", \"aaaabb\", \"aabbcc\", \"abb\", \"bcc\", \"bbcc\", \"aabbccdd\", \"aaabb\", \"cccd\"  \n",
        "1  \n",
        "\"aaaabbaabbccdd\"  "
      ],
      "metadata": {
        "id": "RBXQ1fRZJAM7"
      }
    },
    {
      "cell_type": "code",
      "source": [
        "######### 수정할 점\n",
        "# 추후에 한 줄씩 읽는 것으로 변경\n",
        "# print를 format으로 변경"
      ],
      "metadata": {
        "id": "hYqQPS10Mj_6"
      },
      "execution_count": 22,
      "outputs": []
    },
    {
      "cell_type": "code",
      "execution_count": 23,
      "metadata": {
        "id": "noDZLykjFpkE"
      },
      "outputs": [],
      "source": [
        "N = 9\n",
        "S = [\"aaa\", \"aaaabb\", \"aabbcc\", \"abb\", \"bcc\", \"bbcc\", \"aabbccdd\", \"aaabb\", \"cccd\"]\n",
        "Q = 1\n",
        "object_S = [\"aaaabbaabbccdd\"]"
      ]
    },
    {
      "cell_type": "code",
      "source": [
        "# 1. 문자열의 여러 부분 문자열 중 하나라도 집합 S에 있으면 'YES'를 출력하고, 아무것도 없으면 'NO'를 출력한다.\n",
        "for object_word in object_S:\n",
        "  print('object word: ', object_word)\n",
        "  for word in S:\n",
        "    if word in object_word:\n",
        "      print(word, ': YES')\n",
        "    else:\n",
        "      print(word, ': NO')"
      ],
      "metadata": {
        "colab": {
          "base_uri": "https://localhost:8080/"
        },
        "id": "gmSlP94wGbDN",
        "outputId": "765de6f6-412b-4ce0-da49-95cbe707df3e"
      },
      "execution_count": 24,
      "outputs": [
        {
          "output_type": "stream",
          "name": "stdout",
          "text": [
            "object word:  aaaabbaabbccdd\n",
            "aaa : YES\n",
            "aaaabb : YES\n",
            "aabbcc : YES\n",
            "abb : YES\n",
            "bcc : YES\n",
            "bbcc : YES\n",
            "aabbccdd : YES\n",
            "aaabb : YES\n",
            "cccd : NO\n"
          ]
        }
      ]
    },
    {
      "cell_type": "code",
      "source": [
        "# 2. 주어진 문자열의 여러부분 문자열 중 처음 매칭된 패턴과 문자열 시작 포지션을 출력한다.\n",
        "for object_word in object_S:\n",
        "  for word in S:\n",
        "    print(f'#pos = 0, pattern = {word}') \n",
        "    "
      ],
      "metadata": {
        "colab": {
          "base_uri": "https://localhost:8080/"
        },
        "id": "_lfDi69FLT_F",
        "outputId": "6cd66871-971e-40c5-9525-d740124b0a3a"
      },
      "execution_count": 25,
      "outputs": [
        {
          "output_type": "stream",
          "name": "stdout",
          "text": [
            "#pos = 0, pattern = aaa\n",
            "#pos = 0, pattern = aaaabb\n",
            "#pos = 0, pattern = aabbcc\n",
            "#pos = 0, pattern = abb\n",
            "#pos = 0, pattern = bcc\n",
            "#pos = 0, pattern = bbcc\n",
            "#pos = 0, pattern = aabbccdd\n",
            "#pos = 0, pattern = aaabb\n",
            "#pos = 0, pattern = cccd\n"
          ]
        }
      ]
    },
    {
      "cell_type": "code",
      "source": [
        "# 3. 주어진 문자열의 여러부분 문자열 중 매칭 가능한 모든 패턴과 문자열 시작 포지션을 출력한다.\n",
        "for object_word in object_S:\n",
        "  for word in S:\n",
        "    print(f'#pos = 0, pattern = {word}') "
      ],
      "metadata": {
        "colab": {
          "base_uri": "https://localhost:8080/"
        },
        "id": "23MT6Pm-LaNa",
        "outputId": "b39d8480-c98d-4ee4-f085-b67d47598e8a"
      },
      "execution_count": 26,
      "outputs": [
        {
          "output_type": "stream",
          "name": "stdout",
          "text": [
            "#pos = 0, pattern = aaa\n",
            "#pos = 0, pattern = aaaabb\n",
            "#pos = 0, pattern = aabbcc\n",
            "#pos = 0, pattern = abb\n",
            "#pos = 0, pattern = bcc\n",
            "#pos = 0, pattern = bbcc\n",
            "#pos = 0, pattern = aabbccdd\n",
            "#pos = 0, pattern = aaabb\n",
            "#pos = 0, pattern = cccd\n"
          ]
        }
      ]
    }
  ]
}