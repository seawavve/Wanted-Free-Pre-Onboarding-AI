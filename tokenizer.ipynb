{
  "nbformat": 4,
  "nbformat_minor": 0,
  "metadata": {
    "colab": {
      "name": "Untitled85.ipynb",
      "provenance": [],
      "include_colab_link": true
    },
    "kernelspec": {
      "name": "python3",
      "display_name": "Python 3"
    },
    "language_info": {
      "name": "python"
    }
  },
  "cells": [
    {
      "cell_type": "markdown",
      "metadata": {
        "id": "view-in-github",
        "colab_type": "text"
      },
      "source": [
        "<a href=\"https://colab.research.google.com/github/seawavve/Wanted-Free-Pre-Onboarding-AI/blob/main/tokenizer.ipynb\" target=\"_parent\"><img src=\"https://colab.research.google.com/assets/colab-badge.svg\" alt=\"Open In Colab\"/></a>"
      ]
    },
    {
      "cell_type": "markdown",
      "source": [
        "### 1. Tokenizer 생성"
      ],
      "metadata": {
        "id": "6Yw07_OLrjaB"
      }
    },
    {
      "cell_type": "code",
      "execution_count": null,
      "metadata": {
        "id": "9wldOSdBriDc"
      },
      "outputs": [],
      "source": [
        "import re\n",
        "import itertools\n",
        "\n",
        "class Tokenizer():\n",
        "  def __init__(self):\n",
        "    self.word_dict = {'oov': 0}\n",
        "    self.fit_checker = False\n",
        "  \n",
        "  # 텍스트 전처리\n",
        "  def preprocessing(self, sequences):\n",
        "    preprocessed_sequences = list()\n",
        "    for sequence in sequences:\n",
        "      lowered_sequence = sequence.lower()  # 소문자로 변환\n",
        "      sequence = re.sub('[^a-zA-Z0-9 ]', '', lowered_sequence) # 특수문자 제거\n",
        "      splited_sequence = sequence.split(' ') # white space 단위 자르기\n",
        "      preprocessed_sequences.append(splited_sequence)\n",
        "    return preprocessed_sequences\n",
        "  \n",
        "  # 어휘 사전 구축\n",
        "  def fit(self, sequences):\n",
        "    self.fit_checker = False\n",
        "    tokenized_sequences = self.preprocessing(sequences)\n",
        "    words_list= list()\n",
        "\n",
        "    # 어휘사전 생성\n",
        "    words_list = list(itertools.chain.from_iterable(tokenized_sequences))\n",
        "    words_set = sorted(list(set(words_list)))\n",
        "    for idx in range(len(words_set)):\n",
        "      word = words_set[idx]\n",
        "      self.word_dict[word] = idx+1\n",
        "\n",
        "    self.fit_checker = True\n",
        "  \n",
        "  # 어휘 사전을 활용하여 토큰화\n",
        "  def transform(self, sequences):\n",
        "    tokens = self.preprocessing(sequences)\n",
        "    transformed_sentences = list()\n",
        "\n",
        "    if self.fit_checker:\n",
        "      for token in tokens:\n",
        "        transformed_sentence = list()\n",
        "        for idx in range(len(token)):\n",
        "          word = token[idx]\n",
        "          # OOV 체크\n",
        "          if word in self.word_dict:\n",
        "            transformed_sentence.append(self.word_dict[word])\n",
        "          else:\n",
        "            transformed_sentence.append(self.word_dict['oov'])\n",
        "        transformed_sentences.append( transformed_sentence )\n",
        "      return transformed_sentences\n",
        "    else:\n",
        "      raise Exception(\"Tokenizer instance is not fitted yet.\")\n",
        "      \n",
        "  def fit_transform(self, sequences):\n",
        "    self.fit(sequences)\n",
        "    result = self.transform(sequences)\n",
        "    return result"
      ]
    },
    {
      "cell_type": "code",
      "source": [
        "tokenizer=Tokenizer()\n",
        "sentences=['I go to school.',\n",
        "           'I LIKE pizza!']\n",
        "\n",
        "print(tokenizer.fit_transform(sentences))"
      ],
      "metadata": {
        "colab": {
          "base_uri": "https://localhost:8080/"
        },
        "id": "fDOiI5Dkup-s",
        "outputId": "bbfedc30-be17-4bad-ad1a-023a06e9cc4a"
      },
      "execution_count": null,
      "outputs": [
        {
          "output_type": "stream",
          "name": "stdout",
          "text": [
            "[[2, 1, 6, 5], [2, 3, 4]]\n"
          ]
        }
      ]
    },
    {
      "cell_type": "markdown",
      "source": [
        "### 2.TfidfVectorizer 생성하기"
      ],
      "metadata": {
        "id": "oW3XJvsAzPeG"
      }
    },
    {
      "cell_type": "code",
      "source": [
        "from math import log\n",
        "\n",
        "class TfidfVectorizer:\n",
        "  def __init__(self, tokenizer):\n",
        "    self.tokenizer = tokenizer\n",
        "    self.fit_checker = False\n",
        "    self.tfidf_matrix = list()\n",
        "    self.idf_matrix = list()\n",
        "  \n",
        "  def fit(self, sequences):\n",
        "    tokenized = self.tokenizer.fit_transform(sequences)\n",
        "    N = len(sequences)\n",
        "\n",
        "    # IDF Matrix 생성\n",
        "    for idx in self.tokenizer.word_dict.values():\n",
        "      df = 0\n",
        "      for tokenized_sequence in tokenized:\n",
        "        if idx in tokenized_sequence:\n",
        "          df += 1\n",
        "      idf = log(N/(df+1))\n",
        "      self.idf_matrix.append(idf)\n",
        "    self.fit_checker = True\n",
        "    \n",
        "\n",
        "  def transform(self, sequences):\n",
        "    if self.fit_checker:\n",
        "      tokenized = self.tokenizer.transform(sequences)\n",
        "      # TF-IDF Matrix 생성\n",
        "      for tokenized_sequence in tokenized :\n",
        "        tfidf_sequence = list()\n",
        "        for idx in self.tokenizer.word_dict.values():\n",
        "          tf = tokenized_sequence.count(idx)\n",
        "          idf = self.idf_matrix[idx]\n",
        "          tfidf = tf*idf\n",
        "          tfidf_sequence.append(tfidf)\n",
        "        self.tfidf_matrix.append(tfidf_sequence)\n",
        "      return self.tfidf_matrix\n",
        "    else:\n",
        "      raise Exception(\"TfidfVectorizer instance is not fitted yet.\")\n",
        "\n",
        "  \n",
        "  def fit_transform(self, sequences):\n",
        "    self.fit(sequences)\n",
        "    return self.transform(sequences)"
      ],
      "metadata": {
        "id": "hQNrp2fzzWQK"
      },
      "execution_count": null,
      "outputs": []
    },
    {
      "cell_type": "code",
      "source": [
        "tokenizer=Tokenizer()\n",
        "tfidf_tokenizer = TfidfVectorizer(tokenizer)\n",
        "test_sentences = ['I like to PARTY',\n",
        "                  'Miss You',\n",
        "                  'I Love you baby!'] \n",
        "print(tfidf_tokenizer.fit_transform(test_sentences))"
      ],
      "metadata": {
        "id": "4r61MW25zWiR",
        "colab": {
          "base_uri": "https://localhost:8080/"
        },
        "outputId": "31aceef5-58ad-49f2-9405-0404f620452f"
      },
      "execution_count": null,
      "outputs": [
        {
          "output_type": "stream",
          "name": "stdout",
          "text": [
            "[[0.0, 0.0, 0.0, 0.4054651081081644, 0.0, 0.0, 0.4054651081081644, 0.4054651081081644, 0.0], [0.0, 0.0, 0.0, 0.0, 0.0, 0.4054651081081644, 0.0, 0.0, 0.0], [0.0, 0.4054651081081644, 0.0, 0.0, 0.4054651081081644, 0.0, 0.0, 0.0, 0.0]]\n"
          ]
        }
      ]
    }
  ]
}