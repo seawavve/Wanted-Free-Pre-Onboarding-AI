{
  "nbformat": 4,
  "nbformat_minor": 0,
  "metadata": {
    "colab": {
      "name": "Untitled88.ipynb",
      "provenance": [],
      "authorship_tag": "ABX9TyMch7hbYOHr1czGjqSUbwlW",
      "include_colab_link": true
    },
    "kernelspec": {
      "name": "python3",
      "display_name": "Python 3"
    },
    "language_info": {
      "name": "python"
    }
  },
  "cells": [
    {
      "cell_type": "markdown",
      "metadata": {
        "id": "view-in-github",
        "colab_type": "text"
      },
      "source": [
        "<a href=\"https://colab.research.google.com/github/seawavve/Wanted-Pre-Onboarding-AIML/blob/main/tmp3.ipynb\" target=\"_parent\"><img src=\"https://colab.research.google.com/assets/colab-badge.svg\" alt=\"Open In Colab\"/></a>"
      ]
    },
    {
      "cell_type": "markdown",
      "source": [
        "###Install"
      ],
      "metadata": {
        "id": "rjgp4U_aTnab"
      }
    },
    {
      "cell_type": "code",
      "execution_count": 35,
      "metadata": {
        "colab": {
          "base_uri": "https://localhost:8080/"
        },
        "id": "wowna4IoC9qQ",
        "outputId": "e96edd24-9a67-4482-a4d3-7f9b9cf3234c"
      },
      "outputs": [
        {
          "output_type": "stream",
          "name": "stdout",
          "text": [
            "Requirement already satisfied: transformers in /usr/local/lib/python3.7/dist-packages (4.16.2)\n",
            "Requirement already satisfied: requests in /usr/local/lib/python3.7/dist-packages (from transformers) (2.23.0)\n",
            "Requirement already satisfied: regex!=2019.12.17 in /usr/local/lib/python3.7/dist-packages (from transformers) (2019.12.20)\n",
            "Requirement already satisfied: sacremoses in /usr/local/lib/python3.7/dist-packages (from transformers) (0.0.47)\n",
            "Requirement already satisfied: tqdm>=4.27 in /usr/local/lib/python3.7/dist-packages (from transformers) (4.62.3)\n",
            "Requirement already satisfied: pyyaml>=5.1 in /usr/local/lib/python3.7/dist-packages (from transformers) (6.0)\n",
            "Requirement already satisfied: tokenizers!=0.11.3,>=0.10.1 in /usr/local/lib/python3.7/dist-packages (from transformers) (0.11.5)\n",
            "Requirement already satisfied: packaging>=20.0 in /usr/local/lib/python3.7/dist-packages (from transformers) (21.3)\n",
            "Requirement already satisfied: filelock in /usr/local/lib/python3.7/dist-packages (from transformers) (3.4.2)\n",
            "Requirement already satisfied: importlib-metadata in /usr/local/lib/python3.7/dist-packages (from transformers) (4.11.0)\n",
            "Requirement already satisfied: huggingface-hub<1.0,>=0.1.0 in /usr/local/lib/python3.7/dist-packages (from transformers) (0.4.0)\n",
            "Requirement already satisfied: numpy>=1.17 in /usr/local/lib/python3.7/dist-packages (from transformers) (1.21.5)\n",
            "Requirement already satisfied: typing-extensions>=3.7.4.3 in /usr/local/lib/python3.7/dist-packages (from huggingface-hub<1.0,>=0.1.0->transformers) (3.10.0.2)\n",
            "Requirement already satisfied: pyparsing!=3.0.5,>=2.0.2 in /usr/local/lib/python3.7/dist-packages (from packaging>=20.0->transformers) (3.0.7)\n",
            "Requirement already satisfied: zipp>=0.5 in /usr/local/lib/python3.7/dist-packages (from importlib-metadata->transformers) (3.7.0)\n",
            "Requirement already satisfied: idna<3,>=2.5 in /usr/local/lib/python3.7/dist-packages (from requests->transformers) (2.10)\n",
            "Requirement already satisfied: chardet<4,>=3.0.2 in /usr/local/lib/python3.7/dist-packages (from requests->transformers) (3.0.4)\n",
            "Requirement already satisfied: certifi>=2017.4.17 in /usr/local/lib/python3.7/dist-packages (from requests->transformers) (2021.10.8)\n",
            "Requirement already satisfied: urllib3!=1.25.0,!=1.25.1,<1.26,>=1.21.1 in /usr/local/lib/python3.7/dist-packages (from requests->transformers) (1.24.3)\n",
            "Requirement already satisfied: six in /usr/local/lib/python3.7/dist-packages (from sacremoses->transformers) (1.15.0)\n",
            "Requirement already satisfied: click in /usr/local/lib/python3.7/dist-packages (from sacremoses->transformers) (7.1.2)\n",
            "Requirement already satisfied: joblib in /usr/local/lib/python3.7/dist-packages (from sacremoses->transformers) (1.1.0)\n"
          ]
        }
      ],
      "source": [
        "! pip install transformers"
      ]
    },
    {
      "cell_type": "code",
      "source": [
        "from google.colab import drive\n",
        "drive.mount('/content/drive')"
      ],
      "metadata": {
        "colab": {
          "base_uri": "https://localhost:8080/"
        },
        "id": "P_YpAaVzDAOC",
        "outputId": "e0828842-a8af-4738-ca17-f75a103d3c0f"
      },
      "execution_count": 36,
      "outputs": [
        {
          "output_type": "stream",
          "name": "stdout",
          "text": [
            "Drive already mounted at /content/drive; to attempt to forcibly remount, call drive.mount(\"/content/drive\", force_remount=True).\n"
          ]
        }
      ]
    },
    {
      "cell_type": "markdown",
      "source": [
        "### Data"
      ],
      "metadata": {
        "id": "q9rX31QCpnd7"
      }
    },
    {
      "cell_type": "code",
      "source": [
        "import json\n",
        "with open('drive/MyDrive/onboarding/jd_7632.json','r') as file:\n",
        "  data=json.load(file)"
      ],
      "metadata": {
        "id": "hpO5MXGqGq9_"
      },
      "execution_count": 37,
      "outputs": []
    },
    {
      "cell_type": "code",
      "source": [
        "for wd in data[:10]:\n",
        "  print(wd)"
      ],
      "metadata": {
        "colab": {
          "base_uri": "https://localhost:8080/"
        },
        "id": "N-lwrbXdGq7P",
        "outputId": "b363af2a-161b-44ab-c1d4-ba647ca9167d"
      },
      "execution_count": 38,
      "outputs": [
        {
          "output_type": "stream",
          "name": "stdout",
          "text": [
            "{'wd_id': 61852, 'position': '고객 경험(CX) 전략 매니저 (신입/인턴)', 'main_tasks': '• 24시간 365일 운영되는 로켓펀치와 집무실 고객 경험 관리\\n• 고객 경험 사이클을 모니터링 및 개선하기 위한 전략 수립 및 운영 Support\\n• 11 star experience를 달성하기 위한 고객 경험 설계 Support\\n(참고: 11 star experience https://www.disquiet.tech/post/11-star-framework-01 )', 'requirements': '• 소셜 네트워크 또는 플랫폼 커뮤니티 등 온라인 플랫폼 운영에 관심이 있으신 분\\n• 온라인 결제 시스템 운영에 관심이 있으신 분\\n• Google Spreadsheet 등을 활용하여 숫자와 데이터를 다루는데 익숙하신 분\\n• 고객의 니즈와 이슈를 빠르게 파악하고 해결책을 찾아낼 수 있는 능력\\n• 시스템 운영, 관리, 개선을 주도적으로 할 수 있는 분\\n• 구글 워크스페이스, 슬랙 등 업무 및 협업 도구 활용 능력', 'preferred_points': '• 회사와 함께 성장하고자 하는 의지를 가진 분\\n• 다양한 이슈에 빠르게 대응하고 해결하실 수 있는 분', 'category': '경영, 비즈니스'}\n",
            "{'wd_id': 61851, 'position': '집무실 IoT 개발자', 'main_tasks': '• 집무실 인프라 구축: (IoT)전원 관리 설계 및 구성, QR 코드 기반 출입 제어 설계 및 구성, 내부 네트워크 설계/구축/관리, IP Camera를 통한 영상 분석 등 집무실에서 사용하는 모든 네트워크 및 IoT 인프라 구축\\n• 자동화 관리: 구축된 인프라를 바탕으로한 집무실 공간 자동화 설계 및 구성\\n\\n• 현재 집무실에서는 이미 QR코드를 통해 출입을 제어하고 네트워크 및 전원 등을 리모트로 관리하고 있습니다. 이런 집무실의 인프라들을 구축하고 관리하게 됩니다.\\n• 인프라중 직접 제어가 필요한 경우 개발을 진행합니다.\\n• 위의 내용들을 바탕으로 공간 운영 자동화/무인화를 구축합니다.', 'requirements': '•  IoT를 통한 공간 관리 및 자동화에 대한 높은 관심이 있어야 합니다.\\n• Linux 시스템에 대한 이해가 필요합니다.\\n• Python, Javascript 등 코드를 작성하고 기본적인 하드웨어 제어를 할 수 있어야 합니다.\\n• Git을 사용하고 이를 통한 협업을 충분히 이해해야 합니다.\\n• 분산(원격) 근무시 소통에 문제가 없어야 합니다.\\n• 로켓펀치 개인 프로필을 충실히 기입한 후 지원하시기 바랍니다.', 'preferred_points': '• 적극적으로 서비스 개선에 필요한 업무를 찾고 개선할수 있는 인성과 역량\\n•  Home Assistant, SmartThings 등 IoT 허브 개발 경험\\n• Raspberry PI, Arduino, ESP 등 Single Board Computer에 대한 이해 및 개발 경험\\n• 공간 자동화 개발에 필요한 이해 및 구축 경험', 'category': '개발'}\n",
            "{'wd_id': 61850, 'position': '공간(인테리어) 디자이너', 'main_tasks': '- 공간 아이덴티티 : 숙박시설, 공용공간, 객실 등 공간의 아이덴티티를 기획하고 구체적인 가이드라인을 제작.\\n- 프린팅 디자인 : 공간 가이드라인에 맞는 다양한 공간배치형 프린트물을 기획 및 디자인\\n- 이미지 편집 : 다양한 숙소, 객실 사진의 매력이 돋보이는 이미지 최적화 작업', 'requirements': '• 여행, 숙박업, 접객업, 프랜차이즈업에 대한 경험과 이해\\n• CAD, Sketchup, Photoshop, Figma 등 디자인 툴에 능숙한 분\\n• 발표, 설득, 문서정리 등 다양한 커뮤니케이션에 대한 숙련도\\n• 성실함과 완성도에 대한 고집이 강하신 분\\n\\n**포트폴리오 제출 필수*', 'preferred_points': '•  숙박 운영 및 관리를 경험하신 분\\n•  시니어 디자이너와 팀을 이뤄 프로젝트를 완료한 경험\\n•  호텔 인테리어 등 숙박업 관련 디자인 경험이 많은 분\\n•  공간 관련 대형 프로젝트 수행한 경력이 있는 분\\n•  브랜드 아이덴티티, 고객경험 등에 관심과 호기심이 많은 분', 'category': '디자인'}\n",
            "{'wd_id': 61849, 'position': 'Python 웹 어플리케이션 개발자', 'main_tasks': '• 로켓펀치 웹 서비스 개발', 'requirements': '• 웹 개발 업무 2년 이상이 있어야 합니다.\\n• Python 및 Django/Flask 등 Python기반 웹 프레임워크를 능숙하게 사용해야 합니다.\\n• AWS나 클라우드 서비스를 운영해본 경험이 있어야 합니다.\\n• Git을 사용하고 이를 통한 협업을 충분히 이해해야 합니다.\\n• 원격 근무를 통한 소통에 문제가 없어야 합니다.\\n• 개인 프로필을 충실히 기입한 후 지원하시기 바랍니다.', 'preferred_points': '• 적극적으로 서비스 개선에 필요한 업무를 찾고 개선할수 있는 인성과 역량\\n• SEO 및 웹 접근성에 대한 이해\\n• Ansible, Chef 등 설정 관리 도구에 대한 이해\\n• Webpack 등 웹 프론트엔드 기술에 대한 이해\\n• 소셜 미디어 서비스 개발에 필요한 데이터 구조 이해 및 성능 개선 경험\\n• 원격근무를 훌륭하게 수행할 수 있는 주도적 성향\\n• 업무 생산성 및 서비스 퍼포먼스를 높일 수 있는 개발 언어 및 도구에 대한 관심과 적응력', 'category': '개발'}\n",
            "{'wd_id': 61848, 'position': '여행 숙박 콘텐츠 마케터', 'main_tasks': '• 투숙고객 대상 브랜딩-프로모션-예약-투숙-후기를 아우르는 일관된 마케팅 캠페인 진행\\n\\n• 고객 관점에서 설득력 있는 콘텐츠 기획, 제작, 관리\\n\\n• 블로그, 뉴스레터, PR, 인스타그램 등 콘텐츠의 효과적인 전달을 위한 Media mix 관리\\n\\n• 상위 검색노출을 위한 키워드 및 트렌드 리서치', 'requirements': '•  2~5년간 미디어, PR, 광고, 콘텐츠 기획/제작을 경험하신 분\\n•  복잡한 내용을 이해하기 쉽게 풀어내는 Storytelling 필수\\n• 매력 끄는 한 줄 문구, Copy writing에 대한 감각 소유\\n•  성실함과 완성도에 대한 고집 소유\\n\\n  **포트폴리오 제출 필수*', 'preferred_points': '• 숙박운영, 스타트업 업무문화 경험자\\n•  유튜브, 브런치 등 뉴미디어를 다양하게 소비하고 깊게 분석하길 즐기는 분\\n•  하나의 콘텐츠로 30분 이상 즐겁게 혹은 진지하게 대화가 가능한 분\\n•  시장의 변화, 마케팅 트렌드에 항상 안테나를 세우며 클럽하우스나 메타버스, 혹은 뜨는 여행지에 대해서 자신만의 의견이 있는 분\\n•  피그마, 포토샵 등 디자인툴에 익숙하신 분', 'category': '마케팅, 광고'}\n",
            "{'wd_id': 61847, 'position': '컨텐츠 디자이너 (LEAD, 5년 이상)', 'main_tasks': '- 가치공간 백화점 월별 정기 행사 컨셉 기획 및 디자인\\n- \"가치공간 X 브랜드\" 콜라보레이션 행사를 위한 공간에 맞는 비쥬얼 기획 및 디렉팅\\n- 인스타그램, 네이버 블로그, 자체 어플리케이션(V-Share) 등 외부 소통 채널 컨텐츠 디자인\\n\\n# 작업 레퍼런스\\n- 사뿐(SAPPUN) X 가치공간 팝업스토어 - http://www.ksilbo.co.kr/news/articleView.html?idxno=793054\\n- 현대백화점 대구점 X 가치공간 \"러브 딜리버리\" - https://www.instagram.com/p/CL8HgYlh8Qn/\\n- 베디베로(VEDIVERO) X 가치공간 - https://www.instagram.com/p/COZdiWiBZjD/', 'requirements': '- 관련 업계의 디자이너 혹은 아트 디렉터로서 5년 이상의 경력\\n- 미디어 매체별, 공간별에 맞게 디자인 컨셉 및 전략을 도출하고 이를 고객들에게 높은 완성도의 디자인으로 풀어낼 수 있는 분\\n- 디자이너와 에디터로 구성된 가치공간 컨텐츠 기획팀의 젊고 발랄한 팀원분들을 유쾌하면서도 카리스마있게 이끌어 나가주실 분\\n- 수직적인 업무 하달이나 마이크로 매니지먼트는 지양합니다. 디자인팀 리더로서 주도적으로 프로젝트를 기획하고 자율적인 분위기에서 팀원들 각자의 자존심을 걸고 책임을 다해 완성도 높은 결과물을 만들어 낼 수 있는 분\\n- 마지막으로 패션 및 뷰티, 라이프스타일 트렌드에 민감하고 관련 e-commerce 시장에 관심이 많으신 분', 'preferred_points': '- 3D 프로그램(SketchUp, Rino, Max 등) 능숙자\\n- 영상 편집 프로그램(Premiere Pro, After Effects 등) 능숙자\\n- 스타트업을 직접 운영했거나 혹은 근무하며 팀을 리딩해보신 분', 'category': '디자인'}\n",
            "{'wd_id': 61846, 'position': '영상 디자이너(자율근무)', 'main_tasks': '• 영상 자막, 이미지 소스 디자인 \\n• 모션그래픽 활용 브랜드 아이덴티티 부여\\n• 영상 컨텐츠 후반 비주얼 작업 업무 \\n\\n*작업된 편집영상에 컨셉에 맞는 이미지 소스 및 자막을 입히는 영상 비주얼 디자인 업무 (후반작업) 만 진행하는 포지션 입니다 (컷편집, 영상편집 업무 없음)\\n\\n\\n[자사 유튜브 채널]\\n-  https://www.youtube.com/meemeestyle\\n\\n[업무 레퍼런스(참고용)] \\n- https://www.youtube.com/watch?v=_X-UVh4HJwU\\n- https://www.youtube.com/watch?v=xrxlVyZ9n9A', 'requirements': '• 관련 경력 최소 3년 이상\\n• Premiere Pro & After Effect 등 그래픽, 영상툴 숙련자', 'preferred_points': '• 패션 업계 관련 경력자 \\n• 아이데이션 역량 보유자\\n• 관련 학과 전공자 \\n• 유연한 커뮤니케이션 능력 보유자', 'category': '디자인'}\n",
            "{'wd_id': 61845, 'position': '프론트엔드 개발자', 'main_tasks': '• 로켓펀치 웹 서비스 개발', 'requirements': '• 프론트엔드 개발 경험이 2년 이상 있어야 합니다.\\n• JavasScript(ES6 이상), CSS, HTML 에 능숙해야합니다.\\n• Typescript, React, Webpack, Babel, Next.js 등에 대한 실무 업무 경험이 있어야 합니다.\\n• Git을 사용하고 이를 통한 협업을 충분히 이해해야 합니다.\\n• 원격 근무를 통한 소통에 문제가 없어야 합니다.\\n• 개인 프로필을 충실히 기입한 후 지원하시기 바랍니다.', 'preferred_points': '• 적극적으로 서비스 개선에 필요한 업무를 찾고 개선할수 있는 인성과 역량\\n• SEO 및 웹 접근성에 대한 이해\\n• 프론트엔드 성능 최적화 경험이나 여러 환경의 크로스브라우징 경험\\n• 소셜 미디어 서비스 개발에 필요한 데이터 구조 이해 및 성능 개선 경험\\n• 원격근무를 훌륭하게 수행할 수 있는 주도적 성향\\n• 업무 생산성 및 서비스 퍼포먼스를 높일 수 있는 개발 언어 및 도구에 대한 관심과 적응력', 'category': '개발'}\n",
            "{'wd_id': 61844, 'position': '마케팅 인턴직', 'main_tasks': '• 고객 커뮤니케이션 / SNS\\n• 포털 광고 관리 및 집행\\n• 기획 / 제안서 작성\\n• 콘텐츠 에디팅', 'requirements': '• 학력 : 학력무관\\n• 경력 : 신입', 'preferred_points': '• 유관업무 경력자\\n• 영어 / 일본어 가능자\\n• 광고집행 유경험자\\n• IT업계 관심이 많으신 분\\n• 포토샵/일러스트/프리미어 등 어도비 툴 사용가능자\\n• 평소 이륜차(자전거,킥보드 등)를 즐겨타시는 분', 'category': '마케팅, 광고'}\n",
            "{'wd_id': 61839, 'position': '웹 서비스 기획', 'main_tasks': '• DBpia / KRpia 서비스 운영 및 고도화\\n : 사용자 경험 개선을 위한 전략 수립 및 성과 분석\\n : 이용자 / 데이터 분석을 통한 서비스 개선사항 도출 및 고도화 \\n : 주요 서비스의 UX 설계 및 서비스 기획\\n• DBpia 플랫폼 화를 위한 서비스 기획', 'requirements': '• 유관경력 3년 이상\\n• 웹 서비스 기획자로서 서비스를 성장시켜 본 경험이 있는 분\\n• 추천 및 검색 서비스 고도화 경험\\n• 개인화 서비스 고도화 경험\\n• 데이터 중심의 웹서비스 기능 기획 경험\\n• 개발자, 마케터, 디자이너 등 여러 부서와의 협업 및 커뮤니케이션이 뛰어난 자\\n※ 포트폴리오 첨부 필수', 'preferred_points': '• 이커머스, 플랫폼 비즈니스에서 웹서비스 기획 경험자 \\n• 웹 서비스의 사용자 지표 성장을 만들어본 경험\\n• 데이터 분석을 위한 툴 활용(GA) , 엑셀 활용 능력 우수한 분', 'category': '경영, 비즈니스'}\n"
          ]
        }
      ]
    },
    {
      "cell_type": "code",
      "source": [
        "# 데이터 총 개수\n",
        "len(data)"
      ],
      "metadata": {
        "colab": {
          "base_uri": "https://localhost:8080/"
        },
        "id": "_N9qlvsbWAoI",
        "outputId": "0e296ea3-fad5-4724-899c-752d08c9816b"
      },
      "execution_count": 39,
      "outputs": [
        {
          "output_type": "execute_result",
          "data": {
            "text/plain": [
              "7632"
            ]
          },
          "metadata": {},
          "execution_count": 39
        }
      ]
    },
    {
      "cell_type": "code",
      "source": [
        "# 카테고리 총 4개 \n",
        "list_category=[]\n",
        "for wd in data:\n",
        "  list_category.append(wd['category'])\n",
        "set_category=set(list_category)\n",
        "print(set_category)"
      ],
      "metadata": {
        "colab": {
          "base_uri": "https://localhost:8080/"
        },
        "id": "kRUIRuqVVLHY",
        "outputId": "cdb78755-c224-48af-b4e3-e482b64f199a"
      },
      "execution_count": 40,
      "outputs": [
        {
          "output_type": "stream",
          "name": "stdout",
          "text": [
            "{'경영, 비즈니스', '개발', '디자인', '마케팅, 광고'}\n"
          ]
        }
      ]
    },
    {
      "cell_type": "code",
      "source": [
        "from pandas import json_normalize\n",
        "df = json_normalize(data)\n",
        "df.replace({'category': {'경영, 비즈니스':0,\n",
        "            '개발':1,\n",
        "            '디자인':2,\n",
        "            '마케팅, 광고':3}\n",
        "}, inplace=True)\n",
        "df.head()"
      ],
      "metadata": {
        "colab": {
          "base_uri": "https://localhost:8080/",
          "height": 337
        },
        "id": "VV5e_4YqnWW0",
        "outputId": "098e3f24-10a5-401d-e7d7-2e5f3001cf83"
      },
      "execution_count": 60,
      "outputs": [
        {
          "output_type": "execute_result",
          "data": {
            "text/html": [
              "\n",
              "  <div id=\"df-e2c53ace-2e27-4e91-97e1-a704c40412b1\">\n",
              "    <div class=\"colab-df-container\">\n",
              "      <div>\n",
              "<style scoped>\n",
              "    .dataframe tbody tr th:only-of-type {\n",
              "        vertical-align: middle;\n",
              "    }\n",
              "\n",
              "    .dataframe tbody tr th {\n",
              "        vertical-align: top;\n",
              "    }\n",
              "\n",
              "    .dataframe thead th {\n",
              "        text-align: right;\n",
              "    }\n",
              "</style>\n",
              "<table border=\"1\" class=\"dataframe\">\n",
              "  <thead>\n",
              "    <tr style=\"text-align: right;\">\n",
              "      <th></th>\n",
              "      <th>wd_id</th>\n",
              "      <th>position</th>\n",
              "      <th>main_tasks</th>\n",
              "      <th>requirements</th>\n",
              "      <th>preferred_points</th>\n",
              "      <th>category</th>\n",
              "    </tr>\n",
              "  </thead>\n",
              "  <tbody>\n",
              "    <tr>\n",
              "      <th>0</th>\n",
              "      <td>61852</td>\n",
              "      <td>고객 경험(CX) 전략 매니저 (신입/인턴)</td>\n",
              "      <td>• 24시간 365일 운영되는 로켓펀치와 집무실 고객 경험 관리\\n• 고객 경험 사...</td>\n",
              "      <td>• 소셜 네트워크 또는 플랫폼 커뮤니티 등 온라인 플랫폼 운영에 관심이 있으신 분\\...</td>\n",
              "      <td>• 회사와 함께 성장하고자 하는 의지를 가진 분\\n• 다양한 이슈에 빠르게 대응하고...</td>\n",
              "      <td>0</td>\n",
              "    </tr>\n",
              "    <tr>\n",
              "      <th>1</th>\n",
              "      <td>61851</td>\n",
              "      <td>집무실 IoT 개발자</td>\n",
              "      <td>• 집무실 인프라 구축: (IoT)전원 관리 설계 및 구성, QR 코드 기반 출입 ...</td>\n",
              "      <td>•  IoT를 통한 공간 관리 및 자동화에 대한 높은 관심이 있어야 합니다.\\n• ...</td>\n",
              "      <td>• 적극적으로 서비스 개선에 필요한 업무를 찾고 개선할수 있는 인성과 역량\\n•  ...</td>\n",
              "      <td>1</td>\n",
              "    </tr>\n",
              "    <tr>\n",
              "      <th>2</th>\n",
              "      <td>61850</td>\n",
              "      <td>공간(인테리어) 디자이너</td>\n",
              "      <td>- 공간 아이덴티티 : 숙박시설, 공용공간, 객실 등 공간의 아이덴티티를 기획하고 ...</td>\n",
              "      <td>• 여행, 숙박업, 접객업, 프랜차이즈업에 대한 경험과 이해\\n• CAD, Sket...</td>\n",
              "      <td>•  숙박 운영 및 관리를 경험하신 분\\n•  시니어 디자이너와 팀을 이뤄 프로젝트...</td>\n",
              "      <td>2</td>\n",
              "    </tr>\n",
              "    <tr>\n",
              "      <th>3</th>\n",
              "      <td>61849</td>\n",
              "      <td>Python 웹 어플리케이션 개발자</td>\n",
              "      <td>• 로켓펀치 웹 서비스 개발</td>\n",
              "      <td>• 웹 개발 업무 2년 이상이 있어야 합니다.\\n• Python 및 Django/F...</td>\n",
              "      <td>• 적극적으로 서비스 개선에 필요한 업무를 찾고 개선할수 있는 인성과 역량\\n• S...</td>\n",
              "      <td>1</td>\n",
              "    </tr>\n",
              "    <tr>\n",
              "      <th>4</th>\n",
              "      <td>61848</td>\n",
              "      <td>여행 숙박 콘텐츠 마케터</td>\n",
              "      <td>• 투숙고객 대상 브랜딩-프로모션-예약-투숙-후기를 아우르는 일관된 마케팅 캠페인 ...</td>\n",
              "      <td>•  2~5년간 미디어, PR, 광고, 콘텐츠 기획/제작을 경험하신 분\\n•  복잡...</td>\n",
              "      <td>• 숙박운영, 스타트업 업무문화 경험자\\n•  유튜브, 브런치 등 뉴미디어를 다양하...</td>\n",
              "      <td>3</td>\n",
              "    </tr>\n",
              "  </tbody>\n",
              "</table>\n",
              "</div>\n",
              "      <button class=\"colab-df-convert\" onclick=\"convertToInteractive('df-e2c53ace-2e27-4e91-97e1-a704c40412b1')\"\n",
              "              title=\"Convert this dataframe to an interactive table.\"\n",
              "              style=\"display:none;\">\n",
              "        \n",
              "  <svg xmlns=\"http://www.w3.org/2000/svg\" height=\"24px\"viewBox=\"0 0 24 24\"\n",
              "       width=\"24px\">\n",
              "    <path d=\"M0 0h24v24H0V0z\" fill=\"none\"/>\n",
              "    <path d=\"M18.56 5.44l.94 2.06.94-2.06 2.06-.94-2.06-.94-.94-2.06-.94 2.06-2.06.94zm-11 1L8.5 8.5l.94-2.06 2.06-.94-2.06-.94L8.5 2.5l-.94 2.06-2.06.94zm10 10l.94 2.06.94-2.06 2.06-.94-2.06-.94-.94-2.06-.94 2.06-2.06.94z\"/><path d=\"M17.41 7.96l-1.37-1.37c-.4-.4-.92-.59-1.43-.59-.52 0-1.04.2-1.43.59L10.3 9.45l-7.72 7.72c-.78.78-.78 2.05 0 2.83L4 21.41c.39.39.9.59 1.41.59.51 0 1.02-.2 1.41-.59l7.78-7.78 2.81-2.81c.8-.78.8-2.07 0-2.86zM5.41 20L4 18.59l7.72-7.72 1.47 1.35L5.41 20z\"/>\n",
              "  </svg>\n",
              "      </button>\n",
              "      \n",
              "  <style>\n",
              "    .colab-df-container {\n",
              "      display:flex;\n",
              "      flex-wrap:wrap;\n",
              "      gap: 12px;\n",
              "    }\n",
              "\n",
              "    .colab-df-convert {\n",
              "      background-color: #E8F0FE;\n",
              "      border: none;\n",
              "      border-radius: 50%;\n",
              "      cursor: pointer;\n",
              "      display: none;\n",
              "      fill: #1967D2;\n",
              "      height: 32px;\n",
              "      padding: 0 0 0 0;\n",
              "      width: 32px;\n",
              "    }\n",
              "\n",
              "    .colab-df-convert:hover {\n",
              "      background-color: #E2EBFA;\n",
              "      box-shadow: 0px 1px 2px rgba(60, 64, 67, 0.3), 0px 1px 3px 1px rgba(60, 64, 67, 0.15);\n",
              "      fill: #174EA6;\n",
              "    }\n",
              "\n",
              "    [theme=dark] .colab-df-convert {\n",
              "      background-color: #3B4455;\n",
              "      fill: #D2E3FC;\n",
              "    }\n",
              "\n",
              "    [theme=dark] .colab-df-convert:hover {\n",
              "      background-color: #434B5C;\n",
              "      box-shadow: 0px 1px 3px 1px rgba(0, 0, 0, 0.15);\n",
              "      filter: drop-shadow(0px 1px 2px rgba(0, 0, 0, 0.3));\n",
              "      fill: #FFFFFF;\n",
              "    }\n",
              "  </style>\n",
              "\n",
              "      <script>\n",
              "        const buttonEl =\n",
              "          document.querySelector('#df-e2c53ace-2e27-4e91-97e1-a704c40412b1 button.colab-df-convert');\n",
              "        buttonEl.style.display =\n",
              "          google.colab.kernel.accessAllowed ? 'block' : 'none';\n",
              "\n",
              "        async function convertToInteractive(key) {\n",
              "          const element = document.querySelector('#df-e2c53ace-2e27-4e91-97e1-a704c40412b1');\n",
              "          const dataTable =\n",
              "            await google.colab.kernel.invokeFunction('convertToInteractive',\n",
              "                                                     [key], {});\n",
              "          if (!dataTable) return;\n",
              "\n",
              "          const docLinkHtml = 'Like what you see? Visit the ' +\n",
              "            '<a target=\"_blank\" href=https://colab.research.google.com/notebooks/data_table.ipynb>data table notebook</a>'\n",
              "            + ' to learn more about interactive tables.';\n",
              "          element.innerHTML = '';\n",
              "          dataTable['output_type'] = 'display_data';\n",
              "          await google.colab.output.renderOutput(dataTable, element);\n",
              "          const docLink = document.createElement('div');\n",
              "          docLink.innerHTML = docLinkHtml;\n",
              "          element.appendChild(docLink);\n",
              "        }\n",
              "      </script>\n",
              "    </div>\n",
              "  </div>\n",
              "  "
            ],
            "text/plain": [
              "   wd_id  ... category\n",
              "0  61852  ...        0\n",
              "1  61851  ...        1\n",
              "2  61850  ...        2\n",
              "3  61849  ...        1\n",
              "4  61848  ...        3\n",
              "\n",
              "[5 rows x 6 columns]"
            ]
          },
          "metadata": {},
          "execution_count": 60
        }
      ]
    },
    {
      "cell_type": "code",
      "source": [
        "import matplotlib.pyplot as plt\n",
        "plt.style.use('fivethirtyeight')\n",
        "%matplotlib inline\n",
        "\n",
        "f,ax=plt.subplots(1,figsize=(18,12))\n",
        "df['category'].value_counts().plot.pie(autopct='%1.1f%%',ax=ax,shadow=True)"
      ],
      "metadata": {
        "colab": {
          "base_uri": "https://localhost:8080/",
          "height": 701
        },
        "id": "c44JF_-0m6JQ",
        "outputId": "55cd91b9-ff36-4b77-e65d-064d72142f73"
      },
      "execution_count": 57,
      "outputs": [
        {
          "output_type": "execute_result",
          "data": {
            "text/plain": [
              "<matplotlib.axes._subplots.AxesSubplot at 0x7f46f25855d0>"
            ]
          },
          "metadata": {},
          "execution_count": 57
        },
        {
          "output_type": "display_data",
          "data": {
            "image/png": "[encoded data removed]",
            "text/plain": [
              "<Figure size 1296x864 with 1 Axes>"
            ]
          },
          "metadata": {}
        }
      ]
    },
    {
      "cell_type": "markdown",
      "source": [
        "### Tokenizer"
      ],
      "metadata": {
        "id": "Gk98ba37TuBT"
      }
    },
    {
      "cell_type": "code",
      "source": [
        "from transformers import AutoTokenizer, AutoModelForSequenceClassification\n",
        "model_name=\"bert-base-multilingual-cased\"\n",
        "tokenizer = AutoTokenizer.from_pretrained(model_name)\n",
        "model = AutoModelForSequenceClassification.from_pretrained(model_name)"
      ],
      "metadata": {
        "colab": {
          "base_uri": "https://localhost:8080/"
        },
        "id": "ax6HNSnPGq4I",
        "outputId": "dcbcef3d-7e03-4dee-e8b3-05c12bb0fc24"
      },
      "execution_count": 41,
      "outputs": [
        {
          "output_type": "stream",
          "name": "stderr",
          "text": [
            "Some weights of the model checkpoint at bert-base-multilingual-cased were not used when initializing BertForSequenceClassification: ['cls.seq_relationship.weight', 'cls.predictions.transform.dense.bias', 'cls.predictions.bias', 'cls.predictions.transform.dense.weight', 'cls.predictions.decoder.weight', 'cls.predictions.transform.LayerNorm.weight', 'cls.predictions.transform.LayerNorm.bias', 'cls.seq_relationship.bias']\n",
            "- This IS expected if you are initializing BertForSequenceClassification from the checkpoint of a model trained on another task or with another architecture (e.g. initializing a BertForSequenceClassification model from a BertForPreTraining model).\n",
            "- This IS NOT expected if you are initializing BertForSequenceClassification from the checkpoint of a model that you expect to be exactly identical (initializing a BertForSequenceClassification model from a BertForSequenceClassification model).\n",
            "Some weights of BertForSequenceClassification were not initialized from the model checkpoint at bert-base-multilingual-cased and are newly initialized: ['classifier.bias', 'classifier.weight']\n",
            "You should probably TRAIN this model on a down-stream task to be able to use it for predictions and inference.\n"
          ]
        }
      ]
    },
    {
      "cell_type": "code",
      "source": [
        "print(df['main_tasks'][0])\n",
        "text = df['main_tasks'][0]\n",
        "tokenized_input_text = tokenizer(text, return_tensors='pt')\n",
        "for key, value in tokenized_input_text.items():\n",
        "  print(key,value)"
      ],
      "metadata": {
        "colab": {
          "base_uri": "https://localhost:8080/"
        },
        "id": "K1HusXdWGq1R",
        "outputId": "7c08cb83-952e-4808-9804-e43f53abe2bf"
      },
      "execution_count": 65,
      "outputs": [
        {
          "output_type": "stream",
          "name": "stdout",
          "text": [
            "• 24시간 365일 운영되는 로켓펀치와 집무실 고객 경험 관리\n",
            "• 고객 경험 사이클을 모니터링 및 개선하기 위한 전략 수립 및 운영 Support\n",
            "• 11 star experience를 달성하기 위한 고객 경험 설계 Support\n",
            "(참고: 11 star experience https://www.disquiet.tech/post/11-star-framework-01 )\n",
            "input_ids tensor([[   101,   1729,  10233, 100699,  25385,  18392,  91988,  24683,   9202,\n",
            "         119304, 119387,  18622,  12638,   9711,  32537,  31503,   8888, 118617,\n",
            "           8885,  86834,   8900,  12692,   1729,   8888, 118617,   8885,  86834,\n",
            "           9405,  10739, 119327,  10622,   9283,  25503,  21876,  80174,   9316,\n",
            "           8857,  18471,  22440,  28195,   9665, 118863,   9460,  35115,   9316,\n",
            "          91988,  39007,   1729,  10193,  16624,  20627,  11513,   9061,  17138,\n",
            "          22440,  28195,   8888, 118617,   8885,  86834,   9429,  21611,  39007,\n",
            "            113,   9735,  11664,    131,  10193,  16624,  20627,  14120,    131,\n",
            "            120,    120,  10494,    119,  27920,  39639,  10308,    119, 100986,\n",
            "            120,  11841,    120,  10193,    118,  16624,    118,  54387,    118,\n",
            "          10669,    114,    102]])\n",
            "token_type_ids tensor([[0, 0, 0, 0, 0, 0, 0, 0, 0, 0, 0, 0, 0, 0, 0, 0, 0, 0, 0, 0, 0, 0, 0, 0,\n",
            "         0, 0, 0, 0, 0, 0, 0, 0, 0, 0, 0, 0, 0, 0, 0, 0, 0, 0, 0, 0, 0, 0, 0, 0,\n",
            "         0, 0, 0, 0, 0, 0, 0, 0, 0, 0, 0, 0, 0, 0, 0, 0, 0, 0, 0, 0, 0, 0, 0, 0,\n",
            "         0, 0, 0, 0, 0, 0, 0, 0, 0, 0, 0, 0, 0, 0, 0, 0, 0, 0, 0, 0, 0]])\n",
            "attention_mask tensor([[1, 1, 1, 1, 1, 1, 1, 1, 1, 1, 1, 1, 1, 1, 1, 1, 1, 1, 1, 1, 1, 1, 1, 1,\n",
            "         1, 1, 1, 1, 1, 1, 1, 1, 1, 1, 1, 1, 1, 1, 1, 1, 1, 1, 1, 1, 1, 1, 1, 1,\n",
            "         1, 1, 1, 1, 1, 1, 1, 1, 1, 1, 1, 1, 1, 1, 1, 1, 1, 1, 1, 1, 1, 1, 1, 1,\n",
            "         1, 1, 1, 1, 1, 1, 1, 1, 1, 1, 1, 1, 1, 1, 1, 1, 1, 1, 1, 1, 1]])\n"
          ]
        }
      ]
    },
    {
      "cell_type": "code",
      "source": [
        "tokenized_text = tokenizer.tokenize(text)\n",
        "print(tokenized_text)\n",
        "input_ids = tokenizer.encode(text)\n",
        "print(input_ids)\n",
        "decoded_ids = tokenizer.decode(input_ids)\n",
        "print(decoded_ids)"
      ],
      "metadata": {
        "colab": {
          "base_uri": "https://localhost:8080/"
        },
        "id": "glj0VLPcGqyy",
        "outputId": "f7ddd86a-277f-4b94-9d8e-f0285ea85afd"
      },
      "execution_count": 43,
      "outputs": [
        {
          "output_type": "stream",
          "name": "stdout",
          "text": [
            "['24', '##시간', '365', '##일', '운영', '##되는', '로', '##켓', '##펀', '##치', '##와', '집', '##무', '##실', '고', '##객', '경', '##험', '관', '##리']\n",
            "[101, 10233, 100699, 25385, 18392, 91988, 24683, 9202, 119304, 119387, 18622, 12638, 9711, 32537, 31503, 8888, 118617, 8885, 86834, 8900, 12692, 102]\n",
            "[CLS] 24시간 365일 운영되는 로켓펀치와 집무실 고객 경험 관리 [SEP]\n"
          ]
        }
      ]
    },
    {
      "cell_type": "markdown",
      "source": [
        "### Model"
      ],
      "metadata": {
        "id": "ueCgE4dLU6pL"
      }
    },
    {
      "cell_type": "code",
      "source": [
        "inputs =  tokenizer('안녕 월드 내가 왔어',return_tensors='pt')\n",
        "outputs = model(**inputs)"
      ],
      "metadata": {
        "id": "6sn0pwkLGqvs"
      },
      "execution_count": 45,
      "outputs": []
    },
    {
      "cell_type": "code",
      "source": [
        ""
      ],
      "metadata": {
        "id": "pJmkpAmzGqsu"
      },
      "execution_count": null,
      "outputs": []
    }
  ]
}