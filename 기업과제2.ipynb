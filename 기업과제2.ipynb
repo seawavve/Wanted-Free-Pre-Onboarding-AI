{
  "nbformat": 4,
  "nbformat_minor": 0,
  "metadata": {
    "colab": {
      "name": "기업과제2.ipynb",
      "provenance": [],
      "authorship_tag": "ABX9TyNYlXUOXcUll4dcUDWtzSv6",
      "include_colab_link": true
    },
    "kernelspec": {
      "name": "python3",
      "display_name": "Python 3"
    },
    "language_info": {
      "name": "python"
    }
  },
  "cells": [
    {
      "cell_type": "markdown",
      "metadata": {
        "id": "view-in-github",
        "colab_type": "text"
      },
      "source": [
        "<a href=\"https://colab.research.google.com/github/seawavve/Wanted-Pre-Onboarding-AIML/blob/main/%EA%B8%B0%EC%97%85%EA%B3%BC%EC%A0%9C2.ipynb\" target=\"_parent\"><img src=\"https://colab.research.google.com/assets/colab-badge.svg\" alt=\"Open In Colab\"/></a>"
      ]
    },
    {
      "cell_type": "markdown",
      "source": [
        "Q3. Q1, Q2의 답을 자유양식으로 작성 후 PDF로 변환하여 첨부.  \n",
        "(영어로 작성 선호하지만 선택 사항임).  "
      ],
      "metadata": {
        "id": "ZvKTRj2_Z4YL"
      }
    },
    {
      "cell_type": "markdown",
      "source": [
        "### Setup"
      ],
      "metadata": {
        "id": "RQS7Oo2RfVMz"
      }
    },
    {
      "cell_type": "code",
      "source": [
        "from google.colab import drive\n",
        "drive.mount('/content/drive')"
      ],
      "metadata": {
        "colab": {
          "base_uri": "https://localhost:8080/"
        },
        "id": "O1u1xJnCeqqQ",
        "outputId": "20b5240f-99f5-41c7-bde2-e6b6e50f9eea"
      },
      "execution_count": 2,
      "outputs": [
        {
          "output_type": "stream",
          "name": "stdout",
          "text": [
            "Mounted at /content/drive\n"
          ]
        }
      ]
    },
    {
      "cell_type": "code",
      "source": [
        "import pandas\n",
        "data = pandas.read_csv('./drive/MyDrive/onboarding/pretest_data.csv')\n",
        "data.head()"
      ],
      "metadata": {
        "colab": {
          "base_uri": "https://localhost:8080/",
          "height": 582
        },
        "id": "u7PGrF-seW62",
        "outputId": "0a1970f1-1c0d-4d70-e014-f5d35abd8183"
      },
      "execution_count": 4,
      "outputs": [
        {
          "output_type": "execute_result",
          "data": {
            "text/html": [
              "\n",
              "  <div id=\"df-c839199e-a9ed-40be-b9a4-ddcdacad74c0\">\n",
              "    <div class=\"colab-df-container\">\n",
              "      <div>\n",
              "<style scoped>\n",
              "    .dataframe tbody tr th:only-of-type {\n",
              "        vertical-align: middle;\n",
              "    }\n",
              "\n",
              "    .dataframe tbody tr th {\n",
              "        vertical-align: top;\n",
              "    }\n",
              "\n",
              "    .dataframe thead th {\n",
              "        text-align: right;\n",
              "    }\n",
              "</style>\n",
              "<table border=\"1\" class=\"dataframe\">\n",
              "  <thead>\n",
              "    <tr style=\"text-align: right;\">\n",
              "      <th></th>\n",
              "      <th>video_id</th>\n",
              "      <th>channel_id</th>\n",
              "      <th>published_date</th>\n",
              "      <th>category_name</th>\n",
              "      <th>duration</th>\n",
              "      <th>tags</th>\n",
              "      <th>description</th>\n",
              "      <th>on_trending_date</th>\n",
              "      <th>off_trending_date</th>\n",
              "      <th>on_rank</th>\n",
              "      <th>off_rank</th>\n",
              "      <th>on_views</th>\n",
              "      <th>off_views</th>\n",
              "      <th>on_likes</th>\n",
              "      <th>off_likes</th>\n",
              "      <th>on_dislikes</th>\n",
              "      <th>off_dislikes</th>\n",
              "      <th>on_comments</th>\n",
              "      <th>off_comments</th>\n",
              "      <th>on_channel_subscribers</th>\n",
              "      <th>off_channel_subscribers</th>\n",
              "      <th>on_channel_total_views</th>\n",
              "      <th>off_channel_total_views</th>\n",
              "      <th>on_channel_total_videos</th>\n",
              "      <th>off_channel_total_videos</th>\n",
              "    </tr>\n",
              "  </thead>\n",
              "  <tbody>\n",
              "    <tr>\n",
              "      <th>0</th>\n",
              "      <td>V-0db</td>\n",
              "      <td>CH49ta0</td>\n",
              "      <td>2021-07-01</td>\n",
              "      <td>Entertainment</td>\n",
              "      <td>PT8M20S</td>\n",
              "      <td>SiriusXM|Sirius XM|Sirius|SXM|BIGHIT|빅히트|방탄소년단...</td>\n",
              "      <td>BTS performs their hit songs ‘Dynamite’ and ‘B...</td>\n",
              "      <td>2021-07-03</td>\n",
              "      <td>2021-07-04</td>\n",
              "      <td>13</td>\n",
              "      <td>28</td>\n",
              "      <td>1659484</td>\n",
              "      <td>1912983</td>\n",
              "      <td>270004</td>\n",
              "      <td>282204</td>\n",
              "      <td>792</td>\n",
              "      <td>1014</td>\n",
              "      <td>10373</td>\n",
              "      <td>10720</td>\n",
              "      <td>1080000</td>\n",
              "      <td>1080000</td>\n",
              "      <td>685992413</td>\n",
              "      <td>687485021</td>\n",
              "      <td>5947</td>\n",
              "      <td>5950</td>\n",
              "    </tr>\n",
              "    <tr>\n",
              "      <th>1</th>\n",
              "      <td>V-1XL</td>\n",
              "      <td>CHZVD--</td>\n",
              "      <td>2021-06-24</td>\n",
              "      <td>Entertainment</td>\n",
              "      <td>PT9M17S</td>\n",
              "      <td>치킨불냉면|치킨|불냉면|냉면</td>\n",
              "      <td>영상에 나오는 캐릭터의 이름은 파도비 입니다. 고양이가 아니라 파란 도깨비입니다. ...</td>\n",
              "      <td>2021-06-26</td>\n",
              "      <td>2021-06-27</td>\n",
              "      <td>28</td>\n",
              "      <td>45</td>\n",
              "      <td>293559</td>\n",
              "      <td>374698</td>\n",
              "      <td>7121</td>\n",
              "      <td>8165</td>\n",
              "      <td>121</td>\n",
              "      <td>154</td>\n",
              "      <td>1083</td>\n",
              "      <td>1173</td>\n",
              "      <td>627000</td>\n",
              "      <td>628000</td>\n",
              "      <td>75327083</td>\n",
              "      <td>75685030</td>\n",
              "      <td>70</td>\n",
              "      <td>70</td>\n",
              "    </tr>\n",
              "    <tr>\n",
              "      <th>2</th>\n",
              "      <td>V-4fa</td>\n",
              "      <td>CH9w-h_</td>\n",
              "      <td>2021-07-17</td>\n",
              "      <td>Entertainment</td>\n",
              "      <td>PT7M39S</td>\n",
              "      <td>NaN</td>\n",
              "      <td>거세 구형, 성 충동 제거를 위한 엄벌 치료 VS 인권 보호해야고민 끝에 내린 강요...</td>\n",
              "      <td>2021-07-19</td>\n",
              "      <td>2021-07-22</td>\n",
              "      <td>1</td>\n",
              "      <td>23</td>\n",
              "      <td>451260</td>\n",
              "      <td>757265</td>\n",
              "      <td>3994</td>\n",
              "      <td>5684</td>\n",
              "      <td>162</td>\n",
              "      <td>233</td>\n",
              "      <td>696</td>\n",
              "      <td>1006</td>\n",
              "      <td>5750000</td>\n",
              "      <td>5750000</td>\n",
              "      <td>5424167911</td>\n",
              "      <td>5431617741</td>\n",
              "      <td>34270</td>\n",
              "      <td>34341</td>\n",
              "    </tr>\n",
              "    <tr>\n",
              "      <th>3</th>\n",
              "      <td>V-5ip</td>\n",
              "      <td>CHUQVGX</td>\n",
              "      <td>2021-06-02</td>\n",
              "      <td>Sports</td>\n",
              "      <td>PT6M40S</td>\n",
              "      <td>News Network|SBS SPORTSMUG|SPORTSMUG|스포츠머그|축구|...</td>\n",
              "      <td>세계 최초 9회 연속 올림픽 본선 진출! 그동안 한국 축구의 역사를 써내려 간 올림...</td>\n",
              "      <td>2021-06-04</td>\n",
              "      <td>2021-06-04</td>\n",
              "      <td>18</td>\n",
              "      <td>18</td>\n",
              "      <td>216446</td>\n",
              "      <td>216446</td>\n",
              "      <td>1158</td>\n",
              "      <td>1158</td>\n",
              "      <td>30</td>\n",
              "      <td>30</td>\n",
              "      <td>416</td>\n",
              "      <td>416</td>\n",
              "      <td>94200</td>\n",
              "      <td>94200</td>\n",
              "      <td>71160125</td>\n",
              "      <td>71160125</td>\n",
              "      <td>224</td>\n",
              "      <td>224</td>\n",
              "    </tr>\n",
              "    <tr>\n",
              "      <th>4</th>\n",
              "      <td>V-5jn</td>\n",
              "      <td>CHhI3EX</td>\n",
              "      <td>2021-07-06</td>\n",
              "      <td>Sports</td>\n",
              "      <td>PT11M27S</td>\n",
              "      <td>이천수|심판도전기|축구심판</td>\n",
              "      <td>찾아 뵐 심판분들이 이제 18명정도 남았네요</td>\n",
              "      <td>2021-07-08</td>\n",
              "      <td>2021-07-09</td>\n",
              "      <td>11</td>\n",
              "      <td>29</td>\n",
              "      <td>631598</td>\n",
              "      <td>829677</td>\n",
              "      <td>3839</td>\n",
              "      <td>4494</td>\n",
              "      <td>112</td>\n",
              "      <td>143</td>\n",
              "      <td>687</td>\n",
              "      <td>772</td>\n",
              "      <td>47600</td>\n",
              "      <td>49200</td>\n",
              "      <td>6993451</td>\n",
              "      <td>7607123</td>\n",
              "      <td>21</td>\n",
              "      <td>21</td>\n",
              "    </tr>\n",
              "  </tbody>\n",
              "</table>\n",
              "</div>\n",
              "      <button class=\"colab-df-convert\" onclick=\"convertToInteractive('df-c839199e-a9ed-40be-b9a4-ddcdacad74c0')\"\n",
              "              title=\"Convert this dataframe to an interactive table.\"\n",
              "              style=\"display:none;\">\n",
              "        \n",
              "  <svg xmlns=\"http://www.w3.org/2000/svg\" height=\"24px\"viewBox=\"0 0 24 24\"\n",
              "       width=\"24px\">\n",
              "    <path d=\"M0 0h24v24H0V0z\" fill=\"none\"/>\n",
              "    <path d=\"M18.56 5.44l.94 2.06.94-2.06 2.06-.94-2.06-.94-.94-2.06-.94 2.06-2.06.94zm-11 1L8.5 8.5l.94-2.06 2.06-.94-2.06-.94L8.5 2.5l-.94 2.06-2.06.94zm10 10l.94 2.06.94-2.06 2.06-.94-2.06-.94-.94-2.06-.94 2.06-2.06.94z\"/><path d=\"M17.41 7.96l-1.37-1.37c-.4-.4-.92-.59-1.43-.59-.52 0-1.04.2-1.43.59L10.3 9.45l-7.72 7.72c-.78.78-.78 2.05 0 2.83L4 21.41c.39.39.9.59 1.41.59.51 0 1.02-.2 1.41-.59l7.78-7.78 2.81-2.81c.8-.78.8-2.07 0-2.86zM5.41 20L4 18.59l7.72-7.72 1.47 1.35L5.41 20z\"/>\n",
              "  </svg>\n",
              "      </button>\n",
              "      \n",
              "  <style>\n",
              "    .colab-df-container {\n",
              "      display:flex;\n",
              "      flex-wrap:wrap;\n",
              "      gap: 12px;\n",
              "    }\n",
              "\n",
              "    .colab-df-convert {\n",
              "      background-color: #E8F0FE;\n",
              "      border: none;\n",
              "      border-radius: 50%;\n",
              "      cursor: pointer;\n",
              "      display: none;\n",
              "      fill: #1967D2;\n",
              "      height: 32px;\n",
              "      padding: 0 0 0 0;\n",
              "      width: 32px;\n",
              "    }\n",
              "\n",
              "    .colab-df-convert:hover {\n",
              "      background-color: #E2EBFA;\n",
              "      box-shadow: 0px 1px 2px rgba(60, 64, 67, 0.3), 0px 1px 3px 1px rgba(60, 64, 67, 0.15);\n",
              "      fill: #174EA6;\n",
              "    }\n",
              "\n",
              "    [theme=dark] .colab-df-convert {\n",
              "      background-color: #3B4455;\n",
              "      fill: #D2E3FC;\n",
              "    }\n",
              "\n",
              "    [theme=dark] .colab-df-convert:hover {\n",
              "      background-color: #434B5C;\n",
              "      box-shadow: 0px 1px 3px 1px rgba(0, 0, 0, 0.15);\n",
              "      filter: drop-shadow(0px 1px 2px rgba(0, 0, 0, 0.3));\n",
              "      fill: #FFFFFF;\n",
              "    }\n",
              "  </style>\n",
              "\n",
              "      <script>\n",
              "        const buttonEl =\n",
              "          document.querySelector('#df-c839199e-a9ed-40be-b9a4-ddcdacad74c0 button.colab-df-convert');\n",
              "        buttonEl.style.display =\n",
              "          google.colab.kernel.accessAllowed ? 'block' : 'none';\n",
              "\n",
              "        async function convertToInteractive(key) {\n",
              "          const element = document.querySelector('#df-c839199e-a9ed-40be-b9a4-ddcdacad74c0');\n",
              "          const dataTable =\n",
              "            await google.colab.kernel.invokeFunction('convertToInteractive',\n",
              "                                                     [key], {});\n",
              "          if (!dataTable) return;\n",
              "\n",
              "          const docLinkHtml = 'Like what you see? Visit the ' +\n",
              "            '<a target=\"_blank\" href=https://colab.research.google.com/notebooks/data_table.ipynb>data table notebook</a>'\n",
              "            + ' to learn more about interactive tables.';\n",
              "          element.innerHTML = '';\n",
              "          dataTable['output_type'] = 'display_data';\n",
              "          await google.colab.output.renderOutput(dataTable, element);\n",
              "          const docLink = document.createElement('div');\n",
              "          docLink.innerHTML = docLinkHtml;\n",
              "          element.appendChild(docLink);\n",
              "        }\n",
              "      </script>\n",
              "    </div>\n",
              "  </div>\n",
              "  "
            ],
            "text/plain": [
              "  video_id channel_id  ... on_channel_total_videos off_channel_total_videos\n",
              "0    V-0db    CH49ta0  ...                    5947                     5950\n",
              "1    V-1XL    CHZVD--  ...                      70                       70\n",
              "2    V-4fa    CH9w-h_  ...                   34270                    34341\n",
              "3    V-5ip    CHUQVGX  ...                     224                      224\n",
              "4    V-5jn    CHhI3EX  ...                      21                       21\n",
              "\n",
              "[5 rows x 25 columns]"
            ]
          },
          "metadata": {},
          "execution_count": 4
        }
      ]
    },
    {
      "cell_type": "markdown",
      "source": [
        "### Q1\n",
        "Q1. 데이터 타입별 시각화 (자유양식).    \n",
        "◦ 전체기간 카테고리->채널->비디오 개수.  \n",
        "◦ 월별 카테고리->채널->비디오 개수. \n",
        "◦ 월별 TOP10 채널 (분류 기준은 비디오 개수).  \n",
        "◦ 주별 TOP5 채널 (분류 기준은 비디오 개수).  \n",
        "◦ 월별 카테고리별 태그 키워드 순위.  "
      ],
      "metadata": {
        "id": "HtScqZtId8UQ"
      }
    },
    {
      "cell_type": "code",
      "execution_count": null,
      "metadata": {
        "id": "WT1evxCMZy6L"
      },
      "outputs": [],
      "source": [
        "# pyplot 사용할 예정\n",
        "# 전체기간 카테고리->채널->비디오 개수"
      ]
    },
    {
      "cell_type": "code",
      "source": [
        "# 월별 카테고리->채널->비디오 개수"
      ],
      "metadata": {
        "id": "5gkuL7avdnGJ"
      },
      "execution_count": null,
      "outputs": []
    },
    {
      "cell_type": "code",
      "source": [
        "# 월별 TOP10 채널 (분류 기준은 비디오 개수)"
      ],
      "metadata": {
        "id": "kjjdnBbRdm_U"
      },
      "execution_count": null,
      "outputs": []
    },
    {
      "cell_type": "code",
      "source": [
        "# 주별 TOP5 채널 (분류 기준은 비디오 개수)"
      ],
      "metadata": {
        "id": "9Jy16BX2d4Da"
      },
      "execution_count": null,
      "outputs": []
    },
    {
      "cell_type": "code",
      "source": [
        "# 월별 카테고리별 태그 키워드 순위"
      ],
      "metadata": {
        "id": "-idd7RQDd4Hn"
      },
      "execution_count": null,
      "outputs": []
    },
    {
      "cell_type": "markdown",
      "source": [
        "### Q2\n",
        "각각의 비디오는 시청자의 호응도(engagement)를 판단할수 있는 객관적인 지표들이 있음.\n",
        "ex) views, likes, dislikes, comments,...\n",
        "비디오를 인기 동영상 기준에 부합하도록 분류할수 있는 새로운 지표를 개발하고.\n",
        "이 지표를 사용하여 engagement 와 어떤 상관관계가 있는지 설명하시오."
      ],
      "metadata": {
        "id": "58MOFpYweAdL"
      }
    },
    {
      "cell_type": "code",
      "source": [
        ""
      ],
      "metadata": {
        "id": "HoTgK6-beCNg"
      },
      "execution_count": null,
      "outputs": []
    },
    {
      "cell_type": "code",
      "source": [
        ""
      ],
      "metadata": {
        "id": "i04eanHLeB3H"
      },
      "execution_count": null,
      "outputs": []
    }
  ]
}